{
 "cells": [
  {
   "cell_type": "markdown",
   "metadata": {},
   "source": [
    "# Pre-optimized run\n",
    "Same as final voting but models have already been optimized"
   ]
  },
  {
   "cell_type": "markdown",
   "metadata": {},
   "source": [
    "# import"
   ]
  },
  {
   "cell_type": "code",
   "execution_count": 2,
   "metadata": {},
   "outputs": [],
   "source": [
    "import pandas as pd\n",
    "import numpy as np\n",
    "import matplotlib.pyplot as plt\n",
    "import spacy\n",
    "from tqdm import tqdm\n",
    "import json\n",
    "import os\n",
    "from sklearn.metrics import accuracy_score, confusion_matrix, f1_score, ConfusionMatrixDisplay\n",
    "from sklearn.model_selection import train_test_split\n",
    "import warnings"
   ]
  },
  {
   "cell_type": "markdown",
   "metadata": {},
   "source": [
    "# prep data"
   ]
  },
  {
   "cell_type": "code",
   "execution_count": 3,
   "metadata": {},
   "outputs": [],
   "source": [
    "# initial dataset stuff\n",
    "nlp = spacy.load(\"spacy-twitter\") # out of function so you don't load it every time (it takes a while)\n",
    "\n",
    "# function for glove embeddings\n",
    "def embed_dataset(dataset_text):\n",
    "    encoded = np.array([nlp(text).vector for text in dataset_text])\n",
    "    return encoded.tolist()\n",
    "\n",
    "# function to load dataset from folder. Also embeds the text.\n",
    "def get_dataset(name):\n",
    "    \"\"\"\n",
    "    loads a dataset and embeds the text. text must be in column named \"text\".\n",
    "    datasets are in the folder datasets/\n",
    "    name must be a string that's matches the csv file in datasets\n",
    "    \"\"\"\n",
    "    dataset = pd.read_csv(f'datasets/{name}.csv')\n",
    "    dataset.rename(columns = {\"Unnamed: 0\":\"entry\"}, inplace=True) #the entry label never carries over\n",
    "    dataset['e_text'] = embed_dataset(dataset['text'])\n",
    "    return dataset"
   ]
  },
  {
   "cell_type": "markdown",
   "metadata": {},
   "source": [
    "# train models"
   ]
  },
  {
   "cell_type": "code",
   "execution_count": 4,
   "metadata": {},
   "outputs": [],
   "source": [
    "def evaluate_model(model, X_test, y_test):\n",
    "    pred_y = model.predict(X_test)\n",
    "    acc_mod = accuracy_score(y_test, pred_y)\n",
    "    print(\"Accuracy:\", float(\"{0:.2f}\".format(acc_mod*100)), \"%\")\n",
    "    f1_mod = f1_score(y_test, pred_y, average=\"macro\")\n",
    "    print(\"F1:\", float(\"{0:.2f}\".format(f1_mod*100)), \"%\")\n",
    "    cm = confusion_matrix(y_test, pred_y)\n",
    "    disp = ConfusionMatrixDisplay(confusion_matrix=cm, display_labels=[\"true\", \"false\"])\n",
    "    disp.plot()\n",
    "    plt.show() "
   ]
  },
  {
   "cell_type": "code",
   "execution_count": 5,
   "metadata": {},
   "outputs": [],
   "source": [
    "def train_models(dataset_name, train_set, confidence, size_limit, model_list):\n",
    "    \"\"\"\n",
    "    trains a set of models in each category. returns the best model for each category, in the form {'category': [modelscore, modelname, fittedmodel]}\n",
    "\n",
    "    dataset_name: a string with the name of the training set. used for calling the category file\n",
    "    train_set: the training set to use\n",
    "    confidence: the confidence required to consider an entry part of a category\n",
    "    size_limit: the number of entries needed in a category to consider that category for training\n",
    "    model_list: the list of models to train. in the form [(\"model_name1\", model1), etc]\n",
    "    \"\"\"\n",
    "    file_name = f\"{dataset_name}_cats/{dataset_name}_categories_organised.json\"\n",
    "    f = open(file_name)\n",
    "    data = json.load(f)\n",
    "    f.close()\n",
    "    category_models = {} #this will be returned\n",
    "    for category in data.keys(): \n",
    "        cat_entries = [int(i) for i in data[category].keys() if data[category][i] > confidence]\n",
    "        \n",
    "        # skip category if size of category is below limit\n",
    "        if len(cat_entries) < size_limit:\n",
    "            print(f\"Skipped category: {category} due to low numbers\")\n",
    "            continue\n",
    "        \n",
    "        category_data = train_set.filter(axis=0, items=cat_entries)\n",
    "\n",
    "        #split validation set\n",
    "        X = category_data.drop('target', axis=1)\n",
    "        y = category_data[\"target\"]\n",
    "        try:\n",
    "            X_train, X_val, y_train, y_val = train_test_split(X, y, train_size=0.8, random_state=42, stratify=y)\n",
    "        except:\n",
    "            print(f\"Skipped category: {category} due to class issues\")\n",
    "            continue\n",
    "\n",
    "        # skip category if split only has one class\n",
    "        if (len(np.unique(y_train)) <= 1):\n",
    "            print(f\"Skipped category: {category} due to class issues\")\n",
    "            continue\n",
    "\n",
    "        X_train_text = np.array([text for text in X_train['e_text']])\n",
    "        X_val_text = np.array([text for text in X_val['e_text']])\n",
    "\n",
    "        trained_models = []\n",
    "        # train models from list\n",
    "        for model_name, model in model_list:\n",
    "            model.fit(X_train_text, y_train)\n",
    "            trained_models.append((model_name, model))\n",
    "\n",
    "        #get the best model\n",
    "        best_model = [0, \"x\", \"x\"]\n",
    "        for name, model in trained_models:\n",
    "            score = model.score(X_val_text, y_val)\n",
    "            if score > best_model[0]:\n",
    "                best_model = [score, name, model]\n",
    "        \n",
    "        print(f\"Trained models on {category}, added {best_model[1]} to list\")\n",
    "        #add best model to list\n",
    "        category_models[category] = best_model\n",
    "    return category_models"
   ]
  },
  {
   "cell_type": "code",
   "execution_count": 6,
   "metadata": {},
   "outputs": [],
   "source": [
    "def train_models_individually_optimized(dataset_name, train_set, confidence, size_limit, model_list):\n",
    "    \"\"\"\n",
    "    trains a set of models in each category. returns the best model for each category, in the form {'category': [modelscore, modelname, fittedmodel]}\n",
    "\n",
    "    dataset_name: a string with the name of the training set. used for calling the category file\n",
    "    train_set: the training set to use\n",
    "    confidence: the confidence required to consider an entry part of a category\n",
    "    size_limit: the number of entries needed in a category to consider that category for training\n",
    "    model_list: the list of models to train. in the form [(\"category\", \"model_name1\", model1), etc]\n",
    "    \"\"\"\n",
    "    file_name = f\"{dataset_name}_cats/{dataset_name}_categories_organised.json\"\n",
    "    f = open(file_name)\n",
    "    data = json.load(f)\n",
    "    f.close()\n",
    "    category_models = {} #this will be returned\n",
    "    for category, model_name, model in model_list:\n",
    "        cat_entries = [int(i) for i in data[category].keys() if data[category][i] > confidence]\n",
    "        \n",
    "        # skip category if size of category is below limit\n",
    "        if len(cat_entries) < size_limit:\n",
    "            print(f\"Skipped category: {category} due to low numbers\")\n",
    "            continue\n",
    "        \n",
    "        category_data = train_set.filter(axis=0, items=cat_entries)\n",
    "\n",
    "        #split validation set\n",
    "        X = category_data.drop('target', axis=1)\n",
    "        y = category_data[\"target\"]\n",
    "        try:\n",
    "            X_train, X_val, y_train, y_val = train_test_split(X, y, train_size=0.8, random_state=42, stratify=y)\n",
    "        except:\n",
    "            print(f\"Skipped category: {category} due to class issues\")\n",
    "            continue\n",
    "\n",
    "        # skip category if split only has one class\n",
    "        if (len(np.unique(y_train)) <= 1):\n",
    "            print(f\"Skipped category: {category} due to class issues\")\n",
    "            continue\n",
    "\n",
    "        X_train_text = np.array([text for text in X_train['e_text']])\n",
    "        X_val_text = np.array([text for text in X_val['e_text']])\n",
    "\n",
    "        model.fit(X_train_text, y_train)\n",
    "        \n",
    "        print(f\"Trained models on {category}, added {model_name} to list\")\n",
    "        #add best model to list\n",
    "        category_models[category] = (0, model_name, model)\n",
    "    return category_models"
   ]
  },
  {
   "cell_type": "markdown",
   "metadata": {},
   "source": [
    "# voting"
   ]
  },
  {
   "cell_type": "code",
   "execution_count": 7,
   "metadata": {},
   "outputs": [],
   "source": [
    "def predict_points(trained_models, test_cat_file, X_test):\n",
    "    \"\"\"\n",
    "    predict points using the trained models. returns an array of the predictions\n",
    "\n",
    "    trained_models: the models trained in each category, in the form {category: [modelscore, modelname, fittedmodel]}\n",
    "    test_cat_file: the filepath to the organised category file\n",
    "    X_test: the test set X values\n",
    "    \"\"\"\n",
    "    #load category data\n",
    "    f = open(test_cat_file)\n",
    "    category_data = json.load(f)\n",
    "    f.close()\n",
    "\n",
    "    # return arrays\n",
    "    final_predictions = []\n",
    "    all_predictions = []\n",
    "    \n",
    "    #embedded_text = np.array([text for text in X_test['e_text']])\n",
    "    for i in tqdm(range(len(X_test))):\n",
    "        test_point = X_test.iloc[i]\n",
    "        point_text = np.array(test_point['e_text'])\n",
    "        point_categories = category_data[str(test_point[\"entry\"])]\n",
    "\n",
    "        # get weights of each point's topic\n",
    "        topic_weights = {}\n",
    "        for category in point_categories:\n",
    "            main_category = category.split(\"/\")[1]\n",
    "            if main_category not in trained_models.keys():\n",
    "                continue\n",
    "            if main_category in topic_weights:\n",
    "                topic_weights[main_category] += point_categories[category]\n",
    "            else:\n",
    "                topic_weights[main_category] = point_categories[category]\n",
    "        \n",
    "        #make topic predictions\n",
    "        model_predictions = []\n",
    "        for category in topic_weights.keys():\n",
    "            modelscore, modelname, model = trained_models[category]\n",
    "            prediction = model.predict(point_text.reshape(1,-1))\n",
    "            score = topic_weights[category]\n",
    "            model_predictions.append((prediction[0], score, modelname, category))\n",
    "        all_predictions.append(model_predictions)\n",
    "        # aggregate predictions\n",
    "        truefalse_scores = {True: 0, False:0}\n",
    "        for prediction, modelscore, modelname, category in model_predictions:\n",
    "            truefalse_scores[prediction] += modelscore\n",
    "        \n",
    "        #determine final prediction\n",
    "        if truefalse_scores[True] > truefalse_scores[False]:\n",
    "            final_predictions.append(True)\n",
    "        else:\n",
    "            final_predictions.append(False)\n",
    "    return final_predictions, all_predictions"
   ]
  },
  {
   "cell_type": "markdown",
   "metadata": {},
   "source": [
    "# prep models"
   ]
  },
  {
   "cell_type": "code",
   "execution_count": 8,
   "metadata": {},
   "outputs": [],
   "source": [
    "from sklearn.svm import SVC\n",
    "from sklearn.linear_model import SGDClassifier, LogisticRegression\n",
    "from sklearn.neighbors import KNeighborsClassifier\n",
    "from sklearn.ensemble import RandomForestClassifier\n",
    "from sklearn.neural_network import MLPClassifier\n",
    "from sklearn.naive_bayes import GaussianNB\n",
    "\n",
    "model_list =  [\n",
    "    ('SVM', SVC(C=3.1896744196835836, coef0=0.7455231741303602, degree=5, kernel='poly',\n",
    "   \trandom_state=42, shrinking=False, tol=1.5881662991931855e-05)),\n",
    "    ('KNN', KNeighborsClassifier(algorithm='brute', metric='l1', n_jobs=-1, n_neighbors=2,\n",
    "            p=1.1487674060061024)),\n",
    "    ('Logistic Regression', LogisticRegression(C=1.1425784971681052,\n",
    "                  \tmax_iter=1000, n_jobs=-1, random_state=42, solver='saga',\n",
    "                  \ttol=1.478630072266259e-05)),\n",
    "    ('Random Forest', RandomForestClassifier(max_depth=194, min_samples_leaf=3,\n",
    "                      \tmin_samples_split=0.015717239332095234,\n",
    "                      \tn_estimators=879)),\n",
    "    ('MLP', MLPClassifier(alpha=0.004078725547577969, beta_1=0.8002326496863409,\n",
    "             \tbeta_2=0.9974019106281052, epsilon=9.541429204690647e-06,\n",
    "             \tlearning_rate='adaptive', learning_rate_init=0.025929575848828025,\n",
    "             \tmomentum=0.9669068646688704, power_t=0.6057802270791413, max_iter=1000,\n",
    "             \tsolver='sgd', tol=0.0017273814563112662)),\n",
    "    ('Gaussian NB', GaussianNB()),\n",
    "    ('SGD', SGDClassifier(alpha=2.9224018045082045e-06, eta0=0.0020869277818985183,\n",
    "             \tl1_ratio=7.339312568598362e-07, learning_rate='adaptive',\n",
    "             \tloss='squared_epsilon_insensitive', penalty='l1',\n",
    "             \ttol=0.0011568279948847254))]"
   ]
  },
  {
   "cell_type": "code",
   "execution_count": null,
   "metadata": {},
   "outputs": [],
   "source": [
    "model_list_2 = [('SVC',\n",
    "   SVC(C=1.0695549474531554, coef0=0.18366283827373342, degree=5, kernel='poly',\n",
    "       random_state=42, shrinking=False, tol=0.0020815236988822304)),\n",
    "  ('KNN',\n",
    "   KNeighborsClassifier(algorithm='kd_tree', leaf_size=23, metric='cityblock',\n",
    "                        n_jobs=6, n_neighbors=8, p=1.0593162921150627,\n",
    "                        weights='distance')),\n",
    "  ('Logistic Regression',\n",
    "   LogisticRegression(C=1.3661524576258732, max_iter=348, n_jobs=6, penalty='l1',\n",
    "                      random_state=42, solver='saga', tol=1.0004933993995278e-05)),\n",
    "  ('MLP',\n",
    "   MLPClassifier(alpha=0.0024480794616840128, beta_1=0.8860452006537312,\n",
    "                 beta_2=0.9839064518967505, epsilon=2.262408626957765e-06,\n",
    "                 learning_rate_init=0.0486951505182922, max_fun=28816,\n",
    "                 max_iter=326, momentum=0.9381970465411162,\n",
    "                 power_t=0.11825500831766088, random_state=42,\n",
    "                 tol=0.001835027364427563, validation_fraction=0.1558809766024649)),\n",
    "  ('Gaussian NB', GaussianNB())]\n",
    "\n",
    "model_list_3 = [('SVC',\n",
    "  SVC(C=1.0985209733323555, coef0=0.27839877131438856, degree=2, random_state=42,\n",
    "      tol=0.0053538192799843076)),\n",
    " ('KNN',\n",
    "  KNeighborsClassifier(algorithm='ball_tree', leaf_size=23, n_jobs=-1,\n",
    "                       n_neighbors=6, p=1.5606010799683123)),\n",
    " ('Random Forest',\n",
    "  RandomForestClassifier(max_features=None, n_estimators=1419, n_jobs=-1,\n",
    "                         random_state=42, verbose=False)),\n",
    " ('Gaussian NB', GaussianNB())]\n"
   ]
  },
  {
   "cell_type": "code",
   "execution_count": 10,
   "metadata": {},
   "outputs": [],
   "source": [
    "individually_optimized_models = [\n",
    "    (\"Sensitive Subjects\", \"SVM\", SVC(C=23.186942440846998, coef0=0.893023010661618, degree=5, kernel='poly',\n",
    "    random_state=42, shrinking=False, tol=0.006378488923858316)),\n",
    "    (\"News\", \"MLP\", MLPClassifier(alpha=0.0012265094531271632, beta_1=0.8879612666878217,\n",
    "              beta_2=0.9925537612849681, epsilon=8.945598809186987e-06,\n",
    "              learning_rate_init=0.07572501356575942,\n",
    "              momentum=0.9095791305334515, power_t=0.4822712686343862,\n",
    "              tol=0.00014134598720545993)),\n",
    "    (\"Arts & Entertainment\", \"SVM\", SVC(C=23.186942440846998, coef0=0.893023010661618, degree=5, kernel='poly',\n",
    "    random_state=42, shrinking=False, tol=0.006378488923858316)),\n",
    "    (\"People & Society\", \"KNN\", KNeighborsClassifier(metric='manhattan', n_jobs=-1, n_neighbors=9,\n",
    "                     p=1.75336550705507)),\n",
    "    (\"Law & Government\", \"SVM\", SVC(C=23.186942440846998, coef0=0.893023010661618, degree=5, kernel='poly',\n",
    "    random_state=42, shrinking=False, tol=0.006378488923858316)),\n",
    "    (\"Online Communities\", \"SVM\", SVC(C=23.186942440846998, coef0=0.893023010661618, degree=5, kernel='poly',\n",
    "    random_state=42, shrinking=False, tol=0.006378488923858316)),\n",
    "    (\"Travel & Transportation\", \"KNN\", KNeighborsClassifier(metric='manhattan', n_jobs=-1, n_neighbors=9,\n",
    "                     p=1.75336550705507)),]"
   ]
  },
  {
   "cell_type": "code",
   "execution_count": 59,
   "metadata": {},
   "outputs": [],
   "source": [
    "pheme_optimized = [(\"Sensitive Subjects\", \"KNN\", KNeighborsClassifier(metric='manhattan', n_jobs=-1, n_neighbors=12,\n",
    "                     p=2.3130968982898596)),\n",
    "(\"News\", \"KNN\", KNeighborsClassifier(metric='manhattan', n_jobs=-1, n_neighbors=12,\n",
    "                     p=2.3130968982898596)),\n",
    "(\"Arts & Entertainment\", \"SVM\", SVC(C=4.698902975596489, coef0=0.6532286328720177, degree=1, kernel='poly',\n",
    "    random_state=42, tol=0.0002825712853669414)),\n",
    "(\"People & Society\", \"KNN\", KNeighborsClassifier(metric='manhattan', n_jobs=-1, n_neighbors=12,\n",
    "                     p=2.3130968982898596)),\n",
    "(\"Law & Government\", \"SVM\", SVC(C=4.698902975596489, coef0=0.6532286328720177, degree=1, kernel='poly',\n",
    "    random_state=42, tol=0.0002825712853669414)),\n",
    "(\"Online Communities\", \"KNN\", KNeighborsClassifier(metric='manhattan', n_jobs=-1, n_neighbors=12,\n",
    "                     p=2.3130968982898596)),\n",
    "(\"Travel & Transportation\", \"SGD\", SGDClassifier(alpha=6.625365951494978e-05, eta0=0.016092453443433016,\n",
    "              l1_ratio=6.274029923848162e-07, learning_rate='constant',\n",
    "              loss='squared_epsilon_insensitive', penalty=None,\n",
    "              tol=0.00016645348991346068))]\n",
    "\n",
    "twitter_optimized = [(\"People & Society\", \"KNN\", KNeighborsClassifier(metric='manhattan', n_jobs=-1, n_neighbors=12,\n",
    "                     p=2.3130968982898596)),\n",
    "(\"Arts & Entertainment\", \"Logistic Regression\", LogisticRegression(C=1.021560581731338, l1_ratio=0.053120402058503435,\n",
    "                   max_iter=1000, n_jobs=-1, random_state=42, solver='saga',\n",
    "                   tol=2.682304820469642e-05)),\n",
    "(\"Law & Government\", \"KNN\", KNeighborsClassifier(metric='manhattan', n_jobs=-1, n_neighbors=12,\n",
    "                     p=2.3130968982898596)),\n",
    "(\"News\", \"KNN\", KNeighborsClassifier(metric='manhattan', n_jobs=-1, n_neighbors=12,\n",
    "                     p=2.3130968982898596)),\n",
    "(\"Sensitive Subjects\", \"KNN\", KNeighborsClassifier(metric='manhattan', n_jobs=-1, n_neighbors=12,\n",
    "                     p=2.3130968982898596)),\n",
    "(\"Online Communities\", \"KNN\", KNeighborsClassifier(metric='manhattan', n_jobs=-1, n_neighbors=12,\n",
    "                     p=2.3130968982898596))]\n",
    "\n",
    "weibo_optimized = [(\"Arts & Entertainment\", \"Random Forest\", RandomForestClassifier(criterion='entropy', max_depth=98, min_samples_leaf=4,\n",
    "                       min_samples_split=0.024120833051201357,\n",
    "                       n_estimators=564)),\n",
    "(\"People & Society\", \"SVM\", SVC(C=4.698902975596489, coef0=0.6532286328720177, degree=1, kernel='poly',\n",
    "    random_state=42, tol=0.0002825712853669414)),\n",
    "(\"Food & Drink\", \"KNN\", KNeighborsClassifier(metric='manhattan', n_jobs=-1, n_neighbors=12,\n",
    "                     p=2.3130968982898596)),\n",
    "(\"Health\", \"MLP\", MLPClassifier(alpha=0.002473879041464472, beta_1=0.9253454029329639,\n",
    "              beta_2=0.953840203792704, epsilon=5.520262851757021e-06,\n",
    "              learning_rate_init=0.018859925116455643,\n",
    "              momentum=0.8861986589127533, power_t=0.7470184958011787,\n",
    "              solver='lbfgs', tol=0.0047626319743369425)),\n",
    "(\"News\", \"MLP\", MLPClassifier(alpha=0.002473879041464472, beta_1=0.9253454029329639,\n",
    "              beta_2=0.953840203792704, epsilon=5.520262851757021e-06,\n",
    "              learning_rate_init=0.018859925116455643,\n",
    "              momentum=0.8861986589127533, power_t=0.7470184958011787,\n",
    "              solver='lbfgs', tol=0.0047626319743369425)),\n",
    "(\"Sensitive Subjects\", \"KNN\", KNeighborsClassifier(metric='manhattan', n_jobs=-1, n_neighbors=12,\n",
    "                     p=2.3130968982898596)),\n",
    "(\"Law & Government\", \"Random Forest\", RandomForestClassifier(criterion='entropy', max_depth=98, min_samples_leaf=4,\n",
    "                       min_samples_split=0.024120833051201357,\n",
    "                       n_estimators=564)),]"
   ]
  },
  {
   "cell_type": "markdown",
   "metadata": {},
   "source": [
    "# evaluate results"
   ]
  },
  {
   "cell_type": "code",
   "execution_count": 11,
   "metadata": {},
   "outputs": [],
   "source": [
    "def check_score(test, pred):\n",
    "    acc = accuracy_score(test, pred)\n",
    "    f1 = f1_score(test, pred, average=\"macro\")\n",
    "    print(\"R\")\n",
    "    cm = confusion_matrix(test, pred)\n",
    "    disp = ConfusionMatrixDisplay(confusion_matrix=cm, display_labels=[\"true\", \"false\"])\n",
    "    disp.plot()\n",
    "    plt.show() \n",
    "    return float(\"{0:.2f}\".format(acc*100)), float(\"{0:.2f}\".format(f1*100))"
   ]
  },
  {
   "cell_type": "markdown",
   "metadata": {},
   "source": [
    "# make pipeline"
   ]
  },
  {
   "cell_type": "code",
   "execution_count": 12,
   "metadata": {},
   "outputs": [],
   "source": [
    "def train_and_evaluate(train_set, test_set, confidence, size_limit, model_list):\n",
    "    \"\"\"\n",
    "    Train and evaluate dataset on test set. Returns results and models\n",
    "    train_set: training set. In the form [\"dataset_name\", file_reference_name, dataset]\n",
    "    test_set: testing set(s). In the form [(\"dataset_name1\", file_reference_name1, dataset1), (\"dataset_name2\", file_reference_name2, dataset2), etc]\n",
    "    confidence: confidence threshold to consider a training point\n",
    "    size_limit: size threshold to consider training a category\n",
    "    model_list: list of models to train, in the form [(\"model_name1\", model1), (\"model_name2\", model2), etc]\n",
    "    \"\"\"\n",
    "    #prep dataset\n",
    "    dataset_name = train_set[0]\n",
    "    ref_name = train_set[1]\n",
    "    dataset = train_set[2]\n",
    "    X = dataset.drop(\"target\", axis=1)\n",
    "    y = dataset[\"target\"]\n",
    "    X_train, X_test, y_train, y_test = train_test_split(X, y, train_size=0.8, random_state=42, stratify=y)\n",
    "    training_set = pd.concat([X_train, y_train], axis=1)\n",
    "\n",
    "    #train models\n",
    "    trained_models = train_models(ref_name, training_set, confidence, size_limit, model_list)\n",
    "\n",
    "    #make predictions on test set\n",
    "    test_cat_file = f\"{ref_name}_categories.json\"\n",
    "    predictions = predict_points(trained_models, test_cat_file, X_test)\n",
    "    results = check_score(y_test, predictions)\n",
    "\n",
    "    final_results = []\n",
    "    final_results.append((dataset_name, results))\n",
    "\n",
    "    #make predictions on out of domain test sets\n",
    "    for set_name, ref_name, set_data in test_set:\n",
    "        test_cat_file = f\"{ref_name}_categories.json\"\n",
    "        X = set_data.drop(\"target\", axis=1)\n",
    "        y = set_data[\"target\"]\n",
    "        predictions = predict_points(trained_models, test_cat_file, set_data)\n",
    "        results = check_score(y, predictions)\n",
    "        final_results.append((set_name, results))\n",
    "    \n",
    "    return trained_models, final_results\n",
    "\n",
    "def run_tests(tests, confidence, size_limit, model_list):\n",
    "    test_results = []\n",
    "    trained_models = []\n",
    "    for i in tqdm(range(len(tests))):\n",
    "        t = tests.copy()\n",
    "        train = t.pop(i)\n",
    "        models, results = train_and_evaluate(train, t, confidence, size_limit, model_list)\n",
    "        test_results.append((train[0], results))\n",
    "        trained_models.append((train[0], models))\n",
    "    return trained_models, test_results"
   ]
  },
  {
   "cell_type": "markdown",
   "metadata": {},
   "source": [
    "# run pipelines"
   ]
  },
  {
   "cell_type": "code",
   "execution_count": 13,
   "metadata": {},
   "outputs": [],
   "source": [
    "pheme = get_dataset(\"pheme\")\n",
    "twitter = get_dataset(\"twitter\")\n",
    "twitter15 = twitter.iloc[:1491]\n",
    "twitter16 = twitter.iloc[1491:]\n",
    "weibo = get_dataset(\"weibo\")\n",
    "weibo = weibo.drop([1933, 3564])"
   ]
  },
  {
   "cell_type": "code",
   "execution_count": 14,
   "metadata": {},
   "outputs": [],
   "source": [
    "tests = [[\"PHEME\", \"pheme\", pheme], [\"twitterFULL\", \"twitter\", twitter], [\"WEIBO\", \"weibo\", weibo]]"
   ]
  },
  {
   "cell_type": "code",
   "execution_count": 69,
   "metadata": {},
   "outputs": [],
   "source": [
    "X = weibo.drop(\"target\", axis=1)\n",
    "y = weibo[\"target\"]\n",
    "X_train, X_val, y_train, y_val = train_test_split(X, y, train_size=0.8, stratify=y) \n",
    "X_train_text = np.array([text for text in X_train['e_text']])\n",
    "X_val_text = np.array([text for text in X_val['e_text']])\n",
    "\n",
    "pheme_val = pheme.drop('target', axis=1)\n",
    "pheme_val_text = np.array([text for text in pheme_val['e_text']])\n",
    "pheme_target = pheme['target']\n",
    "twitter_val = twitter.drop('target', axis=1)\n",
    "twitter_val_text = np.array([text for text in twitter_val['e_text']])\n",
    "twitter_target = twitter['target']\n",
    "weibo_val = weibo.drop('target', axis=1)\n",
    "weibo_val_text = np.array([text for text in weibo_val['e_text']])\n",
    "weibo_target = weibo['target']"
   ]
  },
  {
   "cell_type": "code",
   "execution_count": 72,
   "metadata": {},
   "outputs": [
    {
     "name": "stdout",
     "output_type": "stream",
     "text": [
      "Trained models on Arts & Entertainment, added Random Forest to list\n",
      "Trained models on People & Society, added SVM to list\n",
      "Trained models on Food & Drink, added KNN to list\n",
      "Trained models on Health, added MLP to list\n",
      "Trained models on News, added MLP to list\n",
      "Trained models on Sensitive Subjects, added KNN to list\n",
      "Trained models on Law & Government, added Random Forest to list\n"
     ]
    },
    {
     "name": "stderr",
     "output_type": "stream",
     "text": [
      "100%|██████████| 6425/6425 [01:42<00:00, 62.49it/s] \n"
     ]
    },
    {
     "name": "stdout",
     "output_type": "stream",
     "text": [
      "R\n"
     ]
    },
    {
     "data": {
      "image/png": "[encoded data removed]",
      "text/plain": [
       "<Figure size 640x480 with 2 Axes>"
      ]
     },
     "metadata": {},
     "output_type": "display_data"
    },
    {
     "name": "stderr",
     "output_type": "stream",
     "text": [
      "100%|██████████| 2308/2308 [00:42<00:00, 54.56it/s]\n"
     ]
    },
    {
     "name": "stdout",
     "output_type": "stream",
     "text": [
      "R\n"
     ]
    },
    {
     "data": {
      "image/png": "[encoded data removed]",
      "text/plain": [
       "<Figure size 640x480 with 2 Axes>"
      ]
     },
     "metadata": {},
     "output_type": "display_data"
    },
    {
     "name": "stderr",
     "output_type": "stream",
     "text": [
      "100%|██████████| 933/933 [00:13<00:00, 69.85it/s] \n"
     ]
    },
    {
     "name": "stdout",
     "output_type": "stream",
     "text": [
      "R\n"
     ]
    },
    {
     "data": {
      "image/png": "[encoded data removed]",
      "text/plain": [
       "<Figure size 640x480 with 2 Axes>"
      ]
     },
     "metadata": {},
     "output_type": "display_data"
    }
   ],
   "source": [
    "models = train_models_individually_optimized(\"weibo\", weibo, 0.2, 200, weibo_optimized)\n",
    "pheme_pred = predict_points(models, \"pheme_categories.json\", pheme_val)\n",
    "pheme_score = check_score(pheme_target, pheme_pred[0])\n",
    "twitter_pred = predict_points(models, \"twitter_categories.json\", twitter_val)\n",
    "twitter_score = check_score(twitter_target, twitter_pred[0])\n",
    "weibo_pred = predict_points(models, \"weibo_categories.json\", X_val)\n",
    "weibo_score = check_score(y_val, weibo_pred[0])"
   ]
  },
  {
   "cell_type": "code",
   "execution_count": 73,
   "metadata": {},
   "outputs": [
    {
     "name": "stdout",
     "output_type": "stream",
     "text": [
      "(50.83, 47.53)\n",
      "(52.82, 52.28)\n",
      "(81.14, 80.96)\n"
     ]
    }
   ],
   "source": [
    "print(pheme_score)\n",
    "print(twitter_score)\n",
    "print(weibo_score)"
   ]
  },
  {
   "cell_type": "code",
   "execution_count": 106,
   "metadata": {},
   "outputs": [
    {
     "name": "stdout",
     "output_type": "stream",
     "text": [
      "Trained models on Sensitive Subjects, added SVM to list\n",
      "Trained models on News, added MLP to list\n",
      "Trained models on Arts & Entertainment, added SVM to list\n",
      "Trained models on People & Society, added KNN to list\n",
      "Trained models on Law & Government, added SVM to list\n",
      "Trained models on Online Communities, added SVM to list\n",
      "Trained models on Travel & Transportation, added KNN to list\n"
     ]
    }
   ],
   "source": [
    "indiv_models = train_models_individually_optimized(\"pheme\", pheme, 0.2, 200, individually_optimized_models)"
   ]
  },
  {
   "cell_type": "code",
   "execution_count": 115,
   "metadata": {},
   "outputs": [],
   "source": [
    "twitter_val = weibo.drop('target', axis=1)\n",
    "twitter_val_text = np.array([text for text in twitter_val['e_text']])"
   ]
  },
  {
   "cell_type": "code",
   "execution_count": 117,
   "metadata": {},
   "outputs": [
    {
     "name": "stderr",
     "output_type": "stream",
     "text": [
      "  0%|          | 0/4662 [00:00<?, ?it/s]"
     ]
    },
    {
     "name": "stderr",
     "output_type": "stream",
     "text": [
      "100%|██████████| 4662/4662 [00:02<00:00, 1655.99it/s]\n"
     ]
    },
    {
     "name": "stdout",
     "output_type": "stream",
     "text": [
      "R\n"
     ]
    },
    {
     "data": {
      "image/png": "[encoded data removed]",
      "text/plain": [
       "<Figure size 640x480 with 2 Axes>"
      ]
     },
     "metadata": {},
     "output_type": "display_data"
    },
    {
     "data": {
      "text/plain": [
       "(52.06, 46.02)"
      ]
     },
     "execution_count": 117,
     "metadata": {},
     "output_type": "execute_result"
    }
   ],
   "source": [
    "p = predict_points(indiv_models, \"weibo_categories.json\", twitter_val)\n",
    "check_score(p[0], weibo['target'])"
   ]
  },
  {
   "cell_type": "code",
   "execution_count": 95,
   "metadata": {},
   "outputs": [
    {
     "name": "stdout",
     "output_type": "stream",
     "text": [
      "Trained models on Sensitive Subjects, added Random Forest to list\n",
      "Trained models on News, added SVC to list\n",
      "Trained models on Arts & Entertainment, added SVC to list\n",
      "Trained models on People & Society, added KNN to list\n",
      "Trained models on Law & Government, added SVC to list\n",
      "Trained models on Online Communities, added KNN to list\n",
      "Skipped category: Books & Literature due to low numbers\n",
      "Skipped category: Reference due to low numbers\n",
      "Skipped category: Jobs & Education due to low numbers\n",
      "Skipped category: Health due to low numbers\n",
      "Skipped category: Business & Industrial due to low numbers\n",
      "Skipped category: Autos & Vehicles due to low numbers\n",
      "Skipped category: Food & Drink due to low numbers\n",
      "Trained models on Travel & Transportation, added SVC to list\n",
      "Skipped category: Hobbies & Leisure due to low numbers\n",
      "Skipped category: Games due to low numbers\n",
      "Skipped category: Pets & Animals due to low numbers\n",
      "Skipped category: Sports due to low numbers\n",
      "Skipped category: Beauty & Fitness due to low numbers\n",
      "Skipped category: Science due to low numbers\n",
      "Skipped category: Computers & Electronics due to low numbers\n",
      "Skipped category: Shopping due to low numbers\n",
      "Skipped category: Internet & Telecom due to low numbers\n",
      "Skipped category: Adult due to low numbers\n",
      "Skipped category: Finance due to low numbers\n"
     ]
    }
   ],
   "source": [
    "m = train_models(\"pheme\", pheme, 0.2, 200, model_list_3)\n"
   ]
  },
  {
   "cell_type": "code",
   "execution_count": 110,
   "metadata": {},
   "outputs": [
    {
     "name": "stderr",
     "output_type": "stream",
     "text": [
      "  0%|          | 0/1285 [00:00<?, ?it/s]"
     ]
    },
    {
     "name": "stderr",
     "output_type": "stream",
     "text": [
      "100%|██████████| 1285/1285 [04:19<00:00,  4.94it/s]\n"
     ]
    }
   ],
   "source": [
    "p = predict_points(m, \"pheme_categories.json\", X_val)"
   ]
  },
  {
   "cell_type": "code",
   "execution_count": 111,
   "metadata": {},
   "outputs": [
    {
     "name": "stdout",
     "output_type": "stream",
     "text": [
      "R\n"
     ]
    },
    {
     "data": {
      "image/png": "[encoded data removed]",
      "text/plain": [
       "<Figure size 640x480 with 2 Axes>"
      ]
     },
     "metadata": {},
     "output_type": "display_data"
    },
    {
     "data": {
      "text/plain": [
       "(60.08, 57.81)"
      ]
     },
     "execution_count": 111,
     "metadata": {},
     "output_type": "execute_result"
    }
   ],
   "source": [
    "check_score(p[0], y_val)"
   ]
  },
  {
   "cell_type": "code",
   "execution_count": 38,
   "metadata": {},
   "outputs": [
    {
     "data": {
      "text/plain": [
       "527     False\n",
       "4984    False\n",
       "2572    False\n",
       "1176    False\n",
       "5238     True\n",
       "Name: target, dtype: bool"
      ]
     },
     "execution_count": 38,
     "metadata": {},
     "output_type": "execute_result"
    }
   ],
   "source": []
  },
  {
   "cell_type": "code",
   "execution_count": 27,
   "metadata": {},
   "outputs": [
    {
     "name": "stderr",
     "output_type": "stream",
     "text": [
      "  0%|          | 0/3 [00:00<?, ?it/s]"
     ]
    },
    {
     "name": "stdout",
     "output_type": "stream",
     "text": [
      "Trained models on Sensitive Subjects, added KNN to list\n",
      "Trained models on News, added Random Forest to list\n",
      "Trained models on Arts & Entertainment, added SVM to list\n",
      "Trained models on People & Society, added KNN to list\n",
      "Trained models on Law & Government, added MLP to list\n",
      "Trained models on Online Communities, added KNN to list\n",
      "Skipped category: Books & Literature due to low numbers\n",
      "Skipped category: Reference due to low numbers\n",
      "Skipped category: Jobs & Education due to low numbers\n",
      "Skipped category: Health due to low numbers\n",
      "Skipped category: Business & Industrial due to low numbers\n",
      "Skipped category: Autos & Vehicles due to low numbers\n",
      "Skipped category: Food & Drink due to low numbers\n",
      "Trained models on Travel & Transportation, added MLP to list\n",
      "Skipped category: Hobbies & Leisure due to low numbers\n",
      "Skipped category: Games due to low numbers\n",
      "Skipped category: Pets & Animals due to low numbers\n",
      "Skipped category: Sports due to low numbers\n",
      "Skipped category: Beauty & Fitness due to low numbers\n",
      "Skipped category: Science due to low numbers\n",
      "Skipped category: Computers & Electronics due to low numbers\n",
      "Skipped category: Shopping due to low numbers\n",
      "Skipped category: Internet & Telecom due to low numbers\n",
      "Skipped category: Adult due to low numbers\n",
      "Skipped category: Finance due to low numbers\n"
     ]
    },
    {
     "name": "stderr",
     "output_type": "stream",
     "text": [
      "100%|██████████| 1285/1285 [00:38<00:00, 33.33it/s]\n",
      "100%|██████████| 2308/2308 [01:00<00:00, 38.05it/s]\n",
      "100%|██████████| 4662/4662 [00:52<00:00, 88.31it/s]\n",
      " 33%|███▎      | 1/3 [04:02<08:04, 242.28s/it]"
     ]
    },
    {
     "name": "stdout",
     "output_type": "stream",
     "text": [
      "Trained models on People & Society, added KNN to list\n",
      "Trained models on Arts & Entertainment, added MLP to list\n",
      "Trained models on Law & Government, added SVM to list\n",
      "Trained models on News, added SVM to list\n",
      "Skipped category: Food & Drink due to low numbers\n",
      "Trained models on Sensitive Subjects, added MLP to list\n",
      "Trained models on Online Communities, added Random Forest to list\n",
      "Skipped category: Internet & Telecom due to low numbers\n",
      "Skipped category: Computers & Electronics due to low numbers\n",
      "Skipped category: Health due to low numbers\n",
      "Skipped category: Pets & Animals due to low numbers\n",
      "Skipped category: Reference due to low numbers\n",
      "Skipped category: Adult due to low numbers\n",
      "Skipped category: Business & Industrial due to low numbers\n",
      "Skipped category: Books & Literature due to low numbers\n",
      "Skipped category: Jobs & Education due to low numbers\n",
      "Skipped category: Shopping due to low numbers\n",
      "Skipped category: Beauty & Fitness due to low numbers\n",
      "Skipped category: Autos & Vehicles due to low numbers\n",
      "Skipped category: Science due to low numbers\n",
      "Skipped category: Finance due to low numbers\n",
      "Skipped category: Travel & Transportation due to low numbers\n",
      "Skipped category: Hobbies & Leisure due to low numbers\n",
      "Skipped category: Sports due to low numbers\n",
      "Skipped category: Games due to low numbers\n",
      "Skipped category: Home & Garden due to low numbers\n",
      "Skipped category: Real Estate due to low numbers\n"
     ]
    },
    {
     "name": "stderr",
     "output_type": "stream",
     "text": [
      "100%|██████████| 462/462 [00:04<00:00, 93.39it/s]\n",
      "100%|██████████| 6425/6425 [01:31<00:00, 70.27it/s]\n",
      "100%|██████████| 4662/4662 [00:19<00:00, 240.97it/s]\n",
      " 67%|██████▋   | 2/3 [06:24<03:03, 183.18s/it]"
     ]
    },
    {
     "name": "stdout",
     "output_type": "stream",
     "text": [
      "Trained models on Arts & Entertainment, added SVM to list\n",
      "Trained models on People & Society, added SVM to list\n",
      "Skipped category: Reference due to low numbers\n",
      "Trained models on Food & Drink, added KNN to list\n",
      "Skipped category: Sports due to low numbers\n",
      "Skipped category: Games due to low numbers\n",
      "Skipped category: Travel & Transportation due to low numbers\n",
      "Trained models on Health, added SGD to list\n",
      "Skipped category: Online Communities due to low numbers\n",
      "Trained models on News, added MLP to list\n",
      "Skipped category: Science due to low numbers\n",
      "Trained models on Sensitive Subjects, added SVM to list\n",
      "Skipped category: Shopping due to low numbers\n",
      "Skipped category: Finance due to low numbers\n",
      "Skipped category: Real Estate due to low numbers\n",
      "Skipped category: Jobs & Education due to low numbers\n",
      "Trained models on Law & Government, added SVM to list\n",
      "Skipped category: Business & Industrial due to low numbers\n",
      "Skipped category: Computers & Electronics due to low numbers\n",
      "Skipped category: Internet & Telecom due to low numbers\n",
      "Skipped category: Hobbies & Leisure due to low numbers\n",
      "Skipped category: Books & Literature due to low numbers\n",
      "Skipped category: Beauty & Fitness due to low numbers\n",
      "Skipped category: Pets & Animals due to low numbers\n",
      "Skipped category: Adult due to low numbers\n",
      "Skipped category: Home & Garden due to low numbers\n",
      "Skipped category: Autos & Vehicles due to low numbers\n"
     ]
    },
    {
     "name": "stderr",
     "output_type": "stream",
     "text": [
      "100%|██████████| 933/933 [00:00<00:00, 2580.77it/s]\n",
      "100%|██████████| 6425/6425 [00:03<00:00, 1788.42it/s]\n",
      "100%|██████████| 2308/2308 [00:01<00:00, 1966.66it/s]\n",
      "100%|██████████| 3/3 [06:58<00:00, 139.54s/it]\n"
     ]
    }
   ],
   "source": [
    "models1, results1 = run_tests(tests, 0.2, 200, model_list)"
   ]
  },
  {
   "cell_type": "code",
   "execution_count": 81,
   "metadata": {},
   "outputs": [
    {
     "data": {
      "text/plain": [
       "[('PHEME',\n",
       "  [('PHEME', (61.17, 59.29)),\n",
       "   ('twitterFULL', (52.95, 51.64)),\n",
       "   ('WEIBO', (49.66, 34.6))]),\n",
       " ('twitterFULL',\n",
       "  [('twitterFULL', (60.82, 60.67)),\n",
       "   ('PHEME', (50.86, 50.19)),\n",
       "   ('WEIBO', (52.57, 52.49))]),\n",
       " ('WEIBO',\n",
       "  [('WEIBO', (63.77, 63.58)),\n",
       "   ('PHEME', (47.13, 44.72)),\n",
       "   ('twitterFULL', (49.7, 49.44))])]"
      ]
     },
     "execution_count": 81,
     "metadata": {},
     "output_type": "execute_result"
    }
   ],
   "source": [
    "results1"
   ]
  },
  {
   "cell_type": "code",
   "execution_count": 51,
   "metadata": {},
   "outputs": [],
   "source": [
    "X = weibo.drop(\"target\", axis=1)\n",
    "y = weibo[\"target\"]\n",
    "X_train, X_val, y_train, y_val = train_test_split(X, y, train_size=0.8, stratify=y) \n",
    "X_train_text = np.array([text for text in X_train['e_text']])\n",
    "X_val_text = np.array([text for text in X_val['e_text']])"
   ]
  },
  {
   "cell_type": "code",
   "execution_count": 18,
   "metadata": {},
   "outputs": [],
   "source": [
    "pheme_val = pheme.drop('target', axis=1)\n",
    "pheme_val_text = np.array([text for text in pheme_val['e_text']])\n",
    "twitter_val = twitter.drop('target', axis=1)\n",
    "twitter_val_text = np.array([text for text in twitter_val['e_text']])\n",
    "weibo_val = weibo.drop('target', axis=1)\n",
    "weibo_val_text = np.array([text for text in weibo_val['e_text']])"
   ]
  },
  {
   "cell_type": "code",
   "execution_count": 52,
   "metadata": {},
   "outputs": [
    {
     "data": {
      "text/html": [
       "<style>#sk-container-id-7 {color: black;}#sk-container-id-7 pre{padding: 0;}#sk-container-id-7 div.sk-toggleable {background-color: white;}#sk-container-id-7 label.sk-toggleable__label {cursor: pointer;display: block;width: 100%;margin-bottom: 0;padding: 0.3em;box-sizing: border-box;text-align: center;}#sk-container-id-7 label.sk-toggleable__label-arrow:before {content: \"▸\";float: left;margin-right: 0.25em;color: #696969;}#sk-container-id-7 label.sk-toggleable__label-arrow:hover:before {color: black;}#sk-container-id-7 div.sk-estimator:hover label.sk-toggleable__label-arrow:before {color: black;}#sk-container-id-7 div.sk-toggleable__content {max-height: 0;max-width: 0;overflow: hidden;text-align: left;background-color: #f0f8ff;}#sk-container-id-7 div.sk-toggleable__content pre {margin: 0.2em;color: black;border-radius: 0.25em;background-color: #f0f8ff;}#sk-container-id-7 input.sk-toggleable__control:checked~div.sk-toggleable__content {max-height: 200px;max-width: 100%;overflow: auto;}#sk-container-id-7 input.sk-toggleable__control:checked~label.sk-toggleable__label-arrow:before {content: \"▾\";}#sk-container-id-7 div.sk-estimator input.sk-toggleable__control:checked~label.sk-toggleable__label {background-color: #d4ebff;}#sk-container-id-7 div.sk-label input.sk-toggleable__control:checked~label.sk-toggleable__label {background-color: #d4ebff;}#sk-container-id-7 input.sk-hidden--visually {border: 0;clip: rect(1px 1px 1px 1px);clip: rect(1px, 1px, 1px, 1px);height: 1px;margin: -1px;overflow: hidden;padding: 0;position: absolute;width: 1px;}#sk-container-id-7 div.sk-estimator {font-family: monospace;background-color: #f0f8ff;border: 1px dotted black;border-radius: 0.25em;box-sizing: border-box;margin-bottom: 0.5em;}#sk-container-id-7 div.sk-estimator:hover {background-color: #d4ebff;}#sk-container-id-7 div.sk-parallel-item::after {content: \"\";width: 100%;border-bottom: 1px solid gray;flex-grow: 1;}#sk-container-id-7 div.sk-label:hover label.sk-toggleable__label {background-color: #d4ebff;}#sk-container-id-7 div.sk-serial::before {content: \"\";position: absolute;border-left: 1px solid gray;box-sizing: border-box;top: 0;bottom: 0;left: 50%;z-index: 0;}#sk-container-id-7 div.sk-serial {display: flex;flex-direction: column;align-items: center;background-color: white;padding-right: 0.2em;padding-left: 0.2em;position: relative;}#sk-container-id-7 div.sk-item {position: relative;z-index: 1;}#sk-container-id-7 div.sk-parallel {display: flex;align-items: stretch;justify-content: center;background-color: white;position: relative;}#sk-container-id-7 div.sk-item::before, #sk-container-id-7 div.sk-parallel-item::before {content: \"\";position: absolute;border-left: 1px solid gray;box-sizing: border-box;top: 0;bottom: 0;left: 50%;z-index: -1;}#sk-container-id-7 div.sk-parallel-item {display: flex;flex-direction: column;z-index: 1;position: relative;background-color: white;}#sk-container-id-7 div.sk-parallel-item:first-child::after {align-self: flex-end;width: 50%;}#sk-container-id-7 div.sk-parallel-item:last-child::after {align-self: flex-start;width: 50%;}#sk-container-id-7 div.sk-parallel-item:only-child::after {width: 0;}#sk-container-id-7 div.sk-dashed-wrapped {border: 1px dashed gray;margin: 0 0.4em 0.5em 0.4em;box-sizing: border-box;padding-bottom: 0.4em;background-color: white;}#sk-container-id-7 div.sk-label label {font-family: monospace;font-weight: bold;display: inline-block;line-height: 1.2em;}#sk-container-id-7 div.sk-label-container {text-align: center;}#sk-container-id-7 div.sk-container {/* jupyter's `normalize.less` sets `[hidden] { display: none; }` but bootstrap.min.css set `[hidden] { display: none !important; }` so we also need the `!important` here to be able to override the default hidden behavior on the sphinx rendered scikit-learn.org. See: https://github.com/scikit-learn/scikit-learn/issues/21755 */display: inline-block !important;position: relative;}#sk-container-id-7 div.sk-text-repr-fallback {display: none;}</style><div id=\"sk-container-id-7\" class=\"sk-top-container\"><div class=\"sk-text-repr-fallback\"><pre>VotingClassifier(estimators=[(&#x27;SVM&#x27;,\n",
       "                              SVC(C=3.1896744196835836,\n",
       "                                  coef0=0.7455231741303602, degree=5,\n",
       "                                  kernel=&#x27;poly&#x27;, random_state=42,\n",
       "                                  shrinking=False,\n",
       "                                  tol=1.5881662991931855e-05)),\n",
       "                             (&#x27;KNN&#x27;,\n",
       "                              KNeighborsClassifier(algorithm=&#x27;brute&#x27;,\n",
       "                                                   metric=&#x27;l1&#x27;, n_jobs=-1,\n",
       "                                                   n_neighbors=2,\n",
       "                                                   p=1.1487674060061024)),\n",
       "                             (&#x27;Logistic Regression&#x27;,\n",
       "                              LogisticRegression(C=1.1425784971681052,\n",
       "                                                 max_iter=1000...\n",
       "                                            learning_rate_init=0.025929575848828025,\n",
       "                                            max_iter=1000,\n",
       "                                            momentum=0.9669068646688704,\n",
       "                                            power_t=0.6057802270791413,\n",
       "                                            solver=&#x27;sgd&#x27;,\n",
       "                                            tol=0.0017273814563112662)),\n",
       "                             (&#x27;Gaussian NB&#x27;, GaussianNB()),\n",
       "                             (&#x27;SGD&#x27;,\n",
       "                              SGDClassifier(alpha=2.9224018045082045e-06,\n",
       "                                            eta0=0.0020869277818985183,\n",
       "                                            l1_ratio=7.339312568598362e-07,\n",
       "                                            learning_rate=&#x27;adaptive&#x27;,\n",
       "                                            loss=&#x27;squared_epsilon_insensitive&#x27;,\n",
       "                                            penalty=&#x27;l1&#x27;,\n",
       "                                            tol=0.0011568279948847254))])</pre><b>In a Jupyter environment, please rerun this cell to show the HTML representation or trust the notebook. <br />On GitHub, the HTML representation is unable to render, please try loading this page with nbviewer.org.</b></div><div class=\"sk-container\" hidden><div class=\"sk-item sk-dashed-wrapped\"><div class=\"sk-label-container\"><div class=\"sk-label sk-toggleable\"><input class=\"sk-toggleable__control sk-hidden--visually\" id=\"sk-estimator-id-35\" type=\"checkbox\" ><label for=\"sk-estimator-id-35\" class=\"sk-toggleable__label sk-toggleable__label-arrow\">VotingClassifier</label><div class=\"sk-toggleable__content\"><pre>VotingClassifier(estimators=[(&#x27;SVM&#x27;,\n",
       "                              SVC(C=3.1896744196835836,\n",
       "                                  coef0=0.7455231741303602, degree=5,\n",
       "                                  kernel=&#x27;poly&#x27;, random_state=42,\n",
       "                                  shrinking=False,\n",
       "                                  tol=1.5881662991931855e-05)),\n",
       "                             (&#x27;KNN&#x27;,\n",
       "                              KNeighborsClassifier(algorithm=&#x27;brute&#x27;,\n",
       "                                                   metric=&#x27;l1&#x27;, n_jobs=-1,\n",
       "                                                   n_neighbors=2,\n",
       "                                                   p=1.1487674060061024)),\n",
       "                             (&#x27;Logistic Regression&#x27;,\n",
       "                              LogisticRegression(C=1.1425784971681052,\n",
       "                                                 max_iter=1000...\n",
       "                                            learning_rate_init=0.025929575848828025,\n",
       "                                            max_iter=1000,\n",
       "                                            momentum=0.9669068646688704,\n",
       "                                            power_t=0.6057802270791413,\n",
       "                                            solver=&#x27;sgd&#x27;,\n",
       "                                            tol=0.0017273814563112662)),\n",
       "                             (&#x27;Gaussian NB&#x27;, GaussianNB()),\n",
       "                             (&#x27;SGD&#x27;,\n",
       "                              SGDClassifier(alpha=2.9224018045082045e-06,\n",
       "                                            eta0=0.0020869277818985183,\n",
       "                                            l1_ratio=7.339312568598362e-07,\n",
       "                                            learning_rate=&#x27;adaptive&#x27;,\n",
       "                                            loss=&#x27;squared_epsilon_insensitive&#x27;,\n",
       "                                            penalty=&#x27;l1&#x27;,\n",
       "                                            tol=0.0011568279948847254))])</pre></div></div></div><div class=\"sk-parallel\"><div class=\"sk-parallel-item\"><div class=\"sk-item\"><div class=\"sk-label-container\"><div class=\"sk-label sk-toggleable\"><label>SVM</label></div></div><div class=\"sk-serial\"><div class=\"sk-item\"><div class=\"sk-estimator sk-toggleable\"><input class=\"sk-toggleable__control sk-hidden--visually\" id=\"sk-estimator-id-36\" type=\"checkbox\" ><label for=\"sk-estimator-id-36\" class=\"sk-toggleable__label sk-toggleable__label-arrow\">SVC</label><div class=\"sk-toggleable__content\"><pre>SVC(C=3.1896744196835836, coef0=0.7455231741303602, degree=5, kernel=&#x27;poly&#x27;,\n",
       "    random_state=42, shrinking=False, tol=1.5881662991931855e-05)</pre></div></div></div></div></div></div><div class=\"sk-parallel-item\"><div class=\"sk-item\"><div class=\"sk-label-container\"><div class=\"sk-label sk-toggleable\"><label>KNN</label></div></div><div class=\"sk-serial\"><div class=\"sk-item\"><div class=\"sk-estimator sk-toggleable\"><input class=\"sk-toggleable__control sk-hidden--visually\" id=\"sk-estimator-id-37\" type=\"checkbox\" ><label for=\"sk-estimator-id-37\" class=\"sk-toggleable__label sk-toggleable__label-arrow\">KNeighborsClassifier</label><div class=\"sk-toggleable__content\"><pre>KNeighborsClassifier(algorithm=&#x27;brute&#x27;, metric=&#x27;l1&#x27;, n_jobs=-1, n_neighbors=2,\n",
       "                     p=1.1487674060061024)</pre></div></div></div></div></div></div><div class=\"sk-parallel-item\"><div class=\"sk-item\"><div class=\"sk-label-container\"><div class=\"sk-label sk-toggleable\"><label>Logistic Regression</label></div></div><div class=\"sk-serial\"><div class=\"sk-item\"><div class=\"sk-estimator sk-toggleable\"><input class=\"sk-toggleable__control sk-hidden--visually\" id=\"sk-estimator-id-38\" type=\"checkbox\" ><label for=\"sk-estimator-id-38\" class=\"sk-toggleable__label sk-toggleable__label-arrow\">LogisticRegression</label><div class=\"sk-toggleable__content\"><pre>LogisticRegression(C=1.1425784971681052, max_iter=1000, n_jobs=-1,\n",
       "                   random_state=42, solver=&#x27;saga&#x27;, tol=1.478630072266259e-05)</pre></div></div></div></div></div></div><div class=\"sk-parallel-item\"><div class=\"sk-item\"><div class=\"sk-label-container\"><div class=\"sk-label sk-toggleable\"><label>Random Forest</label></div></div><div class=\"sk-serial\"><div class=\"sk-item\"><div class=\"sk-estimator sk-toggleable\"><input class=\"sk-toggleable__control sk-hidden--visually\" id=\"sk-estimator-id-39\" type=\"checkbox\" ><label for=\"sk-estimator-id-39\" class=\"sk-toggleable__label sk-toggleable__label-arrow\">RandomForestClassifier</label><div class=\"sk-toggleable__content\"><pre>RandomForestClassifier(max_depth=194, min_samples_leaf=3,\n",
       "                       min_samples_split=0.015717239332095234,\n",
       "                       n_estimators=879)</pre></div></div></div></div></div></div><div class=\"sk-parallel-item\"><div class=\"sk-item\"><div class=\"sk-label-container\"><div class=\"sk-label sk-toggleable\"><label>MLP</label></div></div><div class=\"sk-serial\"><div class=\"sk-item\"><div class=\"sk-estimator sk-toggleable\"><input class=\"sk-toggleable__control sk-hidden--visually\" id=\"sk-estimator-id-40\" type=\"checkbox\" ><label for=\"sk-estimator-id-40\" class=\"sk-toggleable__label sk-toggleable__label-arrow\">MLPClassifier</label><div class=\"sk-toggleable__content\"><pre>MLPClassifier(alpha=0.004078725547577969, beta_1=0.8002326496863409,\n",
       "              beta_2=0.9974019106281052, epsilon=9.541429204690647e-06,\n",
       "              learning_rate=&#x27;adaptive&#x27;, learning_rate_init=0.025929575848828025,\n",
       "              max_iter=1000, momentum=0.9669068646688704,\n",
       "              power_t=0.6057802270791413, solver=&#x27;sgd&#x27;,\n",
       "              tol=0.0017273814563112662)</pre></div></div></div></div></div></div><div class=\"sk-parallel-item\"><div class=\"sk-item\"><div class=\"sk-label-container\"><div class=\"sk-label sk-toggleable\"><label>Gaussian NB</label></div></div><div class=\"sk-serial\"><div class=\"sk-item\"><div class=\"sk-estimator sk-toggleable\"><input class=\"sk-toggleable__control sk-hidden--visually\" id=\"sk-estimator-id-41\" type=\"checkbox\" ><label for=\"sk-estimator-id-41\" class=\"sk-toggleable__label sk-toggleable__label-arrow\">GaussianNB</label><div class=\"sk-toggleable__content\"><pre>GaussianNB()</pre></div></div></div></div></div></div><div class=\"sk-parallel-item\"><div class=\"sk-item\"><div class=\"sk-label-container\"><div class=\"sk-label sk-toggleable\"><label>SGD</label></div></div><div class=\"sk-serial\"><div class=\"sk-item\"><div class=\"sk-estimator sk-toggleable\"><input class=\"sk-toggleable__control sk-hidden--visually\" id=\"sk-estimator-id-42\" type=\"checkbox\" ><label for=\"sk-estimator-id-42\" class=\"sk-toggleable__label sk-toggleable__label-arrow\">SGDClassifier</label><div class=\"sk-toggleable__content\"><pre>SGDClassifier(alpha=2.9224018045082045e-06, eta0=0.0020869277818985183,\n",
       "              l1_ratio=7.339312568598362e-07, learning_rate=&#x27;adaptive&#x27;,\n",
       "              loss=&#x27;squared_epsilon_insensitive&#x27;, penalty=&#x27;l1&#x27;,\n",
       "              tol=0.0011568279948847254)</pre></div></div></div></div></div></div></div></div></div></div>"
      ],
      "text/plain": [
       "VotingClassifier(estimators=[('SVM',\n",
       "                              SVC(C=3.1896744196835836,\n",
       "                                  coef0=0.7455231741303602, degree=5,\n",
       "                                  kernel='poly', random_state=42,\n",
       "                                  shrinking=False,\n",
       "                                  tol=1.5881662991931855e-05)),\n",
       "                             ('KNN',\n",
       "                              KNeighborsClassifier(algorithm='brute',\n",
       "                                                   metric='l1', n_jobs=-1,\n",
       "                                                   n_neighbors=2,\n",
       "                                                   p=1.1487674060061024)),\n",
       "                             ('Logistic Regression',\n",
       "                              LogisticRegression(C=1.1425784971681052,\n",
       "                                                 max_iter=1000...\n",
       "                                            learning_rate_init=0.025929575848828025,\n",
       "                                            max_iter=1000,\n",
       "                                            momentum=0.9669068646688704,\n",
       "                                            power_t=0.6057802270791413,\n",
       "                                            solver='sgd',\n",
       "                                            tol=0.0017273814563112662)),\n",
       "                             ('Gaussian NB', GaussianNB()),\n",
       "                             ('SGD',\n",
       "                              SGDClassifier(alpha=2.9224018045082045e-06,\n",
       "                                            eta0=0.0020869277818985183,\n",
       "                                            l1_ratio=7.339312568598362e-07,\n",
       "                                            learning_rate='adaptive',\n",
       "                                            loss='squared_epsilon_insensitive',\n",
       "                                            penalty='l1',\n",
       "                                            tol=0.0011568279948847254))])"
      ]
     },
     "execution_count": 52,
     "metadata": {},
     "output_type": "execute_result"
    }
   ],
   "source": [
    "from sklearn.ensemble import VotingClassifier\n",
    "vc = VotingClassifier(estimators = model_list, voting='hard')\n",
    "vc.fit(X_train_text, y_train)\n"
   ]
  },
  {
   "cell_type": "code",
   "execution_count": 53,
   "metadata": {},
   "outputs": [
    {
     "name": "stdout",
     "output_type": "stream",
     "text": [
      "R\n"
     ]
    },
    {
     "data": {
      "image/png": "[encoded data removed]",
      "text/plain": [
       "<Figure size 640x480 with 2 Axes>"
      ]
     },
     "metadata": {},
     "output_type": "display_data"
    },
    {
     "name": "stdout",
     "output_type": "stream",
     "text": [
      "(84.46, 84.45)\n"
     ]
    }
   ],
   "source": [
    "pred = vc.predict(X_val_text)\n",
    "test_val = twitter['target']\n",
    "s = check_score(y_val, pred)\n",
    "print(s)"
   ]
  },
  {
   "cell_type": "code",
   "execution_count": 54,
   "metadata": {},
   "outputs": [],
   "source": [
    "knora_models = []\n",
    "\n",
    "for model_name, model in model_list:\n",
    "    model.fit(X_train_text, y_train)\n",
    "    knora_models.append(model)"
   ]
  },
  {
   "cell_type": "code",
   "execution_count": 55,
   "metadata": {},
   "outputs": [
    {
     "data": {
      "text/html": [
       "<style>#sk-container-id-8 {color: black;}#sk-container-id-8 pre{padding: 0;}#sk-container-id-8 div.sk-toggleable {background-color: white;}#sk-container-id-8 label.sk-toggleable__label {cursor: pointer;display: block;width: 100%;margin-bottom: 0;padding: 0.3em;box-sizing: border-box;text-align: center;}#sk-container-id-8 label.sk-toggleable__label-arrow:before {content: \"▸\";float: left;margin-right: 0.25em;color: #696969;}#sk-container-id-8 label.sk-toggleable__label-arrow:hover:before {color: black;}#sk-container-id-8 div.sk-estimator:hover label.sk-toggleable__label-arrow:before {color: black;}#sk-container-id-8 div.sk-toggleable__content {max-height: 0;max-width: 0;overflow: hidden;text-align: left;background-color: #f0f8ff;}#sk-container-id-8 div.sk-toggleable__content pre {margin: 0.2em;color: black;border-radius: 0.25em;background-color: #f0f8ff;}#sk-container-id-8 input.sk-toggleable__control:checked~div.sk-toggleable__content {max-height: 200px;max-width: 100%;overflow: auto;}#sk-container-id-8 input.sk-toggleable__control:checked~label.sk-toggleable__label-arrow:before {content: \"▾\";}#sk-container-id-8 div.sk-estimator input.sk-toggleable__control:checked~label.sk-toggleable__label {background-color: #d4ebff;}#sk-container-id-8 div.sk-label input.sk-toggleable__control:checked~label.sk-toggleable__label {background-color: #d4ebff;}#sk-container-id-8 input.sk-hidden--visually {border: 0;clip: rect(1px 1px 1px 1px);clip: rect(1px, 1px, 1px, 1px);height: 1px;margin: -1px;overflow: hidden;padding: 0;position: absolute;width: 1px;}#sk-container-id-8 div.sk-estimator {font-family: monospace;background-color: #f0f8ff;border: 1px dotted black;border-radius: 0.25em;box-sizing: border-box;margin-bottom: 0.5em;}#sk-container-id-8 div.sk-estimator:hover {background-color: #d4ebff;}#sk-container-id-8 div.sk-parallel-item::after {content: \"\";width: 100%;border-bottom: 1px solid gray;flex-grow: 1;}#sk-container-id-8 div.sk-label:hover label.sk-toggleable__label {background-color: #d4ebff;}#sk-container-id-8 div.sk-serial::before {content: \"\";position: absolute;border-left: 1px solid gray;box-sizing: border-box;top: 0;bottom: 0;left: 50%;z-index: 0;}#sk-container-id-8 div.sk-serial {display: flex;flex-direction: column;align-items: center;background-color: white;padding-right: 0.2em;padding-left: 0.2em;position: relative;}#sk-container-id-8 div.sk-item {position: relative;z-index: 1;}#sk-container-id-8 div.sk-parallel {display: flex;align-items: stretch;justify-content: center;background-color: white;position: relative;}#sk-container-id-8 div.sk-item::before, #sk-container-id-8 div.sk-parallel-item::before {content: \"\";position: absolute;border-left: 1px solid gray;box-sizing: border-box;top: 0;bottom: 0;left: 50%;z-index: -1;}#sk-container-id-8 div.sk-parallel-item {display: flex;flex-direction: column;z-index: 1;position: relative;background-color: white;}#sk-container-id-8 div.sk-parallel-item:first-child::after {align-self: flex-end;width: 50%;}#sk-container-id-8 div.sk-parallel-item:last-child::after {align-self: flex-start;width: 50%;}#sk-container-id-8 div.sk-parallel-item:only-child::after {width: 0;}#sk-container-id-8 div.sk-dashed-wrapped {border: 1px dashed gray;margin: 0 0.4em 0.5em 0.4em;box-sizing: border-box;padding-bottom: 0.4em;background-color: white;}#sk-container-id-8 div.sk-label label {font-family: monospace;font-weight: bold;display: inline-block;line-height: 1.2em;}#sk-container-id-8 div.sk-label-container {text-align: center;}#sk-container-id-8 div.sk-container {/* jupyter's `normalize.less` sets `[hidden] { display: none; }` but bootstrap.min.css set `[hidden] { display: none !important; }` so we also need the `!important` here to be able to override the default hidden behavior on the sphinx rendered scikit-learn.org. See: https://github.com/scikit-learn/scikit-learn/issues/21755 */display: inline-block !important;position: relative;}#sk-container-id-8 div.sk-text-repr-fallback {display: none;}</style><div id=\"sk-container-id-8\" class=\"sk-top-container\"><div class=\"sk-text-repr-fallback\"><pre>KNORAE(pool_classifiers=[SVC(C=3.1896744196835836, coef0=0.7455231741303602,\n",
       "                             degree=5, kernel=&#x27;poly&#x27;, random_state=42,\n",
       "                             shrinking=False, tol=1.5881662991931855e-05),\n",
       "                         KNeighborsClassifier(algorithm=&#x27;brute&#x27;, metric=&#x27;l1&#x27;,\n",
       "                                              n_jobs=-1, n_neighbors=2,\n",
       "                                              p=1.1487674060061024),\n",
       "                         LogisticRegression(C=1.1425784971681052, max_iter=1000,\n",
       "                                            n_jobs=-1, random_state=42,\n",
       "                                            solver=&#x27;saga&#x27;,\n",
       "                                            t...\n",
       "                                       learning_rate_init=0.025929575848828025,\n",
       "                                       max_iter=1000,\n",
       "                                       momentum=0.9669068646688704,\n",
       "                                       power_t=0.6057802270791413, solver=&#x27;sgd&#x27;,\n",
       "                                       tol=0.0017273814563112662),\n",
       "                         GaussianNB(),\n",
       "                         SGDClassifier(alpha=2.9224018045082045e-06,\n",
       "                                       eta0=0.0020869277818985183,\n",
       "                                       l1_ratio=7.339312568598362e-07,\n",
       "                                       learning_rate=&#x27;adaptive&#x27;,\n",
       "                                       loss=&#x27;squared_epsilon_insensitive&#x27;,\n",
       "                                       penalty=&#x27;l1&#x27;,\n",
       "                                       tol=0.0011568279948847254)])</pre><b>In a Jupyter environment, please rerun this cell to show the HTML representation or trust the notebook. <br />On GitHub, the HTML representation is unable to render, please try loading this page with nbviewer.org.</b></div><div class=\"sk-container\" hidden><div class=\"sk-item\"><div class=\"sk-estimator sk-toggleable\"><input class=\"sk-toggleable__control sk-hidden--visually\" id=\"sk-estimator-id-43\" type=\"checkbox\" checked><label for=\"sk-estimator-id-43\" class=\"sk-toggleable__label sk-toggleable__label-arrow\">KNORAE</label><div class=\"sk-toggleable__content\"><pre>KNORAE(pool_classifiers=[SVC(C=3.1896744196835836, coef0=0.7455231741303602,\n",
       "                             degree=5, kernel=&#x27;poly&#x27;, random_state=42,\n",
       "                             shrinking=False, tol=1.5881662991931855e-05),\n",
       "                         KNeighborsClassifier(algorithm=&#x27;brute&#x27;, metric=&#x27;l1&#x27;,\n",
       "                                              n_jobs=-1, n_neighbors=2,\n",
       "                                              p=1.1487674060061024),\n",
       "                         LogisticRegression(C=1.1425784971681052, max_iter=1000,\n",
       "                                            n_jobs=-1, random_state=42,\n",
       "                                            solver=&#x27;saga&#x27;,\n",
       "                                            t...\n",
       "                                       learning_rate_init=0.025929575848828025,\n",
       "                                       max_iter=1000,\n",
       "                                       momentum=0.9669068646688704,\n",
       "                                       power_t=0.6057802270791413, solver=&#x27;sgd&#x27;,\n",
       "                                       tol=0.0017273814563112662),\n",
       "                         GaussianNB(),\n",
       "                         SGDClassifier(alpha=2.9224018045082045e-06,\n",
       "                                       eta0=0.0020869277818985183,\n",
       "                                       l1_ratio=7.339312568598362e-07,\n",
       "                                       learning_rate=&#x27;adaptive&#x27;,\n",
       "                                       loss=&#x27;squared_epsilon_insensitive&#x27;,\n",
       "                                       penalty=&#x27;l1&#x27;,\n",
       "                                       tol=0.0011568279948847254)])</pre></div></div></div></div></div>"
      ],
      "text/plain": [
       "KNORAE(pool_classifiers=[SVC(C=3.1896744196835836, coef0=0.7455231741303602,\n",
       "                             degree=5, kernel='poly', random_state=42,\n",
       "                             shrinking=False, tol=1.5881662991931855e-05),\n",
       "                         KNeighborsClassifier(algorithm='brute', metric='l1',\n",
       "                                              n_jobs=-1, n_neighbors=2,\n",
       "                                              p=1.1487674060061024),\n",
       "                         LogisticRegression(C=1.1425784971681052, max_iter=1000,\n",
       "                                            n_jobs=-1, random_state=42,\n",
       "                                            solver='saga',\n",
       "                                            t...\n",
       "                                       learning_rate_init=0.025929575848828025,\n",
       "                                       max_iter=1000,\n",
       "                                       momentum=0.9669068646688704,\n",
       "                                       power_t=0.6057802270791413, solver='sgd',\n",
       "                                       tol=0.0017273814563112662),\n",
       "                         GaussianNB(),\n",
       "                         SGDClassifier(alpha=2.9224018045082045e-06,\n",
       "                                       eta0=0.0020869277818985183,\n",
       "                                       l1_ratio=7.339312568598362e-07,\n",
       "                                       learning_rate='adaptive',\n",
       "                                       loss='squared_epsilon_insensitive',\n",
       "                                       penalty='l1',\n",
       "                                       tol=0.0011568279948847254)])"
      ]
     },
     "execution_count": 55,
     "metadata": {},
     "output_type": "execute_result"
    }
   ],
   "source": [
    "from deslib.des.knora_e import KNORAE\n",
    "\n",
    "knorae = KNORAE(knora_models)\n",
    "knorae.fit(X_train_text, y_train)"
   ]
  },
  {
   "cell_type": "code",
   "execution_count": 58,
   "metadata": {},
   "outputs": [
    {
     "name": "stdout",
     "output_type": "stream",
     "text": [
      "R\n"
     ]
    },
    {
     "data": {
      "image/png": "[encoded data removed]",
      "text/plain": [
       "<Figure size 640x480 with 2 Axes>"
      ]
     },
     "metadata": {},
     "output_type": "display_data"
    },
    {
     "name": "stdout",
     "output_type": "stream",
     "text": [
      "(86.17, 86.14)\n"
     ]
    }
   ],
   "source": [
    "pred = knorae.predict(X_val_text)\n",
    "test_val = twitter['target']\n",
    "s = check_score(y_val, pred)\n",
    "print(s)"
   ]
  },
  {
   "cell_type": "code",
   "execution_count": 74,
   "metadata": {},
   "outputs": [
    {
     "name": "stdout",
     "output_type": "stream",
     "text": [
      "True False\n",
      "True False\n",
      "True False\n",
      "True False\n",
      "True False\n",
      "False False\n",
      "True False\n",
      "False False\n",
      "True False\n",
      "False False\n",
      "True False\n",
      "True False\n",
      "False False\n",
      "True False\n",
      "True False\n",
      "True False\n",
      "True False\n",
      "False False\n",
      "False False\n",
      "True False\n",
      "True False\n",
      "False False\n",
      "True False\n",
      "True False\n",
      "False False\n",
      "False False\n",
      "True False\n",
      "False False\n",
      "False False\n",
      "True False\n",
      "True False\n",
      "False False\n",
      "True False\n",
      "True False\n",
      "True False\n",
      "True False\n",
      "True False\n",
      "False False\n",
      "False False\n",
      "False False\n",
      "False False\n",
      "False False\n",
      "True False\n",
      "True False\n",
      "False False\n",
      "True False\n",
      "False False\n",
      "True False\n",
      "True False\n",
      "True False\n",
      "True False\n",
      "False False\n",
      "False False\n",
      "True False\n",
      "True False\n",
      "False False\n",
      "True False\n",
      "True False\n",
      "True False\n",
      "True False\n",
      "True False\n",
      "True False\n",
      "True False\n",
      "True False\n",
      "True False\n",
      "True False\n",
      "True False\n",
      "True False\n",
      "False False\n",
      "True False\n",
      "True False\n",
      "False False\n",
      "False False\n",
      "True False\n",
      "False False\n",
      "True False\n",
      "False False\n",
      "False False\n",
      "True False\n",
      "True False\n",
      "True False\n",
      "True False\n",
      "True False\n",
      "True False\n",
      "True False\n",
      "True False\n",
      "True False\n",
      "True False\n",
      "False False\n",
      "True False\n",
      "True False\n",
      "False False\n",
      "True False\n",
      "False False\n",
      "True False\n",
      "False False\n",
      "False False\n",
      "True False\n",
      "True False\n",
      "True False\n",
      "True False\n",
      "True False\n",
      "True False\n",
      "True False\n",
      "True False\n",
      "True False\n",
      "False False\n",
      "False False\n",
      "True False\n",
      "True False\n",
      "False False\n",
      "True False\n",
      "False False\n",
      "False False\n",
      "False False\n",
      "False False\n",
      "False False\n",
      "True False\n",
      "True False\n",
      "False False\n",
      "True False\n",
      "False False\n",
      "True False\n",
      "True False\n",
      "True False\n",
      "True False\n",
      "True False\n",
      "True False\n",
      "True False\n",
      "True False\n",
      "True False\n",
      "True False\n",
      "False False\n",
      "True False\n",
      "True False\n",
      "True False\n",
      "False False\n",
      "True False\n",
      "True False\n",
      "False False\n",
      "False False\n",
      "True False\n",
      "False False\n",
      "True False\n",
      "False False\n",
      "False False\n",
      "True False\n",
      "True False\n",
      "True False\n",
      "True False\n",
      "False False\n",
      "False False\n",
      "False False\n",
      "True False\n",
      "True False\n",
      "True False\n",
      "True False\n",
      "False False\n",
      "True False\n",
      "True False\n",
      "True False\n",
      "True False\n",
      "False False\n",
      "False False\n",
      "True False\n",
      "False False\n",
      "True False\n",
      "False False\n",
      "True False\n",
      "True False\n",
      "True False\n",
      "True False\n",
      "True False\n",
      "False False\n",
      "False False\n",
      "True False\n",
      "False False\n",
      "True False\n",
      "True False\n",
      "True False\n",
      "False False\n",
      "True False\n",
      "False False\n",
      "True False\n",
      "False False\n",
      "True False\n",
      "True False\n",
      "False False\n",
      "True False\n",
      "False False\n",
      "True False\n",
      "False False\n",
      "True False\n",
      "False False\n",
      "True False\n",
      "True False\n",
      "True False\n",
      "True False\n",
      "True False\n",
      "True False\n",
      "False False\n",
      "False False\n",
      "True False\n",
      "False False\n",
      "True False\n",
      "False False\n",
      "True False\n",
      "False False\n",
      "True False\n",
      "True False\n",
      "True False\n",
      "True False\n",
      "False False\n",
      "True False\n",
      "True False\n",
      "False False\n",
      "False False\n",
      "True False\n",
      "False False\n",
      "True False\n",
      "False False\n",
      "True False\n",
      "False False\n",
      "True False\n",
      "False False\n",
      "True False\n",
      "False False\n",
      "True False\n",
      "False False\n",
      "False False\n",
      "True False\n",
      "True False\n",
      "False False\n",
      "False False\n",
      "True False\n",
      "False False\n",
      "False False\n",
      "False False\n",
      "False False\n",
      "True False\n",
      "False False\n",
      "False False\n",
      "True False\n",
      "False False\n",
      "False False\n",
      "False False\n",
      "True False\n",
      "True False\n",
      "True False\n",
      "False False\n",
      "False False\n",
      "False False\n",
      "True False\n",
      "True False\n",
      "False False\n",
      "True False\n",
      "False False\n",
      "True False\n",
      "True False\n",
      "True False\n",
      "True False\n",
      "False False\n",
      "True False\n",
      "True False\n",
      "False False\n",
      "True False\n",
      "True False\n",
      "False False\n",
      "True False\n",
      "False False\n",
      "True False\n",
      "True False\n",
      "False False\n",
      "True False\n",
      "False False\n",
      "False False\n",
      "False False\n",
      "True False\n",
      "True False\n",
      "True False\n",
      "False False\n",
      "False False\n",
      "True False\n",
      "False False\n",
      "True False\n",
      "True False\n",
      "True False\n",
      "True False\n",
      "True False\n",
      "False False\n",
      "False False\n",
      "False False\n",
      "False False\n",
      "True False\n",
      "True False\n",
      "False False\n",
      "False False\n",
      "False False\n",
      "False False\n",
      "True False\n",
      "False False\n",
      "True False\n",
      "False False\n",
      "False False\n",
      "False False\n",
      "False False\n",
      "False False\n",
      "False False\n",
      "False False\n",
      "False False\n",
      "False False\n",
      "False False\n",
      "False False\n",
      "False False\n",
      "True False\n",
      "True False\n",
      "True False\n",
      "True False\n",
      "False False\n",
      "False False\n",
      "True False\n",
      "True False\n",
      "False False\n",
      "True False\n",
      "True False\n",
      "False False\n",
      "True False\n",
      "True False\n",
      "True False\n",
      "True False\n",
      "True False\n",
      "True False\n",
      "True False\n",
      "True False\n",
      "False False\n",
      "True False\n",
      "True False\n",
      "False False\n",
      "True False\n",
      "False False\n",
      "False False\n",
      "True False\n",
      "False False\n",
      "True False\n",
      "True False\n",
      "True False\n",
      "True False\n",
      "True False\n",
      "False False\n",
      "False False\n",
      "True False\n",
      "True False\n",
      "True False\n",
      "True False\n",
      "True False\n",
      "True False\n",
      "False False\n",
      "True False\n",
      "True False\n",
      "True False\n",
      "True False\n",
      "True False\n",
      "True False\n",
      "True False\n",
      "False False\n",
      "True False\n",
      "False False\n",
      "False False\n",
      "True False\n",
      "True False\n",
      "False False\n",
      "False False\n",
      "True False\n",
      "True False\n",
      "True False\n",
      "True False\n",
      "False False\n",
      "False False\n",
      "True False\n",
      "False False\n",
      "False False\n",
      "False False\n",
      "False False\n",
      "False False\n",
      "False False\n",
      "True False\n",
      "True False\n",
      "True False\n",
      "False False\n",
      "True False\n",
      "True False\n",
      "True False\n",
      "True False\n",
      "True False\n",
      "False False\n",
      "True False\n",
      "False False\n",
      "False False\n",
      "False False\n",
      "True False\n",
      "True False\n",
      "True False\n",
      "True False\n",
      "True False\n",
      "False False\n",
      "True False\n",
      "False False\n",
      "True False\n",
      "False False\n",
      "False False\n",
      "True False\n",
      "False False\n",
      "False False\n",
      "False False\n",
      "True False\n",
      "False False\n",
      "False False\n"
     ]
    }
   ],
   "source": [
    "diff = []\n",
    "for i in range(len(p[0])):\n",
    "    if p[0][i] != pred[i]:\n",
    "        print(p[0][i], pred[0])\n",
    "        diff.append(i)"
   ]
  },
  {
   "cell_type": "code",
   "execution_count": 75,
   "metadata": {},
   "outputs": [
    {
     "data": {
      "text/plain": [
       "417"
      ]
     },
     "execution_count": 75,
     "metadata": {},
     "output_type": "execute_result"
    }
   ],
   "source": [
    "len(diff)"
   ]
  },
  {
   "cell_type": "code",
   "execution_count": 79,
   "metadata": {},
   "outputs": [
    {
     "data": {
      "text/plain": [
       "13"
      ]
     },
     "execution_count": 79,
     "metadata": {},
     "output_type": "execute_result"
    }
   ],
   "source": [
    "n = 1\n",
    "m = diff[n]\n",
    "m"
   ]
  },
  {
   "cell_type": "code",
   "execution_count": 80,
   "metadata": {},
   "outputs": [
    {
     "name": "stdout",
     "output_type": "stream",
     "text": [
      "False True False [(True, 0.8362255965292842, 'SVM', 'Sensitive Subjects'), (True, 0.8277886497064579, 'SVM', 'News'), (True, 0.8848167539267016, 'SVM', 'People & Society'), (True, 0.8862559241706162, 'KNN', 'Arts & Entertainment')]\n"
     ]
    }
   ],
   "source": [
    "print(pred[m], p[0][m], y_val.iloc[m], p[1][m])"
   ]
  }
 ],
 "metadata": {
  "kernelspec": {
   "display_name": "rumour-ensemble",
   "language": "python",
   "name": "python3"
  },
  "language_info": {
   "codemirror_mode": {
    "name": "ipython",
    "version": 3
   },
   "file_extension": ".py",
   "mimetype": "text/x-python",
   "name": "python",
   "nbconvert_exporter": "python",
   "pygments_lexer": "ipython3",
   "version": "3.10.13"
  },
  "orig_nbformat": 4
 },
 "nbformat": 4,
 "nbformat_minor": 2
}
