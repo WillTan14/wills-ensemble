{
 "cells": [
  {
   "cell_type": "code",
   "execution_count": 13,
   "metadata": {},
   "outputs": [],
   "source": [
    "import json\n",
    "import os\n",
    "from tqdm import tqdm\n",
    "\n",
    "dataset = \"twitter\"\n",
    "file_name = f\"{dataset}_categories.json\"\n",
    "folder_name = f\"{dataset}_cats\"\n",
    "if not os.path.isdir(folder_name):\n",
    "    os.mkdir(folder_name)"
   ]
  },
  {
   "cell_type": "code",
   "execution_count": 4,
   "metadata": {},
   "outputs": [],
   "source": [
    "f = open(file_name)\n",
    "data = json.load(f)"
   ]
  },
  {
   "cell_type": "code",
   "execution_count": 5,
   "metadata": {},
   "outputs": [
    {
     "data": {
      "text/plain": [
       "['Law & Government', 'Public Safety', 'Law Enforcement']"
      ]
     },
     "execution_count": 5,
     "metadata": {},
     "output_type": "execute_result"
    }
   ],
   "source": [
    "a = list(data[\"0\"].keys())[0]\n",
    "b = a[1:].split(\"/\")\n",
    "b"
   ]
  },
  {
   "cell_type": "code",
   "execution_count": 6,
   "metadata": {},
   "outputs": [
    {
     "name": "stderr",
     "output_type": "stream",
     "text": [
      "  0%|          | 0/1728 [00:00<?, ?it/s]"
     ]
    },
    {
     "name": "stderr",
     "output_type": "stream",
     "text": [
      "100%|██████████| 1728/1728 [00:00<00:00, 287997.99it/s]\n"
     ]
    }
   ],
   "source": [
    "new_file = {}\n",
    "\n",
    "for entry in tqdm(data):\n",
    "    for cat in data[entry]:\n",
    "        if cat in new_file.keys():\n",
    "            new_file[cat][entry] = data[entry][cat]\n",
    "        else:\n",
    "            new_line = {cat: {entry: data[entry][cat]}}\n",
    "            new_file.update(new_line)\n",
    "\n",
    "with open(f\"{folder_name}\\{dataset}_categories_resorted.json\", \"w\") as f:\n",
    "    json.dump(new_file, f)"
   ]
  },
  {
   "cell_type": "code",
   "execution_count": 7,
   "metadata": {},
   "outputs": [
    {
     "name": "stderr",
     "output_type": "stream",
     "text": [
      "100%|██████████| 1728/1728 [00:00<00:00, 82292.61it/s]\n"
     ]
    }
   ],
   "source": [
    "new_file = {}\n",
    "\n",
    "for entry in tqdm(data):\n",
    "    for cat in data[entry]:\n",
    "        subcats = cat.split(\"/\")\n",
    "        parent = new_file\n",
    "        for i in range(1, len(subcats)):\n",
    "            subcat = subcats[i]\n",
    "            if subcat in parent.keys():\n",
    "                parent = parent[subcat]\n",
    "            else:\n",
    "                parent[subcat] = {}\n",
    "                parent = parent[subcat]\n",
    "            if i == len(subcats) - 1:\n",
    "                parent[entry] = data[entry][cat]\n",
    "\n",
    "with open(f\"{folder_name}\\{dataset}_categories_resorted.json\", \"w\") as f:\n",
    "    json.dump(new_file, f)"
   ]
  },
  {
   "cell_type": "code",
   "execution_count": 14,
   "metadata": {},
   "outputs": [
    {
     "name": "stderr",
     "output_type": "stream",
     "text": [
      "100%|██████████| 1728/1728 [00:00<00:00, 187980.01it/s]"
     ]
    },
    {
     "name": "stderr",
     "output_type": "stream",
     "text": [
      "\n"
     ]
    }
   ],
   "source": [
    "new_file = {}\n",
    "\n",
    "for entry in tqdm(data):\n",
    "    for cat in data[entry]:\n",
    "        maincat = cat.split(\"/\")[1]\n",
    "        if maincat == \"Sensitive Subjects\":\n",
    "            maincat = cat[1:]\n",
    "        if maincat in new_file.keys():\n",
    "            if entry in new_file[maincat].keys():\n",
    "                if data[entry][cat] > new_file[maincat][entry]:\n",
    "                    new_file[maincat][entry] = data[entry][cat]\n",
    "            else:\n",
    "                new_file[maincat][entry] = data[entry][cat]\n",
    "        else:     \n",
    "            new_line = {maincat: {entry: data[entry][cat]}}\n",
    "            new_file.update(new_line)\n",
    "\n",
    "with open(f\"{folder_name}\\{dataset}_categories_organised.json\", \"w\") as f:\n",
    "    json.dump(new_file, f)"
   ]
  },
  {
   "cell_type": "code",
   "execution_count": 10,
   "metadata": {},
   "outputs": [
    {
     "name": "stdout",
     "output_type": "stream",
     "text": [
      "Law & Government\n",
      "News\n",
      "Food & Drink\n",
      "Sensitive Subjects\n",
      "Online Communities\n",
      "Internet & Telecom\n",
      "Computers & Electronics\n",
      "People & Society\n",
      "Health\n",
      "Arts & Entertainment\n",
      "Adult\n",
      "Business & Industrial\n",
      "Shopping\n",
      "Beauty & Fitness\n",
      "Books & Literature\n",
      "Reference\n",
      "Autos & Vehicles\n",
      "Pets & Animals\n",
      "Science\n",
      "Jobs & Education\n",
      "Finance\n",
      "Travel & Transportation\n",
      "Games\n",
      "Hobbies & Leisure\n",
      "Sports\n",
      "Home & Garden\n"
     ]
    }
   ],
   "source": [
    "a = list(new_file.keys())\n",
    "for i in a:\n",
    "    print(i)"
   ]
  }
 ],
 "metadata": {
  "kernelspec": {
   "display_name": "Python 3",
   "language": "python",
   "name": "python3"
  },
  "language_info": {
   "codemirror_mode": {
    "name": "ipython",
    "version": 3
   },
   "file_extension": ".py",
   "mimetype": "text/x-python",
   "name": "python",
   "nbconvert_exporter": "python",
   "pygments_lexer": "ipython3",
   "version": "3.10.12"
  },
  "orig_nbformat": 4
 },
 "nbformat": 4,
 "nbformat_minor": 2
}
