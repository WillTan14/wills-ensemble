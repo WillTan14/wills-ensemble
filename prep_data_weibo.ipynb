{
 "cells": [
  {
   "attachments": {},
   "cell_type": "markdown",
   "metadata": {},
   "source": [
    "# Prep Weibo"
   ]
  },
  {
   "cell_type": "code",
   "execution_count": 55,
   "metadata": {},
   "outputs": [],
   "source": [
    "import numpy as np \n",
    "import pandas as pd \n",
    "import os\n",
    "import json\n",
    "import nltk # NLP  \n",
    "from nltk.corpus import stopwords  \n",
    "from nltk.stem import WordNetLemmatizer \n",
    "from nltk.stem import PorterStemmer \n",
    "import re  \n",
    "import contractions\n",
    "from tqdm import tqdm"
   ]
  },
  {
   "cell_type": "code",
   "execution_count": 13,
   "metadata": {},
   "outputs": [
    {
     "name": "stdout",
     "output_type": "stream",
     "text": [
      "[WinError 2] The system cannot find the file specified: 'weibo'\n",
      "c:\\Users\\willc\\Documents\\wills ensemble\\weibo\n"
     ]
    }
   ],
   "source": [
    "%cd weibo"
   ]
  },
  {
   "cell_type": "code",
   "execution_count": 4,
   "metadata": {},
   "outputs": [],
   "source": [
    "seed = 42\n",
    "\n",
    "np.random.seed(seed)"
   ]
  },
  {
   "cell_type": "code",
   "execution_count": 21,
   "metadata": {},
   "outputs": [],
   "source": [
    "# set data arrays\n",
    "id = []\n",
    "texts = []\n",
    "y = []\n",
    "file = open(\"Weibo.txt\")"
   ]
  },
  {
   "cell_type": "code",
   "execution_count": 22,
   "metadata": {},
   "outputs": [],
   "source": [
    "def get_info(file):\n",
    "    lines = file.readlines()\n",
    "    for line in lines:\n",
    "        sections = line.split(\"\\t\")\n",
    "\n",
    "        label = sections[1][-1]\n",
    "        if label == \"0\":\n",
    "            y.append(\"false\")\n",
    "        else:\n",
    "            y.append(\"true\")\n",
    "\n",
    "        eid = sections[0][4:]\n",
    "        id.append(eid)\n",
    "        source_file = f\"weibo_tweets/{eid}.json\"\n",
    "        g = open(source_file)\n",
    "        data = json.load(g)\n",
    "        g.close()\n",
    "        texts.append(data[0][\"original_text\"])"
   ]
  },
  {
   "cell_type": "code",
   "execution_count": 23,
   "metadata": {},
   "outputs": [],
   "source": [
    "get_info(file)"
   ]
  },
  {
   "cell_type": "code",
   "execution_count": 42,
   "metadata": {},
   "outputs": [
    {
     "data": {
      "text/html": [
       "<div>\n",
       "<style scoped>\n",
       "    .dataframe tbody tr th:only-of-type {\n",
       "        vertical-align: middle;\n",
       "    }\n",
       "\n",
       "    .dataframe tbody tr th {\n",
       "        vertical-align: top;\n",
       "    }\n",
       "\n",
       "    .dataframe thead th {\n",
       "        text-align: right;\n",
       "    }\n",
       "</style>\n",
       "<table border=\"1\" class=\"dataframe\">\n",
       "  <thead>\n",
       "    <tr style=\"text-align: right;\">\n",
       "      <th></th>\n",
       "      <th>id</th>\n",
       "      <th>chinese_text</th>\n",
       "      <th>target</th>\n",
       "    </tr>\n",
       "  </thead>\n",
       "  <tbody>\n",
       "    <tr>\n",
       "      <th>0</th>\n",
       "      <td>10031080900</td>\n",
       "      <td>毛新宇 深情演唱新作《献给爷爷奶奶的歌》 http://t.cn/h1R0Rj</td>\n",
       "      <td>false</td>\n",
       "    </tr>\n",
       "    <tr>\n",
       "      <th>1</th>\n",
       "      <td>10031994215</td>\n",
       "      <td>如果没有人相信你，那就自己相信自己；如果没人欣赏你，那就自己欣赏自己；如果没人祝福你，那就自...</td>\n",
       "      <td>false</td>\n",
       "    </tr>\n",
       "    <tr>\n",
       "      <th>2</th>\n",
       "      <td>10276391917</td>\n",
       "      <td>看了新闻感慨：大运会火炬，怎么跟烤土豆片儿似的，中间还有彩椒和洋葱 ~</td>\n",
       "      <td>false</td>\n",
       "    </tr>\n",
       "    <tr>\n",
       "      <th>3</th>\n",
       "      <td>10313557537</td>\n",
       "      <td>浮躁风气较盛的今天，并不是没有认真做事的人。但是，“认真”的利益选择性和目的导向性，使很多表...</td>\n",
       "      <td>false</td>\n",
       "    </tr>\n",
       "    <tr>\n",
       "      <th>4</th>\n",
       "      <td>10402071863</td>\n",
       "      <td>[心] 女孩身上某个器官，爸爸碰两次，男朋友碰一次，老公一次都不能碰。大家猜猜是答案是什么~~</td>\n",
       "      <td>false</td>\n",
       "    </tr>\n",
       "  </tbody>\n",
       "</table>\n",
       "</div>"
      ],
      "text/plain": [
       "            id                                       chinese_text target\n",
       "0  10031080900            毛新宇 深情演唱新作《献给爷爷奶奶的歌》 http://t.cn/h1R0Rj  false\n",
       "1  10031994215  如果没有人相信你，那就自己相信自己；如果没人欣赏你，那就自己欣赏自己；如果没人祝福你，那就自...  false\n",
       "2  10276391917                看了新闻感慨：大运会火炬，怎么跟烤土豆片儿似的，中间还有彩椒和洋葱 ~  false\n",
       "3  10313557537  浮躁风气较盛的今天，并不是没有认真做事的人。但是，“认真”的利益选择性和目的导向性，使很多表...  false\n",
       "4  10402071863    [心] 女孩身上某个器官，爸爸碰两次，男朋友碰一次，老公一次都不能碰。大家猜猜是答案是什么~~  false"
      ]
     },
     "execution_count": 42,
     "metadata": {},
     "output_type": "execute_result"
    }
   ],
   "source": [
    "df = pd.DataFrame([id,texts,y],['id','chinese_text','target']).transpose()\n",
    "df = df.infer_objects()\n",
    "df.head()"
   ]
  },
  {
   "cell_type": "code",
   "execution_count": 50,
   "metadata": {},
   "outputs": [],
   "source": [
    "from google.cloud import translate_v2 as translate\n",
    "\n",
    "\n",
    "def translate_text(target: str, text: str) -> dict:\n",
    "    \"\"\"Translates text into the target language.\n",
    "\n",
    "    Target must be an ISO 639-1 language code.\n",
    "    See https://g.co/cloud/translate/v2/translate-reference#supported_languages\n",
    "    \"\"\"\n",
    "\n",
    "    translate_client = translate.Client()\n",
    "\n",
    "    if isinstance(text, bytes):\n",
    "        text = text.decode(\"utf-8\")\n",
    "\n",
    "    # Text can also be a sequence of strings, in which case this method\n",
    "    # will return a sequence of results for each text.\n",
    "    result = translate_client.translate(text, target_language=target)\n",
    "\n",
    "    \"\"\"print(\"Text: {}\".format(result[\"input\"]))\n",
    "    print(\"Translation: {}\".format(result[\"translatedText\"]))\n",
    "    print(\"Detected source language: {}\".format(result[\"detectedSourceLanguage\"]))\"\"\"\n",
    "\n",
    "    return result\n",
    "\n",
    "r = translate_text(\"en\", df[\"chinese_text\"][0])"
   ]
  },
  {
   "cell_type": "code",
   "execution_count": 54,
   "metadata": {},
   "outputs": [
    {
     "data": {
      "text/plain": [
       "{'translatedText': 'Mao Xinyu affectionately sings the new work &quot;Songs for Grandparents&quot; http://t.cn/h1R0Rj',\n",
       " 'detectedSourceLanguage': 'zh-CN',\n",
       " 'input': '毛新宇 深情演唱新作《献给爷爷奶奶的歌》 http://t.cn/h1R0Rj'}"
      ]
     },
     "execution_count": 54,
     "metadata": {},
     "output_type": "execute_result"
    }
   ],
   "source": [
    "r"
   ]
  },
  {
   "cell_type": "code",
   "execution_count": 57,
   "metadata": {},
   "outputs": [
    {
     "name": "stderr",
     "output_type": "stream",
     "text": [
      "100%|██████████| 4664/4664 [3:18:34<00:00,  2.55s/it]  \n"
     ]
    }
   ],
   "source": [
    "text = []\n",
    "for i in tqdm(range(len(df))):\n",
    "    chinese = df[\"chinese_text\"][i]\n",
    "    english = translate_text(\"en\", chinese)\n",
    "    text.append(english[\"translatedText\"])\n",
    "df[\"text\"] = text"
   ]
  },
  {
   "cell_type": "code",
   "execution_count": 88,
   "metadata": {},
   "outputs": [],
   "source": [
    "df[\"text\"] = text"
   ]
  },
  {
   "cell_type": "code",
   "execution_count": 58,
   "metadata": {},
   "outputs": [
    {
     "name": "stdout",
     "output_type": "stream",
     "text": [
      "4664\n"
     ]
    }
   ],
   "source": [
    "print(len(df))"
   ]
  },
  {
   "cell_type": "code",
   "execution_count": 89,
   "metadata": {},
   "outputs": [
    {
     "data": {
      "text/html": [
       "<div>\n",
       "<style scoped>\n",
       "    .dataframe tbody tr th:only-of-type {\n",
       "        vertical-align: middle;\n",
       "    }\n",
       "\n",
       "    .dataframe tbody tr th {\n",
       "        vertical-align: top;\n",
       "    }\n",
       "\n",
       "    .dataframe thead th {\n",
       "        text-align: right;\n",
       "    }\n",
       "</style>\n",
       "<table border=\"1\" class=\"dataframe\">\n",
       "  <thead>\n",
       "    <tr style=\"text-align: right;\">\n",
       "      <th></th>\n",
       "      <th>id</th>\n",
       "      <th>chinese_text</th>\n",
       "      <th>target</th>\n",
       "      <th>text</th>\n",
       "    </tr>\n",
       "  </thead>\n",
       "  <tbody>\n",
       "    <tr>\n",
       "      <th>0</th>\n",
       "      <td>10031080900</td>\n",
       "      <td>毛新宇 深情演唱新作《献给爷爷奶奶的歌》 http://t.cn/h1R0Rj</td>\n",
       "      <td>false</td>\n",
       "      <td>Mao Xinyu affectionately sings the new work &amp;q...</td>\n",
       "    </tr>\n",
       "    <tr>\n",
       "      <th>1</th>\n",
       "      <td>10031994215</td>\n",
       "      <td>如果没有人相信你，那就自己相信自己；如果没人欣赏你，那就自己欣赏自己；如果没人祝福你，那就自...</td>\n",
       "      <td>false</td>\n",
       "      <td>If no one believes in you, then believe in you...</td>\n",
       "    </tr>\n",
       "    <tr>\n",
       "      <th>2</th>\n",
       "      <td>10276391917</td>\n",
       "      <td>看了新闻感慨：大运会火炬，怎么跟烤土豆片儿似的，中间还有彩椒和洋葱 ~</td>\n",
       "      <td>false</td>\n",
       "      <td>After reading the news, I sighed: Why does the...</td>\n",
       "    </tr>\n",
       "    <tr>\n",
       "      <th>3</th>\n",
       "      <td>10313557537</td>\n",
       "      <td>浮躁风气较盛的今天，并不是没有认真做事的人。但是，“认真”的利益选择性和目的导向性，使很多表...</td>\n",
       "      <td>false</td>\n",
       "      <td>Today, when impetuousness is prevalent, it doe...</td>\n",
       "    </tr>\n",
       "    <tr>\n",
       "      <th>4</th>\n",
       "      <td>10402071863</td>\n",
       "      <td>[心] 女孩身上某个器官，爸爸碰两次，男朋友碰一次，老公一次都不能碰。大家猜猜是答案是什么~~</td>\n",
       "      <td>false</td>\n",
       "      <td>[Heart] A girl&amp;#39;s father can touch a certai...</td>\n",
       "    </tr>\n",
       "  </tbody>\n",
       "</table>\n",
       "</div>"
      ],
      "text/plain": [
       "            id                                       chinese_text target  \\\n",
       "0  10031080900            毛新宇 深情演唱新作《献给爷爷奶奶的歌》 http://t.cn/h1R0Rj  false   \n",
       "1  10031994215  如果没有人相信你，那就自己相信自己；如果没人欣赏你，那就自己欣赏自己；如果没人祝福你，那就自...  false   \n",
       "2  10276391917                看了新闻感慨：大运会火炬，怎么跟烤土豆片儿似的，中间还有彩椒和洋葱 ~  false   \n",
       "3  10313557537  浮躁风气较盛的今天，并不是没有认真做事的人。但是，“认真”的利益选择性和目的导向性，使很多表...  false   \n",
       "4  10402071863    [心] 女孩身上某个器官，爸爸碰两次，男朋友碰一次，老公一次都不能碰。大家猜猜是答案是什么~~  false   \n",
       "\n",
       "                                                text  \n",
       "0  Mao Xinyu affectionately sings the new work &q...  \n",
       "1  If no one believes in you, then believe in you...  \n",
       "2  After reading the news, I sighed: Why does the...  \n",
       "3  Today, when impetuousness is prevalent, it doe...  \n",
       "4  [Heart] A girl&#39;s father can touch a certai...  "
      ]
     },
     "execution_count": 89,
     "metadata": {},
     "output_type": "execute_result"
    }
   ],
   "source": [
    "df.head()"
   ]
  },
  {
   "cell_type": "code",
   "execution_count": 62,
   "metadata": {},
   "outputs": [
    {
     "name": "stderr",
     "output_type": "stream",
     "text": [
      "[nltk_data] Downloading package stopwords to\n",
      "[nltk_data]     C:\\Users\\willc\\AppData\\Roaming\\nltk_data...\n",
      "[nltk_data]   Package stopwords is already up-to-date!\n",
      "[nltk_data] Downloading package punkt to\n",
      "[nltk_data]     C:\\Users\\willc\\AppData\\Roaming\\nltk_data...\n",
      "[nltk_data]   Package punkt is already up-to-date!\n",
      "[nltk_data] Downloading package wordnet to\n",
      "[nltk_data]     C:\\Users\\willc\\AppData\\Roaming\\nltk_data...\n",
      "[nltk_data]   Package wordnet is already up-to-date!\n"
     ]
    },
    {
     "data": {
      "text/plain": [
       "True"
      ]
     },
     "execution_count": 62,
     "metadata": {},
     "output_type": "execute_result"
    }
   ],
   "source": [
    "# download nltk stuff\n",
    "nltk.download('stopwords')\n",
    "nltk.download('punkt')\n",
    "nltk.download('wordnet')"
   ]
  },
  {
   "cell_type": "code",
   "execution_count": 90,
   "metadata": {},
   "outputs": [],
   "source": [
    "# Clean text\n",
    "import html2text\n",
    "\n",
    "def remove_punctuations(text):\n",
    "    return re.sub('\\[^]]*\\]', '', text)\n",
    "\n",
    "def remove_characters(text):\n",
    "    return re.sub('[^a-zA-Z]/g', ' ', text)\n",
    "\n",
    "def remove_url(text):\n",
    "    return re.sub(r'http\\S+', '', text)\n",
    "\n",
    "def remove_contractions(text):\n",
    "    return ' '.join([contractions.fix(word) for word in text.split()])\n",
    "\n",
    "stop_words = stopwords.words('english')\n",
    "def remove_stopwords(text):\n",
    "    return ' '.join([word for word in nltk.word_tokenize(text) if word not in stop_words])\n",
    "# str(text).split()\n",
    "\n",
    "#defining the object for Lemmatization\n",
    "lemmatizer = WordNetLemmatizer()\n",
    "#defining a function for lemming\n",
    "def lemmatize_words(text):\n",
    "    return ' '.join(lemmatizer.lemmatize(word) for word in text.split())\n",
    "\n",
    "#defining the object for stemming\n",
    "stemmer = PorterStemmer()\n",
    "#defining a function for stemming\n",
    "def stemming_words(text):\n",
    "    return ' '.join(stemmer.stem(word) for word in text.split())\n",
    "\n",
    "def convert_to_text(text):\n",
    "    h = html2text.HTML2Text()\n",
    "    return h.handle(text)\n",
    "\n",
    "def clean_text(text):\n",
    "    text = convert_to_text(text)\n",
    "    text = remove_url(text)\n",
    "    text = remove_contractions(text)\n",
    "    text = text.lower()\n",
    "    text = remove_punctuations(text)\n",
    "    text = remove_characters(text)\n",
    "    text = remove_stopwords(text)\n",
    "    text = stemming_words(text)\n",
    "    text = lemmatize_words(text)\n",
    "    return text\n",
    "\n",
    "def clean_text2(text):\n",
    "    text = remove_url(text)\n",
    "    #text = remove_punctuations(text)\n",
    "    text = remove_characters(text)\n",
    "\n",
    "    return text\n"
   ]
  },
  {
   "cell_type": "code",
   "execution_count": 91,
   "metadata": {},
   "outputs": [],
   "source": [
    "df2 = df.copy()\n",
    "df['text'] = df['text'].apply(clean_text)"
   ]
  },
  {
   "cell_type": "code",
   "execution_count": 93,
   "metadata": {},
   "outputs": [
    {
     "data": {
      "text/html": [
       "<div>\n",
       "<style scoped>\n",
       "    .dataframe tbody tr th:only-of-type {\n",
       "        vertical-align: middle;\n",
       "    }\n",
       "\n",
       "    .dataframe tbody tr th {\n",
       "        vertical-align: top;\n",
       "    }\n",
       "\n",
       "    .dataframe thead th {\n",
       "        text-align: right;\n",
       "    }\n",
       "</style>\n",
       "<table border=\"1\" class=\"dataframe\">\n",
       "  <thead>\n",
       "    <tr style=\"text-align: right;\">\n",
       "      <th></th>\n",
       "      <th>id</th>\n",
       "      <th>chinese_text</th>\n",
       "      <th>target</th>\n",
       "      <th>text</th>\n",
       "    </tr>\n",
       "  </thead>\n",
       "  <tbody>\n",
       "    <tr>\n",
       "      <th>0</th>\n",
       "      <td>10031080900</td>\n",
       "      <td>毛新宇 深情演唱新作《献给爷爷奶奶的歌》 http://t.cn/h1R0Rj</td>\n",
       "      <td>false</td>\n",
       "      <td>mao xinyu affection sing new work `` song gran...</td>\n",
       "    </tr>\n",
       "    <tr>\n",
       "      <th>1</th>\n",
       "      <td>10031994215</td>\n",
       "      <td>如果没有人相信你，那就自己相信自己；如果没人欣赏你，那就自己欣赏自己；如果没人祝福你，那就自...</td>\n",
       "      <td>false</td>\n",
       "      <td>one believ , believ ; one appreci , appreci ; ...</td>\n",
       "    </tr>\n",
       "    <tr>\n",
       "      <th>2</th>\n",
       "      <td>10276391917</td>\n",
       "      <td>看了新闻感慨：大运会火炬，怎么跟烤土豆片儿似的，中间还有彩椒和洋葱 ~</td>\n",
       "      <td>false</td>\n",
       "      <td>read news , sigh : universiad torch look like ...</td>\n",
       "    </tr>\n",
       "    <tr>\n",
       "      <th>3</th>\n",
       "      <td>10313557537</td>\n",
       "      <td>浮躁风气较盛的今天，并不是没有认真做事的人。但是，“认真”的利益选择性和目的导向性，使很多表...</td>\n",
       "      <td>false</td>\n",
       "      <td>today , impetu preval , mean peopl work seriou...</td>\n",
       "    </tr>\n",
       "    <tr>\n",
       "      <th>4</th>\n",
       "      <td>10402071863</td>\n",
       "      <td>[心] 女孩身上某个器官，爸爸碰两次，男朋友碰一次，老公一次都不能碰。大家猜猜是答案是什么~~</td>\n",
       "      <td>false</td>\n",
       "      <td>[ heart ] girl 's father touch certain organ b...</td>\n",
       "    </tr>\n",
       "  </tbody>\n",
       "</table>\n",
       "</div>"
      ],
      "text/plain": [
       "            id                                       chinese_text target  \\\n",
       "0  10031080900            毛新宇 深情演唱新作《献给爷爷奶奶的歌》 http://t.cn/h1R0Rj  false   \n",
       "1  10031994215  如果没有人相信你，那就自己相信自己；如果没人欣赏你，那就自己欣赏自己；如果没人祝福你，那就自...  false   \n",
       "2  10276391917                看了新闻感慨：大运会火炬，怎么跟烤土豆片儿似的，中间还有彩椒和洋葱 ~  false   \n",
       "3  10313557537  浮躁风气较盛的今天，并不是没有认真做事的人。但是，“认真”的利益选择性和目的导向性，使很多表...  false   \n",
       "4  10402071863    [心] 女孩身上某个器官，爸爸碰两次，男朋友碰一次，老公一次都不能碰。大家猜猜是答案是什么~~  false   \n",
       "\n",
       "                                                text  \n",
       "0  mao xinyu affection sing new work `` song gran...  \n",
       "1  one believ , believ ; one appreci , appreci ; ...  \n",
       "2  read news , sigh : universiad torch look like ...  \n",
       "3  today , impetu preval , mean peopl work seriou...  \n",
       "4  [ heart ] girl 's father touch certain organ b...  "
      ]
     },
     "execution_count": 93,
     "metadata": {},
     "output_type": "execute_result"
    }
   ],
   "source": [
    "df.head()\n",
    "#df.iloc[0].text"
   ]
  },
  {
   "cell_type": "code",
   "execution_count": 94,
   "metadata": {},
   "outputs": [],
   "source": [
    "# Export dataframe\n",
    "\n",
    "df.to_csv('..\\datasets\\weibo.csv')\n",
    "df2.to_csv('..\\datasets\\weibo2.csv')"
   ]
  },
  {
   "cell_type": "code",
   "execution_count": 71,
   "metadata": {},
   "outputs": [
    {
     "name": "stdout",
     "output_type": "stream",
     "text": [
      "Mao Xinyu affectionately sings the new work \"Songs for Grandparents\"\n",
      "\n",
      "\n"
     ]
    }
   ],
   "source": [
    "import html2text\n",
    "\n",
    "h = html2text.HTML2Text()\n",
    "\n",
    "print(h.handle(\"Mao Xinyu affectionately sings the new work &quot;Songs for Grandparents&quot; \"))"
   ]
  }
 ],
 "metadata": {
  "kernelspec": {
   "display_name": "rumour-ensemble",
   "language": "python",
   "name": "python3"
  },
  "language_info": {
   "codemirror_mode": {
    "name": "ipython",
    "version": 3
   },
   "file_extension": ".py",
   "mimetype": "text/x-python",
   "name": "python",
   "nbconvert_exporter": "python",
   "pygments_lexer": "ipython3",
   "version": "3.10.12"
  },
  "orig_nbformat": 4
 },
 "nbformat": 4,
 "nbformat_minor": 2
}
