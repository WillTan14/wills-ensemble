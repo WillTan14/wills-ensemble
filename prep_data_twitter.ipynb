{
 "cells": [
  {
   "attachments": {},
   "cell_type": "markdown",
   "metadata": {},
   "source": [
    "# Prep Data"
   ]
  },
  {
   "cell_type": "code",
   "execution_count": 82,
   "metadata": {},
   "outputs": [],
   "source": [
    "import numpy as np \n",
    "import pandas as pd \n",
    "import os\n",
    "import json\n",
    "import nltk # NLP  \n",
    "from nltk.corpus import stopwords  \n",
    "from nltk.stem import WordNetLemmatizer \n",
    "from nltk.stem import PorterStemmer \n",
    "import re  \n",
    "import contractions"
   ]
  },
  {
   "cell_type": "code",
   "execution_count": 83,
   "metadata": {},
   "outputs": [
    {
     "name": "stdout",
     "output_type": "stream",
     "text": [
      "[WinError 2] The system cannot find the file specified: 'datasets'\n",
      "c:\\Users\\willc\\Documents\\wills ensemble\\datasets\n"
     ]
    }
   ],
   "source": [
    "%cd datasets"
   ]
  },
  {
   "cell_type": "code",
   "execution_count": 84,
   "metadata": {},
   "outputs": [],
   "source": [
    "with open('twitter.txt', 'r') as f:\n",
    "    #lines = f.readlines()[:1491] #T15\n",
    "    \n",
    "    #lines = f.readlines()[1491:] #T16\n",
    "    lines = f.readlines()"
   ]
  },
  {
   "cell_type": "code",
   "execution_count": 85,
   "metadata": {},
   "outputs": [],
   "source": [
    "twitter_df = pd.DataFrame(columns=[\"text\", \"target\"])\n",
    "for line in lines:\n",
    "    sections = line.split('\\t')\n",
    "    verdict = sections[2][:-1]\n",
    "    if verdict == \"false\" or verdict == \"unverified\":\n",
    "        verdict = \"true\"\n",
    "    if verdict == \"non-rumor\":\n",
    "        verdict = \"false\"\n",
    "    data = [sections[1], verdict]\n",
    "    twitter_df.loc[len(twitter_df)] = data"
   ]
  },
  {
   "cell_type": "code",
   "execution_count": 86,
   "metadata": {},
   "outputs": [
    {
     "name": "stderr",
     "output_type": "stream",
     "text": [
      "[nltk_data] Downloading package stopwords to\n",
      "[nltk_data]     C:\\Users\\willc\\AppData\\Roaming\\nltk_data...\n",
      "[nltk_data]   Package stopwords is already up-to-date!\n",
      "[nltk_data] Downloading package punkt to\n",
      "[nltk_data]     C:\\Users\\willc\\AppData\\Roaming\\nltk_data...\n",
      "[nltk_data]   Package punkt is already up-to-date!\n",
      "[nltk_data] Downloading package wordnet to\n",
      "[nltk_data]     C:\\Users\\willc\\AppData\\Roaming\\nltk_data...\n",
      "[nltk_data]   Package wordnet is already up-to-date!\n"
     ]
    },
    {
     "data": {
      "text/plain": [
       "True"
      ]
     },
     "execution_count": 86,
     "metadata": {},
     "output_type": "execute_result"
    }
   ],
   "source": [
    "# download nltk stuff\n",
    "nltk.download('stopwords')\n",
    "nltk.download('punkt')\n",
    "nltk.download('wordnet')"
   ]
  },
  {
   "cell_type": "code",
   "execution_count": 87,
   "metadata": {},
   "outputs": [],
   "source": [
    "# Clean text\n",
    "\n",
    "def remove_punctuations(text):\n",
    "    return re.sub('\\[[^]]*\\]', '', text)\n",
    "\n",
    "def remove_characters(text):\n",
    "    return re.sub('[^a-zA-Z]', ' ', text)\n",
    "\n",
    "def remove_url(text):\n",
    "    return re.sub('URL', '', text)\n",
    "\n",
    "def remove_tags(text):\n",
    "    return ' '.join([word for word in text.split() if word[0] != \"@\"])\n",
    "\n",
    "def remove_contractions(text):\n",
    "    return ' '.join([contractions.fix(word) for word in text.split()])\n",
    "\n",
    "stop_words = stopwords.words('english')\n",
    "def remove_stopwords(text):\n",
    "    return ' '.join([word for word in nltk.word_tokenize(text) if word not in stop_words])\n",
    "# str(text).split()\n",
    "\n",
    "#defining the object for Lemmatization\n",
    "lemmatizer = WordNetLemmatizer()\n",
    "#defining a function for lemming\n",
    "def lemmatize_words(text):\n",
    "    return ' '.join(lemmatizer.lemmatize(word) for word in text.split())\n",
    "\n",
    "#defining the object for stemming\n",
    "stemmer = PorterStemmer()\n",
    "#defining a function for stemming\n",
    "def stemming_words(text):\n",
    "    return ' '.join(stemmer.stem(word) for word in text.split())\n",
    "\n",
    "def clean_text(text):\n",
    "    text = remove_url(text)\n",
    "    text = remove_contractions(text)\n",
    "    text = remove_tags(text)\n",
    "    text = text.lower()\n",
    "    text = remove_punctuations(text)\n",
    "    text = remove_characters(text)\n",
    "    text = remove_stopwords(text)\n",
    "    text = stemming_words(text)\n",
    "    text = lemmatize_words(text)\n",
    "    return text\n",
    "    \n",
    "def clean_text2(text):\n",
    "    text = remove_url(text)\n",
    "    text = remove_tags(text)\n",
    "    #text = remove_contractions(text)\n",
    "    #text = text.lower()\n",
    "    #text = remove_punctuations(text)\n",
    "    return text\n"
   ]
  },
  {
   "cell_type": "code",
   "execution_count": 88,
   "metadata": {},
   "outputs": [],
   "source": [
    "# apply\n",
    "twitter_df2 = twitter_df.copy()\n",
    "twitter_df['text'] = twitter_df['text'].apply(clean_text)\n",
    "twitter_df2['text'] = twitter_df2['text'].apply(clean_text2)"
   ]
  },
  {
   "cell_type": "code",
   "execution_count": 89,
   "metadata": {},
   "outputs": [
    {
     "name": "stdout",
     "output_type": "stream",
     "text": [
      "(2308, 2)\n"
     ]
    }
   ],
   "source": [
    "print(twitter_df.shape)\n",
    "twitter_df.to_csv(\"twitter16.csv\")\n",
    "#twitter_df2.to_csv(\"twitter2.csv\")"
   ]
  }
 ],
 "metadata": {
  "kernelspec": {
   "display_name": "rumour-ensemble",
   "language": "python",
   "name": "python3"
  },
  "language_info": {
   "codemirror_mode": {
    "name": "ipython",
    "version": 3
   },
   "file_extension": ".py",
   "mimetype": "text/x-python",
   "name": "python",
   "nbconvert_exporter": "python",
   "pygments_lexer": "ipython3",
   "version": "3.10.12"
  },
  "orig_nbformat": 4
 },
 "nbformat": 4,
 "nbformat_minor": 2
}
