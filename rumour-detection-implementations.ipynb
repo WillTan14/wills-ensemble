{
 "cells": [
  {
   "attachments": {},
   "cell_type": "markdown",
   "metadata": {},
   "source": [
    "# Run ML algorithms"
   ]
  },
  {
   "cell_type": "code",
   "execution_count": 2,
   "metadata": {},
   "outputs": [],
   "source": [
    "# Import Stuff\n",
    "import pandas as pd\n",
    "import numpy as np\n",
    "import matplotlib.pyplot as plt\n",
    "from sklearn.feature_extraction.text import TfidfVectorizer, HashingVectorizer, CountVectorizer\n",
    "from sklearn.svm import SVC\n",
    "from sklearn.model_selection import GridSearchCV\n",
    "from sklearn.neighbors import KNeighborsClassifier\n",
    "from sklearn.linear_model import LogisticRegression\n",
    "from sklearn.ensemble import AdaBoostClassifier\n",
    "from sklearn.model_selection import train_test_split\n",
    "from sklearn.metrics import accuracy_score, confusion_matrix, f1_score, ConfusionMatrixDisplay\n",
    "\n",
    "from hpsklearn import HyperoptEstimator\n",
    "\n"
   ]
  },
  {
   "cell_type": "code",
   "execution_count": 3,
   "metadata": {},
   "outputs": [],
   "source": [
    "pheme = pd.read_csv('datasets\\pheme.csv')\n",
    "politifact = pd.read_csv('datasets\\politifact.csv')\n",
    "twitter = pd.read_csv('datasets\\\\twitter.csv')"
   ]
  },
  {
   "cell_type": "code",
   "execution_count": 4,
   "metadata": {},
   "outputs": [
    {
     "data": {
      "text/html": [
       "<div>\n",
       "<style scoped>\n",
       "    .dataframe tbody tr th:only-of-type {\n",
       "        vertical-align: middle;\n",
       "    }\n",
       "\n",
       "    .dataframe tbody tr th {\n",
       "        vertical-align: top;\n",
       "    }\n",
       "\n",
       "    .dataframe thead th {\n",
       "        text-align: right;\n",
       "    }\n",
       "</style>\n",
       "<table border=\"1\" class=\"dataframe\">\n",
       "  <thead>\n",
       "    <tr style=\"text-align: right;\">\n",
       "      <th></th>\n",
       "      <th>Unnamed: 0</th>\n",
       "      <th>verdict</th>\n",
       "      <th>statement_originator</th>\n",
       "      <th>statement</th>\n",
       "      <th>statement_date</th>\n",
       "      <th>statement_source</th>\n",
       "      <th>factchecker</th>\n",
       "      <th>factcheck_date</th>\n",
       "      <th>factcheck_analysis_link</th>\n",
       "    </tr>\n",
       "  </thead>\n",
       "  <tbody>\n",
       "    <tr>\n",
       "      <th>0</th>\n",
       "      <td>0</td>\n",
       "      <td>True</td>\n",
       "      <td>Barack Obama</td>\n",
       "      <td>john mccain opposed bankruptcy protections for...</td>\n",
       "      <td>6/11/2008</td>\n",
       "      <td>speech</td>\n",
       "      <td>Adriel Bettelheim</td>\n",
       "      <td>6/16/2008</td>\n",
       "      <td>https://www.politifact.com/factchecks/2008/jun...</td>\n",
       "    </tr>\n",
       "    <tr>\n",
       "      <th>1</th>\n",
       "      <td>1</td>\n",
       "      <td>False</td>\n",
       "      <td>Matt Gaetz</td>\n",
       "      <td>bennie thompson actively cheer led riots in t...</td>\n",
       "      <td>6/7/2022</td>\n",
       "      <td>television</td>\n",
       "      <td>Yacob Reyes</td>\n",
       "      <td>6/13/2022</td>\n",
       "      <td>https://www.politifact.com/factchecks/2022/jun...</td>\n",
       "    </tr>\n",
       "    <tr>\n",
       "      <th>2</th>\n",
       "      <td>2</td>\n",
       "      <td>True</td>\n",
       "      <td>Kelly Ayotte</td>\n",
       "      <td>says maggie hassan was  out of state on    day...</td>\n",
       "      <td>5/18/2016</td>\n",
       "      <td>news</td>\n",
       "      <td>Clay Wirestone</td>\n",
       "      <td>5/27/2016</td>\n",
       "      <td>https://www.politifact.com/factchecks/2016/may...</td>\n",
       "    </tr>\n",
       "    <tr>\n",
       "      <th>3</th>\n",
       "      <td>3</td>\n",
       "      <td>False</td>\n",
       "      <td>Bloggers</td>\n",
       "      <td>busted  cdc inflated covid numbers  accused o...</td>\n",
       "      <td>2/1/2021</td>\n",
       "      <td>blog</td>\n",
       "      <td>Madison Czopek</td>\n",
       "      <td>2/5/2021</td>\n",
       "      <td>https://www.politifact.com/factchecks/2021/feb...</td>\n",
       "    </tr>\n",
       "    <tr>\n",
       "      <th>4</th>\n",
       "      <td>4</td>\n",
       "      <td>True</td>\n",
       "      <td>Bobby Jindal</td>\n",
       "      <td>i am the only  republican  candidate that has...</td>\n",
       "      <td>8/30/2015</td>\n",
       "      <td>television</td>\n",
       "      <td>Linda Qiu</td>\n",
       "      <td>8/30/2015</td>\n",
       "      <td>https://www.politifact.com/factchecks/2015/aug...</td>\n",
       "    </tr>\n",
       "  </tbody>\n",
       "</table>\n",
       "</div>"
      ],
      "text/plain": [
       "   Unnamed: 0  verdict statement_originator  \\\n",
       "0           0     True         Barack Obama   \n",
       "1           1    False           Matt Gaetz   \n",
       "2           2     True         Kelly Ayotte   \n",
       "3           3    False             Bloggers   \n",
       "4           4     True         Bobby Jindal   \n",
       "\n",
       "                                           statement statement_date  \\\n",
       "0  john mccain opposed bankruptcy protections for...      6/11/2008   \n",
       "1   bennie thompson actively cheer led riots in t...       6/7/2022   \n",
       "2  says maggie hassan was  out of state on    day...      5/18/2016   \n",
       "3   busted  cdc inflated covid numbers  accused o...       2/1/2021   \n",
       "4   i am the only  republican  candidate that has...      8/30/2015   \n",
       "\n",
       "  statement_source        factchecker factcheck_date  \\\n",
       "0           speech  Adriel Bettelheim      6/16/2008   \n",
       "1       television        Yacob Reyes      6/13/2022   \n",
       "2             news     Clay Wirestone      5/27/2016   \n",
       "3             blog     Madison Czopek       2/5/2021   \n",
       "4       television          Linda Qiu      8/30/2015   \n",
       "\n",
       "                             factcheck_analysis_link  \n",
       "0  https://www.politifact.com/factchecks/2008/jun...  \n",
       "1  https://www.politifact.com/factchecks/2022/jun...  \n",
       "2  https://www.politifact.com/factchecks/2016/may...  \n",
       "3  https://www.politifact.com/factchecks/2021/feb...  \n",
       "4  https://www.politifact.com/factchecks/2015/aug...  "
      ]
     },
     "execution_count": 4,
     "metadata": {},
     "output_type": "execute_result"
    }
   ],
   "source": [
    "politifact.head()"
   ]
  },
  {
   "cell_type": "code",
   "execution_count": 5,
   "metadata": {},
   "outputs": [],
   "source": [
    "\n",
    "def encode_two_datasets(set1, set2):\n",
    "    tfidf = TfidfVectorizer(max_df=0.6, min_df=0)\n",
    "    all_statements = np.append(set1, set2)\n",
    "    all_tf = tfidf.fit_transform(all_statements)\n",
    "    return all_tf[:len(set1)], all_tf[len(set1):]"
   ]
  },
  {
   "cell_type": "code",
   "execution_count": 6,
   "metadata": {},
   "outputs": [
    {
     "name": "stdout",
     "output_type": "stream",
     "text": [
      "(1296, 4188)\n"
     ]
    }
   ],
   "source": [
    "rs = 42\n",
    "method = 2\n",
    "tfidf = TfidfVectorizer(max_df=0.6, min_df=0)\n",
    "\n",
    "if method == 0:\n",
    "    pheme_tf = tfidf.fit_transform(pheme['text'].values)\n",
    "    X_train, X_test, y_train, y_test = train_test_split(pheme_tf, pheme['target'], test_size = 0.25, random_state = rs)\n",
    "elif method == 1:\n",
    "    polit_tf = tfidf.fit_transform(politifact['statement'].values)\n",
    "    X_train, X_test, y_train, y_test = train_test_split(polit_tf, politifact['verdict'], test_size = 0.25, random_state = rs)\n",
    "elif method == 2:\n",
    "    twitter_tf = tfidf.fit_transform(twitter['text'].values)\n",
    "    X_train, X_test, y_train, y_test = train_test_split(twitter_tf, twitter['verdict'], test_size = 0.25, random_state = rs)\n",
    "elif method == 3:\n",
    "    X_train, X_test = encode_two_datasets(twitter['text'].values, pheme['text'].values)\n",
    "    y_test = pheme['target']\n",
    "    y_train = twitter['verdict']\n",
    "else:\n",
    "    X_train, X_test = encode_two_datasets(politifact['statement'].values, pheme['text'].values)\n",
    "    y_train = politifact['verdict']\n",
    "    y_test = pheme['target']\n",
    "    \n",
    "\n",
    "# Set no. of folds\n",
    "num_folds = 10\n",
    "\n",
    "###Things to do: add more features\n",
    "print(X_train.shape)"
   ]
  },
  {
   "cell_type": "code",
   "execution_count": 6,
   "metadata": {},
   "outputs": [],
   "source": [
    "# Model running function\n",
    "def run_model_after_gridsearch(best_estimators, X_train, y_train, X_test, y_test):\n",
    "    mod = best_estimators\n",
    "    mod.fit(X_train, y_train)\n",
    "    pred_y = mod.predict(X_test)\n",
    "    acc_mod = accuracy_score(y_test, pred_y)\n",
    "    print(\"Accuracy:\", float(\"{0:.2f}\".format(acc_mod*100)), \"%\")\n",
    "    f1_mod = f1_score(y_test, pred_y, average=\"macro\")\n",
    "    print(\"F1:\", float(\"{0:.2f}\".format(f1_mod*100)), \"%\")\n",
    "    cm = confusion_matrix(y_test, pred_y)\n",
    "    disp = ConfusionMatrixDisplay(confusion_matrix=cm, display_labels=[\"true\", \"false\"])\n",
    "    disp.plot()\n",
    "    plt.show()  "
   ]
  },
  {
   "cell_type": "code",
   "execution_count": 7,
   "metadata": {},
   "outputs": [],
   "source": [
    "def run_model_manually(model, X_test, y_test):\n",
    "    pred_y = model.predict(X_test)\n",
    "    acc_mod = accuracy_score(y_test, pred_y)\n",
    "    print(\"Accuracy:\", float(\"{0:.2f}\".format(acc_mod*100)), \"%\")\n",
    "    f1_mod = f1_score(y_test, pred_y, average=\"macro\")\n",
    "    print(\"F1:\", float(\"{0:.2f}\".format(f1_mod*100)), \"%\")\n",
    "    cm = confusion_matrix(y_test, pred_y)\n",
    "    disp = ConfusionMatrixDisplay(confusion_matrix=cm, display_labels=[\"true\", \"false\"])\n",
    "    disp.plot()\n",
    "    plt.show() "
   ]
  },
  {
   "cell_type": "code",
   "execution_count": 7,
   "metadata": {},
   "outputs": [],
   "source": [
    "def optimize_model(model, X_train, y_train):\n",
    "    mod = HyperoptEstimator(classifier=model,\n",
    "                            preprocessing=[],\n",
    "                            max_evals=50)\n",
    "    mod.fit(X_train, y_train)\n",
    "    print(mod.best_model())\n",
    "    return mod\n",
    "\n",
    "def evaluate_model(model, X_test, y_test):\n",
    "    pred_y = model.predict(X_test)\n",
    "    acc_mod = accuracy_score(y_test, pred_y)\n",
    "    print(\"Accuracy:\", float(\"{0:.2f}\".format(acc_mod*100)), \"%\")\n",
    "    f1_mod = f1_score(y_test, pred_y, average=\"macro\")\n",
    "    print(\"F1:\", float(\"{0:.2f}\".format(f1_mod*100)), \"%\")\n",
    "    cm = confusion_matrix(y_test, pred_y)\n",
    "    disp = ConfusionMatrixDisplay(confusion_matrix=cm, display_labels=[\"true\", \"false\"])\n",
    "    disp.plot()\n",
    "    plt.show() \n",
    "    "
   ]
  },
  {
   "cell_type": "code",
   "execution_count": 9,
   "metadata": {},
   "outputs": [
    {
     "name": "stdout",
     "output_type": "stream",
     "text": [
      "100%|██████████| 1/1 [00:01<00:00,  1.81s/trial, best loss: 0.3076923076923077]\n",
      "100%|██████████| 2/2 [00:01<00:00,  1.77s/trial, best loss: 0.3076923076923077]\n",
      "100%|██████████| 3/3 [00:01<00:00,  1.75s/trial, best loss: 0.11153846153846159]\n",
      "100%|██████████| 4/4 [00:01<00:00,  1.71s/trial, best loss: 0.11153846153846159]\n",
      "100%|██████████| 5/5 [00:01<00:00,  1.69s/trial, best loss: 0.11153846153846159]\n",
      "100%|██████████| 6/6 [00:01<00:00,  1.69s/trial, best loss: 0.11153846153846159]\n",
      "100%|██████████| 7/7 [00:01<00:00,  1.70s/trial, best loss: 0.11153846153846159]\n",
      "100%|██████████| 8/8 [00:01<00:00,  1.67s/trial, best loss: 0.09615384615384615]\n",
      "100%|██████████| 9/9 [00:01<00:00,  1.66s/trial, best loss: 0.09615384615384615]\n",
      "100%|██████████| 10/10 [00:01<00:00,  1.75s/trial, best loss: 0.09615384615384615]\n",
      "100%|██████████| 11/11 [00:01<00:00,  1.65s/trial, best loss: 0.09615384615384615]\n",
      "100%|██████████| 12/12 [00:01<00:00,  1.67s/trial, best loss: 0.09230769230769231]\n",
      "100%|██████████| 13/13 [00:01<00:00,  1.72s/trial, best loss: 0.09230769230769231]\n",
      "100%|██████████| 14/14 [00:01<00:00,  1.67s/trial, best loss: 0.09230769230769231]\n",
      "100%|██████████| 15/15 [00:01<00:00,  1.71s/trial, best loss: 0.09230769230769231]\n",
      "100%|██████████| 16/16 [00:01<00:00,  1.67s/trial, best loss: 0.09230769230769231]\n",
      "100%|██████████| 17/17 [00:01<00:00,  1.69s/trial, best loss: 0.08076923076923082]\n",
      "100%|██████████| 18/18 [00:01<00:00,  1.68s/trial, best loss: 0.08076923076923082]\n",
      "100%|██████████| 19/19 [00:01<00:00,  1.71s/trial, best loss: 0.08076923076923082]\n",
      "100%|██████████| 20/20 [00:01<00:00,  1.73s/trial, best loss: 0.08076923076923082]\n",
      "100%|██████████| 21/21 [00:01<00:00,  1.72s/trial, best loss: 0.08076923076923082]\n",
      "100%|██████████| 22/22 [00:01<00:00,  1.69s/trial, best loss: 0.08076923076923082]\n",
      "100%|██████████| 23/23 [00:01<00:00,  1.67s/trial, best loss: 0.08076923076923082]\n",
      "100%|██████████| 24/24 [00:01<00:00,  1.69s/trial, best loss: 0.08076923076923082]\n",
      "100%|██████████| 25/25 [00:01<00:00,  1.71s/trial, best loss: 0.08076923076923082]\n",
      "100%|██████████| 26/26 [00:01<00:00,  1.71s/trial, best loss: 0.08076923076923082]\n",
      "100%|██████████| 27/27 [00:01<00:00,  1.70s/trial, best loss: 0.08076923076923082]\n",
      "100%|██████████| 28/28 [00:01<00:00,  1.68s/trial, best loss: 0.08076923076923082]\n",
      "100%|██████████| 29/29 [00:01<00:00,  1.67s/trial, best loss: 0.08076923076923082]\n",
      "100%|██████████| 30/30 [00:01<00:00,  1.68s/trial, best loss: 0.08076923076923082]\n",
      "100%|██████████| 31/31 [00:01<00:00,  1.70s/trial, best loss: 0.08076923076923082]\n",
      "100%|██████████| 32/32 [00:01<00:00,  1.68s/trial, best loss: 0.08076923076923082]\n",
      "100%|██████████| 33/33 [00:01<00:00,  1.67s/trial, best loss: 0.08076923076923082]\n",
      "100%|██████████| 34/34 [00:01<00:00,  1.72s/trial, best loss: 0.08076923076923082]\n",
      "100%|██████████| 35/35 [00:01<00:00,  1.68s/trial, best loss: 0.08076923076923082]\n",
      "100%|██████████| 36/36 [00:01<00:00,  1.71s/trial, best loss: 0.08076923076923082]\n",
      "100%|██████████| 37/37 [00:01<00:00,  1.73s/trial, best loss: 0.08076923076923082]\n",
      "100%|██████████| 38/38 [00:01<00:00,  1.71s/trial, best loss: 0.08076923076923082]\n",
      "100%|██████████| 39/39 [00:01<00:00,  1.66s/trial, best loss: 0.08076923076923082]\n",
      "100%|██████████| 40/40 [00:01<00:00,  1.71s/trial, best loss: 0.08076923076923082]\n",
      "100%|██████████| 41/41 [00:01<00:00,  1.69s/trial, best loss: 0.08076923076923082]\n",
      "100%|██████████| 42/42 [00:01<00:00,  1.66s/trial, best loss: 0.08076923076923082]\n",
      "100%|██████████| 43/43 [00:01<00:00,  1.68s/trial, best loss: 0.08076923076923082]\n",
      "100%|██████████| 44/44 [00:01<00:00,  1.67s/trial, best loss: 0.08076923076923082]\n",
      "100%|██████████| 45/45 [00:01<00:00,  1.68s/trial, best loss: 0.08076923076923082]\n",
      "100%|██████████| 46/46 [00:01<00:00,  1.69s/trial, best loss: 0.08076923076923082]\n",
      "100%|██████████| 47/47 [00:01<00:00,  1.67s/trial, best loss: 0.08076923076923082]\n",
      "100%|██████████| 48/48 [00:01<00:00,  1.76s/trial, best loss: 0.08076923076923082]\n",
      "100%|██████████| 49/49 [00:01<00:00,  1.71s/trial, best loss: 0.08076923076923082]\n",
      "100%|██████████| 50/50 [00:01<00:00,  1.67s/trial, best loss: 0.08076923076923082]\n",
      "{'learner': SVC(C=0.8693262555700446, coef0=0.3417345329511543, degree=2, kernel='poly',\n",
      "    random_state=1, shrinking=False, tol=1.2978348990978914e-05), 'preprocs': (), 'ex_preprocs': ()}\n"
     ]
    }
   ],
   "source": [
    "# SVM\n",
    "from hpsklearn import svc \n",
    "svm = optimize_model(svc(\"mySVC\"), X_train, y_train)"
   ]
  },
  {
   "cell_type": "code",
   "execution_count": 10,
   "metadata": {},
   "outputs": [
    {
     "name": "stdout",
     "output_type": "stream",
     "text": [
      "Accuracy: 87.76 %\n",
      "F1: 86.14 %\n"
     ]
    },
    {
     "data": {
      "image/png": "[encoded data removed]",
      "text/plain": [
       "<Figure size 640x480 with 2 Axes>"
      ]
     },
     "metadata": {},
     "output_type": "display_data"
    }
   ],
   "source": [
    "evaluate_model(svm, X_test, y_test)"
   ]
  },
  {
   "cell_type": "code",
   "execution_count": 11,
   "metadata": {},
   "outputs": [
    {
     "name": "stdout",
     "output_type": "stream",
     "text": [
      "100%|██████████| 1/1 [00:01<00:00,  1.67s/trial, best loss: 0.15384615384615385]\n",
      "100%|██████████| 2/2 [00:01<00:00,  1.67s/trial, best loss: 0.15384615384615385]\n",
      "100%|██████████| 3/3 [00:01<00:00,  1.67s/trial, best loss: 0.1384615384615384]\n",
      "100%|██████████| 4/4 [00:01<00:00,  1.69s/trial, best loss: 0.08076923076923082]\n",
      "100%|██████████| 5/5 [00:01<00:00,  1.70s/trial, best loss: 0.08076923076923082]\n",
      "100%|██████████| 6/6 [00:01<00:00,  1.68s/trial, best loss: 0.08076923076923082]\n",
      "100%|██████████| 7/7 [00:01<00:00,  1.62s/trial, best loss: 0.08076923076923082]\n",
      "100%|██████████| 8/8 [00:01<00:00,  1.61s/trial, best loss: 0.08076923076923082]\n",
      "100%|██████████| 9/9 [00:01<00:00,  1.61s/trial, best loss: 0.08076923076923082]\n",
      "100%|██████████| 10/10 [00:01<00:00,  1.62s/trial, best loss: 0.08076923076923082]\n",
      "100%|██████████| 11/11 [00:01<00:00,  1.65s/trial, best loss: 0.08076923076923082]\n",
      "100%|██████████| 12/12 [00:01<00:00,  1.63s/trial, best loss: 0.08076923076923082]\n",
      "100%|██████████| 13/13 [00:01<00:00,  1.61s/trial, best loss: 0.08076923076923082]\n",
      "100%|██████████| 14/14 [00:01<00:00,  1.62s/trial, best loss: 0.08076923076923082]\n",
      "100%|██████████| 15/15 [00:01<00:00,  1.63s/trial, best loss: 0.08076923076923082]\n",
      "100%|██████████| 16/16 [00:01<00:00,  1.61s/trial, best loss: 0.08076923076923082]\n",
      "100%|██████████| 17/17 [00:01<00:00,  1.62s/trial, best loss: 0.08076923076923082]\n",
      "100%|██████████| 18/18 [00:01<00:00,  1.62s/trial, best loss: 0.08076923076923082]\n",
      "100%|██████████| 19/19 [00:01<00:00,  1.65s/trial, best loss: 0.08076923076923082]\n",
      "100%|██████████| 20/20 [00:01<00:00,  1.63s/trial, best loss: 0.08076923076923082]\n",
      "100%|██████████| 21/21 [00:01<00:00,  1.62s/trial, best loss: 0.08076923076923082]\n",
      "100%|██████████| 22/22 [00:01<00:00,  1.65s/trial, best loss: 0.08076923076923082]\n",
      "100%|██████████| 23/23 [00:01<00:00,  1.64s/trial, best loss: 0.08076923076923082]\n",
      "100%|██████████| 24/24 [00:01<00:00,  1.65s/trial, best loss: 0.08076923076923082]\n",
      "100%|██████████| 25/25 [00:01<00:00,  1.61s/trial, best loss: 0.08076923076923082]\n",
      "100%|██████████| 26/26 [00:01<00:00,  1.62s/trial, best loss: 0.08076923076923082]\n",
      "100%|██████████| 27/27 [00:01<00:00,  1.64s/trial, best loss: 0.08076923076923082]\n",
      "100%|██████████| 28/28 [00:01<00:00,  1.61s/trial, best loss: 0.08076923076923082]\n",
      "100%|██████████| 29/29 [00:01<00:00,  1.62s/trial, best loss: 0.08076923076923082]\n",
      "100%|██████████| 30/30 [00:01<00:00,  1.66s/trial, best loss: 0.08076923076923082]\n",
      "100%|██████████| 31/31 [00:01<00:00,  1.66s/trial, best loss: 0.08076923076923082]\n",
      "100%|██████████| 32/32 [00:01<00:00,  1.62s/trial, best loss: 0.08076923076923082]\n",
      "100%|██████████| 33/33 [00:01<00:00,  1.62s/trial, best loss: 0.08076923076923082]\n",
      "100%|██████████| 34/34 [00:01<00:00,  1.62s/trial, best loss: 0.08076923076923082]\n",
      "100%|██████████| 35/35 [00:01<00:00,  1.62s/trial, best loss: 0.08076923076923082]\n",
      "100%|██████████| 36/36 [00:01<00:00,  1.62s/trial, best loss: 0.08076923076923082]\n",
      "100%|██████████| 37/37 [00:01<00:00,  1.61s/trial, best loss: 0.08076923076923082]\n",
      "100%|██████████| 38/38 [00:01<00:00,  1.62s/trial, best loss: 0.08076923076923082]\n",
      "100%|██████████| 39/39 [00:01<00:00,  1.62s/trial, best loss: 0.08076923076923082]\n",
      "100%|██████████| 40/40 [00:01<00:00,  1.62s/trial, best loss: 0.08076923076923082]\n",
      "100%|██████████| 41/41 [00:01<00:00,  1.62s/trial, best loss: 0.08076923076923082]\n",
      "100%|██████████| 42/42 [00:01<00:00,  1.64s/trial, best loss: 0.08076923076923082]\n",
      "100%|██████████| 43/43 [00:01<00:00,  1.63s/trial, best loss: 0.08076923076923082]\n",
      "100%|██████████| 44/44 [00:01<00:00,  1.60s/trial, best loss: 0.08076923076923082]\n",
      "100%|██████████| 45/45 [00:01<00:00,  1.62s/trial, best loss: 0.08076923076923082]\n",
      "100%|██████████| 46/46 [00:01<00:00,  1.65s/trial, best loss: 0.08076923076923082]\n",
      "100%|██████████| 47/47 [00:01<00:00,  1.67s/trial, best loss: 0.08076923076923082]\n",
      "100%|██████████| 48/48 [00:01<00:00,  1.70s/trial, best loss: 0.08076923076923082]\n",
      "100%|██████████| 49/49 [00:01<00:00,  1.64s/trial, best loss: 0.08076923076923082]\n",
      "100%|██████████| 50/50 [00:01<00:00,  1.63s/trial, best loss: 0.08076923076923082]\n",
      "{'learner': KNeighborsClassifier(leaf_size=23, metric='euclidean', n_jobs=1, n_neighbors=1,\n",
      "                     p=3.831646477406903), 'preprocs': (), 'ex_preprocs': ()}\n"
     ]
    }
   ],
   "source": [
    "# KNN\n",
    "from hpsklearn import k_neighbors_classifier\n",
    "from hyperopt import hp\n",
    "knn_metrics = hp.choice(\"metric\", {'cityblock', 'l1', 'l2', 'euclidean', 'manhattan'})\n",
    "knn= optimize_model(k_neighbors_classifier(\"myKNN\", metric=knn_metrics), X_train, y_train)"
   ]
  },
  {
   "cell_type": "code",
   "execution_count": 12,
   "metadata": {},
   "outputs": [
    {
     "name": "stdout",
     "output_type": "stream",
     "text": [
      "Accuracy: 89.84 %\n",
      "F1: 89.04 %\n"
     ]
    },
    {
     "data": {
      "image/png": "[encoded data removed]",
      "text/plain": [
       "<Figure size 640x480 with 2 Axes>"
      ]
     },
     "metadata": {},
     "output_type": "display_data"
    }
   ],
   "source": [
    "evaluate_model(knn, X_test, y_test)"
   ]
  },
  {
   "cell_type": "code",
   "execution_count": 14,
   "metadata": {},
   "outputs": [
    {
     "name": "stdout",
     "output_type": "stream",
     "text": [
      "100%|██████████| 1/1 [00:02<00:00,  2.33s/trial, best loss: 0.2730769230769231]\n",
      "100%|██████████| 2/2 [00:01<00:00,  1.70s/trial, best loss: 0.16153846153846152]\n",
      "100%|██████████| 3/3 [00:01<00:00,  1.81s/trial, best loss: 0.16153846153846152]\n",
      "100%|██████████| 4/4 [00:01<00:00,  1.78s/trial, best loss: 0.15384615384615385]\n",
      "100%|██████████| 5/5 [00:01<00:00,  1.74s/trial, best loss: 0.15384615384615385]\n",
      "100%|██████████| 6/6 [00:01<00:00,  1.74s/trial, best loss: 0.15384615384615385]\n",
      "100%|██████████| 7/7 [00:01<00:00,  1.68s/trial, best loss: 0.15384615384615385]\n",
      "100%|██████████| 8/8 [00:01<00:00,  1.67s/trial, best loss: 0.15384615384615385]\n",
      "100%|██████████| 9/9 [00:01<00:00,  1.67s/trial, best loss: 0.1461538461538462]\n",
      "100%|██████████| 10/10 [00:01<00:00,  1.69s/trial, best loss: 0.1461538461538462]\n",
      "100%|██████████| 11/11 [00:01<00:00,  1.65s/trial, best loss: 0.1461538461538462]\n",
      "100%|██████████| 12/12 [00:01<00:00,  1.64s/trial, best loss: 0.1384615384615384]\n",
      "100%|██████████| 13/13 [00:01<00:00,  1.78s/trial, best loss: 0.1384615384615384]\n",
      "100%|██████████| 14/14 [00:01<00:00,  1.60s/trial, best loss: 0.1384615384615384]\n",
      "100%|██████████| 15/15 [00:01<00:00,  1.75s/trial, best loss: 0.1384615384615384]\n",
      "100%|██████████| 16/16 [00:01<00:00,  1.82s/trial, best loss: 0.1384615384615384]\n",
      "100%|██████████| 17/17 [00:01<00:00,  1.67s/trial, best loss: 0.1384615384615384]\n",
      "100%|██████████| 18/18 [00:01<00:00,  1.77s/trial, best loss: 0.1384615384615384]\n",
      "100%|██████████| 19/19 [00:01<00:00,  1.79s/trial, best loss: 0.1384615384615384]\n",
      "100%|██████████| 20/20 [00:01<00:00,  1.70s/trial, best loss: 0.1384615384615384]\n",
      "100%|██████████| 21/21 [00:01<00:00,  1.65s/trial, best loss: 0.1384615384615384]\n",
      "100%|██████████| 22/22 [00:01<00:00,  1.66s/trial, best loss: 0.1384615384615384]\n",
      "100%|██████████| 23/23 [00:01<00:00,  1.65s/trial, best loss: 0.13461538461538458]\n",
      "100%|██████████| 24/24 [00:01<00:00,  1.69s/trial, best loss: 0.13461538461538458]\n",
      "100%|██████████| 25/25 [00:01<00:00,  1.76s/trial, best loss: 0.13461538461538458]\n",
      "100%|██████████| 26/26 [00:01<00:00,  1.67s/trial, best loss: 0.13461538461538458]\n",
      "100%|██████████| 27/27 [00:01<00:00,  1.70s/trial, best loss: 0.13461538461538458]\n",
      "100%|██████████| 28/28 [00:01<00:00,  1.83s/trial, best loss: 0.13461538461538458]\n",
      "100%|██████████| 29/29 [00:01<00:00,  1.86s/trial, best loss: 0.13461538461538458]\n",
      "100%|██████████| 30/30 [00:01<00:00,  1.89s/trial, best loss: 0.13461538461538458]\n",
      "100%|██████████| 31/31 [00:01<00:00,  1.96s/trial, best loss: 0.13461538461538458]\n",
      "100%|██████████| 32/32 [00:02<00:00,  2.03s/trial, best loss: 0.13461538461538458]\n",
      "100%|██████████| 33/33 [00:01<00:00,  1.94s/trial, best loss: 0.13461538461538458]\n",
      "100%|██████████| 34/34 [00:02<00:00,  2.00s/trial, best loss: 0.13461538461538458]\n",
      "100%|██████████| 35/35 [00:01<00:00,  1.97s/trial, best loss: 0.13461538461538458]\n",
      "100%|██████████| 36/36 [00:01<00:00,  1.91s/trial, best loss: 0.13461538461538458]\n",
      "100%|██████████| 37/37 [00:01<00:00,  1.80s/trial, best loss: 0.13461538461538458]\n",
      "100%|██████████| 38/38 [00:02<00:00,  2.01s/trial, best loss: 0.13461538461538458]\n",
      "100%|██████████| 39/39 [00:01<00:00,  1.90s/trial, best loss: 0.13461538461538458]\n",
      "100%|██████████| 40/40 [00:01<00:00,  1.92s/trial, best loss: 0.13461538461538458]\n",
      "100%|██████████| 41/41 [00:01<00:00,  1.92s/trial, best loss: 0.13461538461538458]\n",
      "100%|██████████| 42/42 [00:02<00:00,  2.01s/trial, best loss: 0.13461538461538458]\n",
      "100%|██████████| 43/43 [00:02<00:00,  2.02s/trial, best loss: 0.13461538461538458]\n",
      "100%|██████████| 44/44 [00:01<00:00,  1.93s/trial, best loss: 0.13461538461538458]\n",
      "100%|██████████| 45/45 [00:01<00:00,  1.94s/trial, best loss: 0.13461538461538458]\n",
      "100%|██████████| 46/46 [00:01<00:00,  1.94s/trial, best loss: 0.13461538461538458]\n",
      "100%|██████████| 47/47 [00:01<00:00,  1.97s/trial, best loss: 0.13461538461538458]\n",
      "100%|██████████| 48/48 [00:02<00:00,  2.05s/trial, best loss: 0.13461538461538458]\n",
      "100%|██████████| 49/49 [00:01<00:00,  1.95s/trial, best loss: 0.13461538461538458]\n",
      "100%|██████████| 50/50 [00:01<00:00,  1.86s/trial, best loss: 0.13461538461538458]\n",
      "{'learner': LogisticRegression(C=1.7198083060207443, max_iter=646, n_jobs=1, random_state=3,\n",
      "                   tol=9.376728095819195e-05), 'preprocs': (), 'ex_preprocs': ()}\n"
     ]
    }
   ],
   "source": [
    "# Logistic Regression logistic_regression\n",
    "from hpsklearn import logistic_regression\n",
    "myLR = optimize_model(logistic_regression(\"myLR\"), X_train, y_train)"
   ]
  },
  {
   "cell_type": "code",
   "execution_count": 15,
   "metadata": {},
   "outputs": [
    {
     "name": "stdout",
     "output_type": "stream",
     "text": [
      "Accuracy: 83.14 %\n",
      "F1: 79.98 %\n"
     ]
    },
    {
     "data": {
      "image/png": "[encoded data removed]",
      "text/plain": [
       "<Figure size 640x480 with 2 Axes>"
      ]
     },
     "metadata": {},
     "output_type": "display_data"
    }
   ],
   "source": [
    "evaluate_model(myLR, X_test, y_test)"
   ]
  },
  {
   "cell_type": "code",
   "execution_count": 16,
   "metadata": {},
   "outputs": [
    {
     "name": "stdout",
     "output_type": "stream",
     "text": [
      "100%|██████████| 1/1 [00:01<00:00,  1.93s/trial, best loss: 0.13461538461538458]\n",
      "100%|██████████| 2/2 [00:15<00:00, 15.45s/trial, best loss: 0.13461538461538458]\n",
      "100%|██████████| 3/3 [00:02<00:00,  2.06s/trial, best loss: 0.10769230769230764]\n",
      "100%|██████████| 4/4 [00:02<00:00,  2.73s/trial, best loss: 0.08076923076923082]\n",
      "100%|██████████| 5/5 [00:01<00:00,  1.99s/trial, best loss: 0.08076923076923082]\n",
      "100%|██████████| 6/6 [00:01<00:00,  1.98s/trial, best loss: 0.08076923076923082]\n",
      "100%|██████████| 7/7 [00:01<00:00,  1.97s/trial, best loss: 0.08076923076923082]\n",
      "100%|██████████| 8/8 [00:03<00:00,  3.93s/trial, best loss: 0.08076923076923082]\n",
      "100%|██████████| 9/9 [00:02<00:00,  2.12s/trial, best loss: 0.08076923076923082]\n",
      "100%|██████████| 10/10 [00:03<00:00,  3.56s/trial, best loss: 0.08076923076923082]\n",
      "100%|██████████| 11/11 [00:04<00:00,  4.02s/trial, best loss: 0.08076923076923082]\n",
      "100%|██████████| 12/12 [00:02<00:00,  2.10s/trial, best loss: 0.08076923076923082]\n",
      "100%|██████████| 13/13 [00:02<00:00,  2.25s/trial, best loss: 0.08076923076923082]\n",
      "100%|██████████| 14/14 [00:02<00:00,  2.21s/trial, best loss: 0.08076923076923082]\n",
      "100%|██████████| 15/15 [00:04<00:00,  4.78s/trial, best loss: 0.08076923076923082]\n",
      "100%|██████████| 16/16 [00:02<00:00,  2.48s/trial, best loss: 0.08076923076923082]\n",
      "100%|██████████| 17/17 [00:02<00:00,  2.59s/trial, best loss: 0.08076923076923082]\n",
      "100%|██████████| 18/18 [00:02<00:00,  2.17s/trial, best loss: 0.08076923076923082]\n",
      "100%|██████████| 19/19 [00:01<00:00,  1.97s/trial, best loss: 0.08076923076923082]\n",
      "100%|██████████| 20/20 [00:09<00:00,  9.85s/trial, best loss: 0.08076923076923082]\n",
      "100%|██████████| 21/21 [00:02<00:00,  2.11s/trial, best loss: 0.08076923076923082]\n",
      "100%|██████████| 22/22 [00:02<00:00,  2.01s/trial, best loss: 0.08076923076923082]\n",
      "100%|██████████| 23/23 [00:12<00:00, 12.15s/trial, best loss: 0.08076923076923082]\n",
      "100%|██████████| 24/24 [00:02<00:00,  2.18s/trial, best loss: 0.08076923076923082]\n",
      "100%|██████████| 25/25 [00:02<00:00,  2.17s/trial, best loss: 0.08076923076923082]\n",
      "100%|██████████| 26/26 [00:02<00:00,  2.09s/trial, best loss: 0.08076923076923082]\n",
      "100%|██████████| 27/27 [00:02<00:00,  2.02s/trial, best loss: 0.08076923076923082]\n",
      "100%|██████████| 28/28 [00:04<00:00,  4.38s/trial, best loss: 0.08076923076923082]\n",
      "100%|██████████| 29/29 [00:02<00:00,  2.19s/trial, best loss: 0.08076923076923082]\n",
      "100%|██████████| 30/30 [00:02<00:00,  2.19s/trial, best loss: 0.08076923076923082]\n",
      "100%|██████████| 31/31 [00:02<00:00,  2.02s/trial, best loss: 0.08076923076923082]\n",
      "100%|██████████| 32/32 [00:05<00:00,  5.68s/trial, best loss: 0.08076923076923082]\n",
      "100%|██████████| 33/33 [00:02<00:00,  2.06s/trial, best loss: 0.08076923076923082]\n",
      "100%|██████████| 34/34 [00:02<00:00,  2.11s/trial, best loss: 0.08076923076923082]\n",
      "100%|██████████| 35/35 [00:02<00:00,  2.60s/trial, best loss: 0.08076923076923082]\n",
      "100%|██████████| 36/36 [00:02<00:00,  2.96s/trial, best loss: 0.08076923076923082]\n",
      "100%|██████████| 37/37 [00:01<00:00,  1.99s/trial, best loss: 0.08076923076923082]\n",
      "100%|██████████| 38/38 [00:02<00:00,  2.04s/trial, best loss: 0.08076923076923082]\n",
      "100%|██████████| 39/39 [00:01<00:00,  1.91s/trial, best loss: 0.08076923076923082]\n",
      "100%|██████████| 40/40 [00:02<00:00,  2.00s/trial, best loss: 0.08076923076923082]\n",
      "100%|██████████| 41/41 [00:02<00:00,  2.40s/trial, best loss: 0.08076923076923082]\n",
      "100%|██████████| 42/42 [00:01<00:00,  1.94s/trial, best loss: 0.08076923076923082]\n",
      "100%|██████████| 43/43 [00:01<00:00,  1.92s/trial, best loss: 0.08076923076923082]\n",
      "100%|██████████| 44/44 [00:01<00:00,  1.80s/trial, best loss: 0.08076923076923082]\n",
      "100%|██████████| 45/45 [00:03<00:00,  3.49s/trial, best loss: 0.08076923076923082]\n",
      "100%|██████████| 46/46 [00:02<00:00,  2.31s/trial, best loss: 0.08076923076923082]\n",
      "100%|██████████| 47/47 [00:02<00:00,  2.08s/trial, best loss: 0.08076923076923082]\n",
      "100%|██████████| 48/48 [00:02<00:00,  2.25s/trial, best loss: 0.08076923076923082]\n",
      "100%|██████████| 49/49 [00:03<00:00,  3.86s/trial, best loss: 0.08076923076923082]\n",
      "100%|██████████| 50/50 [00:02<00:00,  2.38s/trial, best loss: 0.08076923076923082]\n"
     ]
    },
    {
     "name": "stderr",
     "output_type": "stream",
     "text": [
      "c:\\Users\\willc\\miniconda3\\envs\\test\\lib\\site-packages\\sklearn\\ensemble\\_base.py:166: FutureWarning: `base_estimator` was renamed to `estimator` in version 1.2 and will be removed in 1.4.\n",
      "  warnings.warn(\n"
     ]
    },
    {
     "name": "stdout",
     "output_type": "stream",
     "text": [
      "{'learner': AdaBoostClassifier(base_estimator=DecisionTreeClassifier(criterion='entropy',\n",
      "                                                         max_depth=3,\n",
      "                                                         max_features='log2',\n",
      "                                                         random_state=1,\n",
      "                                                         splitter='random'),\n",
      "                   learning_rate=0.03829553033539045, n_estimators=343,\n",
      "                   random_state=2), 'preprocs': (), 'ex_preprocs': ()}\n"
     ]
    }
   ],
   "source": [
    "# AdaBoost\n",
    "from hpsklearn import ada_boost_classifier, decision_tree_classifier\n",
    "baseDT = decision_tree_classifier(\"adaDT\")\n",
    "ada = optimize_model(ada_boost_classifier(\"myada\", base_estimator=baseDT), X_train, y_train)"
   ]
  },
  {
   "cell_type": "code",
   "execution_count": 17,
   "metadata": {},
   "outputs": [
    {
     "name": "stdout",
     "output_type": "stream",
     "text": [
      "Accuracy: 87.3 %\n",
      "F1: 85.46 %\n"
     ]
    },
    {
     "data": {
      "image/png": "[encoded data removed]",
      "text/plain": [
       "<Figure size 640x480 with 2 Axes>"
      ]
     },
     "metadata": {},
     "output_type": "display_data"
    }
   ],
   "source": [
    "# Run model with best results\n",
    "evaluate_model(ada, X_test, y_test)"
   ]
  },
  {
   "cell_type": "code",
   "execution_count": 18,
   "metadata": {},
   "outputs": [
    {
     "name": "stdout",
     "output_type": "stream",
     "text": [
      "100%|██████████| 1/1 [00:11<00:00, 11.34s/trial, best loss: 0.09230769230769231]\n",
      "100%|██████████| 2/2 [00:04<00:00,  4.77s/trial, best loss: 0.09230769230769231]\n",
      "100%|██████████| 3/3 [00:03<00:00,  3.12s/trial, best loss: 0.08846153846153848]\n",
      "100%|██████████| 4/4 [00:04<00:00,  4.66s/trial, best loss: 0.08846153846153848]\n",
      "100%|██████████| 5/5 [00:07<00:00,  7.66s/trial, best loss: 0.08846153846153848]\n",
      "100%|██████████| 6/6 [00:02<00:00,  2.54s/trial, best loss: 0.08846153846153848]\n",
      "100%|██████████| 7/7 [00:03<00:00,  3.98s/trial, best loss: 0.08846153846153848]\n",
      "100%|██████████| 8/8 [00:15<00:00, 15.16s/trial, best loss: 0.08846153846153848]\n",
      "100%|██████████| 9/9 [00:05<00:00,  5.14s/trial, best loss: 0.08846153846153848]\n",
      "100%|██████████| 10/10 [00:03<00:00,  3.97s/trial, best loss: 0.08846153846153848]\n",
      "100%|██████████| 11/11 [00:02<00:00,  2.66s/trial, best loss: 0.08846153846153848]\n",
      "100%|██████████| 12/12 [00:04<00:00,  4.97s/trial, best loss: 0.08846153846153848]\n",
      "100%|██████████| 13/13 [00:05<00:00,  5.51s/trial, best loss: 0.08846153846153848]\n",
      "100%|██████████| 14/14 [00:06<00:00,  6.71s/trial, best loss: 0.08846153846153848]\n",
      "100%|██████████| 15/15 [00:03<00:00,  3.09s/trial, best loss: 0.08846153846153848]\n",
      "100%|██████████| 16/16 [00:04<00:00,  4.67s/trial, best loss: 0.08846153846153848]\n",
      "100%|██████████| 17/17 [00:04<00:00,  4.09s/trial, best loss: 0.08846153846153848]\n",
      "100%|██████████| 18/18 [00:03<00:00,  3.14s/trial, best loss: 0.08846153846153848]\n",
      "100%|██████████| 19/19 [00:05<00:00,  5.58s/trial, best loss: 0.08846153846153848]\n",
      "100%|██████████| 20/20 [00:04<00:00,  4.50s/trial, best loss: 0.08846153846153848]\n",
      "100%|██████████| 21/21 [00:06<00:00,  6.54s/trial, best loss: 0.08846153846153848]\n",
      "100%|██████████| 22/22 [00:03<00:00,  3.22s/trial, best loss: 0.08846153846153848]\n",
      "100%|██████████| 23/23 [00:04<00:00,  4.42s/trial, best loss: 0.08846153846153848]\n",
      "100%|██████████| 24/24 [00:05<00:00,  5.11s/trial, best loss: 0.08461538461538465]\n",
      "100%|██████████| 25/25 [00:03<00:00,  3.65s/trial, best loss: 0.08461538461538465]\n",
      "100%|██████████| 26/26 [00:02<00:00,  2.96s/trial, best loss: 0.08461538461538465]\n",
      "100%|██████████| 27/27 [00:05<00:00,  5.04s/trial, best loss: 0.08461538461538465]\n",
      "100%|██████████| 28/28 [00:02<00:00,  2.62s/trial, best loss: 0.08461538461538465]\n",
      "100%|██████████| 29/29 [00:02<00:00,  2.63s/trial, best loss: 0.08461538461538465]\n",
      "100%|██████████| 30/30 [00:05<00:00,  5.45s/trial, best loss: 0.08461538461538465]\n",
      "100%|██████████| 31/31 [00:06<00:00,  6.95s/trial, best loss: 0.08461538461538465]\n",
      "100%|██████████| 32/32 [00:04<00:00,  4.06s/trial, best loss: 0.08461538461538465]\n",
      "100%|██████████| 33/33 [00:03<00:00,  3.67s/trial, best loss: 0.08461538461538465]\n",
      "100%|██████████| 34/34 [00:05<00:00,  5.65s/trial, best loss: 0.08461538461538465]\n",
      "100%|██████████| 35/35 [00:06<00:00,  6.03s/trial, best loss: 0.08461538461538465]\n",
      "100%|██████████| 36/36 [00:04<00:00,  4.84s/trial, best loss: 0.08076923076923082]\n",
      "100%|██████████| 37/37 [00:04<00:00,  4.78s/trial, best loss: 0.08076923076923082]\n",
      "100%|██████████| 38/38 [00:03<00:00,  3.81s/trial, best loss: 0.08076923076923082]\n",
      "100%|██████████| 39/39 [00:03<00:00,  3.99s/trial, best loss: 0.08076923076923082]\n",
      "100%|██████████| 40/40 [00:15<00:00, 15.37s/trial, best loss: 0.08076923076923082]\n",
      "100%|██████████| 41/41 [00:02<00:00,  3.00s/trial, best loss: 0.08076923076923082]\n",
      "100%|██████████| 42/42 [00:03<00:00,  3.78s/trial, best loss: 0.08076923076923082]\n",
      "100%|██████████| 43/43 [00:05<00:00,  5.88s/trial, best loss: 0.08076923076923082]\n",
      "100%|██████████| 44/44 [00:03<00:00,  3.91s/trial, best loss: 0.08076923076923082]\n",
      "100%|██████████| 45/45 [00:04<00:00,  4.26s/trial, best loss: 0.08076923076923082]\n",
      "100%|██████████| 46/46 [00:02<00:00,  2.44s/trial, best loss: 0.08076923076923082]\n",
      "100%|██████████| 47/47 [00:05<00:00,  5.95s/trial, best loss: 0.08076923076923082]\n",
      "100%|██████████| 48/48 [00:02<00:00,  2.62s/trial, best loss: 0.08076923076923082]\n",
      "100%|██████████| 49/49 [00:02<00:00,  2.46s/trial, best loss: 0.08076923076923082]\n",
      "100%|██████████| 50/50 [00:02<00:00,  2.59s/trial, best loss: 0.08076923076923082]\n",
      "{'learner': MLPClassifier(alpha=0.0006381201012812922, beta_1=0.8861816637512409,\n",
      "              beta_2=0.9917210280919704, epsilon=4.074172735513277e-06,\n",
      "              learning_rate='adaptive', learning_rate_init=0.09409298017739537,\n",
      "              max_fun=23707, max_iter=167, momentum=0.8981741011426347,\n",
      "              n_iter_no_change=30, power_t=0.1172514262107116, random_state=0,\n",
      "              tol=0.004784526771497479, validation_fraction=0.1444389856080616), 'preprocs': (), 'ex_preprocs': ()}\n"
     ]
    }
   ],
   "source": [
    "from hpsklearn import mlp_classifier\n",
    "\n",
    "mlp = optimize_model(mlp_classifier(\"mlp\"), X_train, y_train)"
   ]
  },
  {
   "cell_type": "code",
   "execution_count": 19,
   "metadata": {},
   "outputs": [
    {
     "name": "stdout",
     "output_type": "stream",
     "text": [
      "Accuracy: 88.45 %\n",
      "F1: 87.13 %\n"
     ]
    },
    {
     "data": {
      "image/png": "[encoded data removed]",
      "text/plain": [
       "<Figure size 640x480 with 2 Axes>"
      ]
     },
     "metadata": {},
     "output_type": "display_data"
    }
   ],
   "source": [
    "evaluate_model(mlp, X_test, y_test)"
   ]
  },
  {
   "cell_type": "markdown",
   "metadata": {},
   "source": [
    "# Clustering"
   ]
  },
  {
   "cell_type": "code",
   "execution_count": null,
   "metadata": {},
   "outputs": [],
   "source": [
    "from sklearn.cluster import KMeans\n",
    "\n"
   ]
  },
  {
   "attachments": {},
   "cell_type": "markdown",
   "metadata": {},
   "source": [
    "## Ensemble"
   ]
  },
  {
   "cell_type": "code",
   "execution_count": 20,
   "metadata": {},
   "outputs": [
    {
     "name": "stdout",
     "output_type": "stream",
     "text": [
      "  0%|          | 0/1 [00:00<?, ?trial/s, best loss=?]"
     ]
    },
    {
     "name": "stdout",
     "output_type": "stream",
     "text": [
      "100%|██████████| 1/1 [00:03<00:00,  3.92s/trial, best loss: 0.3076923076923077]\n",
      "100%|██████████| 2/2 [00:04<00:00,  4.34s/trial, best loss: 0.09615384615384615]\n",
      "100%|██████████| 3/3 [00:05<00:00,  5.94s/trial, best loss: 0.09615384615384615]\n",
      "100%|██████████| 4/4 [00:04<00:00,  4.26s/trial, best loss: 0.09615384615384615]\n",
      "100%|██████████| 5/5 [00:04<00:00,  4.43s/trial, best loss: 0.09615384615384615]\n",
      "100%|██████████| 6/6 [00:04<00:00,  4.57s/trial, best loss: 0.07692307692307687]\n",
      "100%|██████████| 7/7 [00:05<00:00,  5.07s/trial, best loss: 0.07692307692307687]\n",
      "100%|██████████| 8/8 [00:04<00:00,  4.51s/trial, best loss: 0.07692307692307687]\n",
      "100%|██████████| 9/9 [00:04<00:00,  4.23s/trial, best loss: 0.07692307692307687]\n",
      "100%|██████████| 10/10 [00:05<00:00,  5.63s/trial, best loss: 0.07692307692307687]\n",
      "100%|██████████| 11/11 [00:04<00:00,  4.12s/trial, best loss: 0.07692307692307687]\n",
      "100%|██████████| 12/12 [00:03<00:00,  3.70s/trial, best loss: 0.07692307692307687]\n",
      "100%|██████████| 13/13 [00:05<00:00,  5.07s/trial, best loss: 0.07692307692307687]\n",
      "100%|██████████| 14/14 [00:06<00:00,  6.09s/trial, best loss: 0.07692307692307687]\n",
      "100%|██████████| 15/15 [00:04<00:00,  4.40s/trial, best loss: 0.07692307692307687]\n",
      "100%|██████████| 16/16 [00:04<00:00,  4.37s/trial, best loss: 0.07692307692307687]\n",
      "100%|██████████| 17/17 [00:04<00:00,  4.84s/trial, best loss: 0.07692307692307687]\n",
      "100%|██████████| 18/18 [00:04<00:00,  4.12s/trial, best loss: 0.07692307692307687]\n",
      "100%|██████████| 19/19 [00:05<00:00,  5.24s/trial, best loss: 0.07692307692307687]\n",
      "100%|██████████| 20/20 [00:06<00:00,  6.06s/trial, best loss: 0.07692307692307687]\n",
      "100%|██████████| 21/21 [00:05<00:00,  5.05s/trial, best loss: 0.07692307692307687]\n",
      "100%|██████████| 22/22 [00:04<00:00,  4.65s/trial, best loss: 0.07692307692307687]\n",
      "100%|██████████| 23/23 [00:04<00:00,  4.41s/trial, best loss: 0.07692307692307687]\n",
      "100%|██████████| 24/24 [00:04<00:00,  4.23s/trial, best loss: 0.07692307692307687]\n",
      "100%|██████████| 25/25 [00:04<00:00,  4.61s/trial, best loss: 0.07692307692307687]\n",
      "100%|██████████| 26/26 [00:04<00:00,  4.08s/trial, best loss: 0.07692307692307687]\n",
      "100%|██████████| 27/27 [00:04<00:00,  4.88s/trial, best loss: 0.07692307692307687]\n",
      "100%|██████████| 28/28 [00:04<00:00,  4.04s/trial, best loss: 0.07692307692307687]\n",
      "100%|██████████| 29/29 [00:05<00:00,  5.83s/trial, best loss: 0.07692307692307687]\n",
      "100%|██████████| 30/30 [00:04<00:00,  4.37s/trial, best loss: 0.07692307692307687]\n",
      "100%|██████████| 31/31 [00:04<00:00,  4.01s/trial, best loss: 0.07692307692307687]\n",
      "100%|██████████| 32/32 [00:04<00:00,  4.38s/trial, best loss: 0.07692307692307687]\n",
      "100%|██████████| 33/33 [00:04<00:00,  4.26s/trial, best loss: 0.07692307692307687]\n",
      "100%|██████████| 34/34 [00:04<00:00,  4.01s/trial, best loss: 0.07692307692307687]\n",
      "100%|██████████| 35/35 [00:03<00:00,  3.74s/trial, best loss: 0.07692307692307687]\n",
      "100%|██████████| 36/36 [00:04<00:00,  4.55s/trial, best loss: 0.07692307692307687]\n",
      "100%|██████████| 37/37 [00:03<00:00,  3.82s/trial, best loss: 0.07692307692307687]\n",
      "100%|██████████| 38/38 [00:05<00:00,  5.03s/trial, best loss: 0.07692307692307687]\n",
      "100%|██████████| 39/39 [00:05<00:00,  5.05s/trial, best loss: 0.07692307692307687]\n",
      "100%|██████████| 40/40 [00:05<00:00,  5.35s/trial, best loss: 0.07692307692307687]\n",
      "100%|██████████| 41/41 [00:04<00:00,  4.52s/trial, best loss: 0.07692307692307687]\n",
      "100%|██████████| 42/42 [00:04<00:00,  4.13s/trial, best loss: 0.07692307692307687]\n",
      "100%|██████████| 43/43 [00:04<00:00,  4.20s/trial, best loss: 0.07692307692307687]\n",
      "100%|██████████| 44/44 [00:03<00:00,  3.92s/trial, best loss: 0.07692307692307687]\n",
      "100%|██████████| 45/45 [00:05<00:00,  5.42s/trial, best loss: 0.07692307692307687]\n",
      "100%|██████████| 46/46 [00:04<00:00,  4.01s/trial, best loss: 0.07692307692307687]\n",
      "100%|██████████| 47/47 [00:03<00:00,  3.81s/trial, best loss: 0.07692307692307687]\n",
      "100%|██████████| 48/48 [00:03<00:00,  3.80s/trial, best loss: 0.07692307692307687]\n",
      "100%|██████████| 49/49 [00:04<00:00,  4.32s/trial, best loss: 0.07692307692307687]\n",
      "100%|██████████| 50/50 [00:03<00:00,  3.83s/trial, best loss: 0.07692307692307687]\n",
      "100%|██████████| 1/1 [00:02<00:00,  2.29s/trial, best loss: 0.19615384615384612]\n",
      "100%|██████████| 2/2 [00:03<00:00,  3.13s/trial, best loss: 0.11538461538461542]\n",
      "100%|██████████| 3/3 [00:02<00:00,  2.24s/trial, best loss: 0.11538461538461542]\n",
      "100%|██████████| 4/4 [00:02<00:00,  2.07s/trial, best loss: 0.10384615384615381]\n",
      "100%|██████████| 5/5 [00:03<00:00,  3.03s/trial, best loss: 0.10384615384615381]\n",
      "100%|██████████| 6/6 [00:01<00:00,  1.98s/trial, best loss: 0.10384615384615381]\n",
      "100%|██████████| 7/7 [00:03<00:00,  3.55s/trial, best loss: 0.10384615384615381]\n",
      "100%|██████████| 8/8 [00:03<00:00,  3.18s/trial, best loss: 0.08076923076923082]\n",
      "100%|██████████| 9/9 [00:02<00:00,  2.24s/trial, best loss: 0.0692307692307692]\n",
      "100%|██████████| 10/10 [00:02<00:00,  2.19s/trial, best loss: 0.0692307692307692]\n",
      "100%|██████████| 11/11 [00:02<00:00,  2.99s/trial, best loss: 0.0692307692307692]\n",
      "100%|██████████| 12/12 [00:02<00:00,  2.20s/trial, best loss: 0.0692307692307692]\n",
      "100%|██████████| 13/13 [00:03<00:00,  3.01s/trial, best loss: 0.0692307692307692]\n",
      "100%|██████████| 14/14 [00:02<00:00,  2.21s/trial, best loss: 0.0692307692307692]\n",
      "100%|██████████| 15/15 [00:03<00:00,  3.24s/trial, best loss: 0.0692307692307692]\n",
      "100%|██████████| 16/16 [00:02<00:00,  2.21s/trial, best loss: 0.0692307692307692]\n",
      "100%|██████████| 17/17 [00:02<00:00,  2.98s/trial, best loss: 0.0692307692307692]\n",
      "100%|██████████| 18/18 [00:02<00:00,  2.18s/trial, best loss: 0.0692307692307692]\n",
      "100%|██████████| 19/19 [00:02<00:00,  2.15s/trial, best loss: 0.0692307692307692]\n",
      "100%|██████████| 20/20 [00:02<00:00,  2.16s/trial, best loss: 0.0692307692307692]\n",
      "100%|██████████| 21/21 [00:02<00:00,  2.17s/trial, best loss: 0.0692307692307692]\n",
      "100%|██████████| 22/22 [00:03<00:00,  3.35s/trial, best loss: 0.0692307692307692]\n",
      "100%|██████████| 23/23 [00:02<00:00,  2.94s/trial, best loss: 0.0692307692307692]\n",
      "100%|██████████| 24/24 [00:03<00:00,  3.56s/trial, best loss: 0.0692307692307692]\n",
      "100%|██████████| 25/25 [00:03<00:00,  3.02s/trial, best loss: 0.0692307692307692]\n",
      "100%|██████████| 26/26 [00:02<00:00,  2.89s/trial, best loss: 0.0692307692307692]\n",
      "100%|██████████| 27/27 [00:02<00:00,  2.18s/trial, best loss: 0.0692307692307692]\n",
      "100%|██████████| 28/28 [00:02<00:00,  2.15s/trial, best loss: 0.0692307692307692]\n",
      "100%|██████████| 29/29 [00:02<00:00,  2.95s/trial, best loss: 0.0692307692307692]\n",
      "100%|██████████| 30/30 [00:02<00:00,  2.99s/trial, best loss: 0.0692307692307692]\n",
      "100%|██████████| 31/31 [00:03<00:00,  3.06s/trial, best loss: 0.0692307692307692]\n",
      "100%|██████████| 32/32 [00:03<00:00,  3.15s/trial, best loss: 0.0692307692307692]\n",
      "100%|██████████| 33/33 [00:03<00:00,  3.23s/trial, best loss: 0.0692307692307692]\n",
      "100%|██████████| 34/34 [00:03<00:00,  3.25s/trial, best loss: 0.0692307692307692]\n",
      "100%|██████████| 35/35 [00:02<00:00,  2.27s/trial, best loss: 0.0692307692307692]\n",
      "100%|██████████| 36/36 [00:03<00:00,  3.25s/trial, best loss: 0.0692307692307692]\n",
      "100%|██████████| 37/37 [00:03<00:00,  3.08s/trial, best loss: 0.0692307692307692]\n",
      "100%|██████████| 38/38 [00:02<00:00,  2.45s/trial, best loss: 0.0692307692307692]\n",
      "100%|██████████| 39/39 [00:02<00:00,  2.62s/trial, best loss: 0.0692307692307692]\n",
      "100%|██████████| 40/40 [00:04<00:00,  4.15s/trial, best loss: 0.0692307692307692]\n",
      "100%|██████████| 41/41 [00:02<00:00,  2.63s/trial, best loss: 0.0692307692307692]\n",
      "100%|██████████| 42/42 [00:04<00:00,  4.17s/trial, best loss: 0.0692307692307692]\n",
      "100%|██████████| 43/43 [00:02<00:00,  2.23s/trial, best loss: 0.0692307692307692]\n",
      "100%|██████████| 44/44 [00:02<00:00,  2.34s/trial, best loss: 0.0692307692307692]\n",
      "100%|██████████| 45/45 [00:03<00:00,  3.17s/trial, best loss: 0.0692307692307692]\n",
      "100%|██████████| 46/46 [00:03<00:00,  3.61s/trial, best loss: 0.0692307692307692]\n",
      "100%|██████████| 47/47 [00:03<00:00,  3.43s/trial, best loss: 0.0692307692307692]\n",
      "100%|██████████| 48/48 [00:03<00:00,  3.22s/trial, best loss: 0.0692307692307692]\n",
      "100%|██████████| 49/49 [00:02<00:00,  2.29s/trial, best loss: 0.0692307692307692]\n",
      "100%|██████████| 50/50 [00:03<00:00,  3.84s/trial, best loss: 0.0692307692307692]\n",
      "100%|██████████| 1/1 [00:02<00:00,  2.28s/trial, best loss: 0.13461538461538458]\n",
      "100%|██████████| 2/2 [00:02<00:00,  2.07s/trial, best loss: 0.13461538461538458]\n",
      "100%|██████████| 3/3 [00:02<00:00,  2.14s/trial, best loss: 0.13461538461538458]\n",
      "100%|██████████| 4/4 [00:02<00:00,  2.10s/trial, best loss: 0.13461538461538458]\n",
      "100%|██████████| 5/5 [00:02<00:00,  2.18s/trial, best loss: 0.13461538461538458]\n",
      "100%|██████████| 6/6 [00:02<00:00,  2.22s/trial, best loss: 0.13461538461538458]\n",
      "100%|██████████| 7/7 [00:02<00:00,  2.11s/trial, best loss: 0.13461538461538458]\n",
      "100%|██████████| 8/8 [00:02<00:00,  2.09s/trial, best loss: 0.13461538461538458]\n",
      "100%|██████████| 9/9 [00:02<00:00,  2.11s/trial, best loss: 0.13461538461538458]\n",
      "100%|██████████| 10/10 [00:02<00:00,  2.18s/trial, best loss: 0.13461538461538458]\n",
      "100%|██████████| 11/11 [00:01<00:00,  1.96s/trial, best loss: 0.13461538461538458]\n",
      "100%|██████████| 12/12 [00:01<00:00,  1.96s/trial, best loss: 0.13461538461538458]\n",
      "100%|██████████| 13/13 [00:01<00:00,  1.99s/trial, best loss: 0.13461538461538458]\n",
      "100%|██████████| 14/14 [00:01<00:00,  1.96s/trial, best loss: 0.13461538461538458]\n",
      "100%|██████████| 15/15 [00:02<00:00,  2.08s/trial, best loss: 0.13461538461538458]\n",
      "100%|██████████| 16/16 [00:02<00:00,  2.16s/trial, best loss: 0.13461538461538458]\n",
      "100%|██████████| 17/17 [00:02<00:00,  2.21s/trial, best loss: 0.13461538461538458]\n",
      "100%|██████████| 18/18 [00:02<00:00,  2.16s/trial, best loss: 0.13461538461538458]\n",
      "100%|██████████| 19/19 [00:02<00:00,  2.19s/trial, best loss: 0.13461538461538458]\n",
      "100%|██████████| 20/20 [00:02<00:00,  2.14s/trial, best loss: 0.13461538461538458]\n",
      "100%|██████████| 21/21 [00:02<00:00,  2.20s/trial, best loss: 0.13461538461538458]\n",
      "100%|██████████| 22/22 [00:02<00:00,  2.39s/trial, best loss: 0.13461538461538458]\n",
      "100%|██████████| 23/23 [00:02<00:00,  2.18s/trial, best loss: 0.13461538461538458]\n",
      "100%|██████████| 24/24 [00:02<00:00,  2.27s/trial, best loss: 0.13461538461538458]\n",
      "100%|██████████| 25/25 [00:02<00:00,  2.29s/trial, best loss: 0.13461538461538458]\n",
      "100%|██████████| 26/26 [00:02<00:00,  2.19s/trial, best loss: 0.13461538461538458]\n",
      "100%|██████████| 27/27 [00:02<00:00,  2.18s/trial, best loss: 0.13461538461538458]\n",
      "100%|██████████| 28/28 [00:02<00:00,  2.22s/trial, best loss: 0.13461538461538458]\n",
      "100%|██████████| 29/29 [00:02<00:00,  2.02s/trial, best loss: 0.13461538461538458]\n",
      "100%|██████████| 30/30 [00:02<00:00,  2.15s/trial, best loss: 0.13461538461538458]\n",
      "100%|██████████| 31/31 [00:02<00:00,  2.23s/trial, best loss: 0.13461538461538458]\n",
      "100%|██████████| 32/32 [00:02<00:00,  2.36s/trial, best loss: 0.13461538461538458]\n",
      "100%|██████████| 33/33 [00:02<00:00,  2.19s/trial, best loss: 0.13461538461538458]\n",
      "100%|██████████| 34/34 [00:02<00:00,  2.22s/trial, best loss: 0.13461538461538458]\n",
      "100%|██████████| 35/35 [00:02<00:00,  2.08s/trial, best loss: 0.13461538461538458]\n",
      "100%|██████████| 36/36 [00:02<00:00,  2.11s/trial, best loss: 0.13461538461538458]\n",
      "100%|██████████| 37/37 [00:02<00:00,  2.14s/trial, best loss: 0.13461538461538458]\n",
      "100%|██████████| 38/38 [00:02<00:00,  2.11s/trial, best loss: 0.13461538461538458]\n",
      "100%|██████████| 39/39 [00:02<00:00,  2.12s/trial, best loss: 0.13461538461538458]\n",
      "100%|██████████| 40/40 [00:02<00:00,  2.15s/trial, best loss: 0.13461538461538458]\n",
      "100%|██████████| 41/41 [00:02<00:00,  2.19s/trial, best loss: 0.13461538461538458]\n",
      "100%|██████████| 42/42 [00:02<00:00,  2.16s/trial, best loss: 0.13461538461538458]\n",
      "100%|██████████| 43/43 [00:02<00:00,  2.13s/trial, best loss: 0.13461538461538458]\n",
      "100%|██████████| 44/44 [00:02<00:00,  2.11s/trial, best loss: 0.13461538461538458]\n",
      "100%|██████████| 45/45 [00:02<00:00,  2.12s/trial, best loss: 0.13461538461538458]\n",
      "100%|██████████| 46/46 [00:02<00:00,  2.21s/trial, best loss: 0.13461538461538458]\n",
      "100%|██████████| 47/47 [00:02<00:00,  2.10s/trial, best loss: 0.13461538461538458]\n",
      "100%|██████████| 48/48 [00:02<00:00,  2.13s/trial, best loss: 0.13461538461538458]\n",
      "100%|██████████| 49/49 [00:02<00:00,  2.18s/trial, best loss: 0.13461538461538458]\n",
      "100%|██████████| 50/50 [00:02<00:00,  2.13s/trial, best loss: 0.13461538461538458]\n",
      "100%|██████████| 1/1 [00:10<00:00, 10.92s/trial, best loss: 0.3076923076923077]\n",
      "100%|██████████| 2/2 [00:17<00:00, 17.04s/trial, best loss: 0.21153846153846156]\n",
      "100%|██████████| 3/3 [00:02<00:00,  2.22s/trial, best loss: 0.18461538461538463]\n",
      "100%|██████████| 4/4 [00:03<00:00,  3.49s/trial, best loss: 0.18461538461538463]\n",
      "100%|██████████| 5/5 [00:02<00:00,  2.50s/trial, best loss: 0.12307692307692308]\n",
      "100%|██████████| 6/6 [00:12<00:00, 12.93s/trial, best loss: 0.12307692307692308]\n",
      "100%|██████████| 7/7 [00:03<00:00,  3.53s/trial, best loss: 0.12307692307692308]\n",
      "100%|██████████| 8/8 [00:02<00:00,  2.13s/trial, best loss: 0.11538461538461542]\n",
      "100%|██████████| 9/9 [01:50<00:00, 110.01s/trial, best loss: 0.11538461538461542]\n",
      "100%|██████████| 10/10 [00:04<00:00,  4.54s/trial, best loss: 0.11538461538461542]\n",
      "100%|██████████| 11/11 [00:03<00:00,  3.62s/trial, best loss: 0.11538461538461542]\n",
      "100%|██████████| 12/12 [00:02<00:00,  2.63s/trial, best loss: 0.11538461538461542]\n",
      "100%|██████████| 13/13 [00:02<00:00,  2.03s/trial, best loss: 0.11538461538461542]\n",
      "100%|██████████| 14/14 [00:02<00:00,  2.31s/trial, best loss: 0.10769230769230764]\n",
      "100%|██████████| 15/15 [00:01<00:00,  1.93s/trial, best loss: 0.10769230769230764]\n",
      "100%|██████████| 16/16 [00:02<00:00,  2.58s/trial, best loss: 0.09999999999999998]\n",
      "100%|██████████| 17/17 [00:01<00:00,  1.90s/trial, best loss: 0.09999999999999998]\n",
      "100%|██████████| 18/18 [00:01<00:00,  1.88s/trial, best loss: 0.09999999999999998]\n",
      "100%|██████████| 19/19 [00:41<00:00, 41.08s/trial, best loss: 0.09999999999999998]\n",
      "100%|██████████| 20/20 [00:02<00:00,  2.06s/trial, best loss: 0.09999999999999998]\n",
      "100%|██████████| 21/21 [00:01<00:00,  1.94s/trial, best loss: 0.09999999999999998]\n",
      "100%|██████████| 22/22 [00:02<00:00,  2.60s/trial, best loss: 0.09999999999999998]\n",
      "100%|██████████| 23/23 [00:11<00:00, 11.44s/trial, best loss: 0.09999999999999998]\n",
      "100%|██████████| 24/24 [00:09<00:00,  9.55s/trial, best loss: 0.09999999999999998]\n",
      "100%|██████████| 25/25 [00:18<00:00, 18.88s/trial, best loss: 0.09999999999999998]\n",
      "100%|██████████| 26/26 [01:19<00:00, 79.12s/trial, best loss: 0.09999999999999998]\n",
      "100%|██████████| 27/27 [00:07<00:00,  7.10s/trial, best loss: 0.09999999999999998]\n",
      "100%|██████████| 28/28 [01:12<00:00, 72.48s/trial, best loss: 0.09999999999999998]\n",
      "100%|██████████| 29/29 [00:02<00:00,  2.36s/trial, best loss: 0.09999999999999998]\n",
      "100%|██████████| 30/30 [00:50<00:00, 50.18s/trial, best loss: 0.09999999999999998]\n",
      "100%|██████████| 31/31 [00:07<00:00,  7.96s/trial, best loss: 0.09999999999999998]\n",
      "100%|██████████| 32/32 [00:02<00:00,  2.03s/trial, best loss: 0.09999999999999998]\n",
      "100%|██████████| 33/33 [00:01<00:00,  1.84s/trial, best loss: 0.09999999999999998]\n",
      "100%|██████████| 34/34 [00:16<00:00, 16.32s/trial, best loss: 0.09999999999999998]\n",
      "100%|██████████| 35/35 [00:04<00:00,  4.06s/trial, best loss: 0.09999999999999998]\n",
      "100%|██████████| 36/36 [00:02<00:00,  2.33s/trial, best loss: 0.09999999999999998]\n",
      "100%|██████████| 37/37 [00:02<00:00,  2.07s/trial, best loss: 0.09999999999999998]\n",
      "100%|██████████| 38/38 [00:44<00:00, 44.72s/trial, best loss: 0.09999999999999998]\n",
      "100%|██████████| 39/39 [00:09<00:00,  9.83s/trial, best loss: 0.09999999999999998]\n",
      "100%|██████████| 40/40 [00:02<00:00,  2.90s/trial, best loss: 0.09999999999999998]\n",
      "100%|██████████| 41/41 [00:02<00:00,  2.35s/trial, best loss: 0.09999999999999998]\n",
      "100%|██████████| 42/42 [00:02<00:00,  2.78s/trial, best loss: 0.09999999999999998]\n",
      "100%|██████████| 43/43 [00:16<00:00, 16.78s/trial, best loss: 0.09999999999999998]\n",
      "100%|██████████| 44/44 [00:30<00:00, 30.28s/trial, best loss: 0.09999999999999998]\n",
      "100%|██████████| 45/45 [00:02<00:00,  2.41s/trial, best loss: 0.09999999999999998]\n",
      "100%|██████████| 46/46 [00:19<00:00, 19.69s/trial, best loss: 0.09999999999999998]\n",
      "100%|██████████| 47/47 [00:33<00:00, 33.44s/trial, best loss: 0.09999999999999998]\n",
      "100%|██████████| 48/48 [00:02<00:00,  2.81s/trial, best loss: 0.08461538461538465]\n",
      "100%|██████████| 49/49 [00:20<00:00, 20.57s/trial, best loss: 0.08461538461538465]\n",
      "100%|██████████| 50/50 [00:03<00:00,  3.44s/trial, best loss: 0.08461538461538465]\n"
     ]
    },
    {
     "name": "stderr",
     "output_type": "stream",
     "text": [
      "c:\\Users\\willc\\miniconda3\\envs\\test\\lib\\site-packages\\sklearn\\ensemble\\_base.py:166: FutureWarning: `base_estimator` was renamed to `estimator` in version 1.2 and will be removed in 1.4.\n",
      "  warnings.warn(\n"
     ]
    },
    {
     "name": "stdout",
     "output_type": "stream",
     "text": [
      "100%|██████████| 1/1 [00:05<00:00,  5.06s/trial, best loss: 0.10384615384615381]\n",
      "100%|██████████| 2/2 [00:18<00:00, 18.88s/trial, best loss: 0.08461538461538465]\n",
      "100%|██████████| 3/3 [00:02<00:00,  2.63s/trial, best loss: 0.08461538461538465]\n",
      "100%|██████████| 4/4 [00:06<00:00,  6.82s/trial, best loss: 0.08461538461538465]\n",
      "100%|██████████| 5/5 [00:03<00:00,  3.94s/trial, best loss: 0.08076923076923082]\n",
      "100%|██████████| 6/6 [00:10<00:00, 10.29s/trial, best loss: 0.08076923076923082]\n",
      "100%|██████████| 7/7 [00:05<00:00,  5.97s/trial, best loss: 0.08076923076923082]\n",
      "100%|██████████| 8/8 [00:05<00:00,  5.86s/trial, best loss: 0.08076923076923082]\n",
      "100%|██████████| 9/9 [00:08<00:00,  8.11s/trial, best loss: 0.08076923076923082]\n",
      "100%|██████████| 10/10 [00:14<00:00, 14.23s/trial, best loss: 0.08076923076923082]\n",
      "100%|██████████| 11/11 [00:02<00:00,  2.62s/trial, best loss: 0.08076923076923082]\n",
      "100%|██████████| 12/12 [00:05<00:00,  5.69s/trial, best loss: 0.08076923076923082]\n",
      "100%|██████████| 13/13 [00:06<00:00,  6.16s/trial, best loss: 0.08076923076923082]\n",
      "100%|██████████| 14/14 [00:02<00:00,  2.63s/trial, best loss: 0.08076923076923082]\n",
      "100%|██████████| 15/15 [00:02<00:00,  2.60s/trial, best loss: 0.08076923076923082]\n",
      "100%|██████████| 16/16 [00:09<00:00,  9.44s/trial, best loss: 0.08076923076923082]\n",
      "100%|██████████| 17/17 [00:06<00:00,  6.62s/trial, best loss: 0.08076923076923082]\n",
      "100%|██████████| 18/18 [00:02<00:00,  2.61s/trial, best loss: 0.08076923076923082]\n",
      "100%|██████████| 19/19 [00:03<00:00,  3.46s/trial, best loss: 0.08076923076923082]\n",
      "100%|██████████| 20/20 [00:03<00:00,  3.62s/trial, best loss: 0.08076923076923082]\n",
      "100%|██████████| 21/21 [00:05<00:00,  5.65s/trial, best loss: 0.08076923076923082]\n",
      "100%|██████████| 22/22 [00:04<00:00,  4.41s/trial, best loss: 0.08076923076923082]\n",
      "100%|██████████| 23/23 [00:03<00:00,  3.49s/trial, best loss: 0.08076923076923082]\n",
      "100%|██████████| 24/24 [00:04<00:00,  4.15s/trial, best loss: 0.08076923076923082]\n",
      "100%|██████████| 25/25 [00:25<00:00, 25.61s/trial, best loss: 0.08076923076923082]\n",
      "100%|██████████| 26/26 [00:03<00:00,  3.28s/trial, best loss: 0.08076923076923082]\n",
      "100%|██████████| 27/27 [00:07<00:00,  7.38s/trial, best loss: 0.08076923076923082]\n",
      "100%|██████████| 28/28 [00:05<00:00,  5.27s/trial, best loss: 0.08076923076923082]\n",
      "100%|██████████| 29/29 [00:04<00:00,  4.75s/trial, best loss: 0.08076923076923082]\n",
      "100%|██████████| 30/30 [00:05<00:00,  5.31s/trial, best loss: 0.08076923076923082]\n",
      "100%|██████████| 31/31 [00:10<00:00, 10.31s/trial, best loss: 0.07307692307692304]\n",
      "100%|██████████| 32/32 [00:11<00:00, 11.14s/trial, best loss: 0.07307692307692304]\n",
      "100%|██████████| 33/33 [00:02<00:00,  2.59s/trial, best loss: 0.07307692307692304]\n",
      "100%|██████████| 34/34 [00:03<00:00,  3.29s/trial, best loss: 0.07307692307692304]\n",
      "100%|██████████| 35/35 [00:02<00:00,  2.77s/trial, best loss: 0.07307692307692304]\n",
      "100%|██████████| 36/36 [00:04<00:00,  4.40s/trial, best loss: 0.07307692307692304]\n",
      "100%|██████████| 37/37 [00:02<00:00,  2.55s/trial, best loss: 0.07307692307692304]\n",
      "100%|██████████| 38/38 [00:06<00:00,  6.28s/trial, best loss: 0.07307692307692304]\n",
      "100%|██████████| 39/39 [00:04<00:00,  4.98s/trial, best loss: 0.07307692307692304]\n",
      "100%|██████████| 40/40 [00:05<00:00,  5.42s/trial, best loss: 0.07307692307692304]\n",
      "100%|██████████| 41/41 [00:11<00:00, 11.32s/trial, best loss: 0.07307692307692304]\n",
      "100%|██████████| 42/42 [00:03<00:00,  3.75s/trial, best loss: 0.07307692307692304]\n",
      "100%|██████████| 43/43 [00:06<00:00,  6.11s/trial, best loss: 0.07307692307692304]\n",
      "100%|██████████| 44/44 [00:02<00:00,  2.71s/trial, best loss: 0.07307692307692304]\n",
      "100%|██████████| 45/45 [00:06<00:00,  6.00s/trial, best loss: 0.07307692307692304]\n",
      "100%|██████████| 46/46 [00:05<00:00,  5.71s/trial, best loss: 0.07307692307692304]\n",
      "100%|██████████| 47/47 [00:02<00:00,  2.72s/trial, best loss: 0.07307692307692304]\n",
      "100%|██████████| 48/48 [00:05<00:00,  5.03s/trial, best loss: 0.07307692307692304]\n",
      "100%|██████████| 49/49 [00:06<00:00,  6.93s/trial, best loss: 0.07307692307692304]\n",
      "100%|██████████| 50/50 [00:06<00:00,  6.44s/trial, best loss: 0.07307692307692304]\n",
      "{'learner': SVC(C=0.5333183725854389, coef0=0.8718202930663065,\n",
      "    decision_function_shape='ovo', degree=2, kernel='poly', random_state=2,\n",
      "    tol=0.0010447267724933143), 'preprocs': (), 'ex_preprocs': ()}\n",
      "{'learner': KNeighborsClassifier(leaf_size=38, metric='cityblock', n_jobs=1, n_neighbors=1,\n",
      "                     p=2.65878467921676, weights='distance'), 'preprocs': (), 'ex_preprocs': ()}\n",
      "{'learner': LogisticRegression(C=1.988475510325192, max_iter=653, n_jobs=1, random_state=3,\n",
      "                   tol=0.0004472107396881824), 'preprocs': (), 'ex_preprocs': ()}\n",
      "{'learner': AdaBoostClassifier(base_estimator=DecisionTreeClassifier(criterion='entropy',\n",
      "                                                         max_features=0.6392089272893349,\n",
      "                                                         random_state=1,\n",
      "                                                         splitter='random'),\n",
      "                   learning_rate=0.0011376688028235226, n_estimators=885,\n",
      "                   random_state=0), 'preprocs': (), 'ex_preprocs': ()}\n",
      "{'learner': MLPClassifier(alpha=0.007399140650581402, beta_1=0.923774004381975,\n",
      "              beta_2=0.9639421831737452, epsilon=2.3466279260422093e-06,\n",
      "              learning_rate='invscaling',\n",
      "              learning_rate_init=0.07097210100810994, max_fun=18422,\n",
      "              max_iter=318, momentum=0.862316085071259, n_iter_no_change=20,\n",
      "              power_t=0.2590384129045654, random_state=0,\n",
      "              tol=0.0005978887588081953,\n",
      "              validation_fraction=0.13045568949197328), 'preprocs': (), 'ex_preprocs': ()}\n"
     ]
    }
   ],
   "source": [
    "from deslib.des import KNORAE\n",
    "\n",
    "classifiers = [svm, knn, myLR, ada, mlp]\n",
    "\n",
    "for c in classifiers:\n",
    "    c.fit(X_train.toarray(), y_train)\n",
    "    \n",
    "for c in classifiers:\n",
    "    print(c.best_model())\n"
   ]
  },
  {
   "cell_type": "code",
   "execution_count": 32,
   "metadata": {},
   "outputs": [
    {
     "name": "stderr",
     "output_type": "stream",
     "text": [
      "c:\\Users\\willc\\miniconda3\\envs\\test\\lib\\site-packages\\sklearn\\ensemble\\_base.py:166: FutureWarning: `base_estimator` was renamed to `estimator` in version 1.2 and will be removed in 1.4.\n",
      "  warnings.warn(\n"
     ]
    }
   ],
   "source": [
    "hp_classifiers = [svm, knn, myLR, ada, mlp]\n",
    "\n",
    "sk_classifiers = []\n",
    "\n",
    "for c in hp_classifiers:\n",
    "    sk_model = c.best_model()['learner']\n",
    "    sk_model.fit(X_train.toarray(), y_train)\n",
    "    sk_classifiers.append(sk_model)\n"
   ]
  },
  {
   "cell_type": "code",
   "execution_count": 33,
   "metadata": {},
   "outputs": [
    {
     "ename": "TypeError",
     "evalue": "A sparse matrix was passed, but dense data is required. Use X.toarray() to convert to a dense numpy array.",
     "output_type": "error",
     "traceback": [
      "\u001b[1;31m---------------------------------------------------------------------------\u001b[0m",
      "\u001b[1;31mTypeError\u001b[0m                                 Traceback (most recent call last)",
      "Cell \u001b[1;32mIn[33], line 5\u001b[0m\n\u001b[0;32m      1\u001b[0m ensemble \u001b[39m=\u001b[39m KNORAE(pool_classifiers\u001b[39m=\u001b[39msk_classifiers)\n\u001b[0;32m      3\u001b[0m ensemble\u001b[39m.\u001b[39mfit(X_train\u001b[39m.\u001b[39mtoarray(), y_train)\n\u001b[1;32m----> 5\u001b[0m evaluate_model(ensemble, X_test, y_test)\n",
      "Cell \u001b[1;32mIn[7], line 10\u001b[0m, in \u001b[0;36mevaluate_model\u001b[1;34m(model, X_test, y_test)\u001b[0m\n\u001b[0;32m      9\u001b[0m \u001b[39mdef\u001b[39;00m \u001b[39mevaluate_model\u001b[39m(model, X_test, y_test):\n\u001b[1;32m---> 10\u001b[0m     pred_y \u001b[39m=\u001b[39m model\u001b[39m.\u001b[39;49mpredict(X_test)\n\u001b[0;32m     11\u001b[0m     acc_mod \u001b[39m=\u001b[39m accuracy_score(y_test, pred_y)\n\u001b[0;32m     12\u001b[0m     \u001b[39mprint\u001b[39m(\u001b[39m\"\u001b[39m\u001b[39mAccuracy:\u001b[39m\u001b[39m\"\u001b[39m, \u001b[39mfloat\u001b[39m(\u001b[39m\"\u001b[39m\u001b[39m{0:.2f}\u001b[39;00m\u001b[39m\"\u001b[39m\u001b[39m.\u001b[39mformat(acc_mod\u001b[39m*\u001b[39m\u001b[39m100\u001b[39m)), \u001b[39m\"\u001b[39m\u001b[39m%\u001b[39m\u001b[39m\"\u001b[39m)\n",
      "File \u001b[1;32mc:\\Users\\willc\\miniconda3\\envs\\test\\lib\\site-packages\\deslib\\base.py:417\u001b[0m, in \u001b[0;36mBaseDS.predict\u001b[1;34m(self, X)\u001b[0m\n\u001b[0;32m    413\u001b[0m check_is_fitted(\u001b[39mself\u001b[39m,\n\u001b[0;32m    414\u001b[0m                 [\u001b[39m\"\u001b[39m\u001b[39mDSEL_processed_\u001b[39m\u001b[39m\"\u001b[39m, \u001b[39m\"\u001b[39m\u001b[39mDSEL_data_\u001b[39m\u001b[39m\"\u001b[39m, \u001b[39m\"\u001b[39m\u001b[39mDSEL_target_\u001b[39m\u001b[39m\"\u001b[39m])\n\u001b[0;32m    416\u001b[0m \u001b[39m# Check if X is a valid input\u001b[39;00m\n\u001b[1;32m--> 417\u001b[0m X \u001b[39m=\u001b[39m check_array(X)\n\u001b[0;32m    418\u001b[0m \u001b[39mself\u001b[39m\u001b[39m.\u001b[39m_check_num_features(X)\n\u001b[0;32m    420\u001b[0m n_samples \u001b[39m=\u001b[39m X\u001b[39m.\u001b[39mshape[\u001b[39m0\u001b[39m]\n",
      "File \u001b[1;32mc:\\Users\\willc\\miniconda3\\envs\\test\\lib\\site-packages\\sklearn\\utils\\validation.py:845\u001b[0m, in \u001b[0;36mcheck_array\u001b[1;34m(array, accept_sparse, accept_large_sparse, dtype, order, copy, force_all_finite, ensure_2d, allow_nd, ensure_min_samples, ensure_min_features, estimator, input_name)\u001b[0m\n\u001b[0;32m    843\u001b[0m \u001b[39mif\u001b[39;00m sp\u001b[39m.\u001b[39missparse(array):\n\u001b[0;32m    844\u001b[0m     _ensure_no_complex_data(array)\n\u001b[1;32m--> 845\u001b[0m     array \u001b[39m=\u001b[39m _ensure_sparse_format(\n\u001b[0;32m    846\u001b[0m         array,\n\u001b[0;32m    847\u001b[0m         accept_sparse\u001b[39m=\u001b[39;49maccept_sparse,\n\u001b[0;32m    848\u001b[0m         dtype\u001b[39m=\u001b[39;49mdtype,\n\u001b[0;32m    849\u001b[0m         copy\u001b[39m=\u001b[39;49mcopy,\n\u001b[0;32m    850\u001b[0m         force_all_finite\u001b[39m=\u001b[39;49mforce_all_finite,\n\u001b[0;32m    851\u001b[0m         accept_large_sparse\u001b[39m=\u001b[39;49maccept_large_sparse,\n\u001b[0;32m    852\u001b[0m         estimator_name\u001b[39m=\u001b[39;49mestimator_name,\n\u001b[0;32m    853\u001b[0m         input_name\u001b[39m=\u001b[39;49minput_name,\n\u001b[0;32m    854\u001b[0m     )\n\u001b[0;32m    855\u001b[0m \u001b[39melse\u001b[39;00m:\n\u001b[0;32m    856\u001b[0m     \u001b[39m# If np.array(..) gives ComplexWarning, then we convert the warning\u001b[39;00m\n\u001b[0;32m    857\u001b[0m     \u001b[39m# to an error. This is needed because specifying a non complex\u001b[39;00m\n\u001b[0;32m    858\u001b[0m     \u001b[39m# dtype to the function converts complex to real dtype,\u001b[39;00m\n\u001b[0;32m    859\u001b[0m     \u001b[39m# thereby passing the test made in the lines following the scope\u001b[39;00m\n\u001b[0;32m    860\u001b[0m     \u001b[39m# of warnings context manager.\u001b[39;00m\n\u001b[0;32m    861\u001b[0m     \u001b[39mwith\u001b[39;00m warnings\u001b[39m.\u001b[39mcatch_warnings():\n",
      "File \u001b[1;32mc:\\Users\\willc\\miniconda3\\envs\\test\\lib\\site-packages\\sklearn\\utils\\validation.py:522\u001b[0m, in \u001b[0;36m_ensure_sparse_format\u001b[1;34m(spmatrix, accept_sparse, dtype, copy, force_all_finite, accept_large_sparse, estimator_name, input_name)\u001b[0m\n\u001b[0;32m    519\u001b[0m _check_large_sparse(spmatrix, accept_large_sparse)\n\u001b[0;32m    521\u001b[0m \u001b[39mif\u001b[39;00m accept_sparse \u001b[39mis\u001b[39;00m \u001b[39mFalse\u001b[39;00m:\n\u001b[1;32m--> 522\u001b[0m     \u001b[39mraise\u001b[39;00m \u001b[39mTypeError\u001b[39;00m(\n\u001b[0;32m    523\u001b[0m         \u001b[39m\"\u001b[39m\u001b[39mA sparse matrix was passed, but dense \u001b[39m\u001b[39m\"\u001b[39m\n\u001b[0;32m    524\u001b[0m         \u001b[39m\"\u001b[39m\u001b[39mdata is required. Use X.toarray() to \u001b[39m\u001b[39m\"\u001b[39m\n\u001b[0;32m    525\u001b[0m         \u001b[39m\"\u001b[39m\u001b[39mconvert to a dense numpy array.\u001b[39m\u001b[39m\"\u001b[39m\n\u001b[0;32m    526\u001b[0m     )\n\u001b[0;32m    527\u001b[0m \u001b[39melif\u001b[39;00m \u001b[39misinstance\u001b[39m(accept_sparse, (\u001b[39mlist\u001b[39m, \u001b[39mtuple\u001b[39m)):\n\u001b[0;32m    528\u001b[0m     \u001b[39mif\u001b[39;00m \u001b[39mlen\u001b[39m(accept_sparse) \u001b[39m==\u001b[39m \u001b[39m0\u001b[39m:\n",
      "\u001b[1;31mTypeError\u001b[0m: A sparse matrix was passed, but dense data is required. Use X.toarray() to convert to a dense numpy array."
     ]
    }
   ],
   "source": [
    "ensemble = KNORAE(pool_classifiers=sk_classifiers)\n",
    "\n",
    "ensemble.fit(X_train.toarray(), y_train)\n",
    "\n",
    "evaluate_model(ensemble, X_test, y_test)"
   ]
  }
 ],
 "metadata": {
  "kernelspec": {
   "display_name": "Python 3",
   "language": "python",
   "name": "python3"
  },
  "language_info": {
   "codemirror_mode": {
    "name": "ipython",
    "version": 3
   },
   "file_extension": ".py",
   "mimetype": "text/x-python",
   "name": "python",
   "nbconvert_exporter": "python",
   "pygments_lexer": "ipython3",
   "version": "3.10.12"
  },
  "orig_nbformat": 4
 },
 "nbformat": 4,
 "nbformat_minor": 2
}
