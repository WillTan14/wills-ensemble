{
 "cells": [
  {
   "attachments": {},
   "cell_type": "markdown",
   "metadata": {},
   "source": [
    "# Run ML algorithms"
   ]
  },
  {
   "cell_type": "code",
   "execution_count": 2,
   "metadata": {},
   "outputs": [],
   "source": [
    "# Import Stuff\n",
    "import pandas as pd\n",
    "import numpy as np\n",
    "import matplotlib.pyplot as plt\n",
    "from sklearn.feature_extraction.text import TfidfVectorizer, HashingVectorizer, CountVectorizer\n",
    "from sklearn.svm import SVC\n",
    "from sklearn.model_selection import GridSearchCV\n",
    "from sklearn.neighbors import KNeighborsClassifier\n",
    "from sklearn.linear_model import LogisticRegression\n",
    "from sklearn.ensemble import AdaBoostClassifier\n",
    "from sklearn.model_selection import train_test_split\n",
    "from sklearn.metrics import accuracy_score, confusion_matrix, f1_score, ConfusionMatrixDisplay\n",
    "\n",
    "from hpsklearn import HyperoptEstimator, svc, k_neighbors_classifier, logistic_regression, ada_boost_classifier, decision_tree_classifier\n",
    "\n"
   ]
  },
  {
   "cell_type": "code",
   "execution_count": 14,
   "metadata": {},
   "outputs": [],
   "source": [
    "pheme = pd.read_csv('datasets\\pheme.csv')\n",
    "politifact = pd.read_csv('datasets\\politifact.csv')\n",
    "twitter = pd.read_csv('datasets\\\\twitter.csv')\n"
   ]
  },
  {
   "cell_type": "code",
   "execution_count": 15,
   "metadata": {},
   "outputs": [
    {
     "data": {
      "text/html": [
       "<div>\n",
       "<style scoped>\n",
       "    .dataframe tbody tr th:only-of-type {\n",
       "        vertical-align: middle;\n",
       "    }\n",
       "\n",
       "    .dataframe tbody tr th {\n",
       "        vertical-align: top;\n",
       "    }\n",
       "\n",
       "    .dataframe thead th {\n",
       "        text-align: right;\n",
       "    }\n",
       "</style>\n",
       "<table border=\"1\" class=\"dataframe\">\n",
       "  <thead>\n",
       "    <tr style=\"text-align: right;\">\n",
       "      <th></th>\n",
       "      <th>Unnamed: 0</th>\n",
       "      <th>text</th>\n",
       "      <th>verdict</th>\n",
       "    </tr>\n",
       "  </thead>\n",
       "  <tbody>\n",
       "    <tr>\n",
       "      <th>0</th>\n",
       "      <td>0</td>\n",
       "      <td>ohio police officer hospitalized after eating ...</td>\n",
       "      <td>False</td>\n",
       "    </tr>\n",
       "    <tr>\n",
       "      <th>1</th>\n",
       "      <td>1</td>\n",
       "      <td>one of the men who wanted to copy the  orlando...</td>\n",
       "      <td>False</td>\n",
       "    </tr>\n",
       "    <tr>\n",
       "      <th>2</th>\n",
       "      <td>2</td>\n",
       "      <td>missouri governor declares state of emergency ...</td>\n",
       "      <td>False</td>\n",
       "    </tr>\n",
       "    <tr>\n",
       "      <th>3</th>\n",
       "      <td>3</td>\n",
       "      <td>the iphone   plus really does have a bending p...</td>\n",
       "      <td>False</td>\n",
       "    </tr>\n",
       "    <tr>\n",
       "      <th>4</th>\n",
       "      <td>4</td>\n",
       "      <td>paul walker dies  millions cried  millions die...</td>\n",
       "      <td>True</td>\n",
       "    </tr>\n",
       "  </tbody>\n",
       "</table>\n",
       "</div>"
      ],
      "text/plain": [
       "   Unnamed: 0                                               text  verdict\n",
       "0           0  ohio police officer hospitalized after eating ...    False\n",
       "1           1  one of the men who wanted to copy the  orlando...    False\n",
       "2           2  missouri governor declares state of emergency ...    False\n",
       "3           3  the iphone   plus really does have a bending p...    False\n",
       "4           4  paul walker dies  millions cried  millions die...     True"
      ]
     },
     "execution_count": 15,
     "metadata": {},
     "output_type": "execute_result"
    }
   ],
   "source": [
    "twitter.head()"
   ]
  },
  {
   "cell_type": "code",
   "execution_count": 17,
   "metadata": {},
   "outputs": [
    {
     "name": "stdout",
     "output_type": "stream",
     "text": [
      "(21152, 17894)\n",
      "(2402, 17894)\n",
      "(1729, 4188)\n"
     ]
    }
   ],
   "source": [
    "# Prep data / Encode text\n",
    "\n",
    "tfidf = TfidfVectorizer(max_df=0.6, min_df=0)\n",
    "#tfidf = HashingVectorizer(n_features=2**14)\n",
    "#Fix this - encode the datasets together\n",
    "all_statements = np.append(politifact['statement'].values, pheme['text'].values)\n",
    "\n",
    "all_tf = tfidf.fit_transform(all_statements)\n",
    "polit_tf = all_tf[:21152]\n",
    "pheme_tf = all_tf[21152:]\n",
    "\n",
    "twitter_tf = tfidf.fit_transform(twitter['text'])\n",
    "\n",
    "#polit_tf = tfidf.fit_transform(politifact['statement'].values)\n",
    "#pheme_tf = tfidf.fit_transform(pheme['text'].values)\n",
    "\n",
    "cv = CountVectorizer()\n",
    "X_cv = cv.fit_transform(pheme['text'].values)\n",
    "\n",
    "print(polit_tf.shape)\n",
    "print(pheme_tf.shape)\n",
    "print(twitter_tf.shape)"
   ]
  },
  {
   "cell_type": "code",
   "execution_count": 24,
   "metadata": {},
   "outputs": [],
   "source": [
    "# Select encoding\n",
    "X = pheme_tf\n",
    "#X = X_cv\n",
    "y = pheme['target']\n",
    "\n",
    "rs = 42\n",
    "\n",
    "method = 3\n",
    "\n",
    "if method == 0:\n",
    "    X_train, X_test, y_train, y_test = train_test_split(X, y, test_size = 0.25, random_state = rs)\n",
    "elif method == 1:\n",
    "    X_train, X_test, y_train, y_test = train_test_split(polit_tf, politifact['verdict'], test_size = 0.25, random_state = rs)\n",
    "elif method == 2:\n",
    "    X_train, X_test, y_train, y_test = train_test_split(twitter_tf, twitter['verdict'], test_size = 0.25, random_state = rs)\n",
    "elif method == 3:\n",
    "    X_test = pheme_tf\n",
    "    y_test = pheme['target']\n",
    "    X_train = twitter_tf\n",
    "    y_train = twitter['verdict']\n",
    "else:\n",
    "    X_test = pheme_tf\n",
    "    y_test = pheme['target']\n",
    "    X_train = polit_tf\n",
    "    y_train = politifact['verdict']\n",
    "\n",
    "\n",
    "###Things to do: add more features"
   ]
  },
  {
   "cell_type": "code",
   "execution_count": 6,
   "metadata": {},
   "outputs": [],
   "source": [
    "# Model running function\n",
    "def run_model_after_gridsearch(best_estimators, X_train, y_train, X_test, y_test):\n",
    "    mod = best_estimators\n",
    "    mod.fit(X_train, y_train)\n",
    "    pred_y = mod.predict(X_test)\n",
    "    acc_mod = accuracy_score(y_test, pred_y)\n",
    "    print(\"Accuracy:\", float(\"{0:.2f}\".format(acc_mod*100)), \"%\")\n",
    "    f1_mod = f1_score(y_test, pred_y, average=\"macro\")\n",
    "    print(\"F1:\", float(\"{0:.2f}\".format(f1_mod*100)), \"%\")\n",
    "    cm = confusion_matrix(y_test, pred_y)\n",
    "    disp = ConfusionMatrixDisplay(confusion_matrix=cm, display_labels=[\"true\", \"false\"])\n",
    "    disp.plot()\n",
    "    plt.show()  "
   ]
  },
  {
   "cell_type": "code",
   "execution_count": 19,
   "metadata": {},
   "outputs": [],
   "source": [
    "def run_model_manually(model, X_test, y_test):\n",
    "    pred_y = model.predict(X_test)\n",
    "    acc_mod = accuracy_score(y_test, pred_y)\n",
    "    print(\"Accuracy:\", float(\"{0:.2f}\".format(acc_mod*100)), \"%\")\n",
    "    f1_mod = f1_score(y_test, pred_y, average=\"macro\")\n",
    "    print(\"F1:\", float(\"{0:.2f}\".format(f1_mod*100)), \"%\")\n",
    "    cm = confusion_matrix(y_test, pred_y)\n",
    "    disp = ConfusionMatrixDisplay(confusion_matrix=cm, display_labels=[\"true\", \"false\"])\n",
    "    disp.plot()\n",
    "    plt.show() "
   ]
  },
  {
   "cell_type": "code",
   "execution_count": 22,
   "metadata": {},
   "outputs": [],
   "source": [
    "def optimize_model(model, X_train, y_train):\n",
    "    mod = HyperoptEstimator(classifier=model,\n",
    "                            preprocessing=[],\n",
    "                            max_evals=20)\n",
    "    mod.fit(X_train, y_train)\n",
    "    print(mod.best_model())\n",
    "    return mod\n",
    "\n",
    "def evaluate_model(model, X_test, y_test):\n",
    "    pred_y = model.predict(X_test)\n",
    "    acc_mod = accuracy_score(y_test, pred_y)\n",
    "    print(\"Accuracy:\", float(\"{0:.2f}\".format(acc_mod*100)), \"%\")\n",
    "    f1_mod = f1_score(y_test, pred_y, average=\"macro\")\n",
    "    print(\"F1:\", float(\"{0:.2f}\".format(f1_mod*100)), \"%\")\n",
    "    cm = confusion_matrix(y_test, pred_y)\n",
    "    disp = ConfusionMatrixDisplay(confusion_matrix=cm, display_labels=[\"true\", \"false\"])\n",
    "    disp.plot()\n",
    "    plt.show() \n",
    "    "
   ]
  },
  {
   "cell_type": "code",
   "execution_count": 28,
   "metadata": {},
   "outputs": [
    {
     "name": "stdout",
     "output_type": "stream",
     "text": [
      "100%|██████████| 1/1 [00:04<00:00,  4.86s/trial, best loss: 0.1412742382271468]\n",
      "100%|██████████| 2/2 [00:04<00:00,  4.11s/trial, best loss: 0.1412742382271468]\n",
      "100%|██████████| 3/3 [00:03<00:00,  3.82s/trial, best loss: 0.1412742382271468]\n",
      "100%|██████████| 4/4 [00:04<00:00,  4.16s/trial, best loss: 0.1412742382271468]\n",
      "100%|██████████| 5/5 [00:03<00:00,  3.78s/trial, best loss: 0.1412742382271468]\n",
      "100%|██████████| 6/6 [00:04<00:00,  4.07s/trial, best loss: 0.1412742382271468]\n",
      "100%|██████████| 7/7 [00:03<00:00,  3.73s/trial, best loss: 0.12742382271468145]\n",
      "100%|██████████| 8/8 [00:04<00:00,  4.04s/trial, best loss: 0.12188365650969524]\n",
      "100%|██████████| 9/9 [00:03<00:00,  3.99s/trial, best loss: 0.12188365650969524]\n",
      "100%|██████████| 10/10 [00:03<00:00,  3.79s/trial, best loss: 0.12188365650969524]\n",
      "100%|██████████| 11/11 [00:04<00:00,  4.02s/trial, best loss: 0.12188365650969524]\n",
      "100%|██████████| 12/12 [00:03<00:00,  3.56s/trial, best loss: 0.12188365650969524]\n",
      "100%|██████████| 13/13 [00:03<00:00,  3.68s/trial, best loss: 0.12188365650969524]\n",
      "100%|██████████| 14/14 [00:03<00:00,  3.96s/trial, best loss: 0.12188365650969524]\n",
      "100%|██████████| 15/15 [00:03<00:00,  3.82s/trial, best loss: 0.12188365650969524]\n",
      "100%|██████████| 16/16 [00:03<00:00,  3.69s/trial, best loss: 0.12188365650969524]\n",
      "100%|██████████| 17/17 [00:04<00:00,  4.12s/trial, best loss: 0.12188365650969524]\n",
      "100%|██████████| 18/18 [00:03<00:00,  3.68s/trial, best loss: 0.12188365650969524]\n",
      "100%|██████████| 19/19 [00:03<00:00,  3.57s/trial, best loss: 0.12188365650969524]\n",
      "100%|██████████| 20/20 [00:04<00:00,  4.05s/trial, best loss: 0.12188365650969524]\n",
      "100%|██████████| 21/21 [00:03<00:00,  3.67s/trial, best loss: 0.12188365650969524]\n",
      "100%|██████████| 22/22 [00:04<00:00,  4.30s/trial, best loss: 0.12188365650969524]\n",
      "100%|██████████| 23/23 [00:04<00:00,  4.14s/trial, best loss: 0.12188365650969524]\n",
      "100%|██████████| 24/24 [00:03<00:00,  3.43s/trial, best loss: 0.12188365650969524]\n",
      "100%|██████████| 25/25 [00:03<00:00,  3.66s/trial, best loss: 0.12188365650969524]\n",
      "100%|██████████| 26/26 [00:03<00:00,  3.41s/trial, best loss: 0.12188365650969524]\n",
      "100%|██████████| 27/27 [00:03<00:00,  3.31s/trial, best loss: 0.12188365650969524]\n",
      "100%|██████████| 28/28 [00:03<00:00,  3.72s/trial, best loss: 0.12188365650969524]\n",
      "100%|██████████| 29/29 [00:03<00:00,  3.84s/trial, best loss: 0.12188365650969524]\n",
      "100%|██████████| 30/30 [00:04<00:00,  4.14s/trial, best loss: 0.12188365650969524]\n",
      "100%|██████████| 31/31 [00:04<00:00,  4.33s/trial, best loss: 0.12188365650969524]\n",
      "100%|██████████| 32/32 [00:04<00:00,  4.55s/trial, best loss: 0.12188365650969524]\n",
      "100%|██████████| 33/33 [00:04<00:00,  4.78s/trial, best loss: 0.12188365650969524]\n",
      "100%|██████████| 34/34 [00:04<00:00,  4.14s/trial, best loss: 0.12188365650969524]\n",
      "100%|██████████| 35/35 [00:04<00:00,  4.08s/trial, best loss: 0.12188365650969524]\n",
      "100%|██████████| 36/36 [00:03<00:00,  3.64s/trial, best loss: 0.12188365650969524]\n",
      "100%|██████████| 37/37 [00:03<00:00,  3.94s/trial, best loss: 0.12188365650969524]\n",
      "100%|██████████| 38/38 [00:04<00:00,  4.76s/trial, best loss: 0.12188365650969524]\n",
      "100%|██████████| 39/39 [00:04<00:00,  4.18s/trial, best loss: 0.12188365650969524]\n",
      "100%|██████████| 40/40 [00:06<00:00,  6.20s/trial, best loss: 0.12188365650969524]\n",
      "100%|██████████| 41/41 [00:04<00:00,  4.61s/trial, best loss: 0.12188365650969524]\n",
      "100%|██████████| 42/42 [00:04<00:00,  4.55s/trial, best loss: 0.12188365650969524]\n",
      "100%|██████████| 43/43 [00:04<00:00,  4.22s/trial, best loss: 0.12188365650969524]\n",
      "100%|██████████| 44/44 [00:04<00:00,  4.02s/trial, best loss: 0.12188365650969524]\n",
      "100%|██████████| 45/45 [00:04<00:00,  4.53s/trial, best loss: 0.12188365650969524]\n",
      "100%|██████████| 46/46 [00:04<00:00,  4.16s/trial, best loss: 0.12188365650969524]\n",
      "100%|██████████| 47/47 [00:04<00:00,  4.21s/trial, best loss: 0.12188365650969524]\n",
      "100%|██████████| 48/48 [00:03<00:00,  3.74s/trial, best loss: 0.12188365650969524]\n",
      "100%|██████████| 49/49 [00:03<00:00,  3.41s/trial, best loss: 0.12188365650969524]\n",
      "100%|██████████| 50/50 [00:03<00:00,  3.92s/trial, best loss: 0.12188365650969524]\n",
      "{'learner': SVC(C=0.9852876843464358, coef0=0.800700984120711, degree=4, random_state=4,\n",
      "    shrinking=False, tol=0.00970440159075791), 'preprocs': (), 'ex_preprocs': ()}\n"
     ]
    }
   ],
   "source": [
    "# SVM\n",
    "svm = optimize_model(svc(\"mySVC\"), X_train, y_train)"
   ]
  },
  {
   "cell_type": "code",
   "execution_count": 29,
   "metadata": {},
   "outputs": [
    {
     "name": "stdout",
     "output_type": "stream",
     "text": [
      "Accuracy: 84.53 %\n",
      "F1: 84.35 %\n"
     ]
    },
    {
     "data": {
      "image/png": "[encoded data removed]",
      "text/plain": [
       "<Figure size 640x480 with 2 Axes>"
      ]
     },
     "metadata": {},
     "output_type": "display_data"
    }
   ],
   "source": [
    "evaluate_model(svm, X_test, y_test)"
   ]
  },
  {
   "cell_type": "code",
   "execution_count": 21,
   "metadata": {},
   "outputs": [
    {
     "name": "stdout",
     "output_type": "stream",
     "text": [
      "100%|██████████| 1/1 [00:12<00:00, 12.20s/trial, best loss: 0.25769230769230766]\n",
      "100%|██████████| 2/2 [00:06<00:00,  6.08s/trial, best loss: 0.25769230769230766]\n",
      "100%|██████████| 3/3 [00:07<00:00,  7.09s/trial, best loss: 0.25769230769230766]\n",
      "100%|██████████| 4/4 [00:07<00:00,  7.07s/trial, best loss: 0.1807692307692308]\n",
      "100%|██████████| 5/5 [00:14<00:00, 14.32s/trial, best loss: 0.15384615384615385]\n",
      "100%|██████████| 6/6 [00:12<00:00, 12.02s/trial, best loss: 0.15384615384615385]\n",
      "100%|██████████| 7/7 [00:18<00:00, 18.47s/trial, best loss: 0.12307692307692308]\n",
      "100%|██████████| 8/8 [00:07<00:00,  7.95s/trial, best loss: 0.12307692307692308]\n",
      "100%|██████████| 9/9 [00:08<00:00,  8.83s/trial, best loss: 0.12307692307692308]\n",
      "100%|██████████| 10/10 [00:10<00:00, 10.67s/trial, best loss: 0.09999999999999998]\n",
      "100%|██████████| 11/11 [00:07<00:00,  7.51s/trial, best loss: 0.09999999999999998]\n",
      "100%|██████████| 12/12 [00:16<00:00, 16.46s/trial, best loss: 0.09999999999999998]\n",
      "100%|██████████| 13/13 [00:14<00:00, 14.77s/trial, best loss: 0.09999999999999998]\n",
      "100%|██████████| 14/14 [00:12<00:00, 12.52s/trial, best loss: 0.08076923076923082]\n",
      "100%|██████████| 15/15 [00:06<00:00,  6.29s/trial, best loss: 0.08076923076923082]\n",
      "100%|██████████| 16/16 [00:05<00:00,  5.73s/trial, best loss: 0.08076923076923082]\n",
      "100%|██████████| 17/17 [00:05<00:00,  5.47s/trial, best loss: 0.08076923076923082]\n",
      "100%|██████████| 18/18 [00:05<00:00,  5.35s/trial, best loss: 0.08076923076923082]\n",
      "100%|██████████| 19/19 [00:05<00:00,  5.54s/trial, best loss: 0.08076923076923082]\n",
      "100%|██████████| 20/20 [00:05<00:00,  5.63s/trial, best loss: 0.08076923076923082]\n",
      "100%|██████████| 21/21 [00:05<00:00,  5.48s/trial, best loss: 0.08076923076923082]\n",
      "100%|██████████| 22/22 [00:05<00:00,  5.44s/trial, best loss: 0.08076923076923082]\n",
      "100%|██████████| 23/23 [00:05<00:00,  5.20s/trial, best loss: 0.08076923076923082]\n",
      "100%|██████████| 24/24 [00:05<00:00,  5.33s/trial, best loss: 0.08076923076923082]\n",
      "100%|██████████| 25/25 [00:06<00:00,  6.66s/trial, best loss: 0.08076923076923082]\n",
      "100%|██████████| 26/26 [00:06<00:00,  6.62s/trial, best loss: 0.08076923076923082]\n",
      "100%|██████████| 27/27 [00:05<00:00,  5.44s/trial, best loss: 0.08076923076923082]\n",
      "100%|██████████| 28/28 [00:05<00:00,  5.42s/trial, best loss: 0.08076923076923082]\n",
      "100%|██████████| 29/29 [00:06<00:00,  6.54s/trial, best loss: 0.08076923076923082]\n",
      "100%|██████████| 30/30 [00:06<00:00,  6.53s/trial, best loss: 0.08076923076923082]\n",
      "100%|██████████| 31/31 [00:11<00:00, 11.28s/trial, best loss: 0.08076923076923082]\n",
      "100%|██████████| 32/32 [00:07<00:00,  7.20s/trial, best loss: 0.08076923076923082]\n",
      "100%|██████████| 33/33 [00:05<00:00,  5.49s/trial, best loss: 0.08076923076923082]\n",
      "100%|██████████| 34/34 [00:05<00:00,  5.20s/trial, best loss: 0.08076923076923082]\n",
      "100%|██████████| 35/35 [00:05<00:00,  5.83s/trial, best loss: 0.08076923076923082]\n",
      "100%|██████████| 36/36 [00:05<00:00,  5.20s/trial, best loss: 0.08076923076923082]\n",
      "100%|██████████| 37/37 [00:05<00:00,  5.98s/trial, best loss: 0.08076923076923082]\n",
      "100%|██████████| 38/38 [00:06<00:00,  6.22s/trial, best loss: 0.08076923076923082]\n",
      "100%|██████████| 39/39 [00:06<00:00,  6.51s/trial, best loss: 0.08076923076923082]\n",
      "100%|██████████| 40/40 [00:05<00:00,  5.43s/trial, best loss: 0.08076923076923082]\n",
      "100%|██████████| 41/41 [00:06<00:00,  6.38s/trial, best loss: 0.08076923076923082]\n",
      "100%|██████████| 42/42 [00:06<00:00,  6.07s/trial, best loss: 0.08076923076923082]\n",
      "100%|██████████| 43/43 [00:05<00:00,  5.06s/trial, best loss: 0.08076923076923082]\n",
      "100%|██████████| 44/44 [00:05<00:00,  5.98s/trial, best loss: 0.08076923076923082]\n",
      "100%|██████████| 45/45 [00:05<00:00,  5.32s/trial, best loss: 0.08076923076923082]\n",
      "100%|██████████| 46/46 [00:07<00:00,  7.65s/trial, best loss: 0.08076923076923082]\n",
      "100%|██████████| 47/47 [00:08<00:00,  8.75s/trial, best loss: 0.08076923076923082]\n",
      "100%|██████████| 48/48 [00:06<00:00,  6.31s/trial, best loss: 0.08076923076923082]\n",
      "100%|██████████| 49/49 [00:05<00:00,  5.15s/trial, best loss: 0.08076923076923082]\n",
      "100%|██████████| 50/50 [00:06<00:00,  6.14s/trial, best loss: 0.08076923076923082]\n",
      "{'learner': KNeighborsClassifier(algorithm='brute', leaf_size=20, metric='euclidean',\n",
      "                     n_jobs=1, n_neighbors=2, p=2.1246056243037277,\n",
      "                     weights='distance'), 'preprocs': (), 'ex_preprocs': ()}\n"
     ]
    }
   ],
   "source": [
    "# KNN\n",
    "from sklearn.neighbors import VALID_METRICS_SPARSE\n",
    "from hyperopt import hp\n",
    "knn_metrics = hp.choice(\"metric\", {'cityblock', 'l1', 'l2', 'euclidean', 'manhattan'})\n",
    "knn= optimize_model(k_neighbors_classifier(\"myKNN\", metric=knn_metrics), X_train, y_train)\n"
   ]
  },
  {
   "cell_type": "code",
   "execution_count": 23,
   "metadata": {},
   "outputs": [
    {
     "name": "stdout",
     "output_type": "stream",
     "text": [
      "Accuracy: 89.84 %\n",
      "F1: 89.04 %\n"
     ]
    },
    {
     "data": {
      "image/png": "[encoded data removed]",
      "text/plain": [
       "<Figure size 640x480 with 2 Axes>"
      ]
     },
     "metadata": {},
     "output_type": "display_data"
    }
   ],
   "source": [
    "evaluate_model(knn, X_test, y_test)"
   ]
  },
  {
   "cell_type": "code",
   "execution_count": 57,
   "metadata": {},
   "outputs": [
    {
     "name": "stdout",
     "output_type": "stream",
     "text": [
      "100%|██████████| 1/1 [00:03<00:00,  3.64s/trial, best loss: 0.23822714681440438]\n",
      "100%|██████████| 2/2 [00:03<00:00,  3.91s/trial, best loss: 0.1634349030470914]\n",
      "100%|██████████| 3/3 [00:03<00:00,  3.51s/trial, best loss: 0.1523545706371191]\n",
      "100%|██████████| 4/4 [00:03<00:00,  3.44s/trial, best loss: 0.14404432132963985]\n",
      "100%|██████████| 5/5 [00:03<00:00,  3.78s/trial, best loss: 0.14404432132963985]\n",
      "100%|██████████| 6/6 [00:03<00:00,  3.47s/trial, best loss: 0.14404432132963985]\n",
      "100%|██████████| 7/7 [00:03<00:00,  3.43s/trial, best loss: 0.14404432132963985]\n",
      "100%|██████████| 8/8 [00:03<00:00,  3.98s/trial, best loss: 0.14404432132963985]\n",
      "100%|██████████| 9/9 [00:03<00:00,  3.42s/trial, best loss: 0.14404432132963985]\n",
      "100%|██████████| 10/10 [00:03<00:00,  3.52s/trial, best loss: 0.14404432132963985]\n",
      "100%|██████████| 11/11 [00:03<00:00,  3.76s/trial, best loss: 0.14404432132963985]\n",
      "100%|██████████| 12/12 [00:03<00:00,  3.39s/trial, best loss: 0.14404432132963985]\n",
      "100%|██████████| 13/13 [00:03<00:00,  3.44s/trial, best loss: 0.14404432132963985]\n",
      "100%|██████████| 14/14 [00:03<00:00,  3.79s/trial, best loss: 0.14404432132963985]\n",
      "100%|██████████| 15/15 [00:03<00:00,  3.77s/trial, best loss: 0.14404432132963985]\n",
      "100%|██████████| 16/16 [00:03<00:00,  3.42s/trial, best loss: 0.14404432132963985]\n",
      "100%|██████████| 17/17 [00:03<00:00,  3.81s/trial, best loss: 0.14404432132963985]\n",
      "100%|██████████| 18/18 [00:03<00:00,  3.41s/trial, best loss: 0.14404432132963985]\n",
      "100%|██████████| 19/19 [00:03<00:00,  3.45s/trial, best loss: 0.14404432132963985]\n",
      "100%|██████████| 20/20 [00:04<00:00,  4.23s/trial, best loss: 0.14404432132963985]\n",
      "100%|██████████| 21/21 [00:04<00:00,  4.50s/trial, best loss: 0.14404432132963985]\n",
      "100%|██████████| 22/22 [00:03<00:00,  3.70s/trial, best loss: 0.14404432132963985]\n",
      "100%|██████████| 23/23 [00:03<00:00,  3.66s/trial, best loss: 0.14404432132963985]\n",
      "100%|██████████| 24/24 [00:03<00:00,  3.90s/trial, best loss: 0.14404432132963985]\n",
      "100%|██████████| 25/25 [00:04<00:00,  4.55s/trial, best loss: 0.14404432132963985]\n",
      "100%|██████████| 26/26 [00:04<00:00,  4.97s/trial, best loss: 0.14404432132963985]\n",
      "100%|██████████| 27/27 [00:03<00:00,  4.00s/trial, best loss: 0.14404432132963985]\n",
      "100%|██████████| 28/28 [00:04<00:00,  4.33s/trial, best loss: 0.14404432132963985]\n",
      "100%|██████████| 29/29 [00:03<00:00,  3.66s/trial, best loss: 0.14404432132963985]\n",
      "100%|██████████| 30/30 [00:03<00:00,  3.67s/trial, best loss: 0.14404432132963985]\n",
      "100%|██████████| 31/31 [00:04<00:00,  4.23s/trial, best loss: 0.14404432132963985]\n",
      "100%|██████████| 32/32 [00:03<00:00,  3.86s/trial, best loss: 0.14404432132963985]\n",
      "100%|██████████| 33/33 [00:03<00:00,  3.36s/trial, best loss: 0.14404432132963985]\n",
      "100%|██████████| 34/34 [00:03<00:00,  3.19s/trial, best loss: 0.14404432132963985]\n",
      "100%|██████████| 35/35 [00:03<00:00,  3.44s/trial, best loss: 0.14404432132963985]\n",
      "100%|██████████| 36/36 [00:03<00:00,  3.15s/trial, best loss: 0.14404432132963985]\n",
      "100%|██████████| 37/37 [00:03<00:00,  3.23s/trial, best loss: 0.14404432132963985]\n",
      "100%|██████████| 38/38 [00:03<00:00,  3.57s/trial, best loss: 0.14404432132963985]\n",
      "100%|██████████| 39/39 [00:03<00:00,  3.28s/trial, best loss: 0.14404432132963985]\n",
      "100%|██████████| 40/40 [00:04<00:00,  4.41s/trial, best loss: 0.14404432132963985]\n",
      "100%|██████████| 41/41 [00:04<00:00,  4.23s/trial, best loss: 0.14404432132963985]\n",
      "100%|██████████| 42/42 [00:03<00:00,  3.92s/trial, best loss: 0.14404432132963985]\n",
      "100%|██████████| 43/43 [00:04<00:00,  4.83s/trial, best loss: 0.14404432132963985]\n",
      "100%|██████████| 44/44 [00:04<00:00,  4.16s/trial, best loss: 0.14404432132963985]\n",
      "100%|██████████| 45/45 [00:03<00:00,  3.93s/trial, best loss: 0.14404432132963985]\n",
      "100%|██████████| 46/46 [00:04<00:00,  4.12s/trial, best loss: 0.14404432132963985]\n",
      "100%|██████████| 47/47 [00:03<00:00,  3.40s/trial, best loss: 0.14404432132963985]\n",
      "100%|██████████| 48/48 [00:03<00:00,  3.25s/trial, best loss: 0.14404432132963985]\n",
      "100%|██████████| 49/49 [00:03<00:00,  3.53s/trial, best loss: 0.14404432132963985]\n",
      "100%|██████████| 50/50 [00:03<00:00,  3.20s/trial, best loss: 0.14404432132963985]\n",
      "{'learner': LogisticRegression(C=1.5505403080866935, max_iter=270, n_jobs=1, random_state=0,\n",
      "                   solver='liblinear', tol=0.0001487098203537736), 'preprocs': (), 'ex_preprocs': ()}\n"
     ]
    }
   ],
   "source": [
    "# Logistic Regression logistic_regression\n",
    "myLR = optimize_model(logistic_regression(\"myLR\"), X_train, y_train)"
   ]
  },
  {
   "cell_type": "code",
   "execution_count": 58,
   "metadata": {},
   "outputs": [
    {
     "name": "stdout",
     "output_type": "stream",
     "text": [
      "Accuracy: 84.19 %\n",
      "F1: 84.01 %\n"
     ]
    },
    {
     "data": {
      "image/png": "[encoded data removed]",
      "text/plain": [
       "<Figure size 640x480 with 2 Axes>"
      ]
     },
     "metadata": {},
     "output_type": "display_data"
    }
   ],
   "source": [
    "evaluate_model(myLR, X_test, y_test)"
   ]
  },
  {
   "cell_type": "code",
   "execution_count": 62,
   "metadata": {},
   "outputs": [
    {
     "name": "stdout",
     "output_type": "stream",
     "text": [
      "100%|██████████| 1/1 [00:24<00:00, 24.62s/trial, best loss: 0.1523545706371191]\n",
      " 50%|█████     | 1/2 [00:04<?, ?trial/s, best loss=?]\n"
     ]
    },
    {
     "name": "stderr",
     "output_type": "stream",
     "text": [
      "c:\\Users\\willc\\miniconda3\\envs\\rumour-ensemble\\lib\\site-packages\\sklearn\\ensemble\\_base.py:166: FutureWarning: `base_estimator` was renamed to `estimator` in version 1.2 and will be removed in 1.4.\n",
      "  warnings.warn(\n"
     ]
    }
   ],
   "source": [
    "# AdaBoost\n",
    "baseDT = decision_tree_classifier(\"adaDT\")\n",
    "ada = optimize_model(ada_boost_classifier(\"myada\", estimator=baseDT), X_train, y_train)"
   ]
  },
  {
   "cell_type": "code",
   "execution_count": null,
   "metadata": {},
   "outputs": [
    {
     "name": "stdout",
     "output_type": "stream",
     "text": [
      "Accuracy: 82.36 %\n",
      "F1: 0.8227197845009906\n"
     ]
    },
    {
     "data": {
      "image/png": "[encoded data removed]",
      "text/plain": [
       "<Figure size 640x480 with 2 Axes>"
      ]
     },
     "metadata": {},
     "output_type": "display_data"
    }
   ],
   "source": [
    "# Run model with best results\n",
    "evaluate_model(ada, X_test, y_test)"
   ]
  }
 ],
 "metadata": {
  "kernelspec": {
   "display_name": "Python 3",
   "language": "python",
   "name": "python3"
  },
  "language_info": {
   "codemirror_mode": {
    "name": "ipython",
    "version": 3
   },
   "file_extension": ".py",
   "mimetype": "text/x-python",
   "name": "python",
   "nbconvert_exporter": "python",
   "pygments_lexer": "ipython3",
   "version": "3.10.12"
  },
  "orig_nbformat": 4
 },
 "nbformat": 4,
 "nbformat_minor": 2
}
