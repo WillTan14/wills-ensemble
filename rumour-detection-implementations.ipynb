{
 "cells": [
  {
   "attachments": {},
   "cell_type": "markdown",
   "metadata": {},
   "source": [
    "# Prepare data"
   ]
  },
  {
   "cell_type": "code",
   "execution_count": 59,
   "metadata": {},
   "outputs": [],
   "source": [
    "# Import Stuff\n",
    "import pandas as pd\n",
    "import numpy as np\n",
    "import matplotlib.pyplot as plt\n",
    "from sklearn.feature_extraction.text import TfidfVectorizer, HashingVectorizer, CountVectorizer\n",
    "from sklearn.svm import SVC\n",
    "from sklearn.model_selection import GridSearchCV\n",
    "from sklearn.neighbors import KNeighborsClassifier\n",
    "from sklearn.linear_model import LogisticRegression\n",
    "from sklearn.ensemble import AdaBoostClassifier\n",
    "from sklearn.model_selection import train_test_split\n",
    "from sklearn.metrics import accuracy_score, confusion_matrix, f1_score, ConfusionMatrixDisplay\n",
    "\n",
    "from hpsklearn import HyperoptEstimator"
   ]
  },
  {
   "cell_type": "code",
   "execution_count": 63,
   "metadata": {},
   "outputs": [],
   "source": [
    "pheme = pd.read_csv('datasets\\pheme.csv')\n",
    "politifact = pd.read_csv('datasets\\politifact.csv')\n",
    "twitter = pd.read_csv('datasets\\\\twitter.csv')"
   ]
  },
  {
   "cell_type": "code",
   "execution_count": 64,
   "metadata": {},
   "outputs": [],
   "source": [
    "x = pheme['text']\n",
    "y = pheme['target']"
   ]
  },
  {
   "cell_type": "code",
   "execution_count": 18,
   "metadata": {},
   "outputs": [
    {
     "data": {
      "text/plain": [
       "149"
      ]
     },
     "execution_count": 18,
     "metadata": {},
     "output_type": "execute_result"
    }
   ],
   "source": [
    "max = 0\n",
    "for text in pheme['text']:\n",
    "    if len(text) > max:\n",
    "        max = len(text)\n",
    "max"
   ]
  },
  {
   "cell_type": "code",
   "execution_count": 77,
   "metadata": {},
   "outputs": [
    {
     "name": "stderr",
     "output_type": "stream",
     "text": [
      "1193514it [01:05, 18212.35it/s]\n",
      "100%|██████████| 3839/3839 [00:00<00:00, 426597.78it/s]"
     ]
    },
    {
     "name": "stdout",
     "output_type": "stream",
     "text": [
      "Converted 3456 words and 383 misses\n"
     ]
    },
    {
     "name": "stderr",
     "output_type": "stream",
     "text": [
      "\n"
     ]
    }
   ],
   "source": [
    "from keras.preprocessing.text import Tokenizer\n",
    "from keras.preprocessing.sequence import pad_sequences\n",
    "from tqdm import tqdm\n",
    "\n",
    "token = Tokenizer()\n",
    "token.fit_on_texts(x)\n",
    "seq = token.texts_to_sequences(x)\n",
    "pad_seq = pad_sequences(seq,maxlen=300)\n",
    "vocab_size = len(token.word_index)+1\n",
    "\n",
    "embedding_vector = {}\n",
    "f = open('glove\\glove.twitter.27B.200d.txt')\n",
    "for line in tqdm(f):\n",
    "    value = line.split(' ')\n",
    "    word = value[0]\n",
    "    coef = np.array(value[1:],dtype = 'float32')\n",
    "    embedding_vector[word] = coef\n",
    "\n",
    "embedding_matrix = np.zeros((vocab_size,200))\n",
    "hits=0\n",
    "misses=0\n",
    "for word,i in tqdm(token.word_index.items()):\n",
    "    embedding_value = embedding_vector.get(word)\n",
    "    if embedding_value is not None:\n",
    "        embedding_matrix[i] = embedding_value\n",
    "        hits +=1\n",
    "    else:\n",
    "        misses += 1\n",
    "print(f\"Converted {hits} words and {misses} misses\")"
   ]
  },
  {
   "cell_type": "code",
   "execution_count": 79,
   "metadata": {},
   "outputs": [
    {
     "name": "stderr",
     "output_type": "stream",
     "text": [
      "Downloading model.safetensors: 100%|██████████| 268M/268M [01:06<00:00, 4.01MB/s] \n",
      "Some weights of the PyTorch model were not used when initializing the TF 2.0 model TFDistilBertForSequenceClassification: ['vocab_layer_norm.weight', 'vocab_transform.weight', 'vocab_layer_norm.bias', 'vocab_transform.bias', 'vocab_projector.bias']\n",
      "- This IS expected if you are initializing TFDistilBertForSequenceClassification from a PyTorch model trained on another task or with another architecture (e.g. initializing a TFBertForSequenceClassification model from a BertForPreTraining model).\n",
      "- This IS NOT expected if you are initializing TFDistilBertForSequenceClassification from a PyTorch model that you expect to be exactly identical (e.g. initializing a TFBertForSequenceClassification model from a BertForSequenceClassification model).\n",
      "Some weights or buffers of the TF 2.0 model TFDistilBertForSequenceClassification were not initialized from the PyTorch model and are newly initialized: ['pre_classifier.weight', 'pre_classifier.bias', 'classifier.weight', 'classifier.bias']\n",
      "You should probably TRAIN this model on a down-stream task to be able to use it for predictions and inference.\n"
     ]
    },
    {
     "ename": "NameError",
     "evalue": "name 'data_collator' is not defined",
     "output_type": "error",
     "traceback": [
      "\u001b[1;31m---------------------------------------------------------------------------\u001b[0m",
      "\u001b[1;31mNameError\u001b[0m                                 Traceback (most recent call last)",
      "Cell \u001b[1;32mIn[79], line 19\u001b[0m\n\u001b[0;32m      9\u001b[0m label2id \u001b[39m=\u001b[39m {\u001b[39m\"\u001b[39m\u001b[39mFalse\u001b[39m\u001b[39m\"\u001b[39m: \u001b[39m0\u001b[39m, \u001b[39m\"\u001b[39m\u001b[39mTrue\u001b[39m\u001b[39m\"\u001b[39m: \u001b[39m1\u001b[39m}\n\u001b[0;32m     11\u001b[0m model \u001b[39m=\u001b[39m TFAutoModelForSequenceClassification\u001b[39m.\u001b[39mfrom_pretrained(\n\u001b[0;32m     12\u001b[0m     \u001b[39m\"\u001b[39m\u001b[39mdistilbert-base-uncased\u001b[39m\u001b[39m\"\u001b[39m, num_labels\u001b[39m=\u001b[39m\u001b[39m2\u001b[39m, id2label\u001b[39m=\u001b[39mid2label, label2id\u001b[39m=\u001b[39mlabel2id\n\u001b[0;32m     13\u001b[0m )\n\u001b[0;32m     15\u001b[0m tf_train_set \u001b[39m=\u001b[39m model\u001b[39m.\u001b[39mprepare_tf_dataset(\n\u001b[0;32m     16\u001b[0m     pheme[\u001b[39m'\u001b[39m\u001b[39mtext\u001b[39m\u001b[39m'\u001b[39m],\n\u001b[0;32m     17\u001b[0m     shuffle\u001b[39m=\u001b[39m\u001b[39mTrue\u001b[39;00m,\n\u001b[0;32m     18\u001b[0m     batch_size\u001b[39m=\u001b[39m\u001b[39m16\u001b[39m,\n\u001b[1;32m---> 19\u001b[0m     collate_fn\u001b[39m=\u001b[39mdata_collator,\n\u001b[0;32m     20\u001b[0m )\n",
      "\u001b[1;31mNameError\u001b[0m: name 'data_collator' is not defined"
     ]
    }
   ],
   "source": [
    "from transformers import AutoTokenizer, TFAutoModelForSequenceClassification, DataCollatorWithPadding\n",
    "\n",
    "tokenizer = AutoTokenizer.from_pretrained(\"distilbert-base-uncased\")\n",
    "data_collator = DataCollatorWithPadding(tokenizer=tokenizer, return_tensors=\"tf\")\n",
    "\n",
    "def preprocess_function(examples):\n",
    "    return tokenizer(examples[\"text\"], truncation=True)\n",
    "\n",
    "id2label = {0: \"False\", 1: \"True\"}\n",
    "label2id = {\"False\": 0, \"True\": 1}\n",
    "\n",
    "model = TFAutoModelForSequenceClassification.from_pretrained(\n",
    "    \"distilbert-base-uncased\", num_labels=2, id2label=id2label, label2id=label2id\n",
    ")\n",
    "\n",
    "tf_train_set = model.prepare_tf_dataset(\n",
    "    pheme['text'],\n",
    "    shuffle=True,\n",
    "    batch_size=16,\n",
    "    collate_fn=data_collator,\n",
    ")\n"
   ]
  },
  {
   "cell_type": "code",
   "execution_count": null,
   "metadata": {},
   "outputs": [],
   "source": [
    "from zeugma.embeddings import EmbeddingTransformer\n",
    "\n",
    "glove = EmbeddingTransformer('glove')\n"
   ]
  },
  {
   "cell_type": "code",
   "execution_count": 5,
   "metadata": {},
   "outputs": [],
   "source": [
    "def encode_two_datasets(set1, set2):\n",
    "    tfidf = TfidfVectorizer(max_df=0.6, min_df=0)\n",
    "    all_statements = np.append(set1, set2)\n",
    "    all_tf = tfidf.fit_transform(all_statements)\n",
    "    return all_tf[:len(set1)], all_tf[len(set1):]"
   ]
  },
  {
   "cell_type": "code",
   "execution_count": 8,
   "metadata": {},
   "outputs": [
    {
     "name": "stdout",
     "output_type": "stream",
     "text": [
      "(1729, 6101)\n"
     ]
    }
   ],
   "source": [
    "rs = 42\n",
    "method = 3\n",
    "tfidf = TfidfVectorizer(max_df=0.6, min_df=0)\n",
    "#tfidf = CountVectorizer(max_df=0.6, min_df=0)\n",
    "\n",
    "if method == 0:\n",
    "    pheme_tf = tfidf.fit_transform(pheme['text'].values)\n",
    "    X_train, X_test, y_train, y_test = train_test_split(pheme_tf, pheme['target'], test_size = 0.25, random_state = rs)\n",
    "elif method == 1:\n",
    "    polit_tf = tfidf.fit_transform(politifact['statement'].values)\n",
    "    X_train, X_test, y_train, y_test = train_test_split(polit_tf, politifact['verdict'], test_size = 0.25, random_state = rs)\n",
    "elif method == 2:\n",
    "    twitter_tf = tfidf.fit_transform(twitter['text'].values)\n",
    "    X_train, X_test, y_train, y_test = train_test_split(twitter_tf, twitter['verdict'], test_size = 0.25, random_state = rs)\n",
    "elif method == 3:\n",
    "    X_train, X_test = encode_two_datasets(twitter['text'].values, pheme['text'].values)\n",
    "    y_test = pheme['target']\n",
    "    y_train = twitter['verdict']\n",
    "else:\n",
    "    X_train, X_test = encode_two_datasets(politifact['statement'].values, pheme['text'].values)\n",
    "    y_train = politifact['verdict']\n",
    "    y_test = pheme['target']\n",
    "    \n",
    "\n",
    "# Set no. of folds\n",
    "num_folds = 10\n",
    "\n",
    "###Things to do: add more features\n",
    "print(X_train.shape)"
   ]
  },
  {
   "cell_type": "markdown",
   "metadata": {},
   "source": [
    "# Run models"
   ]
  },
  {
   "cell_type": "code",
   "execution_count": 7,
   "metadata": {},
   "outputs": [],
   "source": [
    "# Model running function\n",
    "def run_model_after_gridsearch(best_estimators, X_train, y_train, X_test, y_test):\n",
    "    mod = best_estimators\n",
    "    mod.fit(X_train, y_train)\n",
    "    pred_y = mod.predict(X_test)\n",
    "    acc_mod = accuracy_score(y_test, pred_y)\n",
    "    print(\"Accuracy:\", float(\"{0:.2f}\".format(acc_mod*100)), \"%\")\n",
    "    f1_mod = f1_score(y_test, pred_y, average=\"macro\")\n",
    "    print(\"F1:\", float(\"{0:.2f}\".format(f1_mod*100)), \"%\")\n",
    "    cm = confusion_matrix(y_test, pred_y)\n",
    "    disp = ConfusionMatrixDisplay(confusion_matrix=cm, display_labels=[\"true\", \"false\"])\n",
    "    disp.plot()\n",
    "    plt.show()  "
   ]
  },
  {
   "cell_type": "code",
   "execution_count": 8,
   "metadata": {},
   "outputs": [],
   "source": [
    "def run_model_manually(model, X_test, y_test):\n",
    "    pred_y = model.predict(X_test)\n",
    "    acc_mod = accuracy_score(y_test, pred_y)\n",
    "    print(\"Accuracy:\", float(\"{0:.2f}\".format(acc_mod*100)), \"%\")\n",
    "    f1_mod = f1_score(y_test, pred_y, average=\"macro\")\n",
    "    print(\"F1:\", float(\"{0:.2f}\".format(f1_mod*100)), \"%\")\n",
    "    cm = confusion_matrix(y_test, pred_y)\n",
    "    disp = ConfusionMatrixDisplay(confusion_matrix=cm, display_labels=[\"true\", \"false\"])\n",
    "    disp.plot()\n",
    "    plt.show() "
   ]
  },
  {
   "cell_type": "code",
   "execution_count": 9,
   "metadata": {},
   "outputs": [],
   "source": [
    "def optimize_model(model, X_train, y_train):\n",
    "    mod = HyperoptEstimator(classifier=model,\n",
    "                            preprocessing=[],\n",
    "                            max_evals=50)\n",
    "    mod.fit(X_train, y_train)\n",
    "    print(mod.best_model())\n",
    "    return mod\n",
    "\n",
    "def evaluate_model(model, X_test, y_test):\n",
    "    pred_y = model.predict(X_test)\n",
    "    acc_mod = accuracy_score(y_test, pred_y)\n",
    "    print(\"Accuracy:\", float(\"{0:.2f}\".format(acc_mod*100)), \"%\")\n",
    "    f1_mod = f1_score(y_test, pred_y, average=\"macro\")\n",
    "    print(\"F1:\", float(\"{0:.2f}\".format(f1_mod*100)), \"%\")\n",
    "    cm = confusion_matrix(y_test, pred_y)\n",
    "    disp = ConfusionMatrixDisplay(confusion_matrix=cm, display_labels=[\"true\", \"false\"])\n",
    "    disp.plot()\n",
    "    plt.show() \n",
    "    "
   ]
  },
  {
   "cell_type": "code",
   "execution_count": 52,
   "metadata": {},
   "outputs": [
    {
     "name": "stdout",
     "output_type": "stream",
     "text": [
      "100%|██████████| 1/1 [00:02<00:00,  2.49s/trial, best loss: 0.1502890173410405]\n",
      "100%|██████████| 2/2 [00:02<00:00,  2.59s/trial, best loss: 0.1502890173410405]\n",
      "100%|██████████| 3/3 [00:02<00:00,  2.67s/trial, best loss: 0.1502890173410405]\n",
      "100%|██████████| 4/4 [00:02<00:00,  2.58s/trial, best loss: 0.1502890173410405]\n",
      "100%|██████████| 5/5 [00:02<00:00,  2.77s/trial, best loss: 0.1502890173410405]\n",
      "100%|██████████| 6/6 [00:02<00:00,  2.37s/trial, best loss: 0.1502890173410405]\n",
      "100%|██████████| 7/7 [00:02<00:00,  2.56s/trial, best loss: 0.1502890173410405]\n",
      "100%|██████████| 8/8 [00:02<00:00,  2.50s/trial, best loss: 0.1502890173410405]\n",
      "100%|██████████| 9/9 [00:02<00:00,  2.69s/trial, best loss: 0.1502890173410405]\n",
      "100%|██████████| 10/10 [00:02<00:00,  2.61s/trial, best loss: 0.1502890173410405]\n",
      "100%|██████████| 11/11 [00:02<00:00,  2.31s/trial, best loss: 0.1502890173410405]\n",
      "100%|██████████| 12/12 [00:02<00:00,  2.54s/trial, best loss: 0.1502890173410405]\n",
      "100%|██████████| 13/13 [00:02<00:00,  2.67s/trial, best loss: 0.1502890173410405]\n",
      "100%|██████████| 14/14 [00:02<00:00,  2.72s/trial, best loss: 0.1502890173410405]\n",
      "100%|██████████| 15/15 [00:02<00:00,  2.74s/trial, best loss: 0.1502890173410405]\n",
      "100%|██████████| 16/16 [00:02<00:00,  2.69s/trial, best loss: 0.1502890173410405]\n",
      "100%|██████████| 17/17 [00:02<00:00,  2.41s/trial, best loss: 0.1502890173410405]\n",
      "100%|██████████| 18/18 [00:02<00:00,  2.40s/trial, best loss: 0.1502890173410405]\n",
      "100%|██████████| 19/19 [00:02<00:00,  2.73s/trial, best loss: 0.1502890173410405]\n",
      "100%|██████████| 20/20 [00:02<00:00,  2.50s/trial, best loss: 0.1502890173410405]\n",
      "100%|██████████| 21/21 [00:02<00:00,  2.69s/trial, best loss: 0.1502890173410405]\n",
      "100%|██████████| 22/22 [00:02<00:00,  2.55s/trial, best loss: 0.1502890173410405]\n",
      "100%|██████████| 23/23 [00:02<00:00,  2.56s/trial, best loss: 0.1502890173410405]\n",
      "100%|██████████| 24/24 [00:02<00:00,  2.53s/trial, best loss: 0.1502890173410405]\n",
      "100%|██████████| 25/25 [00:02<00:00,  2.50s/trial, best loss: 0.1502890173410405]\n",
      "100%|██████████| 26/26 [00:02<00:00,  2.77s/trial, best loss: 0.1502890173410405]\n",
      "100%|██████████| 27/27 [00:02<00:00,  2.65s/trial, best loss: 0.1502890173410405]\n",
      "100%|██████████| 28/28 [00:02<00:00,  2.49s/trial, best loss: 0.1502890173410405]\n",
      "100%|██████████| 29/29 [00:02<00:00,  2.59s/trial, best loss: 0.1502890173410405]\n",
      "100%|██████████| 30/30 [00:02<00:00,  2.57s/trial, best loss: 0.1502890173410405]\n",
      "100%|██████████| 31/31 [00:02<00:00,  2.84s/trial, best loss: 0.1502890173410405]\n",
      "100%|██████████| 32/32 [00:02<00:00,  2.67s/trial, best loss: 0.1502890173410405]\n",
      "100%|██████████| 33/33 [00:02<00:00,  2.65s/trial, best loss: 0.1502890173410405]\n",
      "100%|██████████| 34/34 [00:02<00:00,  2.36s/trial, best loss: 0.1502890173410405]\n",
      "100%|██████████| 35/35 [00:02<00:00,  2.57s/trial, best loss: 0.1502890173410405]\n",
      "100%|██████████| 36/36 [00:02<00:00,  2.42s/trial, best loss: 0.1502890173410405]\n",
      "100%|██████████| 37/37 [00:02<00:00,  2.45s/trial, best loss: 0.1502890173410405]\n",
      "100%|██████████| 38/38 [00:02<00:00,  2.29s/trial, best loss: 0.1502890173410405]\n",
      "100%|██████████| 39/39 [00:02<00:00,  2.36s/trial, best loss: 0.1502890173410405]\n",
      "100%|██████████| 40/40 [00:02<00:00,  2.47s/trial, best loss: 0.1502890173410405]\n",
      "100%|██████████| 41/41 [00:02<00:00,  2.37s/trial, best loss: 0.1502890173410405]\n",
      "100%|██████████| 42/42 [00:02<00:00,  2.65s/trial, best loss: 0.1502890173410405]\n",
      "100%|██████████| 43/43 [00:02<00:00,  2.37s/trial, best loss: 0.1502890173410405]\n",
      "100%|██████████| 44/44 [00:02<00:00,  2.44s/trial, best loss: 0.1502890173410405]\n",
      "100%|██████████| 45/45 [00:02<00:00,  2.45s/trial, best loss: 0.1502890173410405]\n",
      "100%|██████████| 46/46 [00:02<00:00,  2.41s/trial, best loss: 0.1502890173410405]\n",
      "100%|██████████| 47/47 [00:02<00:00,  2.59s/trial, best loss: 0.1502890173410405]\n",
      "100%|██████████| 48/48 [00:02<00:00,  2.60s/trial, best loss: 0.1502890173410405]\n",
      "100%|██████████| 49/49 [00:02<00:00,  2.46s/trial, best loss: 0.1502890173410405]\n",
      "100%|██████████| 50/50 [00:02<00:00,  2.68s/trial, best loss: 0.1502890173410405]\n",
      "{'learner': SVC(C=1.3845598371558152, coef0=0.664697472814461, gamma='auto',\n",
      "    kernel='linear', probability=True, random_state=4, shrinking=False,\n",
      "    tol=0.0014164342905822872), 'preprocs': (), 'ex_preprocs': ()}\n"
     ]
    }
   ],
   "source": [
    "# SVM\n",
    "from hpsklearn import svc \n",
    "svm = optimize_model(svc(\"mySVC\", probability=True), X_train, y_train)"
   ]
  },
  {
   "cell_type": "code",
   "execution_count": 53,
   "metadata": {},
   "outputs": [
    {
     "name": "stdout",
     "output_type": "stream",
     "text": [
      "Accuracy: 75.19 %\n",
      "F1: 75.14 %\n"
     ]
    },
    {
     "data": {
      "image/png": "[encoded data removed]",
      "text/plain": [
       "<Figure size 640x480 with 2 Axes>"
      ]
     },
     "metadata": {},
     "output_type": "display_data"
    }
   ],
   "source": [
    "evaluate_model(svm, X_test, y_test)"
   ]
  },
  {
   "cell_type": "code",
   "execution_count": 13,
   "metadata": {},
   "outputs": [
    {
     "name": "stdout",
     "output_type": "stream",
     "text": [
      "100%|██████████| 1/1 [00:01<00:00,  1.67s/trial, best loss: 0.29190751445086704]\n",
      "100%|██████████| 2/2 [00:01<00:00,  1.64s/trial, best loss: 0.2832369942196532]\n",
      "100%|██████████| 3/3 [00:01<00:00,  1.67s/trial, best loss: 0.12716763005780352]\n",
      "100%|██████████| 4/4 [00:01<00:00,  1.64s/trial, best loss: 0.12716763005780352]\n",
      "100%|██████████| 5/5 [00:01<00:00,  1.64s/trial, best loss: 0.12716763005780352]\n",
      "100%|██████████| 6/6 [00:01<00:00,  1.65s/trial, best loss: 0.12716763005780352]\n",
      "100%|██████████| 7/7 [00:01<00:00,  1.60s/trial, best loss: 0.12716763005780352]\n",
      "100%|██████████| 8/8 [00:01<00:00,  1.65s/trial, best loss: 0.12716763005780352]\n",
      "100%|██████████| 9/9 [00:01<00:00,  1.64s/trial, best loss: 0.12716763005780352]\n",
      "100%|██████████| 10/10 [00:01<00:00,  1.60s/trial, best loss: 0.12716763005780352]\n",
      "100%|██████████| 11/11 [00:01<00:00,  1.60s/trial, best loss: 0.12716763005780352]\n",
      "100%|██████████| 12/12 [00:01<00:00,  1.60s/trial, best loss: 0.12716763005780352]\n",
      "100%|██████████| 13/13 [00:01<00:00,  1.61s/trial, best loss: 0.12716763005780352]\n",
      "100%|██████████| 14/14 [00:01<00:00,  1.61s/trial, best loss: 0.12716763005780352]\n",
      "100%|██████████| 15/15 [00:01<00:00,  1.62s/trial, best loss: 0.12716763005780352]\n",
      "100%|██████████| 16/16 [00:01<00:00,  1.61s/trial, best loss: 0.12716763005780352]\n",
      "100%|██████████| 17/17 [00:01<00:00,  1.62s/trial, best loss: 0.12716763005780352]\n",
      "100%|██████████| 18/18 [00:01<00:00,  1.60s/trial, best loss: 0.12716763005780352]\n",
      "100%|██████████| 19/19 [00:01<00:00,  1.60s/trial, best loss: 0.12716763005780352]\n",
      "100%|██████████| 20/20 [00:01<00:00,  1.60s/trial, best loss: 0.12716763005780352]\n",
      "100%|██████████| 21/21 [00:01<00:00,  1.62s/trial, best loss: 0.12716763005780352]\n",
      "100%|██████████| 22/22 [00:01<00:00,  1.59s/trial, best loss: 0.12716763005780352]\n",
      "100%|██████████| 23/23 [00:01<00:00,  1.61s/trial, best loss: 0.12716763005780352]\n",
      "100%|██████████| 24/24 [00:01<00:00,  1.60s/trial, best loss: 0.12716763005780352]\n",
      "100%|██████████| 25/25 [00:01<00:00,  1.62s/trial, best loss: 0.12716763005780352]\n",
      "100%|██████████| 26/26 [00:01<00:00,  1.61s/trial, best loss: 0.12716763005780352]\n",
      "100%|██████████| 27/27 [00:01<00:00,  1.63s/trial, best loss: 0.12716763005780352]\n",
      "100%|██████████| 28/28 [00:01<00:00,  1.63s/trial, best loss: 0.12716763005780352]\n",
      "100%|██████████| 29/29 [00:01<00:00,  1.62s/trial, best loss: 0.12716763005780352]\n",
      "100%|██████████| 30/30 [00:01<00:00,  1.60s/trial, best loss: 0.12716763005780352]\n",
      "100%|██████████| 31/31 [00:01<00:00,  1.61s/trial, best loss: 0.12716763005780352]\n",
      "100%|██████████| 32/32 [00:01<00:00,  1.61s/trial, best loss: 0.12716763005780352]\n",
      "100%|██████████| 33/33 [00:01<00:00,  1.63s/trial, best loss: 0.12716763005780352]\n",
      "100%|██████████| 34/34 [00:01<00:00,  1.61s/trial, best loss: 0.12716763005780352]\n",
      "100%|██████████| 35/35 [00:01<00:00,  1.61s/trial, best loss: 0.12716763005780352]\n",
      "100%|██████████| 36/36 [00:01<00:00,  1.67s/trial, best loss: 0.12716763005780352]\n",
      "100%|██████████| 37/37 [00:01<00:00,  1.63s/trial, best loss: 0.12716763005780352]\n",
      "100%|██████████| 38/38 [00:01<00:00,  1.61s/trial, best loss: 0.12716763005780352]\n",
      "100%|██████████| 39/39 [00:01<00:00,  1.62s/trial, best loss: 0.12716763005780352]\n",
      "100%|██████████| 40/40 [00:01<00:00,  1.61s/trial, best loss: 0.12716763005780352]\n",
      "100%|██████████| 41/41 [00:01<00:00,  1.63s/trial, best loss: 0.12716763005780352]\n",
      "100%|██████████| 42/42 [00:01<00:00,  1.61s/trial, best loss: 0.12716763005780352]\n",
      "100%|██████████| 43/43 [00:01<00:00,  1.61s/trial, best loss: 0.12716763005780352]\n",
      "100%|██████████| 44/44 [00:01<00:00,  1.62s/trial, best loss: 0.12716763005780352]\n",
      "100%|██████████| 45/45 [00:01<00:00,  1.62s/trial, best loss: 0.12716763005780352]\n",
      "100%|██████████| 46/46 [00:01<00:00,  1.62s/trial, best loss: 0.12716763005780352]\n",
      "100%|██████████| 47/47 [00:01<00:00,  1.61s/trial, best loss: 0.12716763005780352]\n",
      "100%|██████████| 48/48 [00:01<00:00,  1.61s/trial, best loss: 0.12716763005780352]\n",
      "100%|██████████| 49/49 [00:01<00:00,  1.61s/trial, best loss: 0.12716763005780352]\n",
      "100%|██████████| 50/50 [00:01<00:00,  1.62s/trial, best loss: 0.12716763005780352]\n",
      "{'learner': KNeighborsClassifier(leaf_size=24, metric='euclidean', n_jobs=1, n_neighbors=1,\n",
      "                     p=3.4894408296300257), 'preprocs': (), 'ex_preprocs': ()}\n"
     ]
    }
   ],
   "source": [
    "# KNN\n",
    "from hpsklearn import k_neighbors_classifier\n",
    "from hyperopt import hp\n",
    "knn_metrics = hp.choice(\"metric\", {'cityblock', 'l1', 'l2', 'euclidean', 'manhattan'})\n",
    "knn= optimize_model(k_neighbors_classifier(\"myKNN\", metric=knn_metrics), X_train, y_train)"
   ]
  },
  {
   "cell_type": "code",
   "execution_count": 14,
   "metadata": {},
   "outputs": [
    {
     "name": "stdout",
     "output_type": "stream",
     "text": [
      "Accuracy: 70.61 %\n",
      "F1: 70.52 %\n"
     ]
    },
    {
     "data": {
      "image/png": "[encoded data removed]",
      "text/plain": [
       "<Figure size 640x480 with 2 Axes>"
      ]
     },
     "metadata": {},
     "output_type": "display_data"
    }
   ],
   "source": [
    "evaluate_model(knn, X_test, y_test)"
   ]
  },
  {
   "cell_type": "code",
   "execution_count": 15,
   "metadata": {},
   "outputs": [
    {
     "name": "stdout",
     "output_type": "stream",
     "text": [
      "100%|██████████| 1/1 [00:01<00:00,  1.60s/trial, best loss: 0.20809248554913296]\n",
      "100%|██████████| 2/2 [00:01<00:00,  1.58s/trial, best loss: 0.20809248554913296]\n",
      "100%|██████████| 3/3 [00:01<00:00,  1.57s/trial, best loss: 0.20809248554913296]\n",
      "100%|██████████| 4/4 [00:01<00:00,  1.57s/trial, best loss: 0.20809248554913296]\n",
      "100%|██████████| 5/5 [00:01<00:00,  1.57s/trial, best loss: 0.20231213872832365]\n",
      "100%|██████████| 6/6 [00:01<00:00,  1.58s/trial, best loss: 0.20231213872832365]\n",
      "100%|██████████| 7/7 [00:01<00:00,  1.56s/trial, best loss: 0.20231213872832365]\n",
      "100%|██████████| 8/8 [00:01<00:00,  1.54s/trial, best loss: 0.20231213872832365]\n",
      "100%|██████████| 9/9 [00:01<00:00,  1.55s/trial, best loss: 0.20231213872832365]\n",
      "100%|██████████| 10/10 [00:01<00:00,  1.55s/trial, best loss: 0.20231213872832365]\n",
      "100%|██████████| 11/11 [00:01<00:00,  1.54s/trial, best loss: 0.20231213872832365]\n",
      "100%|██████████| 12/12 [00:01<00:00,  1.54s/trial, best loss: 0.20231213872832365]\n",
      "100%|██████████| 13/13 [00:01<00:00,  1.54s/trial, best loss: 0.20231213872832365]\n",
      "100%|██████████| 14/14 [00:01<00:00,  1.56s/trial, best loss: 0.20231213872832365]\n",
      "100%|██████████| 15/15 [00:01<00:00,  1.53s/trial, best loss: 0.20231213872832365]\n",
      "100%|██████████| 16/16 [00:01<00:00,  1.54s/trial, best loss: 0.20231213872832365]\n",
      "100%|██████████| 17/17 [00:01<00:00,  1.54s/trial, best loss: 0.20231213872832365]\n",
      "100%|██████████| 18/18 [00:01<00:00,  1.56s/trial, best loss: 0.20231213872832365]\n",
      "100%|██████████| 19/19 [00:01<00:00,  1.54s/trial, best loss: 0.20231213872832365]\n",
      "100%|██████████| 20/20 [00:01<00:00,  1.57s/trial, best loss: 0.20231213872832365]\n",
      "100%|██████████| 21/21 [00:01<00:00,  1.53s/trial, best loss: 0.20231213872832365]\n",
      "100%|██████████| 22/22 [00:01<00:00,  1.54s/trial, best loss: 0.20231213872832365]\n",
      "100%|██████████| 23/23 [00:01<00:00,  1.54s/trial, best loss: 0.20231213872832365]\n",
      "100%|██████████| 24/24 [00:01<00:00,  1.56s/trial, best loss: 0.20231213872832365]\n",
      "100%|██████████| 25/25 [00:01<00:00,  1.53s/trial, best loss: 0.20231213872832365]\n",
      "100%|██████████| 26/26 [00:01<00:00,  1.54s/trial, best loss: 0.20231213872832365]\n",
      "100%|██████████| 27/27 [00:01<00:00,  1.55s/trial, best loss: 0.20231213872832365]\n",
      "100%|██████████| 28/28 [00:01<00:00,  1.55s/trial, best loss: 0.20231213872832365]\n",
      "100%|██████████| 29/29 [00:01<00:00,  1.54s/trial, best loss: 0.20231213872832365]\n",
      "100%|██████████| 30/30 [00:01<00:00,  1.53s/trial, best loss: 0.20231213872832365]\n",
      "100%|██████████| 31/31 [00:01<00:00,  1.54s/trial, best loss: 0.20231213872832365]\n",
      "100%|██████████| 32/32 [00:01<00:00,  1.54s/trial, best loss: 0.20231213872832365]\n",
      "100%|██████████| 33/33 [00:01<00:00,  1.54s/trial, best loss: 0.20231213872832365]\n",
      "100%|██████████| 34/34 [00:01<00:00,  1.54s/trial, best loss: 0.20231213872832365]\n",
      "100%|██████████| 35/35 [00:01<00:00,  1.55s/trial, best loss: 0.20231213872832365]\n",
      "100%|██████████| 36/36 [00:01<00:00,  1.57s/trial, best loss: 0.20231213872832365]\n",
      "100%|██████████| 37/37 [00:01<00:00,  1.55s/trial, best loss: 0.20231213872832365]\n",
      "100%|██████████| 38/38 [00:01<00:00,  1.54s/trial, best loss: 0.20231213872832365]\n",
      "100%|██████████| 39/39 [00:01<00:00,  1.55s/trial, best loss: 0.20231213872832365]\n",
      "100%|██████████| 40/40 [00:01<00:00,  1.57s/trial, best loss: 0.20231213872832365]\n",
      "100%|██████████| 41/41 [00:01<00:00,  1.56s/trial, best loss: 0.20231213872832365]\n",
      "100%|██████████| 42/42 [00:01<00:00,  1.55s/trial, best loss: 0.20231213872832365]\n",
      "100%|██████████| 43/43 [00:01<00:00,  1.55s/trial, best loss: 0.20231213872832365]\n",
      "100%|██████████| 44/44 [00:01<00:00,  1.56s/trial, best loss: 0.20231213872832365]\n",
      "100%|██████████| 45/45 [00:01<00:00,  1.56s/trial, best loss: 0.20231213872832365]\n",
      "100%|██████████| 46/46 [00:01<00:00,  1.62s/trial, best loss: 0.20231213872832365]\n",
      "100%|██████████| 47/47 [00:01<00:00,  1.56s/trial, best loss: 0.20231213872832365]\n",
      "100%|██████████| 48/48 [00:01<00:00,  1.55s/trial, best loss: 0.20231213872832365]\n",
      "100%|██████████| 49/49 [00:01<00:00,  1.55s/trial, best loss: 0.20231213872832365]\n",
      "100%|██████████| 50/50 [00:01<00:00,  1.57s/trial, best loss: 0.20231213872832365]\n",
      "{'learner': LogisticRegression(C=1.8638068202455687, max_iter=427, n_jobs=1, random_state=3,\n",
      "                   solver='sag', tol=1.4973841902398913e-05), 'preprocs': (), 'ex_preprocs': ()}\n"
     ]
    }
   ],
   "source": [
    "# Logistic Regression logistic_regression\n",
    "from hpsklearn import logistic_regression\n",
    "myLR = optimize_model(logistic_regression(\"myLR\"), X_train, y_train)"
   ]
  },
  {
   "cell_type": "code",
   "execution_count": 16,
   "metadata": {},
   "outputs": [
    {
     "name": "stdout",
     "output_type": "stream",
     "text": [
      "Accuracy: 73.48 %\n",
      "F1: 72.91 %\n"
     ]
    },
    {
     "data": {
      "image/png": "[encoded data removed]",
      "text/plain": [
       "<Figure size 640x480 with 2 Axes>"
      ]
     },
     "metadata": {},
     "output_type": "display_data"
    }
   ],
   "source": [
    "evaluate_model(myLR, X_test, y_test)"
   ]
  },
  {
   "cell_type": "code",
   "execution_count": 17,
   "metadata": {},
   "outputs": [
    {
     "name": "stdout",
     "output_type": "stream",
     "text": [
      "100%|██████████| 1/1 [00:01<00:00,  1.66s/trial, best loss: 0.23699421965317924]\n",
      "100%|██████████| 2/2 [00:03<00:00,  3.83s/trial, best loss: 0.23699421965317924]\n",
      "100%|██████████| 3/3 [00:15<00:00, 15.80s/trial, best loss: 0.2341040462427746]\n",
      "100%|██████████| 4/4 [00:01<00:00,  1.64s/trial, best loss: 0.2341040462427746]\n",
      "100%|██████████| 5/5 [00:01<00:00,  1.64s/trial, best loss: 0.1560693641618497]\n",
      "100%|██████████| 6/6 [00:01<00:00,  1.92s/trial, best loss: 0.1560693641618497]\n",
      "100%|██████████| 7/7 [00:01<00:00,  1.68s/trial, best loss: 0.15317919075144504]\n",
      "100%|██████████| 8/8 [00:01<00:00,  1.63s/trial, best loss: 0.15317919075144504]\n",
      "100%|██████████| 9/9 [00:01<00:00,  1.61s/trial, best loss: 0.15317919075144504]\n",
      "100%|██████████| 10/10 [00:01<00:00,  1.85s/trial, best loss: 0.15317919075144504]\n",
      "100%|██████████| 11/11 [00:01<00:00,  1.64s/trial, best loss: 0.15317919075144504]\n",
      "100%|██████████| 12/12 [00:01<00:00,  1.78s/trial, best loss: 0.15317919075144504]\n",
      "100%|██████████| 13/13 [00:01<00:00,  1.84s/trial, best loss: 0.15317919075144504]\n",
      "100%|██████████| 14/14 [00:01<00:00,  1.64s/trial, best loss: 0.1502890173410405]\n",
      "100%|██████████| 15/15 [00:01<00:00,  1.80s/trial, best loss: 0.1445086705202312]\n",
      "100%|██████████| 16/16 [00:01<00:00,  1.73s/trial, best loss: 0.1445086705202312]\n",
      "100%|██████████| 17/17 [00:02<00:00,  2.51s/trial, best loss: 0.1445086705202312]\n",
      "100%|██████████| 18/18 [00:36<00:00, 36.23s/trial, best loss: 0.1445086705202312]\n",
      "100%|██████████| 19/19 [00:01<00:00,  1.82s/trial, best loss: 0.1445086705202312]\n",
      "100%|██████████| 20/20 [00:01<00:00,  1.84s/trial, best loss: 0.1445086705202312]\n",
      "100%|██████████| 21/21 [00:01<00:00,  1.78s/trial, best loss: 0.13005780346820806]\n",
      "100%|██████████| 22/22 [00:01<00:00,  1.92s/trial, best loss: 0.13005780346820806]\n",
      "100%|██████████| 23/23 [00:01<00:00,  1.73s/trial, best loss: 0.13005780346820806]\n",
      "100%|██████████| 24/24 [00:01<00:00,  1.75s/trial, best loss: 0.13005780346820806]\n",
      "100%|██████████| 25/25 [00:01<00:00,  1.60s/trial, best loss: 0.13005780346820806]\n",
      "100%|██████████| 26/26 [00:02<00:00,  2.53s/trial, best loss: 0.13005780346820806]\n",
      "100%|██████████| 27/27 [00:03<00:00,  3.13s/trial, best loss: 0.13005780346820806]\n",
      "100%|██████████| 28/28 [00:03<00:00,  3.02s/trial, best loss: 0.13005780346820806]\n",
      "100%|██████████| 29/29 [00:04<00:00,  4.72s/trial, best loss: 0.13005780346820806]\n",
      "100%|██████████| 30/30 [00:01<00:00,  1.61s/trial, best loss: 0.13005780346820806]\n",
      "100%|██████████| 31/31 [00:01<00:00,  1.96s/trial, best loss: 0.13005780346820806]\n",
      "100%|██████████| 32/32 [00:01<00:00,  1.65s/trial, best loss: 0.13005780346820806]\n",
      "100%|██████████| 33/33 [00:01<00:00,  1.59s/trial, best loss: 0.13005780346820806]\n",
      "100%|██████████| 34/34 [00:03<00:00,  3.04s/trial, best loss: 0.13005780346820806]\n",
      "100%|██████████| 35/35 [00:01<00:00,  1.73s/trial, best loss: 0.13005780346820806]\n",
      "100%|██████████| 36/36 [00:06<00:00,  6.47s/trial, best loss: 0.13005780346820806]\n",
      "100%|██████████| 37/37 [00:01<00:00,  1.60s/trial, best loss: 0.13005780346820806]\n",
      "100%|██████████| 38/38 [00:02<00:00,  2.43s/trial, best loss: 0.13005780346820806]\n",
      "100%|██████████| 39/39 [00:07<00:00,  7.61s/trial, best loss: 0.13005780346820806]\n",
      "100%|██████████| 40/40 [00:01<00:00,  1.74s/trial, best loss: 0.13005780346820806]\n",
      "100%|██████████| 41/41 [00:01<00:00,  1.79s/trial, best loss: 0.13005780346820806]\n",
      "100%|██████████| 42/42 [00:01<00:00,  1.61s/trial, best loss: 0.13005780346820806]\n",
      "100%|██████████| 43/43 [00:02<00:00,  2.33s/trial, best loss: 0.13005780346820806]\n",
      "100%|██████████| 44/44 [00:01<00:00,  1.62s/trial, best loss: 0.13005780346820806]\n",
      "100%|██████████| 45/45 [00:16<00:00, 16.34s/trial, best loss: 0.13005780346820806]\n",
      "100%|██████████| 46/46 [00:01<00:00,  1.62s/trial, best loss: 0.13005780346820806]\n",
      "100%|██████████| 47/47 [00:01<00:00,  1.79s/trial, best loss: 0.13005780346820806]\n",
      "100%|██████████| 48/48 [00:01<00:00,  1.58s/trial, best loss: 0.13005780346820806]\n",
      "100%|██████████| 49/49 [00:01<00:00,  1.75s/trial, best loss: 0.13005780346820806]\n",
      "100%|██████████| 50/50 [00:01<00:00,  1.60s/trial, best loss: 0.13005780346820806]\n"
     ]
    },
    {
     "name": "stderr",
     "output_type": "stream",
     "text": [
      "c:\\Users\\willc\\miniconda3\\envs\\test\\lib\\site-packages\\sklearn\\ensemble\\_base.py:166: FutureWarning: `base_estimator` was renamed to `estimator` in version 1.2 and will be removed in 1.4.\n",
      "  warnings.warn(\n"
     ]
    },
    {
     "name": "stdout",
     "output_type": "stream",
     "text": [
      "{'learner': AdaBoostClassifier(algorithm='SAMME',\n",
      "                   base_estimator=DecisionTreeClassifier(criterion='entropy',\n",
      "                                                         max_features=0.9628355028815264,\n",
      "                                                         random_state=2),\n",
      "                   learning_rate=0.0010359022650509517, n_estimators=14,\n",
      "                   random_state=4), 'preprocs': (), 'ex_preprocs': ()}\n"
     ]
    }
   ],
   "source": [
    "# AdaBoost\n",
    "from hpsklearn import ada_boost_classifier, decision_tree_classifier\n",
    "baseDT = decision_tree_classifier(\"adaDT\")\n",
    "ada = optimize_model(ada_boost_classifier(\"myada\", base_estimator=baseDT), X_train, y_train)"
   ]
  },
  {
   "cell_type": "code",
   "execution_count": 18,
   "metadata": {},
   "outputs": [
    {
     "name": "stdout",
     "output_type": "stream",
     "text": [
      "Accuracy: 71.98 %\n",
      "F1: 71.94 %\n"
     ]
    },
    {
     "data": {
      "image/png": "[encoded data removed]",
      "text/plain": [
       "<Figure size 640x480 with 2 Axes>"
      ]
     },
     "metadata": {},
     "output_type": "display_data"
    }
   ],
   "source": [
    "# Run model with best results\n",
    "evaluate_model(ada, X_test, y_test)"
   ]
  },
  {
   "cell_type": "code",
   "execution_count": 19,
   "metadata": {},
   "outputs": [
    {
     "name": "stdout",
     "output_type": "stream",
     "text": [
      "100%|██████████| 1/1 [00:05<00:00,  5.33s/trial, best loss: 0.1502890173410405]\n",
      "100%|██████████| 2/2 [00:08<00:00,  8.61s/trial, best loss: 0.138728323699422]\n",
      "100%|██████████| 3/3 [00:05<00:00,  5.59s/trial, best loss: 0.138728323699422]\n",
      "100%|██████████| 4/4 [00:03<00:00,  3.34s/trial, best loss: 0.138728323699422]\n",
      "100%|██████████| 5/5 [00:05<00:00,  5.73s/trial, best loss: 0.138728323699422]\n",
      "100%|██████████| 6/6 [00:06<00:00,  6.45s/trial, best loss: 0.13005780346820806]\n",
      "100%|██████████| 7/7 [00:06<00:00,  6.98s/trial, best loss: 0.13005780346820806]\n",
      "100%|██████████| 8/8 [00:04<00:00,  4.50s/trial, best loss: 0.13005780346820806]\n",
      "100%|██████████| 9/9 [00:05<00:00,  5.90s/trial, best loss: 0.13005780346820806]\n",
      "100%|██████████| 10/10 [00:02<00:00,  2.49s/trial, best loss: 0.13005780346820806]\n",
      "100%|██████████| 11/11 [00:02<00:00,  2.50s/trial, best loss: 0.13005780346820806]\n",
      "100%|██████████| 12/12 [00:07<00:00,  7.14s/trial, best loss: 0.13005780346820806]\n",
      "100%|██████████| 13/13 [00:02<00:00,  2.78s/trial, best loss: 0.13005780346820806]\n",
      "100%|██████████| 14/14 [00:04<00:00,  4.27s/trial, best loss: 0.13005780346820806]\n",
      "100%|██████████| 15/15 [00:02<00:00,  2.55s/trial, best loss: 0.13005780346820806]\n",
      "100%|██████████| 16/16 [00:03<00:00,  3.25s/trial, best loss: 0.13005780346820806]\n",
      "100%|██████████| 17/17 [00:06<00:00,  6.15s/trial, best loss: 0.13005780346820806]\n",
      "100%|██████████| 18/18 [00:07<00:00,  7.07s/trial, best loss: 0.13005780346820806]\n",
      "100%|██████████| 19/19 [00:04<00:00,  4.60s/trial, best loss: 0.13005780346820806]\n",
      "100%|██████████| 20/20 [00:04<00:00,  4.84s/trial, best loss: 0.13005780346820806]\n",
      "100%|██████████| 21/21 [00:05<00:00,  5.43s/trial, best loss: 0.13005780346820806]\n",
      "100%|██████████| 22/22 [00:04<00:00,  4.48s/trial, best loss: 0.13005780346820806]\n",
      "100%|██████████| 23/23 [00:02<00:00,  2.52s/trial, best loss: 0.13005780346820806]\n",
      "100%|██████████| 24/24 [00:04<00:00,  4.66s/trial, best loss: 0.13005780346820806]\n",
      "100%|██████████| 25/25 [00:02<00:00,  2.51s/trial, best loss: 0.13005780346820806]\n",
      "100%|██████████| 26/26 [00:08<00:00,  8.62s/trial, best loss: 0.13005780346820806]\n",
      "100%|██████████| 27/27 [00:03<00:00,  3.90s/trial, best loss: 0.13005780346820806]\n",
      "100%|██████████| 28/28 [00:05<00:00,  5.01s/trial, best loss: 0.13005780346820806]\n",
      "100%|██████████| 29/29 [00:05<00:00,  5.43s/trial, best loss: 0.13005780346820806]\n",
      "100%|██████████| 30/30 [00:02<00:00,  2.55s/trial, best loss: 0.13005780346820806]\n",
      "100%|██████████| 31/31 [00:03<00:00,  3.94s/trial, best loss: 0.13005780346820806]\n",
      "100%|██████████| 32/32 [00:05<00:00,  5.35s/trial, best loss: 0.13005780346820806]\n",
      "100%|██████████| 33/33 [00:02<00:00,  2.53s/trial, best loss: 0.13005780346820806]\n",
      "100%|██████████| 34/34 [00:09<00:00,  9.98s/trial, best loss: 0.13005780346820806]\n",
      "100%|██████████| 35/35 [00:03<00:00,  3.18s/trial, best loss: 0.13005780346820806]\n",
      "100%|██████████| 36/36 [00:05<00:00,  5.17s/trial, best loss: 0.13005780346820806]\n",
      "100%|██████████| 37/37 [00:05<00:00,  5.88s/trial, best loss: 0.13005780346820806]\n",
      "100%|██████████| 38/38 [00:03<00:00,  3.89s/trial, best loss: 0.13005780346820806]\n",
      "100%|██████████| 39/39 [00:07<00:00,  7.80s/trial, best loss: 0.13005780346820806]\n",
      "100%|██████████| 40/40 [00:05<00:00,  5.96s/trial, best loss: 0.13005780346820806]\n",
      "100%|██████████| 41/41 [00:05<00:00,  5.04s/trial, best loss: 0.13005780346820806]\n",
      "100%|██████████| 42/42 [00:23<00:00, 23.44s/trial, best loss: 0.13005780346820806]\n",
      "100%|██████████| 43/43 [00:03<00:00,  3.28s/trial, best loss: 0.13005780346820806]\n",
      "100%|██████████| 44/44 [00:02<00:00,  2.53s/trial, best loss: 0.13005780346820806]\n",
      "100%|██████████| 45/45 [00:09<00:00,  9.44s/trial, best loss: 0.13005780346820806]\n",
      "100%|██████████| 46/46 [00:06<00:00,  6.91s/trial, best loss: 0.13005780346820806]\n",
      "100%|██████████| 47/47 [00:08<00:00,  8.08s/trial, best loss: 0.13005780346820806]\n",
      "100%|██████████| 48/48 [00:03<00:00,  3.80s/trial, best loss: 0.13005780346820806]\n",
      "100%|██████████| 49/49 [00:03<00:00,  3.09s/trial, best loss: 0.13005780346820806]\n",
      "100%|██████████| 50/50 [00:04<00:00,  4.27s/trial, best loss: 0.13005780346820806]\n",
      "{'learner': MLPClassifier(activation='tanh', alpha=0.00010298894903304274,\n",
      "              beta_1=0.9280085351055765, beta_2=0.9895237835858289,\n",
      "              epsilon=1.4169790985721152e-06, learning_rate='invscaling',\n",
      "              learning_rate_init=0.0010906433814813626, max_fun=16362,\n",
      "              max_iter=293, momentum=0.9616724790980509,\n",
      "              power_t=0.2326735382514724, random_state=1,\n",
      "              tol=0.001464409080319833,\n",
      "              validation_fraction=0.17722740329954012), 'preprocs': (), 'ex_preprocs': ()}\n"
     ]
    }
   ],
   "source": [
    "from hpsklearn import mlp_classifier\n",
    "\n",
    "mlp = optimize_model(mlp_classifier(\"mlp\"), X_train, y_train)"
   ]
  },
  {
   "cell_type": "code",
   "execution_count": 20,
   "metadata": {},
   "outputs": [
    {
     "name": "stdout",
     "output_type": "stream",
     "text": [
      "Accuracy: 74.19 %\n",
      "F1: 74.13 %\n"
     ]
    },
    {
     "data": {
      "image/png": "[encoded data removed]",
      "text/plain": [
       "<Figure size 640x480 with 2 Axes>"
      ]
     },
     "metadata": {},
     "output_type": "display_data"
    }
   ],
   "source": [
    "evaluate_model(mlp, X_test, y_test)"
   ]
  },
  {
   "cell_type": "markdown",
   "metadata": {},
   "source": [
    "# Clustering"
   ]
  },
  {
   "cell_type": "code",
   "execution_count": 58,
   "metadata": {},
   "outputs": [
    {
     "ename": "TypeError",
     "evalue": "A sparse matrix was passed, but dense data is required. Use X.toarray() to convert to a dense numpy array.",
     "output_type": "error",
     "traceback": [
      "\u001b[1;31m---------------------------------------------------------------------------\u001b[0m",
      "\u001b[1;31mTypeError\u001b[0m                                 Traceback (most recent call last)",
      "Cell \u001b[1;32mIn[58], line 3\u001b[0m\n\u001b[0;32m      1\u001b[0m \u001b[39mfrom\u001b[39;00m \u001b[39msklearn\u001b[39;00m\u001b[39m.\u001b[39;00m\u001b[39mmixture\u001b[39;00m \u001b[39mimport\u001b[39;00m GaussianMixture\n\u001b[1;32m----> 3\u001b[0m gm \u001b[39m=\u001b[39m GaussianMixture()\u001b[39m.\u001b[39;49mfit(X_train)\n\u001b[0;32m      4\u001b[0m gm\u001b[39m.\u001b[39mmeans_\n",
      "File \u001b[1;32mc:\\Users\\willc\\miniconda3\\envs\\test\\lib\\site-packages\\sklearn\\mixture\\_base.py:186\u001b[0m, in \u001b[0;36mBaseMixture.fit\u001b[1;34m(self, X, y)\u001b[0m\n\u001b[0;32m    160\u001b[0m \u001b[39m\u001b[39m\u001b[39m\"\"\"Estimate model parameters with the EM algorithm.\u001b[39;00m\n\u001b[0;32m    161\u001b[0m \n\u001b[0;32m    162\u001b[0m \u001b[39mThe method fits the model ``n_init`` times and sets the parameters with\u001b[39;00m\n\u001b[1;32m   (...)\u001b[0m\n\u001b[0;32m    183\u001b[0m \u001b[39m    The fitted mixture.\u001b[39;00m\n\u001b[0;32m    184\u001b[0m \u001b[39m\"\"\"\u001b[39;00m\n\u001b[0;32m    185\u001b[0m \u001b[39m# parameters are validated in fit_predict\u001b[39;00m\n\u001b[1;32m--> 186\u001b[0m \u001b[39mself\u001b[39;49m\u001b[39m.\u001b[39;49mfit_predict(X, y)\n\u001b[0;32m    187\u001b[0m \u001b[39mreturn\u001b[39;00m \u001b[39mself\u001b[39m\n",
      "File \u001b[1;32mc:\\Users\\willc\\miniconda3\\envs\\test\\lib\\site-packages\\sklearn\\mixture\\_base.py:218\u001b[0m, in \u001b[0;36mBaseMixture.fit_predict\u001b[1;34m(self, X, y)\u001b[0m\n\u001b[0;32m    190\u001b[0m \u001b[39m\u001b[39m\u001b[39m\"\"\"Estimate model parameters using X and predict the labels for X.\u001b[39;00m\n\u001b[0;32m    191\u001b[0m \n\u001b[0;32m    192\u001b[0m \u001b[39mThe method fits the model n_init times and sets the parameters with\u001b[39;00m\n\u001b[1;32m   (...)\u001b[0m\n\u001b[0;32m    214\u001b[0m \u001b[39m    Component labels.\u001b[39;00m\n\u001b[0;32m    215\u001b[0m \u001b[39m\"\"\"\u001b[39;00m\n\u001b[0;32m    216\u001b[0m \u001b[39mself\u001b[39m\u001b[39m.\u001b[39m_validate_params()\n\u001b[1;32m--> 218\u001b[0m X \u001b[39m=\u001b[39m \u001b[39mself\u001b[39;49m\u001b[39m.\u001b[39;49m_validate_data(X, dtype\u001b[39m=\u001b[39;49m[np\u001b[39m.\u001b[39;49mfloat64, np\u001b[39m.\u001b[39;49mfloat32], ensure_min_samples\u001b[39m=\u001b[39;49m\u001b[39m2\u001b[39;49m)\n\u001b[0;32m    219\u001b[0m \u001b[39mif\u001b[39;00m X\u001b[39m.\u001b[39mshape[\u001b[39m0\u001b[39m] \u001b[39m<\u001b[39m \u001b[39mself\u001b[39m\u001b[39m.\u001b[39mn_components:\n\u001b[0;32m    220\u001b[0m     \u001b[39mraise\u001b[39;00m \u001b[39mValueError\u001b[39;00m(\n\u001b[0;32m    221\u001b[0m         \u001b[39m\"\u001b[39m\u001b[39mExpected n_samples >= n_components \u001b[39m\u001b[39m\"\u001b[39m\n\u001b[0;32m    222\u001b[0m         \u001b[39mf\u001b[39m\u001b[39m\"\u001b[39m\u001b[39mbut got n_components = \u001b[39m\u001b[39m{\u001b[39;00m\u001b[39mself\u001b[39m\u001b[39m.\u001b[39mn_components\u001b[39m}\u001b[39;00m\u001b[39m, \u001b[39m\u001b[39m\"\u001b[39m\n\u001b[0;32m    223\u001b[0m         \u001b[39mf\u001b[39m\u001b[39m\"\u001b[39m\u001b[39mn_samples = \u001b[39m\u001b[39m{\u001b[39;00mX\u001b[39m.\u001b[39mshape[\u001b[39m0\u001b[39m]\u001b[39m}\u001b[39;00m\u001b[39m\"\u001b[39m\n\u001b[0;32m    224\u001b[0m     )\n",
      "File \u001b[1;32mc:\\Users\\willc\\miniconda3\\envs\\test\\lib\\site-packages\\sklearn\\base.py:565\u001b[0m, in \u001b[0;36mBaseEstimator._validate_data\u001b[1;34m(self, X, y, reset, validate_separately, **check_params)\u001b[0m\n\u001b[0;32m    563\u001b[0m     \u001b[39mraise\u001b[39;00m \u001b[39mValueError\u001b[39;00m(\u001b[39m\"\u001b[39m\u001b[39mValidation should be done on X, y or both.\u001b[39m\u001b[39m\"\u001b[39m)\n\u001b[0;32m    564\u001b[0m \u001b[39melif\u001b[39;00m \u001b[39mnot\u001b[39;00m no_val_X \u001b[39mand\u001b[39;00m no_val_y:\n\u001b[1;32m--> 565\u001b[0m     X \u001b[39m=\u001b[39m check_array(X, input_name\u001b[39m=\u001b[39m\u001b[39m\"\u001b[39m\u001b[39mX\u001b[39m\u001b[39m\"\u001b[39m, \u001b[39m*\u001b[39m\u001b[39m*\u001b[39mcheck_params)\n\u001b[0;32m    566\u001b[0m     out \u001b[39m=\u001b[39m X\n\u001b[0;32m    567\u001b[0m \u001b[39melif\u001b[39;00m no_val_X \u001b[39mand\u001b[39;00m \u001b[39mnot\u001b[39;00m no_val_y:\n",
      "File \u001b[1;32mc:\\Users\\willc\\miniconda3\\envs\\test\\lib\\site-packages\\sklearn\\utils\\validation.py:845\u001b[0m, in \u001b[0;36mcheck_array\u001b[1;34m(array, accept_sparse, accept_large_sparse, dtype, order, copy, force_all_finite, ensure_2d, allow_nd, ensure_min_samples, ensure_min_features, estimator, input_name)\u001b[0m\n\u001b[0;32m    843\u001b[0m \u001b[39mif\u001b[39;00m sp\u001b[39m.\u001b[39missparse(array):\n\u001b[0;32m    844\u001b[0m     _ensure_no_complex_data(array)\n\u001b[1;32m--> 845\u001b[0m     array \u001b[39m=\u001b[39m _ensure_sparse_format(\n\u001b[0;32m    846\u001b[0m         array,\n\u001b[0;32m    847\u001b[0m         accept_sparse\u001b[39m=\u001b[39;49maccept_sparse,\n\u001b[0;32m    848\u001b[0m         dtype\u001b[39m=\u001b[39;49mdtype,\n\u001b[0;32m    849\u001b[0m         copy\u001b[39m=\u001b[39;49mcopy,\n\u001b[0;32m    850\u001b[0m         force_all_finite\u001b[39m=\u001b[39;49mforce_all_finite,\n\u001b[0;32m    851\u001b[0m         accept_large_sparse\u001b[39m=\u001b[39;49maccept_large_sparse,\n\u001b[0;32m    852\u001b[0m         estimator_name\u001b[39m=\u001b[39;49mestimator_name,\n\u001b[0;32m    853\u001b[0m         input_name\u001b[39m=\u001b[39;49minput_name,\n\u001b[0;32m    854\u001b[0m     )\n\u001b[0;32m    855\u001b[0m \u001b[39melse\u001b[39;00m:\n\u001b[0;32m    856\u001b[0m     \u001b[39m# If np.array(..) gives ComplexWarning, then we convert the warning\u001b[39;00m\n\u001b[0;32m    857\u001b[0m     \u001b[39m# to an error. This is needed because specifying a non complex\u001b[39;00m\n\u001b[0;32m    858\u001b[0m     \u001b[39m# dtype to the function converts complex to real dtype,\u001b[39;00m\n\u001b[0;32m    859\u001b[0m     \u001b[39m# thereby passing the test made in the lines following the scope\u001b[39;00m\n\u001b[0;32m    860\u001b[0m     \u001b[39m# of warnings context manager.\u001b[39;00m\n\u001b[0;32m    861\u001b[0m     \u001b[39mwith\u001b[39;00m warnings\u001b[39m.\u001b[39mcatch_warnings():\n",
      "File \u001b[1;32mc:\\Users\\willc\\miniconda3\\envs\\test\\lib\\site-packages\\sklearn\\utils\\validation.py:522\u001b[0m, in \u001b[0;36m_ensure_sparse_format\u001b[1;34m(spmatrix, accept_sparse, dtype, copy, force_all_finite, accept_large_sparse, estimator_name, input_name)\u001b[0m\n\u001b[0;32m    519\u001b[0m _check_large_sparse(spmatrix, accept_large_sparse)\n\u001b[0;32m    521\u001b[0m \u001b[39mif\u001b[39;00m accept_sparse \u001b[39mis\u001b[39;00m \u001b[39mFalse\u001b[39;00m:\n\u001b[1;32m--> 522\u001b[0m     \u001b[39mraise\u001b[39;00m \u001b[39mTypeError\u001b[39;00m(\n\u001b[0;32m    523\u001b[0m         \u001b[39m\"\u001b[39m\u001b[39mA sparse matrix was passed, but dense \u001b[39m\u001b[39m\"\u001b[39m\n\u001b[0;32m    524\u001b[0m         \u001b[39m\"\u001b[39m\u001b[39mdata is required. Use X.toarray() to \u001b[39m\u001b[39m\"\u001b[39m\n\u001b[0;32m    525\u001b[0m         \u001b[39m\"\u001b[39m\u001b[39mconvert to a dense numpy array.\u001b[39m\u001b[39m\"\u001b[39m\n\u001b[0;32m    526\u001b[0m     )\n\u001b[0;32m    527\u001b[0m \u001b[39melif\u001b[39;00m \u001b[39misinstance\u001b[39m(accept_sparse, (\u001b[39mlist\u001b[39m, \u001b[39mtuple\u001b[39m)):\n\u001b[0;32m    528\u001b[0m     \u001b[39mif\u001b[39;00m \u001b[39mlen\u001b[39m(accept_sparse) \u001b[39m==\u001b[39m \u001b[39m0\u001b[39m:\n",
      "\u001b[1;31mTypeError\u001b[0m: A sparse matrix was passed, but dense data is required. Use X.toarray() to convert to a dense numpy array."
     ]
    }
   ],
   "source": [
    "from sklearn.mixture import GaussianMixture\n",
    "\n",
    "gm = GaussianMixture().fit(X_train)\n",
    "gm.means_\n"
   ]
  },
  {
   "attachments": {},
   "cell_type": "markdown",
   "metadata": {},
   "source": [
    "## Ensemble"
   ]
  },
  {
   "cell_type": "code",
   "execution_count": 54,
   "metadata": {},
   "outputs": [],
   "source": [
    "sk_svm = svm.best_model()['learner']\n",
    "sk_knn = knn.best_model()['learner']\n",
    "sk_LR = myLR.best_model()['learner']\n",
    "sk_ada = ada.best_model()['learner']\n",
    "sk_mlp = mlp.best_model()['learner']"
   ]
  },
  {
   "cell_type": "code",
   "execution_count": 55,
   "metadata": {},
   "outputs": [
    {
     "name": "stderr",
     "output_type": "stream",
     "text": [
      "c:\\Users\\willc\\miniconda3\\envs\\test\\lib\\site-packages\\sklearn\\ensemble\\_base.py:166: FutureWarning: `base_estimator` was renamed to `estimator` in version 1.2 and will be removed in 1.4.\n",
      "  warnings.warn(\n"
     ]
    },
    {
     "name": "stdout",
     "output_type": "stream",
     "text": [
      "Accuracy: 76.19 %\n",
      "F1: 76.12 %\n"
     ]
    },
    {
     "data": {
      "image/png": "[encoded data removed]",
      "text/plain": [
       "<Figure size 640x480 with 2 Axes>"
      ]
     },
     "metadata": {},
     "output_type": "display_data"
    }
   ],
   "source": [
    "# Hard voting\n",
    "from sklearn.ensemble import VotingClassifier\n",
    "\n",
    "sk_classifiers = [sk_svm, sk_knn, sk_LR, sk_ada, sk_mlp]\n",
    "names = [\"svm\", \"knn\", \"LR\", \"ada\", \"mlp\"]\n",
    "\n",
    "hardvoter = VotingClassifier(estimators=list(zip(names, sk_classifiers)), voting=\"hard\")\n",
    "hardvoter.fit(X_train, y_train)\n",
    "evaluate_model(hardvoter, X_test, y_test)"
   ]
  },
  {
   "cell_type": "code",
   "execution_count": 56,
   "metadata": {},
   "outputs": [
    {
     "name": "stderr",
     "output_type": "stream",
     "text": [
      "c:\\Users\\willc\\miniconda3\\envs\\test\\lib\\site-packages\\sklearn\\ensemble\\_base.py:166: FutureWarning: `base_estimator` was renamed to `estimator` in version 1.2 and will be removed in 1.4.\n",
      "  warnings.warn(\n"
     ]
    },
    {
     "name": "stdout",
     "output_type": "stream",
     "text": [
      "Accuracy: 75.6 %\n",
      "F1: 75.59 %\n"
     ]
    },
    {
     "data": {
      "image/png": "[encoded data removed]",
      "text/plain": [
       "<Figure size 640x480 with 2 Axes>"
      ]
     },
     "metadata": {},
     "output_type": "display_data"
    }
   ],
   "source": [
    "softvoter = VotingClassifier(estimators=list(zip(names, sk_classifiers)), voting=\"soft\")\n",
    "softvoter.fit(X_train, y_train)\n",
    "evaluate_model(softvoter, X_test, y_test)"
   ]
  },
  {
   "cell_type": "code",
   "execution_count": 33,
   "metadata": {},
   "outputs": [
    {
     "name": "stdout",
     "output_type": "stream",
     "text": [
      "100%|██████████| 1/1 [00:05<00:00,  5.61s/trial, best loss: 0.35260115606936415]\n",
      "100%|██████████| 2/2 [00:06<00:00,  6.87s/trial, best loss: 0.21387283236994215]\n",
      "100%|██████████| 3/3 [00:08<00:00,  8.58s/trial, best loss: 0.21387283236994215]\n",
      "100%|██████████| 4/4 [00:05<00:00,  5.40s/trial, best loss: 0.21387283236994215]\n",
      "100%|██████████| 5/5 [00:05<00:00,  5.28s/trial, best loss: 0.1560693641618497]\n",
      "100%|██████████| 6/6 [00:08<00:00,  8.50s/trial, best loss: 0.1560693641618497]\n",
      "100%|██████████| 7/7 [00:08<00:00,  8.21s/trial, best loss: 0.1560693641618497]\n",
      "100%|██████████| 8/8 [00:05<00:00,  5.44s/trial, best loss: 0.1560693641618497]\n",
      "100%|██████████| 9/9 [00:05<00:00,  5.27s/trial, best loss: 0.1560693641618497]\n",
      "100%|██████████| 10/10 [00:05<00:00,  5.71s/trial, best loss: 0.1560693641618497]\n",
      "100%|██████████| 11/11 [00:05<00:00,  5.40s/trial, best loss: 0.1560693641618497]\n",
      "100%|██████████| 12/12 [00:05<00:00,  5.28s/trial, best loss: 0.1560693641618497]\n",
      "100%|██████████| 13/13 [00:07<00:00,  7.69s/trial, best loss: 0.1560693641618497]\n",
      "100%|██████████| 14/14 [00:05<00:00,  5.43s/trial, best loss: 0.1560693641618497]\n",
      "100%|██████████| 15/15 [00:05<00:00,  5.34s/trial, best loss: 0.1560693641618497]\n",
      "100%|██████████| 16/16 [00:05<00:00,  5.48s/trial, best loss: 0.1560693641618497]\n",
      "100%|██████████| 17/17 [00:06<00:00,  6.04s/trial, best loss: 0.1502890173410405]\n",
      "100%|██████████| 18/18 [00:05<00:00,  5.86s/trial, best loss: 0.1502890173410405]\n",
      "100%|██████████| 19/19 [00:06<00:00,  6.75s/trial, best loss: 0.1502890173410405]\n",
      "100%|██████████| 20/20 [00:05<00:00,  5.49s/trial, best loss: 0.1502890173410405]\n",
      "100%|██████████| 21/21 [00:05<00:00,  5.15s/trial, best loss: 0.1502890173410405]\n",
      "100%|██████████| 22/22 [00:06<00:00,  6.00s/trial, best loss: 0.1502890173410405]\n",
      "100%|██████████| 23/23 [00:05<00:00,  5.47s/trial, best loss: 0.1502890173410405]\n",
      "100%|██████████| 24/24 [00:05<00:00,  5.37s/trial, best loss: 0.1502890173410405]\n",
      "100%|██████████| 25/25 [00:05<00:00,  5.35s/trial, best loss: 0.1502890173410405]\n",
      "100%|██████████| 26/26 [00:06<00:00,  6.68s/trial, best loss: 0.1502890173410405]\n",
      "100%|██████████| 27/27 [00:05<00:00,  5.19s/trial, best loss: 0.1502890173410405]\n",
      "100%|██████████| 28/28 [00:04<00:00,  4.77s/trial, best loss: 0.1502890173410405]\n",
      "100%|██████████| 29/29 [00:07<00:00,  7.15s/trial, best loss: 0.1502890173410405]\n",
      "100%|██████████| 30/30 [00:05<00:00,  5.21s/trial, best loss: 0.1502890173410405]\n",
      "100%|██████████| 31/31 [00:05<00:00,  5.41s/trial, best loss: 0.1502890173410405]\n",
      "100%|██████████| 32/32 [00:06<00:00,  6.10s/trial, best loss: 0.1502890173410405]\n",
      "100%|██████████| 33/33 [00:05<00:00,  5.84s/trial, best loss: 0.1502890173410405]\n",
      "100%|██████████| 34/34 [00:05<00:00,  5.34s/trial, best loss: 0.1502890173410405]\n",
      "100%|██████████| 35/35 [00:05<00:00,  5.09s/trial, best loss: 0.1502890173410405]\n",
      "100%|██████████| 36/36 [00:05<00:00,  5.34s/trial, best loss: 0.1502890173410405]\n",
      "100%|██████████| 37/37 [00:05<00:00,  5.93s/trial, best loss: 0.1502890173410405]\n",
      "100%|██████████| 38/38 [00:05<00:00,  5.37s/trial, best loss: 0.1502890173410405]\n",
      "100%|██████████| 39/39 [00:05<00:00,  5.37s/trial, best loss: 0.1502890173410405]\n",
      "100%|██████████| 40/40 [00:05<00:00,  5.42s/trial, best loss: 0.1502890173410405]\n",
      "100%|██████████| 41/41 [00:05<00:00,  5.14s/trial, best loss: 0.1502890173410405]\n",
      "100%|██████████| 42/42 [00:06<00:00,  6.03s/trial, best loss: 0.1502890173410405]\n",
      "100%|██████████| 43/43 [00:04<00:00,  4.86s/trial, best loss: 0.1502890173410405]\n",
      "100%|██████████| 44/44 [00:05<00:00,  5.37s/trial, best loss: 0.1502890173410405]\n",
      "100%|██████████| 45/45 [00:05<00:00,  5.37s/trial, best loss: 0.1502890173410405]\n",
      "100%|██████████| 46/46 [00:08<00:00,  8.41s/trial, best loss: 0.1502890173410405]\n",
      "100%|██████████| 47/47 [00:05<00:00,  5.30s/trial, best loss: 0.1502890173410405]\n",
      "100%|██████████| 48/48 [00:06<00:00,  6.77s/trial, best loss: 0.1502890173410405]\n",
      "100%|██████████| 49/49 [00:06<00:00,  6.83s/trial, best loss: 0.1502890173410405]\n",
      "100%|██████████| 50/50 [00:05<00:00,  5.12s/trial, best loss: 0.1502890173410405]\n",
      "100%|██████████| 1/1 [00:02<00:00,  2.32s/trial, best loss: 0.14739884393063585]\n",
      "100%|██████████| 2/2 [00:02<00:00,  2.31s/trial, best loss: 0.14739884393063585]\n",
      "100%|██████████| 3/3 [00:02<00:00,  2.27s/trial, best loss: 0.14739884393063585]\n",
      "100%|██████████| 4/4 [00:04<00:00,  4.45s/trial, best loss: 0.14739884393063585]\n",
      "100%|██████████| 5/5 [00:04<00:00,  4.41s/trial, best loss: 0.14739884393063585]\n",
      "100%|██████████| 6/6 [00:04<00:00,  4.44s/trial, best loss: 0.14739884393063585]\n",
      "100%|██████████| 7/7 [00:02<00:00,  2.25s/trial, best loss: 0.14739884393063585]\n",
      "100%|██████████| 8/8 [00:02<00:00,  2.24s/trial, best loss: 0.14739884393063585]\n",
      "100%|██████████| 9/9 [00:02<00:00,  2.25s/trial, best loss: 0.14739884393063585]\n",
      "100%|██████████| 10/10 [00:04<00:00,  4.44s/trial, best loss: 0.14739884393063585]\n",
      "100%|██████████| 11/11 [00:02<00:00,  2.27s/trial, best loss: 0.14739884393063585]\n",
      "100%|██████████| 12/12 [00:04<00:00,  4.42s/trial, best loss: 0.14739884393063585]\n",
      "100%|██████████| 13/13 [00:04<00:00,  4.97s/trial, best loss: 0.14739884393063585]\n",
      "100%|██████████| 14/14 [00:01<00:00,  1.80s/trial, best loss: 0.14739884393063585]\n",
      "100%|██████████| 15/15 [00:05<00:00,  5.38s/trial, best loss: 0.1445086705202312]\n",
      "100%|██████████| 16/16 [00:01<00:00,  1.79s/trial, best loss: 0.1445086705202312]\n",
      "100%|██████████| 17/17 [00:02<00:00,  2.25s/trial, best loss: 0.1445086705202312]\n",
      "100%|██████████| 18/18 [00:02<00:00,  2.22s/trial, best loss: 0.1445086705202312]\n",
      "100%|██████████| 19/19 [00:02<00:00,  2.26s/trial, best loss: 0.12427745664739887]\n",
      "100%|██████████| 20/20 [00:05<00:00,  5.40s/trial, best loss: 0.12427745664739887]\n",
      "100%|██████████| 21/21 [00:04<00:00,  4.44s/trial, best loss: 0.12427745664739887]\n",
      "100%|██████████| 22/22 [00:05<00:00,  5.35s/trial, best loss: 0.12427745664739887]\n",
      "100%|██████████| 23/23 [00:04<00:00,  4.44s/trial, best loss: 0.12427745664739887]\n",
      "100%|██████████| 24/24 [00:02<00:00,  2.24s/trial, best loss: 0.12427745664739887]\n",
      "100%|██████████| 25/25 [00:02<00:00,  2.25s/trial, best loss: 0.12427745664739887]\n",
      "100%|██████████| 26/26 [00:02<00:00,  2.25s/trial, best loss: 0.12427745664739887]\n",
      "100%|██████████| 27/27 [00:02<00:00,  2.24s/trial, best loss: 0.12427745664739887]\n",
      "100%|██████████| 28/28 [00:02<00:00,  2.24s/trial, best loss: 0.12427745664739887]\n",
      "100%|██████████| 29/29 [00:02<00:00,  2.23s/trial, best loss: 0.12427745664739887]\n",
      "100%|██████████| 30/30 [00:01<00:00,  1.78s/trial, best loss: 0.12427745664739887]\n",
      "100%|██████████| 31/31 [00:01<00:00,  1.79s/trial, best loss: 0.12427745664739887]\n",
      "100%|██████████| 32/32 [00:04<00:00,  4.92s/trial, best loss: 0.12427745664739887]\n",
      "100%|██████████| 33/33 [00:04<00:00,  4.82s/trial, best loss: 0.12427745664739887]\n",
      "100%|██████████| 34/34 [00:04<00:00,  4.40s/trial, best loss: 0.12427745664739887]\n",
      "100%|██████████| 35/35 [00:02<00:00,  2.24s/trial, best loss: 0.12427745664739887]\n",
      "100%|██████████| 36/36 [00:02<00:00,  2.25s/trial, best loss: 0.12427745664739887]\n",
      "100%|██████████| 37/37 [00:02<00:00,  2.23s/trial, best loss: 0.12427745664739887]\n",
      "100%|██████████| 38/38 [00:01<00:00,  1.79s/trial, best loss: 0.12427745664739887]\n",
      "100%|██████████| 39/39 [00:01<00:00,  1.78s/trial, best loss: 0.12427745664739887]\n",
      "100%|██████████| 40/40 [00:04<00:00,  4.92s/trial, best loss: 0.12427745664739887]\n",
      "100%|██████████| 41/41 [00:04<00:00,  4.39s/trial, best loss: 0.12427745664739887]\n",
      "100%|██████████| 42/42 [00:02<00:00,  2.23s/trial, best loss: 0.12427745664739887]\n",
      "100%|██████████| 43/43 [00:01<00:00,  1.79s/trial, best loss: 0.12427745664739887]\n",
      "100%|██████████| 44/44 [00:05<00:00,  5.38s/trial, best loss: 0.12427745664739887]\n",
      "100%|██████████| 45/45 [00:02<00:00,  2.26s/trial, best loss: 0.12427745664739887]\n",
      "100%|██████████| 46/46 [00:04<00:00,  4.39s/trial, best loss: 0.12427745664739887]\n",
      "100%|██████████| 47/47 [00:04<00:00,  4.81s/trial, best loss: 0.12427745664739887]\n",
      "100%|██████████| 48/48 [00:05<00:00,  5.20s/trial, best loss: 0.12427745664739887]\n",
      "100%|██████████| 49/49 [00:02<00:00,  2.25s/trial, best loss: 0.12427745664739887]\n",
      "100%|██████████| 50/50 [00:02<00:00,  2.23s/trial, best loss: 0.12427745664739887]\n",
      "100%|██████████| 1/1 [00:03<00:00,  3.40s/trial, best loss: 0.25722543352601157]\n",
      "100%|██████████| 2/2 [00:03<00:00,  3.14s/trial, best loss: 0.21965317919075145]\n",
      "100%|██████████| 3/3 [00:02<00:00,  2.33s/trial, best loss: 0.2109826589595376]\n",
      "100%|██████████| 4/4 [00:02<00:00,  2.93s/trial, best loss: 0.2109826589595376]\n",
      "100%|██████████| 5/5 [00:03<00:00,  3.07s/trial, best loss: 0.20231213872832365]\n",
      "100%|██████████| 6/6 [00:03<00:00,  3.36s/trial, best loss: 0.20231213872832365]\n",
      "100%|██████████| 7/7 [00:03<00:00,  3.41s/trial, best loss: 0.20231213872832365]\n",
      "100%|██████████| 8/8 [00:02<00:00,  2.90s/trial, best loss: 0.20231213872832365]\n",
      "100%|██████████| 9/9 [00:03<00:00,  3.13s/trial, best loss: 0.20231213872832365]\n",
      "100%|██████████| 10/10 [00:03<00:00,  3.44s/trial, best loss: 0.20231213872832365]\n",
      "100%|██████████| 11/11 [00:02<00:00,  2.75s/trial, best loss: 0.20231213872832365]\n",
      "100%|██████████| 12/12 [00:03<00:00,  3.38s/trial, best loss: 0.20231213872832365]\n",
      "100%|██████████| 13/13 [00:02<00:00,  2.78s/trial, best loss: 0.20231213872832365]\n",
      "100%|██████████| 14/14 [00:02<00:00,  2.95s/trial, best loss: 0.20231213872832365]\n",
      "100%|██████████| 15/15 [00:03<00:00,  3.53s/trial, best loss: 0.20231213872832365]\n",
      "100%|██████████| 16/16 [00:03<00:00,  3.60s/trial, best loss: 0.20231213872832365]\n",
      "100%|██████████| 17/17 [00:02<00:00,  2.57s/trial, best loss: 0.20231213872832365]\n",
      "100%|██████████| 18/18 [00:03<00:00,  3.03s/trial, best loss: 0.20231213872832365]\n",
      "100%|██████████| 19/19 [00:03<00:00,  3.37s/trial, best loss: 0.20231213872832365]\n",
      "100%|██████████| 20/20 [00:02<00:00,  2.71s/trial, best loss: 0.20231213872832365]\n",
      "100%|██████████| 21/21 [00:02<00:00,  2.54s/trial, best loss: 0.20231213872832365]\n",
      "100%|██████████| 22/22 [00:02<00:00,  2.57s/trial, best loss: 0.20231213872832365]\n",
      "100%|██████████| 23/23 [00:02<00:00,  2.67s/trial, best loss: 0.20231213872832365]\n",
      "100%|██████████| 24/24 [00:02<00:00,  2.57s/trial, best loss: 0.20231213872832365]\n",
      "100%|██████████| 25/25 [00:03<00:00,  3.25s/trial, best loss: 0.20231213872832365]\n",
      "100%|██████████| 26/26 [00:02<00:00,  2.98s/trial, best loss: 0.20231213872832365]\n",
      "100%|██████████| 27/27 [00:02<00:00,  2.98s/trial, best loss: 0.20231213872832365]\n",
      "100%|██████████| 28/28 [00:02<00:00,  2.77s/trial, best loss: 0.20231213872832365]\n",
      "100%|██████████| 29/29 [00:02<00:00,  2.77s/trial, best loss: 0.20231213872832365]\n",
      "100%|██████████| 30/30 [00:02<00:00,  2.84s/trial, best loss: 0.20231213872832365]\n",
      "100%|██████████| 31/31 [00:02<00:00,  2.92s/trial, best loss: 0.20231213872832365]\n",
      "100%|██████████| 32/32 [00:02<00:00,  2.76s/trial, best loss: 0.20231213872832365]\n",
      "100%|██████████| 33/33 [00:02<00:00,  2.86s/trial, best loss: 0.20231213872832365]\n",
      "100%|██████████| 34/34 [00:02<00:00,  2.33s/trial, best loss: 0.20231213872832365]\n",
      "100%|██████████| 35/35 [00:02<00:00,  2.86s/trial, best loss: 0.20231213872832365]\n",
      "100%|██████████| 36/36 [00:03<00:00,  3.86s/trial, best loss: 0.20231213872832365]\n",
      "100%|██████████| 37/37 [00:02<00:00,  2.63s/trial, best loss: 0.20231213872832365]\n",
      "100%|██████████| 38/38 [00:02<00:00,  2.78s/trial, best loss: 0.20231213872832365]\n",
      "100%|██████████| 39/39 [00:02<00:00,  2.74s/trial, best loss: 0.20231213872832365]\n",
      "100%|██████████| 40/40 [00:02<00:00,  2.60s/trial, best loss: 0.20231213872832365]\n",
      "100%|██████████| 41/41 [00:03<00:00,  3.00s/trial, best loss: 0.20231213872832365]\n",
      "100%|██████████| 42/42 [00:02<00:00,  2.49s/trial, best loss: 0.20231213872832365]\n",
      "100%|██████████| 43/43 [00:02<00:00,  2.87s/trial, best loss: 0.20231213872832365]\n",
      "100%|██████████| 44/44 [00:02<00:00,  2.44s/trial, best loss: 0.20231213872832365]\n",
      "100%|██████████| 45/45 [00:02<00:00,  2.92s/trial, best loss: 0.20231213872832365]\n",
      "100%|██████████| 46/46 [00:02<00:00,  2.83s/trial, best loss: 0.20231213872832365]\n",
      "100%|██████████| 47/47 [00:03<00:00,  3.81s/trial, best loss: 0.20231213872832365]\n",
      "100%|██████████| 48/48 [00:03<00:00,  3.10s/trial, best loss: 0.20231213872832365]\n",
      "100%|██████████| 49/49 [00:03<00:00,  3.02s/trial, best loss: 0.20231213872832365]\n",
      "100%|██████████| 50/50 [00:03<00:00,  3.59s/trial, best loss: 0.20231213872832365]\n",
      "100%|██████████| 1/1 [00:46<00:00, 46.81s/trial, best loss: 0.34104046242774566]\n",
      "100%|██████████| 2/2 [00:02<00:00,  2.82s/trial, best loss: 0.25722543352601157]\n",
      "100%|██████████| 3/3 [00:03<00:00,  3.39s/trial, best loss: 0.1936416184971098]\n",
      "100%|██████████| 4/4 [00:02<00:00,  2.33s/trial, best loss: 0.12427745664739887]\n",
      "100%|██████████| 5/5 [00:16<00:00, 16.83s/trial, best loss: 0.12427745664739887]\n",
      "100%|██████████| 6/6 [00:10<00:00, 10.89s/trial, best loss: 0.12427745664739887]\n",
      "100%|██████████| 7/7 [00:02<00:00,  2.36s/trial, best loss: 0.12427745664739887]\n",
      "100%|██████████| 8/8 [00:18<00:00, 18.91s/trial, best loss: 0.12427745664739887]\n",
      "100%|██████████| 9/9 [01:25<00:00, 85.30s/trial, best loss: 0.12427745664739887]\n",
      "100%|██████████| 10/10 [00:02<00:00,  2.61s/trial, best loss: 0.12427745664739887]\n",
      "100%|██████████| 11/11 [00:01<00:00,  1.66s/trial, best loss: 0.12427745664739887]\n",
      "100%|██████████| 12/12 [00:02<00:00,  2.36s/trial, best loss: 0.12427745664739887]\n",
      "100%|██████████| 13/13 [00:01<00:00,  1.73s/trial, best loss: 0.12427745664739887]\n",
      "100%|██████████| 14/14 [00:01<00:00,  1.69s/trial, best loss: 0.12427745664739887]\n",
      "100%|██████████| 15/15 [00:02<00:00,  2.44s/trial, best loss: 0.12427745664739887]\n",
      "100%|██████████| 16/16 [00:02<00:00,  2.05s/trial, best loss: 0.12427745664739887]\n",
      "100%|██████████| 17/17 [00:01<00:00,  1.91s/trial, best loss: 0.12427745664739887]\n",
      "100%|██████████| 18/18 [00:01<00:00,  1.69s/trial, best loss: 0.12427745664739887]\n",
      "100%|██████████| 19/19 [00:04<00:00,  4.62s/trial, best loss: 0.12427745664739887]\n",
      "100%|██████████| 20/20 [00:02<00:00,  2.32s/trial, best loss: 0.12427745664739887]\n",
      "100%|██████████| 21/21 [00:08<00:00,  8.67s/trial, best loss: 0.12427745664739887]\n",
      "100%|██████████| 22/22 [00:02<00:00,  2.69s/trial, best loss: 0.12427745664739887]\n",
      "100%|██████████| 23/23 [00:01<00:00,  1.72s/trial, best loss: 0.12427745664739887]\n",
      "100%|██████████| 24/24 [00:01<00:00,  1.70s/trial, best loss: 0.12427745664739887]\n",
      "100%|██████████| 25/25 [00:21<00:00, 21.51s/trial, best loss: 0.12427745664739887]\n",
      "100%|██████████| 26/26 [00:03<00:00,  3.86s/trial, best loss: 0.12427745664739887]\n",
      "100%|██████████| 27/27 [00:01<00:00,  1.73s/trial, best loss: 0.12427745664739887]\n",
      "100%|██████████| 28/28 [00:03<00:00,  3.12s/trial, best loss: 0.12427745664739887]\n",
      "100%|██████████| 29/29 [00:01<00:00,  1.66s/trial, best loss: 0.12427745664739887]\n",
      "100%|██████████| 30/30 [00:02<00:00,  2.92s/trial, best loss: 0.12427745664739887]\n",
      "100%|██████████| 31/31 [00:01<00:00,  1.74s/trial, best loss: 0.12427745664739887]\n",
      "100%|██████████| 32/32 [00:04<00:00,  4.98s/trial, best loss: 0.12427745664739887]\n",
      "100%|██████████| 33/33 [00:01<00:00,  1.76s/trial, best loss: 0.12427745664739887]\n",
      "100%|██████████| 34/34 [00:01<00:00,  1.70s/trial, best loss: 0.12427745664739887]\n",
      "100%|██████████| 35/35 [00:41<00:00, 41.58s/trial, best loss: 0.12427745664739887]\n",
      "100%|██████████| 36/36 [00:03<00:00,  3.53s/trial, best loss: 0.12427745664739887]\n",
      "100%|██████████| 37/37 [00:02<00:00,  2.23s/trial, best loss: 0.12427745664739887]\n",
      "100%|██████████| 38/38 [00:01<00:00,  1.73s/trial, best loss: 0.12427745664739887]\n",
      "100%|██████████| 39/39 [00:03<00:00,  3.33s/trial, best loss: 0.12427745664739887]\n",
      "100%|██████████| 40/40 [00:03<00:00,  3.61s/trial, best loss: 0.12427745664739887]\n",
      "100%|██████████| 41/41 [00:01<00:00,  1.71s/trial, best loss: 0.12427745664739887]\n",
      "100%|██████████| 42/42 [00:02<00:00,  2.29s/trial, best loss: 0.12138728323699421]\n",
      "100%|██████████| 43/43 [00:41<00:00, 41.11s/trial, best loss: 0.12138728323699421]\n",
      "100%|██████████| 44/44 [00:01<00:00,  1.74s/trial, best loss: 0.12138728323699421]\n",
      "100%|██████████| 45/45 [00:23<00:00, 23.20s/trial, best loss: 0.12138728323699421]\n",
      "100%|██████████| 46/46 [00:04<00:00,  4.77s/trial, best loss: 0.12138728323699421]\n",
      "100%|██████████| 47/47 [00:01<00:00,  1.69s/trial, best loss: 0.12138728323699421]\n",
      "100%|██████████| 48/48 [00:02<00:00,  2.51s/trial, best loss: 0.12138728323699421]\n",
      "100%|██████████| 49/49 [00:03<00:00,  3.18s/trial, best loss: 0.12138728323699421]\n",
      "100%|██████████| 50/50 [00:02<00:00,  2.12s/trial, best loss: 0.12138728323699421]\n"
     ]
    },
    {
     "name": "stderr",
     "output_type": "stream",
     "text": [
      "c:\\Users\\willc\\miniconda3\\envs\\test\\lib\\site-packages\\sklearn\\ensemble\\_base.py:166: FutureWarning: `base_estimator` was renamed to `estimator` in version 1.2 and will be removed in 1.4.\n",
      "  warnings.warn(\n"
     ]
    },
    {
     "name": "stdout",
     "output_type": "stream",
     "text": [
      "100%|██████████| 1/1 [00:10<00:00, 10.60s/trial, best loss: 0.16763005780346818]\n",
      "100%|██████████| 2/2 [00:05<00:00,  5.79s/trial, best loss: 0.14161849710982655]\n",
      "100%|██████████| 3/3 [00:08<00:00,  8.27s/trial, best loss: 0.14161849710982655]\n",
      "100%|██████████| 4/4 [00:07<00:00,  7.96s/trial, best loss: 0.1329479768786127]\n",
      "100%|██████████| 5/5 [00:07<00:00,  7.84s/trial, best loss: 0.1329479768786127]\n",
      "100%|██████████| 6/6 [00:05<00:00,  5.64s/trial, best loss: 0.1329479768786127]\n",
      "100%|██████████| 7/7 [00:02<00:00,  2.78s/trial, best loss: 0.1329479768786127]\n",
      "100%|██████████| 8/8 [00:14<00:00, 14.82s/trial, best loss: 0.1329479768786127]\n",
      "100%|██████████| 9/9 [00:07<00:00,  7.45s/trial, best loss: 0.1329479768786127]\n",
      "100%|██████████| 10/10 [00:03<00:00,  3.51s/trial, best loss: 0.1329479768786127]\n",
      "100%|██████████| 11/11 [00:04<00:00,  4.65s/trial, best loss: 0.1329479768786127]\n",
      "100%|██████████| 12/12 [00:07<00:00,  7.43s/trial, best loss: 0.1329479768786127]\n",
      "100%|██████████| 13/13 [00:02<00:00,  2.62s/trial, best loss: 0.1329479768786127]\n",
      "100%|██████████| 14/14 [00:06<00:00,  6.45s/trial, best loss: 0.1329479768786127]\n",
      "100%|██████████| 15/15 [00:08<00:00,  8.33s/trial, best loss: 0.1329479768786127]\n",
      "100%|██████████| 16/16 [00:14<00:00, 14.82s/trial, best loss: 0.1329479768786127]\n",
      "100%|██████████| 17/17 [00:08<00:00,  8.08s/trial, best loss: 0.1329479768786127]\n",
      "100%|██████████| 18/18 [00:05<00:00,  5.92s/trial, best loss: 0.1329479768786127]\n",
      "100%|██████████| 19/19 [00:06<00:00,  6.13s/trial, best loss: 0.1329479768786127]\n",
      "100%|██████████| 20/20 [00:06<00:00,  6.56s/trial, best loss: 0.1329479768786127]\n",
      "100%|██████████| 21/21 [00:05<00:00,  5.97s/trial, best loss: 0.1329479768786127]\n",
      "100%|██████████| 22/22 [00:03<00:00,  3.13s/trial, best loss: 0.1329479768786127]\n",
      "100%|██████████| 23/23 [00:26<00:00, 26.17s/trial, best loss: 0.1329479768786127]\n",
      "100%|██████████| 24/24 [00:06<00:00,  6.45s/trial, best loss: 0.1329479768786127]\n",
      "100%|██████████| 25/25 [00:06<00:00,  6.89s/trial, best loss: 0.1329479768786127]\n",
      "100%|██████████| 26/26 [00:02<00:00,  2.70s/trial, best loss: 0.1329479768786127]\n",
      "100%|██████████| 27/27 [00:27<00:00, 27.81s/trial, best loss: 0.1329479768786127]\n",
      "100%|██████████| 28/28 [00:03<00:00,  3.80s/trial, best loss: 0.1329479768786127]\n",
      "100%|██████████| 29/29 [00:07<00:00,  7.93s/trial, best loss: 0.13005780346820806]\n",
      "100%|██████████| 30/30 [00:08<00:00,  8.30s/trial, best loss: 0.13005780346820806]\n",
      "100%|██████████| 31/31 [00:08<00:00,  8.19s/trial, best loss: 0.13005780346820806]\n",
      "100%|██████████| 32/32 [00:07<00:00,  7.13s/trial, best loss: 0.13005780346820806]\n",
      "100%|██████████| 33/33 [00:08<00:00,  8.99s/trial, best loss: 0.13005780346820806]\n",
      "100%|██████████| 34/34 [00:11<00:00, 11.89s/trial, best loss: 0.13005780346820806]\n",
      "100%|██████████| 35/35 [00:04<00:00,  4.47s/trial, best loss: 0.13005780346820806]\n",
      "100%|██████████| 36/36 [00:07<00:00,  7.32s/trial, best loss: 0.13005780346820806]\n",
      "100%|██████████| 37/37 [00:05<00:00,  5.52s/trial, best loss: 0.13005780346820806]\n",
      "100%|██████████| 38/38 [00:16<00:00, 16.08s/trial, best loss: 0.11271676300578037]\n",
      "100%|██████████| 39/39 [00:04<00:00,  4.27s/trial, best loss: 0.11271676300578037]\n",
      "100%|██████████| 40/40 [00:18<00:00, 18.85s/trial, best loss: 0.11271676300578037]\n",
      "100%|██████████| 41/41 [00:03<00:00,  3.72s/trial, best loss: 0.11271676300578037]\n",
      "100%|██████████| 42/42 [00:08<00:00,  8.51s/trial, best loss: 0.11271676300578037]\n",
      "100%|██████████| 43/43 [00:03<00:00,  3.30s/trial, best loss: 0.11271676300578037]\n",
      "100%|██████████| 44/44 [00:09<00:00,  9.65s/trial, best loss: 0.11271676300578037]\n",
      "100%|██████████| 45/45 [00:08<00:00,  8.43s/trial, best loss: 0.11271676300578037]\n",
      "100%|██████████| 46/46 [00:12<00:00, 12.06s/trial, best loss: 0.11271676300578037]\n",
      "100%|██████████| 47/47 [00:04<00:00,  4.39s/trial, best loss: 0.11271676300578037]\n",
      "100%|██████████| 48/48 [00:07<00:00,  7.91s/trial, best loss: 0.11271676300578037]\n",
      "100%|██████████| 49/49 [00:05<00:00,  5.13s/trial, best loss: 0.11271676300578037]\n",
      "100%|██████████| 50/50 [00:05<00:00,  5.59s/trial, best loss: 0.11271676300578037]\n",
      "{'learner': SVC(C=1.3859124309792619, coef0=0.12068536714031086, degree=1, kernel='linear',\n",
      "    random_state=2, tol=0.00021015619572883426), 'preprocs': (), 'ex_preprocs': ()}\n",
      "{'learner': KNeighborsClassifier(leaf_size=33, metric='l2', n_jobs=1, n_neighbors=1,\n",
      "                     p=4.675960977330624, weights='distance'), 'preprocs': (), 'ex_preprocs': ()}\n",
      "{'learner': LogisticRegression(C=1.892356880560552, max_iter=455, n_jobs=1, random_state=1,\n",
      "                   solver='sag', tol=0.00035719537044419836), 'preprocs': (), 'ex_preprocs': ()}\n",
      "{'learner': AdaBoostClassifier(base_estimator=DecisionTreeClassifier(criterion='entropy',\n",
      "                                                         max_features=0.39609196963056637,\n",
      "                                                         random_state=3),\n",
      "                   learning_rate=0.004615493166759093, n_estimators=73,\n",
      "                   random_state=3), 'preprocs': (), 'ex_preprocs': ()}\n",
      "{'learner': MLPClassifier(alpha=0.002395567770440609, beta_1=0.9575567398429367,\n",
      "              beta_2=0.9594018628550763, epsilon=8.046481899324092e-07,\n",
      "              learning_rate_init=0.06068605265432414, max_fun=18861,\n",
      "              max_iter=289, momentum=0.9597514700544251, n_iter_no_change=30,\n",
      "              power_t=0.4321642923935637, random_state=4,\n",
      "              tol=0.0009755412389043935,\n",
      "              validation_fraction=0.06560312892167663), 'preprocs': (), 'ex_preprocs': ()}\n"
     ]
    }
   ],
   "source": [
    "from deslib.des import KNORAE\n",
    "\n",
    "classifiers = [svm, knn, myLR, ada, mlp]\n",
    "\n",
    "for c in classifiers:\n",
    "    c.fit(X_train.toarray(), y_train)\n",
    "    \n",
    "for c in classifiers:\n",
    "    print(c.best_model())\n"
   ]
  },
  {
   "cell_type": "code",
   "execution_count": 34,
   "metadata": {},
   "outputs": [
    {
     "name": "stderr",
     "output_type": "stream",
     "text": [
      "c:\\Users\\willc\\miniconda3\\envs\\test\\lib\\site-packages\\sklearn\\ensemble\\_base.py:166: FutureWarning: `base_estimator` was renamed to `estimator` in version 1.2 and will be removed in 1.4.\n",
      "  warnings.warn(\n"
     ]
    }
   ],
   "source": [
    "hp_classifiers = [svm, knn, myLR, ada, mlp]\n",
    "\n",
    "sk_classifiers = []\n",
    "\n",
    "for c in classifiers:\n",
    "    sk_model = c.best_model()['learner']\n",
    "    sk_model.fit(X_train.toarray(), y_train)\n",
    "    sk_classifiers.append(sk_model)\n"
   ]
  },
  {
   "cell_type": "code",
   "execution_count": 35,
   "metadata": {},
   "outputs": [
    {
     "data": {
      "text/html": [
       "<style>#sk-container-id-1 {color: black;background-color: white;}#sk-container-id-1 pre{padding: 0;}#sk-container-id-1 div.sk-toggleable {background-color: white;}#sk-container-id-1 label.sk-toggleable__label {cursor: pointer;display: block;width: 100%;margin-bottom: 0;padding: 0.3em;box-sizing: border-box;text-align: center;}#sk-container-id-1 label.sk-toggleable__label-arrow:before {content: \"▸\";float: left;margin-right: 0.25em;color: #696969;}#sk-container-id-1 label.sk-toggleable__label-arrow:hover:before {color: black;}#sk-container-id-1 div.sk-estimator:hover label.sk-toggleable__label-arrow:before {color: black;}#sk-container-id-1 div.sk-toggleable__content {max-height: 0;max-width: 0;overflow: hidden;text-align: left;background-color: #f0f8ff;}#sk-container-id-1 div.sk-toggleable__content pre {margin: 0.2em;color: black;border-radius: 0.25em;background-color: #f0f8ff;}#sk-container-id-1 input.sk-toggleable__control:checked~div.sk-toggleable__content {max-height: 200px;max-width: 100%;overflow: auto;}#sk-container-id-1 input.sk-toggleable__control:checked~label.sk-toggleable__label-arrow:before {content: \"▾\";}#sk-container-id-1 div.sk-estimator input.sk-toggleable__control:checked~label.sk-toggleable__label {background-color: #d4ebff;}#sk-container-id-1 div.sk-label input.sk-toggleable__control:checked~label.sk-toggleable__label {background-color: #d4ebff;}#sk-container-id-1 input.sk-hidden--visually {border: 0;clip: rect(1px 1px 1px 1px);clip: rect(1px, 1px, 1px, 1px);height: 1px;margin: -1px;overflow: hidden;padding: 0;position: absolute;width: 1px;}#sk-container-id-1 div.sk-estimator {font-family: monospace;background-color: #f0f8ff;border: 1px dotted black;border-radius: 0.25em;box-sizing: border-box;margin-bottom: 0.5em;}#sk-container-id-1 div.sk-estimator:hover {background-color: #d4ebff;}#sk-container-id-1 div.sk-parallel-item::after {content: \"\";width: 100%;border-bottom: 1px solid gray;flex-grow: 1;}#sk-container-id-1 div.sk-label:hover label.sk-toggleable__label {background-color: #d4ebff;}#sk-container-id-1 div.sk-serial::before {content: \"\";position: absolute;border-left: 1px solid gray;box-sizing: border-box;top: 0;bottom: 0;left: 50%;z-index: 0;}#sk-container-id-1 div.sk-serial {display: flex;flex-direction: column;align-items: center;background-color: white;padding-right: 0.2em;padding-left: 0.2em;position: relative;}#sk-container-id-1 div.sk-item {position: relative;z-index: 1;}#sk-container-id-1 div.sk-parallel {display: flex;align-items: stretch;justify-content: center;background-color: white;position: relative;}#sk-container-id-1 div.sk-item::before, #sk-container-id-1 div.sk-parallel-item::before {content: \"\";position: absolute;border-left: 1px solid gray;box-sizing: border-box;top: 0;bottom: 0;left: 50%;z-index: -1;}#sk-container-id-1 div.sk-parallel-item {display: flex;flex-direction: column;z-index: 1;position: relative;background-color: white;}#sk-container-id-1 div.sk-parallel-item:first-child::after {align-self: flex-end;width: 50%;}#sk-container-id-1 div.sk-parallel-item:last-child::after {align-self: flex-start;width: 50%;}#sk-container-id-1 div.sk-parallel-item:only-child::after {width: 0;}#sk-container-id-1 div.sk-dashed-wrapped {border: 1px dashed gray;margin: 0 0.4em 0.5em 0.4em;box-sizing: border-box;padding-bottom: 0.4em;background-color: white;}#sk-container-id-1 div.sk-label label {font-family: monospace;font-weight: bold;display: inline-block;line-height: 1.2em;}#sk-container-id-1 div.sk-label-container {text-align: center;}#sk-container-id-1 div.sk-container {/* jupyter's `normalize.less` sets `[hidden] { display: none; }` but bootstrap.min.css set `[hidden] { display: none !important; }` so we also need the `!important` here to be able to override the default hidden behavior on the sphinx rendered scikit-learn.org. See: https://github.com/scikit-learn/scikit-learn/issues/21755 */display: inline-block !important;position: relative;}#sk-container-id-1 div.sk-text-repr-fallback {display: none;}</style><div id=\"sk-container-id-1\" class=\"sk-top-container\"><div class=\"sk-text-repr-fallback\"><pre>KNORAE(pool_classifiers=[SVC(C=1.3859124309792619, coef0=0.12068536714031086,\n",
       "                             degree=1, kernel=&#x27;linear&#x27;, random_state=2,\n",
       "                             tol=0.00021015619572883426),\n",
       "                         KNeighborsClassifier(leaf_size=33, metric=&#x27;l2&#x27;,\n",
       "                                              n_jobs=1, n_neighbors=1,\n",
       "                                              p=4.675960977330624,\n",
       "                                              weights=&#x27;distance&#x27;),\n",
       "                         LogisticRegression(C=1.892356880560552, max_iter=455,\n",
       "                                            n_jobs=1, random_state=1,\n",
       "                                            solver=&#x27;sag&#x27;,\n",
       "                                            tol=0.00...\n",
       "                                            n_estimators=73, random_state=3),\n",
       "                         MLPClassifier(alpha=0.002395567770440609,\n",
       "                                       beta_1=0.9575567398429367,\n",
       "                                       beta_2=0.9594018628550763,\n",
       "                                       epsilon=8.046481899324092e-07,\n",
       "                                       learning_rate_init=0.06068605265432414,\n",
       "                                       max_fun=18861, max_iter=289,\n",
       "                                       momentum=0.9597514700544251,\n",
       "                                       n_iter_no_change=30,\n",
       "                                       power_t=0.4321642923935637,\n",
       "                                       random_state=4,\n",
       "                                       tol=0.0009755412389043935,\n",
       "                                       validation_fraction=0.06560312892167663)])</pre><b>In a Jupyter environment, please rerun this cell to show the HTML representation or trust the notebook. <br />On GitHub, the HTML representation is unable to render, please try loading this page with nbviewer.org.</b></div><div class=\"sk-container\" hidden><div class=\"sk-item\"><div class=\"sk-estimator sk-toggleable\"><input class=\"sk-toggleable__control sk-hidden--visually\" id=\"sk-estimator-id-1\" type=\"checkbox\" checked><label for=\"sk-estimator-id-1\" class=\"sk-toggleable__label sk-toggleable__label-arrow\">KNORAE</label><div class=\"sk-toggleable__content\"><pre>KNORAE(pool_classifiers=[SVC(C=1.3859124309792619, coef0=0.12068536714031086,\n",
       "                             degree=1, kernel=&#x27;linear&#x27;, random_state=2,\n",
       "                             tol=0.00021015619572883426),\n",
       "                         KNeighborsClassifier(leaf_size=33, metric=&#x27;l2&#x27;,\n",
       "                                              n_jobs=1, n_neighbors=1,\n",
       "                                              p=4.675960977330624,\n",
       "                                              weights=&#x27;distance&#x27;),\n",
       "                         LogisticRegression(C=1.892356880560552, max_iter=455,\n",
       "                                            n_jobs=1, random_state=1,\n",
       "                                            solver=&#x27;sag&#x27;,\n",
       "                                            tol=0.00...\n",
       "                                            n_estimators=73, random_state=3),\n",
       "                         MLPClassifier(alpha=0.002395567770440609,\n",
       "                                       beta_1=0.9575567398429367,\n",
       "                                       beta_2=0.9594018628550763,\n",
       "                                       epsilon=8.046481899324092e-07,\n",
       "                                       learning_rate_init=0.06068605265432414,\n",
       "                                       max_fun=18861, max_iter=289,\n",
       "                                       momentum=0.9597514700544251,\n",
       "                                       n_iter_no_change=30,\n",
       "                                       power_t=0.4321642923935637,\n",
       "                                       random_state=4,\n",
       "                                       tol=0.0009755412389043935,\n",
       "                                       validation_fraction=0.06560312892167663)])</pre></div></div></div></div></div>"
      ],
      "text/plain": [
       "KNORAE(pool_classifiers=[SVC(C=1.3859124309792619, coef0=0.12068536714031086,\n",
       "                             degree=1, kernel='linear', random_state=2,\n",
       "                             tol=0.00021015619572883426),\n",
       "                         KNeighborsClassifier(leaf_size=33, metric='l2',\n",
       "                                              n_jobs=1, n_neighbors=1,\n",
       "                                              p=4.675960977330624,\n",
       "                                              weights='distance'),\n",
       "                         LogisticRegression(C=1.892356880560552, max_iter=455,\n",
       "                                            n_jobs=1, random_state=1,\n",
       "                                            solver='sag',\n",
       "                                            tol=0.00...\n",
       "                                            n_estimators=73, random_state=3),\n",
       "                         MLPClassifier(alpha=0.002395567770440609,\n",
       "                                       beta_1=0.9575567398429367,\n",
       "                                       beta_2=0.9594018628550763,\n",
       "                                       epsilon=8.046481899324092e-07,\n",
       "                                       learning_rate_init=0.06068605265432414,\n",
       "                                       max_fun=18861, max_iter=289,\n",
       "                                       momentum=0.9597514700544251,\n",
       "                                       n_iter_no_change=30,\n",
       "                                       power_t=0.4321642923935637,\n",
       "                                       random_state=4,\n",
       "                                       tol=0.0009755412389043935,\n",
       "                                       validation_fraction=0.06560312892167663)])"
      ]
     },
     "execution_count": 35,
     "metadata": {},
     "output_type": "execute_result"
    }
   ],
   "source": [
    "ensemble = KNORAE(pool_classifiers=sk_classifiers)\n",
    "\n",
    "ensemble.fit(X_train.toarray(), y_train)\n"
   ]
  },
  {
   "cell_type": "code",
   "execution_count": 36,
   "metadata": {},
   "outputs": [
    {
     "ename": "TypeError",
     "evalue": "A sparse matrix was passed, but dense data is required. Use X.toarray() to convert to a dense numpy array.",
     "output_type": "error",
     "traceback": [
      "\u001b[1;31m---------------------------------------------------------------------------\u001b[0m",
      "\u001b[1;31mTypeError\u001b[0m                                 Traceback (most recent call last)",
      "Cell \u001b[1;32mIn[36], line 1\u001b[0m\n\u001b[1;32m----> 1\u001b[0m predy \u001b[39m=\u001b[39m ensemble\u001b[39m.\u001b[39;49mscore(X_test, y_test)\n",
      "File \u001b[1;32mc:\\Users\\willc\\miniconda3\\envs\\test\\lib\\site-packages\\sklearn\\base.py:668\u001b[0m, in \u001b[0;36mClassifierMixin.score\u001b[1;34m(self, X, y, sample_weight)\u001b[0m\n\u001b[0;32m    643\u001b[0m \u001b[39m\u001b[39m\u001b[39m\"\"\"\u001b[39;00m\n\u001b[0;32m    644\u001b[0m \u001b[39mReturn the mean accuracy on the given test data and labels.\u001b[39;00m\n\u001b[0;32m    645\u001b[0m \n\u001b[1;32m   (...)\u001b[0m\n\u001b[0;32m    664\u001b[0m \u001b[39m    Mean accuracy of ``self.predict(X)`` w.r.t. `y`.\u001b[39;00m\n\u001b[0;32m    665\u001b[0m \u001b[39m\"\"\"\u001b[39;00m\n\u001b[0;32m    666\u001b[0m \u001b[39mfrom\u001b[39;00m \u001b[39m.\u001b[39;00m\u001b[39mmetrics\u001b[39;00m \u001b[39mimport\u001b[39;00m accuracy_score\n\u001b[1;32m--> 668\u001b[0m \u001b[39mreturn\u001b[39;00m accuracy_score(y, \u001b[39mself\u001b[39;49m\u001b[39m.\u001b[39;49mpredict(X), sample_weight\u001b[39m=\u001b[39msample_weight)\n",
      "File \u001b[1;32mc:\\Users\\willc\\miniconda3\\envs\\test\\lib\\site-packages\\deslib\\base.py:417\u001b[0m, in \u001b[0;36mBaseDS.predict\u001b[1;34m(self, X)\u001b[0m\n\u001b[0;32m    413\u001b[0m check_is_fitted(\u001b[39mself\u001b[39m,\n\u001b[0;32m    414\u001b[0m                 [\u001b[39m\"\u001b[39m\u001b[39mDSEL_processed_\u001b[39m\u001b[39m\"\u001b[39m, \u001b[39m\"\u001b[39m\u001b[39mDSEL_data_\u001b[39m\u001b[39m\"\u001b[39m, \u001b[39m\"\u001b[39m\u001b[39mDSEL_target_\u001b[39m\u001b[39m\"\u001b[39m])\n\u001b[0;32m    416\u001b[0m \u001b[39m# Check if X is a valid input\u001b[39;00m\n\u001b[1;32m--> 417\u001b[0m X \u001b[39m=\u001b[39m check_array(X)\n\u001b[0;32m    418\u001b[0m \u001b[39mself\u001b[39m\u001b[39m.\u001b[39m_check_num_features(X)\n\u001b[0;32m    420\u001b[0m n_samples \u001b[39m=\u001b[39m X\u001b[39m.\u001b[39mshape[\u001b[39m0\u001b[39m]\n",
      "File \u001b[1;32mc:\\Users\\willc\\miniconda3\\envs\\test\\lib\\site-packages\\sklearn\\utils\\validation.py:845\u001b[0m, in \u001b[0;36mcheck_array\u001b[1;34m(array, accept_sparse, accept_large_sparse, dtype, order, copy, force_all_finite, ensure_2d, allow_nd, ensure_min_samples, ensure_min_features, estimator, input_name)\u001b[0m\n\u001b[0;32m    843\u001b[0m \u001b[39mif\u001b[39;00m sp\u001b[39m.\u001b[39missparse(array):\n\u001b[0;32m    844\u001b[0m     _ensure_no_complex_data(array)\n\u001b[1;32m--> 845\u001b[0m     array \u001b[39m=\u001b[39m _ensure_sparse_format(\n\u001b[0;32m    846\u001b[0m         array,\n\u001b[0;32m    847\u001b[0m         accept_sparse\u001b[39m=\u001b[39;49maccept_sparse,\n\u001b[0;32m    848\u001b[0m         dtype\u001b[39m=\u001b[39;49mdtype,\n\u001b[0;32m    849\u001b[0m         copy\u001b[39m=\u001b[39;49mcopy,\n\u001b[0;32m    850\u001b[0m         force_all_finite\u001b[39m=\u001b[39;49mforce_all_finite,\n\u001b[0;32m    851\u001b[0m         accept_large_sparse\u001b[39m=\u001b[39;49maccept_large_sparse,\n\u001b[0;32m    852\u001b[0m         estimator_name\u001b[39m=\u001b[39;49mestimator_name,\n\u001b[0;32m    853\u001b[0m         input_name\u001b[39m=\u001b[39;49minput_name,\n\u001b[0;32m    854\u001b[0m     )\n\u001b[0;32m    855\u001b[0m \u001b[39melse\u001b[39;00m:\n\u001b[0;32m    856\u001b[0m     \u001b[39m# If np.array(..) gives ComplexWarning, then we convert the warning\u001b[39;00m\n\u001b[0;32m    857\u001b[0m     \u001b[39m# to an error. This is needed because specifying a non complex\u001b[39;00m\n\u001b[0;32m    858\u001b[0m     \u001b[39m# dtype to the function converts complex to real dtype,\u001b[39;00m\n\u001b[0;32m    859\u001b[0m     \u001b[39m# thereby passing the test made in the lines following the scope\u001b[39;00m\n\u001b[0;32m    860\u001b[0m     \u001b[39m# of warnings context manager.\u001b[39;00m\n\u001b[0;32m    861\u001b[0m     \u001b[39mwith\u001b[39;00m warnings\u001b[39m.\u001b[39mcatch_warnings():\n",
      "File \u001b[1;32mc:\\Users\\willc\\miniconda3\\envs\\test\\lib\\site-packages\\sklearn\\utils\\validation.py:522\u001b[0m, in \u001b[0;36m_ensure_sparse_format\u001b[1;34m(spmatrix, accept_sparse, dtype, copy, force_all_finite, accept_large_sparse, estimator_name, input_name)\u001b[0m\n\u001b[0;32m    519\u001b[0m _check_large_sparse(spmatrix, accept_large_sparse)\n\u001b[0;32m    521\u001b[0m \u001b[39mif\u001b[39;00m accept_sparse \u001b[39mis\u001b[39;00m \u001b[39mFalse\u001b[39;00m:\n\u001b[1;32m--> 522\u001b[0m     \u001b[39mraise\u001b[39;00m \u001b[39mTypeError\u001b[39;00m(\n\u001b[0;32m    523\u001b[0m         \u001b[39m\"\u001b[39m\u001b[39mA sparse matrix was passed, but dense \u001b[39m\u001b[39m\"\u001b[39m\n\u001b[0;32m    524\u001b[0m         \u001b[39m\"\u001b[39m\u001b[39mdata is required. Use X.toarray() to \u001b[39m\u001b[39m\"\u001b[39m\n\u001b[0;32m    525\u001b[0m         \u001b[39m\"\u001b[39m\u001b[39mconvert to a dense numpy array.\u001b[39m\u001b[39m\"\u001b[39m\n\u001b[0;32m    526\u001b[0m     )\n\u001b[0;32m    527\u001b[0m \u001b[39melif\u001b[39;00m \u001b[39misinstance\u001b[39m(accept_sparse, (\u001b[39mlist\u001b[39m, \u001b[39mtuple\u001b[39m)):\n\u001b[0;32m    528\u001b[0m     \u001b[39mif\u001b[39;00m \u001b[39mlen\u001b[39m(accept_sparse) \u001b[39m==\u001b[39m \u001b[39m0\u001b[39m:\n",
      "\u001b[1;31mTypeError\u001b[0m: A sparse matrix was passed, but dense data is required. Use X.toarray() to convert to a dense numpy array."
     ]
    }
   ],
   "source": [
    "predy = ensemble.score(X_test, y_test)"
   ]
  }
 ],
 "metadata": {
  "kernelspec": {
   "display_name": "Python 3",
   "language": "python",
   "name": "python3"
  },
  "language_info": {
   "codemirror_mode": {
    "name": "ipython",
    "version": 3
   },
   "file_extension": ".py",
   "mimetype": "text/x-python",
   "name": "python",
   "nbconvert_exporter": "python",
   "pygments_lexer": "ipython3",
   "version": "3.10.12"
  },
  "orig_nbformat": 4
 },
 "nbformat": 4,
 "nbformat_minor": 2
}
