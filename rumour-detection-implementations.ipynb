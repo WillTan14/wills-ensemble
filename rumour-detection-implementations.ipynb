{
 "cells": [
  {
   "attachments": {},
   "cell_type": "markdown",
   "metadata": {},
   "source": [
    "# Run ML algorithms"
   ]
  },
  {
   "cell_type": "code",
   "execution_count": 2,
   "metadata": {},
   "outputs": [],
   "source": [
    "# Import Stuff\n",
    "import pandas as pd\n",
    "import numpy as np\n",
    "import matplotlib.pyplot as plt\n",
    "from sklearn.feature_extraction.text import TfidfVectorizer, HashingVectorizer, CountVectorizer\n",
    "from sklearn.svm import SVC\n",
    "from sklearn.model_selection import GridSearchCV\n",
    "from sklearn.neighbors import KNeighborsClassifier\n",
    "from sklearn.linear_model import LogisticRegression\n",
    "from sklearn.ensemble import AdaBoostClassifier\n",
    "from sklearn.model_selection import train_test_split\n",
    "from sklearn.metrics import accuracy_score, confusion_matrix, f1_score, ConfusionMatrixDisplay\n",
    "\n",
    "from hpsklearn import HyperoptEstimator\n",
    "\n"
   ]
  },
  {
   "cell_type": "code",
   "execution_count": 4,
   "metadata": {},
   "outputs": [],
   "source": [
    "pheme = pd.read_csv('datasets\\pheme.csv')\n",
    "politifact = pd.read_csv('datasets\\politifact.csv')\n",
    "twitter = pd.read_csv('datasets\\\\twitter.csv')"
   ]
  },
  {
   "cell_type": "code",
   "execution_count": 21,
   "metadata": {},
   "outputs": [
    {
     "data": {
      "text/html": [
       "<div>\n",
       "<style scoped>\n",
       "    .dataframe tbody tr th:only-of-type {\n",
       "        vertical-align: middle;\n",
       "    }\n",
       "\n",
       "    .dataframe tbody tr th {\n",
       "        vertical-align: top;\n",
       "    }\n",
       "\n",
       "    .dataframe thead th {\n",
       "        text-align: right;\n",
       "    }\n",
       "</style>\n",
       "<table border=\"1\" class=\"dataframe\">\n",
       "  <thead>\n",
       "    <tr style=\"text-align: right;\">\n",
       "      <th></th>\n",
       "      <th>Unnamed: 0</th>\n",
       "      <th>verdict</th>\n",
       "      <th>statement_originator</th>\n",
       "      <th>statement</th>\n",
       "      <th>statement_date</th>\n",
       "      <th>statement_source</th>\n",
       "      <th>factchecker</th>\n",
       "      <th>factcheck_date</th>\n",
       "      <th>factcheck_analysis_link</th>\n",
       "    </tr>\n",
       "  </thead>\n",
       "  <tbody>\n",
       "    <tr>\n",
       "      <th>0</th>\n",
       "      <td>0</td>\n",
       "      <td>True</td>\n",
       "      <td>Barack Obama</td>\n",
       "      <td>john mccain opposed bankruptcy protections for...</td>\n",
       "      <td>6/11/2008</td>\n",
       "      <td>speech</td>\n",
       "      <td>Adriel Bettelheim</td>\n",
       "      <td>6/16/2008</td>\n",
       "      <td>https://www.politifact.com/factchecks/2008/jun...</td>\n",
       "    </tr>\n",
       "    <tr>\n",
       "      <th>1</th>\n",
       "      <td>1</td>\n",
       "      <td>False</td>\n",
       "      <td>Matt Gaetz</td>\n",
       "      <td>bennie thompson actively cheer led riots in t...</td>\n",
       "      <td>6/7/2022</td>\n",
       "      <td>television</td>\n",
       "      <td>Yacob Reyes</td>\n",
       "      <td>6/13/2022</td>\n",
       "      <td>https://www.politifact.com/factchecks/2022/jun...</td>\n",
       "    </tr>\n",
       "    <tr>\n",
       "      <th>2</th>\n",
       "      <td>2</td>\n",
       "      <td>True</td>\n",
       "      <td>Kelly Ayotte</td>\n",
       "      <td>says maggie hassan was  out of state on    day...</td>\n",
       "      <td>5/18/2016</td>\n",
       "      <td>news</td>\n",
       "      <td>Clay Wirestone</td>\n",
       "      <td>5/27/2016</td>\n",
       "      <td>https://www.politifact.com/factchecks/2016/may...</td>\n",
       "    </tr>\n",
       "    <tr>\n",
       "      <th>3</th>\n",
       "      <td>3</td>\n",
       "      <td>False</td>\n",
       "      <td>Bloggers</td>\n",
       "      <td>busted  cdc inflated covid numbers  accused o...</td>\n",
       "      <td>2/1/2021</td>\n",
       "      <td>blog</td>\n",
       "      <td>Madison Czopek</td>\n",
       "      <td>2/5/2021</td>\n",
       "      <td>https://www.politifact.com/factchecks/2021/feb...</td>\n",
       "    </tr>\n",
       "    <tr>\n",
       "      <th>4</th>\n",
       "      <td>4</td>\n",
       "      <td>True</td>\n",
       "      <td>Bobby Jindal</td>\n",
       "      <td>i am the only  republican  candidate that has...</td>\n",
       "      <td>8/30/2015</td>\n",
       "      <td>television</td>\n",
       "      <td>Linda Qiu</td>\n",
       "      <td>8/30/2015</td>\n",
       "      <td>https://www.politifact.com/factchecks/2015/aug...</td>\n",
       "    </tr>\n",
       "  </tbody>\n",
       "</table>\n",
       "</div>"
      ],
      "text/plain": [
       "   Unnamed: 0  verdict statement_originator  \\\n",
       "0           0     True         Barack Obama   \n",
       "1           1    False           Matt Gaetz   \n",
       "2           2     True         Kelly Ayotte   \n",
       "3           3    False             Bloggers   \n",
       "4           4     True         Bobby Jindal   \n",
       "\n",
       "                                           statement statement_date  \\\n",
       "0  john mccain opposed bankruptcy protections for...      6/11/2008   \n",
       "1   bennie thompson actively cheer led riots in t...       6/7/2022   \n",
       "2  says maggie hassan was  out of state on    day...      5/18/2016   \n",
       "3   busted  cdc inflated covid numbers  accused o...       2/1/2021   \n",
       "4   i am the only  republican  candidate that has...      8/30/2015   \n",
       "\n",
       "  statement_source        factchecker factcheck_date  \\\n",
       "0           speech  Adriel Bettelheim      6/16/2008   \n",
       "1       television        Yacob Reyes      6/13/2022   \n",
       "2             news     Clay Wirestone      5/27/2016   \n",
       "3             blog     Madison Czopek       2/5/2021   \n",
       "4       television          Linda Qiu      8/30/2015   \n",
       "\n",
       "                             factcheck_analysis_link  \n",
       "0  https://www.politifact.com/factchecks/2008/jun...  \n",
       "1  https://www.politifact.com/factchecks/2022/jun...  \n",
       "2  https://www.politifact.com/factchecks/2016/may...  \n",
       "3  https://www.politifact.com/factchecks/2021/feb...  \n",
       "4  https://www.politifact.com/factchecks/2015/aug...  "
      ]
     },
     "execution_count": 21,
     "metadata": {},
     "output_type": "execute_result"
    }
   ],
   "source": [
    "politifact.head()"
   ]
  },
  {
   "cell_type": "code",
   "execution_count": 10,
   "metadata": {},
   "outputs": [],
   "source": [
    "\n",
    "def encode_two_datasets(set1, set2):\n",
    "    tfidf = TfidfVectorizer(max_df=0.6, min_df=0)\n",
    "    all_statements = np.append(set1, set2)\n",
    "    all_tf = tfidf.fit_transform(all_statements)\n",
    "    return all_tf[:len(set1)], all_tf[len(set1):]"
   ]
  },
  {
   "cell_type": "code",
   "execution_count": 11,
   "metadata": {},
   "outputs": [
    {
     "name": "stdout",
     "output_type": "stream",
     "text": [
      "(1729, 6101)\n"
     ]
    }
   ],
   "source": [
    "rs = 42\n",
    "method = 3\n",
    "tfidf = TfidfVectorizer(max_df=0.6, min_df=0)\n",
    "\n",
    "if method == 0:\n",
    "    pheme_tf = tfidf.fit_transform(pheme['text'].values)\n",
    "    X_train, X_test, y_train, y_test = train_test_split(pheme_tf, pheme['target'], test_size = 0.25, random_state = rs)\n",
    "elif method == 1:\n",
    "    polit_tf = tfidf.fit_transform(politifact['statement'].values)\n",
    "    X_train, X_test, y_train, y_test = train_test_split(polit_tf, politifact['verdict'], test_size = 0.25, random_state = rs)\n",
    "elif method == 2:\n",
    "    twitter_tf = tfidf.fit_transform(twitter['text'].values)\n",
    "    X_train, X_test, y_train, y_test = train_test_split(twitter_tf, twitter['verdict'], test_size = 0.25, random_state = rs)\n",
    "elif method == 3:\n",
    "    X_train, X_test = encode_two_datasets(twitter['text'].values, pheme['text'].values)\n",
    "    y_test = pheme['target']\n",
    "    y_train = twitter['verdict']\n",
    "else:\n",
    "    X_train, X_test = encode_two_datasets(politifact['statement'].values, pheme['text'].values)\n",
    "    y_train = politifact['verdict']\n",
    "    y_test = pheme['target']\n",
    "    \n",
    "\n",
    "# Set no. of folds\n",
    "num_folds = 10\n",
    "\n",
    "###Things to do: add more features\n",
    "print(X_train.shape)"
   ]
  },
  {
   "cell_type": "code",
   "execution_count": 24,
   "metadata": {},
   "outputs": [],
   "source": [
    "# Model running function\n",
    "def run_model_after_gridsearch(best_estimators, X_train, y_train, X_test, y_test):\n",
    "    mod = best_estimators\n",
    "    mod.fit(X_train, y_train)\n",
    "    pred_y = mod.predict(X_test)\n",
    "    acc_mod = accuracy_score(y_test, pred_y)\n",
    "    print(\"Accuracy:\", float(\"{0:.2f}\".format(acc_mod*100)), \"%\")\n",
    "    f1_mod = f1_score(y_test, pred_y, average=\"macro\")\n",
    "    print(\"F1:\", float(\"{0:.2f}\".format(f1_mod*100)), \"%\")\n",
    "    cm = confusion_matrix(y_test, pred_y)\n",
    "    disp = ConfusionMatrixDisplay(confusion_matrix=cm, display_labels=[\"true\", \"false\"])\n",
    "    disp.plot()\n",
    "    plt.show()  "
   ]
  },
  {
   "cell_type": "code",
   "execution_count": 25,
   "metadata": {},
   "outputs": [],
   "source": [
    "def run_model_manually(model, X_test, y_test):\n",
    "    pred_y = model.predict(X_test)\n",
    "    acc_mod = accuracy_score(y_test, pred_y)\n",
    "    print(\"Accuracy:\", float(\"{0:.2f}\".format(acc_mod*100)), \"%\")\n",
    "    f1_mod = f1_score(y_test, pred_y, average=\"macro\")\n",
    "    print(\"F1:\", float(\"{0:.2f}\".format(f1_mod*100)), \"%\")\n",
    "    cm = confusion_matrix(y_test, pred_y)\n",
    "    disp = ConfusionMatrixDisplay(confusion_matrix=cm, display_labels=[\"true\", \"false\"])\n",
    "    disp.plot()\n",
    "    plt.show() "
   ]
  },
  {
   "cell_type": "code",
   "execution_count": 12,
   "metadata": {},
   "outputs": [],
   "source": [
    "def optimize_model(model, X_train, y_train):\n",
    "    mod = HyperoptEstimator(classifier=model,\n",
    "                            preprocessing=[],\n",
    "                            max_evals=50)\n",
    "    mod.fit(X_train, y_train)\n",
    "    print(mod.best_model())\n",
    "    return mod\n",
    "\n",
    "def evaluate_model(model, X_test, y_test):\n",
    "    pred_y = model.predict(X_test)\n",
    "    acc_mod = accuracy_score(y_test, pred_y)\n",
    "    print(\"Accuracy:\", float(\"{0:.2f}\".format(acc_mod*100)), \"%\")\n",
    "    f1_mod = f1_score(y_test, pred_y, average=\"macro\")\n",
    "    print(\"F1:\", float(\"{0:.2f}\".format(f1_mod*100)), \"%\")\n",
    "    cm = confusion_matrix(y_test, pred_y)\n",
    "    disp = ConfusionMatrixDisplay(confusion_matrix=cm, display_labels=[\"true\", \"false\"])\n",
    "    disp.plot()\n",
    "    plt.show() \n",
    "    "
   ]
  },
  {
   "cell_type": "code",
   "execution_count": 17,
   "metadata": {},
   "outputs": [
    {
     "name": "stdout",
     "output_type": "stream",
     "text": [
      "100%|██████████| 1/1 [00:01<00:00,  1.92s/trial, best loss: 0.15895953757225434]\n",
      "100%|██████████| 2/2 [00:02<00:00,  2.06s/trial, best loss: 0.15895953757225434]\n",
      "100%|██████████| 3/3 [00:02<00:00,  2.18s/trial, best loss: 0.15895953757225434]\n",
      "100%|██████████| 4/4 [00:02<00:00,  2.26s/trial, best loss: 0.15895953757225434]\n",
      "100%|██████████| 5/5 [00:02<00:00,  2.44s/trial, best loss: 0.15895953757225434]\n",
      "100%|██████████| 6/6 [00:02<00:00,  2.22s/trial, best loss: 0.15895953757225434]\n",
      "100%|██████████| 7/7 [00:02<00:00,  2.03s/trial, best loss: 0.15895953757225434]\n",
      "100%|██████████| 8/8 [00:02<00:00,  2.04s/trial, best loss: 0.1560693641618497]\n",
      "100%|██████████| 9/9 [00:01<00:00,  1.94s/trial, best loss: 0.1560693641618497]\n",
      "100%|██████████| 10/10 [00:01<00:00,  1.86s/trial, best loss: 0.1560693641618497]\n",
      "100%|██████████| 11/11 [00:01<00:00,  1.87s/trial, best loss: 0.15317919075144504]\n",
      "100%|██████████| 12/12 [00:01<00:00,  1.96s/trial, best loss: 0.15317919075144504]\n",
      "100%|██████████| 13/13 [00:01<00:00,  1.95s/trial, best loss: 0.15317919075144504]\n",
      "100%|██████████| 14/14 [00:01<00:00,  1.89s/trial, best loss: 0.15317919075144504]\n",
      "100%|██████████| 15/15 [00:01<00:00,  1.87s/trial, best loss: 0.15317919075144504]\n",
      "100%|██████████| 16/16 [00:01<00:00,  1.90s/trial, best loss: 0.15317919075144504]\n",
      "100%|██████████| 17/17 [00:01<00:00,  1.85s/trial, best loss: 0.15317919075144504]\n",
      "100%|██████████| 18/18 [00:01<00:00,  1.88s/trial, best loss: 0.15317919075144504]\n",
      "100%|██████████| 19/19 [00:01<00:00,  1.88s/trial, best loss: 0.15317919075144504]\n",
      "100%|██████████| 20/20 [00:01<00:00,  1.96s/trial, best loss: 0.15317919075144504]\n",
      "100%|██████████| 21/21 [00:01<00:00,  1.85s/trial, best loss: 0.15317919075144504]\n",
      "100%|██████████| 22/22 [00:01<00:00,  1.94s/trial, best loss: 0.15317919075144504]\n",
      "100%|██████████| 23/23 [00:01<00:00,  1.90s/trial, best loss: 0.15317919075144504]\n",
      "100%|██████████| 24/24 [00:01<00:00,  1.90s/trial, best loss: 0.15317919075144504]\n",
      "100%|██████████| 25/25 [00:01<00:00,  1.95s/trial, best loss: 0.15317919075144504]\n",
      "100%|██████████| 26/26 [00:01<00:00,  1.90s/trial, best loss: 0.15317919075144504]\n",
      "100%|██████████| 27/27 [00:01<00:00,  1.91s/trial, best loss: 0.15317919075144504]\n",
      "100%|██████████| 28/28 [00:01<00:00,  1.90s/trial, best loss: 0.15317919075144504]\n",
      "100%|██████████| 29/29 [00:01<00:00,  1.85s/trial, best loss: 0.15317919075144504]\n",
      "100%|██████████| 30/30 [00:01<00:00,  1.91s/trial, best loss: 0.15317919075144504]\n",
      "100%|██████████| 31/31 [00:01<00:00,  1.89s/trial, best loss: 0.15317919075144504]\n",
      "100%|██████████| 32/32 [00:01<00:00,  1.85s/trial, best loss: 0.15317919075144504]\n",
      "100%|██████████| 33/33 [00:01<00:00,  1.87s/trial, best loss: 0.15317919075144504]\n",
      "100%|██████████| 34/34 [00:01<00:00,  1.91s/trial, best loss: 0.15317919075144504]\n",
      "100%|██████████| 35/35 [00:01<00:00,  1.88s/trial, best loss: 0.15317919075144504]\n",
      "100%|██████████| 36/36 [00:01<00:00,  1.86s/trial, best loss: 0.15317919075144504]\n",
      "100%|██████████| 37/37 [00:01<00:00,  1.88s/trial, best loss: 0.15317919075144504]\n",
      "100%|██████████| 38/38 [00:01<00:00,  1.90s/trial, best loss: 0.15317919075144504]\n",
      "100%|██████████| 39/39 [00:01<00:00,  1.86s/trial, best loss: 0.15317919075144504]\n",
      "100%|██████████| 40/40 [00:01<00:00,  1.93s/trial, best loss: 0.15317919075144504]\n",
      "100%|██████████| 41/41 [00:01<00:00,  1.84s/trial, best loss: 0.15317919075144504]\n",
      "100%|██████████| 42/42 [00:01<00:00,  1.86s/trial, best loss: 0.15317919075144504]\n",
      "100%|██████████| 43/43 [00:01<00:00,  1.89s/trial, best loss: 0.15317919075144504]\n",
      "100%|██████████| 44/44 [00:01<00:00,  1.85s/trial, best loss: 0.15317919075144504]\n",
      "100%|██████████| 45/45 [00:01<00:00,  1.87s/trial, best loss: 0.15317919075144504]\n",
      "100%|██████████| 46/46 [00:01<00:00,  1.87s/trial, best loss: 0.15317919075144504]\n",
      "100%|██████████| 47/47 [00:01<00:00,  1.87s/trial, best loss: 0.15317919075144504]\n",
      "100%|██████████| 48/48 [00:01<00:00,  1.88s/trial, best loss: 0.15317919075144504]\n",
      "100%|██████████| 49/49 [00:01<00:00,  1.84s/trial, best loss: 0.15317919075144504]\n",
      "100%|██████████| 50/50 [00:01<00:00,  1.83s/trial, best loss: 0.15317919075144504]\n",
      "{'learner': SVC(C=1.3204682968065102, coef0=0.98432645082777, decision_function_shape='ovo',\n",
      "    degree=2, kernel='linear', random_state=0, shrinking=False,\n",
      "    tol=0.00027730553875988923), 'preprocs': (), 'ex_preprocs': ()}\n"
     ]
    }
   ],
   "source": [
    "# SVM\n",
    "from hpsklearn import svc \n",
    "svm = optimize_model(svc(\"mySVC\"), X_train, y_train)"
   ]
  },
  {
   "cell_type": "code",
   "execution_count": 18,
   "metadata": {},
   "outputs": [
    {
     "name": "stdout",
     "output_type": "stream",
     "text": [
      "Accuracy: 75.44 %\n",
      "F1: 75.39 %\n"
     ]
    },
    {
     "data": {
      "image/png": "[encoded data removed]",
      "text/plain": [
       "<Figure size 640x480 with 2 Axes>"
      ]
     },
     "metadata": {},
     "output_type": "display_data"
    }
   ],
   "source": [
    "evaluate_model(svm, X_test, y_test)"
   ]
  },
  {
   "cell_type": "code",
   "execution_count": 19,
   "metadata": {},
   "outputs": [
    {
     "name": "stdout",
     "output_type": "stream",
     "text": [
      "100%|██████████| 1/1 [00:01<00:00,  1.80s/trial, best loss: 0.2947976878612717]\n",
      "100%|██████████| 2/2 [00:01<00:00,  1.83s/trial, best loss: 0.28612716763005785]\n",
      "100%|██████████| 3/3 [00:01<00:00,  1.77s/trial, best loss: 0.2774566473988439]\n",
      "100%|██████████| 4/4 [00:01<00:00,  1.76s/trial, best loss: 0.2774566473988439]\n",
      "100%|██████████| 5/5 [00:01<00:00,  1.78s/trial, best loss: 0.23699421965317924]\n",
      "100%|██████████| 6/6 [00:01<00:00,  1.81s/trial, best loss: 0.23699421965317924]\n",
      "100%|██████████| 7/7 [00:01<00:00,  1.78s/trial, best loss: 0.14739884393063585]\n",
      "100%|██████████| 8/8 [00:01<00:00,  1.72s/trial, best loss: 0.14739884393063585]\n",
      "100%|██████████| 9/9 [00:01<00:00,  1.76s/trial, best loss: 0.14739884393063585]\n",
      "100%|██████████| 10/10 [00:01<00:00,  1.80s/trial, best loss: 0.14739884393063585]\n",
      "100%|██████████| 11/11 [00:01<00:00,  1.74s/trial, best loss: 0.14739884393063585]\n",
      "100%|██████████| 12/12 [00:01<00:00,  1.78s/trial, best loss: 0.14739884393063585]\n",
      "100%|██████████| 13/13 [00:01<00:00,  1.74s/trial, best loss: 0.14739884393063585]\n",
      "100%|██████████| 14/14 [00:01<00:00,  1.75s/trial, best loss: 0.14739884393063585]\n",
      "100%|██████████| 15/15 [00:01<00:00,  1.72s/trial, best loss: 0.14739884393063585]\n",
      "100%|██████████| 16/16 [00:01<00:00,  1.73s/trial, best loss: 0.14739884393063585]\n",
      "100%|██████████| 17/17 [00:01<00:00,  1.74s/trial, best loss: 0.14739884393063585]\n",
      "100%|██████████| 18/18 [00:01<00:00,  1.73s/trial, best loss: 0.14739884393063585]\n",
      "100%|██████████| 19/19 [00:01<00:00,  1.72s/trial, best loss: 0.14739884393063585]\n",
      "100%|██████████| 20/20 [00:01<00:00,  1.72s/trial, best loss: 0.14739884393063585]\n",
      "100%|██████████| 21/21 [00:01<00:00,  1.76s/trial, best loss: 0.14739884393063585]\n",
      "100%|██████████| 22/22 [00:01<00:00,  1.75s/trial, best loss: 0.14739884393063585]\n",
      "100%|██████████| 23/23 [00:01<00:00,  1.94s/trial, best loss: 0.14739884393063585]\n",
      "100%|██████████| 24/24 [00:01<00:00,  1.75s/trial, best loss: 0.14739884393063585]\n",
      "100%|██████████| 25/25 [00:01<00:00,  1.76s/trial, best loss: 0.1445086705202312]\n",
      "100%|██████████| 26/26 [00:01<00:00,  1.76s/trial, best loss: 0.1445086705202312]\n",
      "100%|██████████| 27/27 [00:01<00:00,  1.71s/trial, best loss: 0.1445086705202312]\n",
      "100%|██████████| 28/28 [00:01<00:00,  1.76s/trial, best loss: 0.1445086705202312]\n",
      "100%|██████████| 29/29 [00:01<00:00,  1.94s/trial, best loss: 0.1445086705202312]\n",
      "100%|██████████| 30/30 [00:01<00:00,  1.89s/trial, best loss: 0.1445086705202312]\n",
      "100%|██████████| 31/31 [00:01<00:00,  1.82s/trial, best loss: 0.1445086705202312]\n",
      "100%|██████████| 32/32 [00:01<00:00,  1.86s/trial, best loss: 0.13583815028901736]\n",
      "100%|██████████| 33/33 [00:01<00:00,  1.78s/trial, best loss: 0.13583815028901736]\n",
      "100%|██████████| 34/34 [00:01<00:00,  1.79s/trial, best loss: 0.13583815028901736]\n",
      "100%|██████████| 35/35 [00:01<00:00,  1.83s/trial, best loss: 0.13583815028901736]\n",
      "100%|██████████| 36/36 [00:01<00:00,  1.78s/trial, best loss: 0.13583815028901736]\n",
      "100%|██████████| 37/37 [00:01<00:00,  1.75s/trial, best loss: 0.13583815028901736]\n",
      "100%|██████████| 38/38 [00:01<00:00,  1.83s/trial, best loss: 0.13583815028901736]\n",
      "100%|██████████| 39/39 [00:01<00:00,  1.77s/trial, best loss: 0.12716763005780352]\n",
      "100%|██████████| 40/40 [00:01<00:00,  1.73s/trial, best loss: 0.12716763005780352]\n",
      "100%|██████████| 41/41 [00:01<00:00,  1.76s/trial, best loss: 0.12716763005780352]\n",
      "100%|██████████| 42/42 [00:01<00:00,  1.75s/trial, best loss: 0.12716763005780352]\n",
      "100%|██████████| 43/43 [00:01<00:00,  1.76s/trial, best loss: 0.12716763005780352]\n",
      "100%|██████████| 44/44 [00:01<00:00,  1.75s/trial, best loss: 0.12716763005780352]\n",
      "100%|██████████| 45/45 [00:01<00:00,  1.74s/trial, best loss: 0.12716763005780352]\n",
      "100%|██████████| 46/46 [00:01<00:00,  1.76s/trial, best loss: 0.12716763005780352]\n",
      "100%|██████████| 47/47 [00:01<00:00,  1.78s/trial, best loss: 0.12716763005780352]\n",
      "100%|██████████| 48/48 [00:01<00:00,  1.73s/trial, best loss: 0.12716763005780352]\n",
      "100%|██████████| 49/49 [00:01<00:00,  1.74s/trial, best loss: 0.12716763005780352]\n",
      "100%|██████████| 50/50 [00:01<00:00,  1.77s/trial, best loss: 0.12716763005780352]\n",
      "{'learner': KNeighborsClassifier(algorithm='brute', leaf_size=39, metric='euclidean',\n",
      "                     n_jobs=1, n_neighbors=1, p=1.9251003009021361), 'preprocs': (), 'ex_preprocs': ()}\n"
     ]
    }
   ],
   "source": [
    "# KNN\n",
    "from hpsklearn import k_neighbors_classifier\n",
    "from hyperopt import hp\n",
    "knn_metrics = hp.choice(\"metric\", {'cityblock', 'l1', 'l2', 'euclidean', 'manhattan'})\n",
    "knn= optimize_model(k_neighbors_classifier(\"myKNN\", metric=knn_metrics), X_train, y_train)"
   ]
  },
  {
   "cell_type": "code",
   "execution_count": 20,
   "metadata": {},
   "outputs": [
    {
     "name": "stdout",
     "output_type": "stream",
     "text": [
      "Accuracy: 70.61 %\n",
      "F1: 70.52 %\n"
     ]
    },
    {
     "data": {
      "image/png": "[encoded data removed]",
      "text/plain": [
       "<Figure size 640x480 with 2 Axes>"
      ]
     },
     "metadata": {},
     "output_type": "display_data"
    }
   ],
   "source": [
    "evaluate_model(knn, X_test, y_test)"
   ]
  },
  {
   "cell_type": "code",
   "execution_count": 21,
   "metadata": {},
   "outputs": [
    {
     "name": "stdout",
     "output_type": "stream",
     "text": [
      "100%|██████████| 1/1 [00:01<00:00,  1.72s/trial, best loss: 0.21965317919075145]\n",
      "100%|██████████| 2/2 [00:01<00:00,  1.70s/trial, best loss: 0.21965317919075145]\n",
      "100%|██████████| 3/3 [00:01<00:00,  1.71s/trial, best loss: 0.21965317919075145]\n",
      "100%|██████████| 4/4 [00:01<00:00,  1.69s/trial, best loss: 0.21387283236994215]\n",
      "100%|██████████| 5/5 [00:01<00:00,  1.69s/trial, best loss: 0.21387283236994215]\n",
      "100%|██████████| 6/6 [00:01<00:00,  1.70s/trial, best loss: 0.21387283236994215]\n",
      "100%|██████████| 7/7 [00:01<00:00,  1.66s/trial, best loss: 0.21387283236994215]\n",
      "100%|██████████| 8/8 [00:01<00:00,  1.66s/trial, best loss: 0.21387283236994215]\n",
      "100%|██████████| 9/9 [00:01<00:00,  1.66s/trial, best loss: 0.21387283236994215]\n",
      "100%|██████████| 10/10 [00:01<00:00,  1.68s/trial, best loss: 0.21387283236994215]\n",
      "100%|██████████| 11/11 [00:01<00:00,  1.65s/trial, best loss: 0.21387283236994215]\n",
      "100%|██████████| 12/12 [00:01<00:00,  1.67s/trial, best loss: 0.21387283236994215]\n",
      "100%|██████████| 13/13 [00:01<00:00,  1.65s/trial, best loss: 0.1936416184971098]\n",
      "100%|██████████| 14/14 [00:01<00:00,  1.66s/trial, best loss: 0.1936416184971098]\n",
      "100%|██████████| 15/15 [00:01<00:00,  1.66s/trial, best loss: 0.1936416184971098]\n",
      "100%|██████████| 16/16 [00:01<00:00,  1.68s/trial, best loss: 0.1936416184971098]\n",
      "100%|██████████| 17/17 [00:01<00:00,  1.66s/trial, best loss: 0.1936416184971098]\n",
      "100%|██████████| 18/18 [00:01<00:00,  1.65s/trial, best loss: 0.1936416184971098]\n",
      "100%|██████████| 19/19 [00:01<00:00,  1.65s/trial, best loss: 0.1936416184971098]\n",
      "100%|██████████| 20/20 [00:01<00:00,  1.66s/trial, best loss: 0.1936416184971098]\n",
      "100%|██████████| 21/21 [00:01<00:00,  1.65s/trial, best loss: 0.1936416184971098]\n",
      "100%|██████████| 22/22 [00:01<00:00,  1.64s/trial, best loss: 0.1936416184971098]\n",
      "100%|██████████| 23/23 [00:01<00:00,  1.66s/trial, best loss: 0.1936416184971098]\n",
      "100%|██████████| 24/24 [00:01<00:00,  1.68s/trial, best loss: 0.1936416184971098]\n",
      "100%|██████████| 25/25 [00:01<00:00,  1.72s/trial, best loss: 0.1936416184971098]\n",
      "100%|██████████| 26/26 [00:01<00:00,  1.71s/trial, best loss: 0.1936416184971098]\n",
      "100%|██████████| 27/27 [00:01<00:00,  1.66s/trial, best loss: 0.1936416184971098]\n",
      "100%|██████████| 28/28 [00:01<00:00,  1.66s/trial, best loss: 0.1936416184971098]\n",
      "100%|██████████| 29/29 [00:01<00:00,  1.67s/trial, best loss: 0.1936416184971098]\n",
      "100%|██████████| 30/30 [00:01<00:00,  1.67s/trial, best loss: 0.1936416184971098]\n",
      "100%|██████████| 31/31 [00:01<00:00,  1.66s/trial, best loss: 0.1936416184971098]\n",
      "100%|██████████| 32/32 [00:01<00:00,  1.66s/trial, best loss: 0.1936416184971098]\n",
      "100%|██████████| 33/33 [00:01<00:00,  1.65s/trial, best loss: 0.1936416184971098]\n",
      "100%|██████████| 34/34 [00:01<00:00,  1.66s/trial, best loss: 0.1936416184971098]\n",
      "100%|██████████| 35/35 [00:01<00:00,  1.66s/trial, best loss: 0.1936416184971098]\n",
      "100%|██████████| 36/36 [00:01<00:00,  1.67s/trial, best loss: 0.1936416184971098]\n",
      "100%|██████████| 37/37 [00:01<00:00,  1.68s/trial, best loss: 0.1936416184971098]\n",
      "100%|██████████| 38/38 [00:01<00:00,  1.70s/trial, best loss: 0.19075144508670516]\n",
      "100%|██████████| 39/39 [00:01<00:00,  1.67s/trial, best loss: 0.19075144508670516]\n",
      "100%|██████████| 40/40 [00:01<00:00,  1.67s/trial, best loss: 0.19075144508670516]\n",
      "100%|██████████| 41/41 [00:01<00:00,  1.65s/trial, best loss: 0.19075144508670516]\n",
      "100%|██████████| 42/42 [00:01<00:00,  1.67s/trial, best loss: 0.19075144508670516]\n",
      "100%|██████████| 43/43 [00:01<00:00,  1.69s/trial, best loss: 0.19075144508670516]\n",
      "100%|██████████| 44/44 [00:01<00:00,  1.67s/trial, best loss: 0.19075144508670516]\n",
      "100%|██████████| 45/45 [00:01<00:00,  1.65s/trial, best loss: 0.19075144508670516]\n",
      "100%|██████████| 46/46 [00:01<00:00,  1.66s/trial, best loss: 0.19075144508670516]\n",
      "100%|██████████| 47/47 [00:01<00:00,  1.65s/trial, best loss: 0.19075144508670516]\n",
      "100%|██████████| 48/48 [00:01<00:00,  1.67s/trial, best loss: 0.19075144508670516]\n",
      "100%|██████████| 49/49 [00:01<00:00,  1.76s/trial, best loss: 0.19075144508670516]\n",
      "100%|██████████| 50/50 [00:01<00:00,  1.78s/trial, best loss: 0.19075144508670516]\n",
      "{'learner': LogisticRegression(C=1.7031308778204772, max_iter=541, n_jobs=1, penalty='l1',\n",
      "                   random_state=4, solver='liblinear',\n",
      "                   tol=0.0032949736591728774), 'preprocs': (), 'ex_preprocs': ()}\n"
     ]
    }
   ],
   "source": [
    "# Logistic Regression logistic_regression\n",
    "from hpsklearn import logistic_regression\n",
    "myLR = optimize_model(logistic_regression(\"myLR\"), X_train, y_train)"
   ]
  },
  {
   "cell_type": "code",
   "execution_count": 22,
   "metadata": {},
   "outputs": [
    {
     "name": "stdout",
     "output_type": "stream",
     "text": [
      "Accuracy: 70.57 %\n",
      "F1: 69.93 %\n"
     ]
    },
    {
     "data": {
      "image/png": "[encoded data removed]",
      "text/plain": [
       "<Figure size 640x480 with 2 Axes>"
      ]
     },
     "metadata": {},
     "output_type": "display_data"
    }
   ],
   "source": [
    "evaluate_model(myLR, X_test, y_test)"
   ]
  },
  {
   "cell_type": "code",
   "execution_count": 23,
   "metadata": {},
   "outputs": [
    {
     "name": "stdout",
     "output_type": "stream",
     "text": [
      "100%|██████████| 1/1 [00:03<00:00,  3.57s/trial, best loss: 0.1502890173410405]\n",
      "100%|██████████| 2/2 [00:01<00:00,  1.88s/trial, best loss: 0.1502890173410405]\n",
      "100%|██████████| 3/3 [00:01<00:00,  1.98s/trial, best loss: 0.138728323699422]\n",
      "100%|██████████| 4/4 [00:01<00:00,  1.82s/trial, best loss: 0.138728323699422]\n",
      "100%|██████████| 5/5 [00:01<00:00,  1.74s/trial, best loss: 0.138728323699422]\n",
      "100%|██████████| 6/6 [00:01<00:00,  1.72s/trial, best loss: 0.138728323699422]\n",
      "100%|██████████| 7/7 [00:01<00:00,  1.94s/trial, best loss: 0.138728323699422]\n",
      "100%|██████████| 8/8 [00:01<00:00,  1.72s/trial, best loss: 0.138728323699422]\n",
      "100%|██████████| 9/9 [00:01<00:00,  1.93s/trial, best loss: 0.12138728323699421]\n",
      "100%|██████████| 10/10 [00:02<00:00,  2.07s/trial, best loss: 0.12138728323699421]\n",
      "100%|██████████| 11/11 [00:02<00:00,  2.03s/trial, best loss: 0.12138728323699421]\n",
      "100%|██████████| 12/12 [00:01<00:00,  1.75s/trial, best loss: 0.12138728323699421]\n",
      "100%|██████████| 13/13 [00:01<00:00,  1.79s/trial, best loss: 0.12138728323699421]\n",
      "100%|██████████| 14/14 [00:01<00:00,  1.71s/trial, best loss: 0.12138728323699421]\n",
      "100%|██████████| 15/15 [00:01<00:00,  1.79s/trial, best loss: 0.12138728323699421]\n",
      "100%|██████████| 16/16 [00:01<00:00,  1.98s/trial, best loss: 0.12138728323699421]\n",
      "100%|██████████| 17/17 [00:02<00:00,  2.44s/trial, best loss: 0.12138728323699421]\n",
      "100%|██████████| 18/18 [00:01<00:00,  1.71s/trial, best loss: 0.12138728323699421]\n",
      "100%|██████████| 19/19 [00:01<00:00,  1.71s/trial, best loss: 0.12138728323699421]\n",
      "100%|██████████| 20/20 [00:01<00:00,  1.92s/trial, best loss: 0.12138728323699421]\n",
      "100%|██████████| 21/21 [00:03<00:00,  3.20s/trial, best loss: 0.12138728323699421]\n",
      "100%|██████████| 22/22 [00:01<00:00,  1.86s/trial, best loss: 0.12138728323699421]\n",
      "100%|██████████| 23/23 [00:01<00:00,  1.73s/trial, best loss: 0.12138728323699421]\n",
      "100%|██████████| 24/24 [00:02<00:00,  2.69s/trial, best loss: 0.12138728323699421]\n",
      "100%|██████████| 25/25 [00:02<00:00,  2.19s/trial, best loss: 0.12138728323699421]\n",
      "100%|██████████| 26/26 [00:02<00:00,  2.60s/trial, best loss: 0.12138728323699421]\n",
      "100%|██████████| 27/27 [00:08<00:00,  8.82s/trial, best loss: 0.12138728323699421]\n",
      "100%|██████████| 28/28 [00:03<00:00,  3.36s/trial, best loss: 0.12138728323699421]\n",
      "100%|██████████| 29/29 [00:01<00:00,  1.76s/trial, best loss: 0.12138728323699421]\n",
      "100%|██████████| 30/30 [00:17<00:00, 17.61s/trial, best loss: 0.12138728323699421]\n",
      "100%|██████████| 31/31 [00:07<00:00,  7.53s/trial, best loss: 0.12138728323699421]\n",
      "100%|██████████| 32/32 [00:01<00:00,  1.93s/trial, best loss: 0.12138728323699421]\n",
      "100%|██████████| 33/33 [00:01<00:00,  1.82s/trial, best loss: 0.12138728323699421]\n",
      "100%|██████████| 34/34 [00:01<00:00,  1.72s/trial, best loss: 0.12138728323699421]\n",
      "100%|██████████| 35/35 [00:10<00:00, 10.62s/trial, best loss: 0.12138728323699421]\n",
      "100%|██████████| 36/36 [00:01<00:00,  1.79s/trial, best loss: 0.12138728323699421]\n",
      "100%|██████████| 37/37 [00:01<00:00,  1.81s/trial, best loss: 0.12138728323699421]\n",
      "100%|██████████| 38/38 [00:02<00:00,  2.77s/trial, best loss: 0.12138728323699421]\n",
      "100%|██████████| 39/39 [00:01<00:00,  1.75s/trial, best loss: 0.12138728323699421]\n",
      "100%|██████████| 40/40 [00:01<00:00,  1.74s/trial, best loss: 0.12138728323699421]\n",
      "100%|██████████| 41/41 [00:01<00:00,  1.90s/trial, best loss: 0.12138728323699421]\n",
      "100%|██████████| 42/42 [00:01<00:00,  1.72s/trial, best loss: 0.12138728323699421]\n",
      "100%|██████████| 43/43 [00:01<00:00,  1.73s/trial, best loss: 0.12138728323699421]\n",
      "100%|██████████| 44/44 [00:13<00:00, 13.09s/trial, best loss: 0.12138728323699421]\n",
      "100%|██████████| 45/45 [00:01<00:00,  1.92s/trial, best loss: 0.12138728323699421]\n",
      "100%|██████████| 46/46 [00:01<00:00,  1.95s/trial, best loss: 0.12138728323699421]\n",
      "100%|██████████| 47/47 [00:01<00:00,  1.75s/trial, best loss: 0.12138728323699421]\n",
      "100%|██████████| 48/48 [00:01<00:00,  1.90s/trial, best loss: 0.12138728323699421]\n",
      "100%|██████████| 49/49 [00:01<00:00,  1.76s/trial, best loss: 0.12138728323699421]\n",
      "100%|██████████| 50/50 [00:01<00:00,  1.69s/trial, best loss: 0.12138728323699421]\n"
     ]
    },
    {
     "name": "stderr",
     "output_type": "stream",
     "text": [
      "c:\\Users\\willc\\miniconda3\\envs\\test\\lib\\site-packages\\sklearn\\ensemble\\_base.py:166: FutureWarning: `base_estimator` was renamed to `estimator` in version 1.2 and will be removed in 1.4.\n",
      "  warnings.warn(\n"
     ]
    },
    {
     "name": "stdout",
     "output_type": "stream",
     "text": [
      "{'learner': AdaBoostClassifier(algorithm='SAMME',\n",
      "                   base_estimator=DecisionTreeClassifier(max_features=0.9346716798410857,\n",
      "                                                         random_state=1),\n",
      "                   learning_rate=0.022153770294421088, n_estimators=453,\n",
      "                   random_state=1), 'preprocs': (), 'ex_preprocs': ()}\n"
     ]
    }
   ],
   "source": [
    "# AdaBoost\n",
    "from hpsklearn import ada_boost_classifier, decision_tree_classifier\n",
    "baseDT = decision_tree_classifier(\"adaDT\")\n",
    "ada = optimize_model(ada_boost_classifier(\"myada\", base_estimator=baseDT), X_train, y_train)"
   ]
  },
  {
   "cell_type": "code",
   "execution_count": 24,
   "metadata": {},
   "outputs": [
    {
     "name": "stdout",
     "output_type": "stream",
     "text": [
      "Accuracy: 67.94 %\n",
      "F1: 67.93 %\n"
     ]
    },
    {
     "data": {
      "image/png": "[encoded data removed]",
      "text/plain": [
       "<Figure size 640x480 with 2 Axes>"
      ]
     },
     "metadata": {},
     "output_type": "display_data"
    }
   ],
   "source": [
    "# Run model with best results\n",
    "evaluate_model(ada, X_test, y_test)"
   ]
  },
  {
   "cell_type": "code",
   "execution_count": 25,
   "metadata": {},
   "outputs": [
    {
     "name": "stdout",
     "output_type": "stream",
     "text": [
      "100%|██████████| 1/1 [00:09<00:00,  9.72s/trial, best loss: 0.161849710982659]\n",
      "100%|██████████| 2/2 [00:02<00:00,  2.69s/trial, best loss: 0.161849710982659]\n",
      "100%|██████████| 3/3 [00:04<00:00,  4.83s/trial, best loss: 0.13005780346820806]\n",
      "100%|██████████| 4/4 [00:05<00:00,  5.47s/trial, best loss: 0.13005780346820806]\n",
      "100%|██████████| 5/5 [00:03<00:00,  3.13s/trial, best loss: 0.13005780346820806]\n",
      "100%|██████████| 6/6 [00:06<00:00,  6.72s/trial, best loss: 0.13005780346820806]\n",
      "100%|██████████| 7/7 [00:17<00:00, 17.33s/trial, best loss: 0.13005780346820806]\n",
      "100%|██████████| 8/8 [00:06<00:00,  6.97s/trial, best loss: 0.13005780346820806]\n",
      "100%|██████████| 9/9 [00:09<00:00,  9.81s/trial, best loss: 0.13005780346820806]\n",
      "100%|██████████| 10/10 [00:04<00:00,  4.30s/trial, best loss: 0.13005780346820806]\n",
      "100%|██████████| 11/11 [00:25<00:00, 25.29s/trial, best loss: 0.13005780346820806]\n",
      "100%|██████████| 12/12 [00:04<00:00,  4.98s/trial, best loss: 0.13005780346820806]\n",
      "100%|██████████| 13/13 [00:03<00:00,  3.09s/trial, best loss: 0.13005780346820806]\n",
      "100%|██████████| 14/14 [00:02<00:00,  2.97s/trial, best loss: 0.13005780346820806]\n",
      "100%|██████████| 15/15 [00:03<00:00,  3.58s/trial, best loss: 0.13005780346820806]\n",
      "100%|██████████| 16/16 [00:03<00:00,  3.07s/trial, best loss: 0.13005780346820806]\n",
      "100%|██████████| 17/17 [00:04<00:00,  4.95s/trial, best loss: 0.13005780346820806]\n",
      "100%|██████████| 18/18 [00:03<00:00,  3.93s/trial, best loss: 0.13005780346820806]\n",
      "100%|██████████| 19/19 [00:04<00:00,  4.20s/trial, best loss: 0.13005780346820806]\n",
      "100%|██████████| 20/20 [00:02<00:00,  2.78s/trial, best loss: 0.13005780346820806]\n",
      "100%|██████████| 21/21 [00:04<00:00,  4.69s/trial, best loss: 0.13005780346820806]\n",
      "100%|██████████| 22/22 [00:10<00:00, 10.85s/trial, best loss: 0.13005780346820806]\n",
      "100%|██████████| 23/23 [00:02<00:00,  2.77s/trial, best loss: 0.13005780346820806]\n",
      "100%|██████████| 24/24 [00:03<00:00,  3.70s/trial, best loss: 0.13005780346820806]\n",
      "100%|██████████| 25/25 [00:06<00:00,  6.88s/trial, best loss: 0.13005780346820806]\n",
      "100%|██████████| 26/26 [00:04<00:00,  4.35s/trial, best loss: 0.13005780346820806]\n",
      "100%|██████████| 27/27 [00:04<00:00,  4.03s/trial, best loss: 0.13005780346820806]\n",
      "100%|██████████| 28/28 [00:03<00:00,  3.83s/trial, best loss: 0.13005780346820806]\n",
      "100%|██████████| 29/29 [00:24<00:00, 24.98s/trial, best loss: 0.13005780346820806]\n",
      "100%|██████████| 30/30 [00:03<00:00,  3.55s/trial, best loss: 0.13005780346820806]\n",
      "100%|██████████| 31/31 [00:18<00:00, 18.29s/trial, best loss: 0.13005780346820806]\n",
      "100%|██████████| 32/32 [00:05<00:00,  5.39s/trial, best loss: 0.13005780346820806]\n",
      "100%|██████████| 33/33 [00:08<00:00,  8.36s/trial, best loss: 0.13005780346820806]\n",
      "100%|██████████| 34/34 [00:04<00:00,  4.60s/trial, best loss: 0.13005780346820806]\n",
      "100%|██████████| 35/35 [00:02<00:00,  2.63s/trial, best loss: 0.13005780346820806]\n",
      "100%|██████████| 36/36 [00:06<00:00,  6.60s/trial, best loss: 0.13005780346820806]\n",
      "100%|██████████| 37/37 [00:02<00:00,  2.67s/trial, best loss: 0.13005780346820806]\n",
      "100%|██████████| 38/38 [00:02<00:00,  2.73s/trial, best loss: 0.13005780346820806]\n",
      "100%|██████████| 39/39 [00:03<00:00,  3.51s/trial, best loss: 0.13005780346820806]\n",
      "100%|██████████| 40/40 [00:04<00:00,  4.38s/trial, best loss: 0.13005780346820806]\n",
      "100%|██████████| 41/41 [00:03<00:00,  3.57s/trial, best loss: 0.13005780346820806]\n",
      "100%|██████████| 42/42 [00:02<00:00,  2.63s/trial, best loss: 0.13005780346820806]\n",
      "100%|██████████| 43/43 [00:06<00:00,  6.72s/trial, best loss: 0.13005780346820806]\n",
      "100%|██████████| 44/44 [00:02<00:00,  2.54s/trial, best loss: 0.13005780346820806]\n",
      "100%|██████████| 45/45 [00:03<00:00,  3.65s/trial, best loss: 0.13005780346820806]\n",
      "100%|██████████| 46/46 [00:03<00:00,  3.77s/trial, best loss: 0.13005780346820806]\n",
      "100%|██████████| 47/47 [00:04<00:00,  4.44s/trial, best loss: 0.13005780346820806]\n",
      "100%|██████████| 48/48 [00:04<00:00,  4.55s/trial, best loss: 0.13005780346820806]\n",
      "100%|██████████| 49/49 [00:02<00:00,  2.51s/trial, best loss: 0.13005780346820806]\n",
      "100%|██████████| 50/50 [00:14<00:00, 14.25s/trial, best loss: 0.11560693641618502]\n",
      "{'learner': MLPClassifier(alpha=0.00434318960406697, beta_1=0.9630058598863803,\n",
      "              beta_2=0.9552503178738572, epsilon=3.630668804110263e-06,\n",
      "              learning_rate_init=0.08806364095197329, max_fun=17751,\n",
      "              max_iter=323, momentum=0.9819445224655227, n_iter_no_change=20,\n",
      "              power_t=0.7782601820352194, random_state=1,\n",
      "              tol=0.0006558120161955776,\n",
      "              validation_fraction=0.09434240839354989), 'preprocs': (), 'ex_preprocs': ()}\n"
     ]
    }
   ],
   "source": [
    "from hpsklearn import mlp_classifier\n",
    "\n",
    "mlp = optimize_model(mlp_classifier(\"mlp\"), X_train, y_train)"
   ]
  },
  {
   "cell_type": "code",
   "execution_count": 26,
   "metadata": {},
   "outputs": [
    {
     "name": "stdout",
     "output_type": "stream",
     "text": [
      "Accuracy: 68.69 %\n",
      "F1: 68.68 %\n"
     ]
    },
    {
     "data": {
      "image/png": "[encoded data removed]",
      "text/plain": [
       "<Figure size 640x480 with 2 Axes>"
      ]
     },
     "metadata": {},
     "output_type": "display_data"
    }
   ],
   "source": [
    "evaluate_model(mlp, X_test, y_test)"
   ]
  }
 ],
 "metadata": {
  "kernelspec": {
   "display_name": "Python 3",
   "language": "python",
   "name": "python3"
  },
  "language_info": {
   "codemirror_mode": {
    "name": "ipython",
    "version": 3
   },
   "file_extension": ".py",
   "mimetype": "text/x-python",
   "name": "python",
   "nbconvert_exporter": "python",
   "pygments_lexer": "ipython3",
   "version": "3.10.12"
  },
  "orig_nbformat": 4
 },
 "nbformat": 4,
 "nbformat_minor": 2
}
